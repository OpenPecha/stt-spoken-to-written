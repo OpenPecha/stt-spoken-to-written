{
 "cells": [
  {
   "cell_type": "code",
   "execution_count": 1,
   "id": "f2a4efd6-51b1-4ebd-ae45-02b18d669108",
   "metadata": {},
   "outputs": [],
   "source": [
    "import pandas as pd\n",
    "\n",
    "def remove_duplicates(file1_path, file2_path, output_file2_path):\n",
    "    # Read the CSV files into DataFrames\n",
    "    df1 = pd.read_csv(file1_path)\n",
    "    df2 = pd.read_csv(file2_path)\n",
    "\n",
    "    # Get the list of file names in the first file\n",
    "    file_names_in_file1 = df1['file_name'].unique()\n",
    "\n",
    "    # Remove duplicates from the second file\n",
    "    df2_filtered = df2[~df2['file_name'].isin(file_names_in_file1)]\n",
    "\n",
    "    # Save the filtered DataFrame to a new CSV file\n",
    "    df2_filtered.to_csv(output_file2_path, index=False)\n",
    "\n",
    "    print(f'Successfully removed duplicates. Updated file saved to {output_file2_path}')\n",
    "\n"
   ]
  },
  {
   "cell_type": "code",
   "execution_count": 4,
   "id": "987ff35e-9e64-4935-acc4-2e4d90a5aed3",
   "metadata": {},
   "outputs": [
    {
     "name": "stdout",
     "output_type": "stream",
     "text": [
      "Successfully removed duplicates. Updated file saved to segments_ns_8.csv\n"
     ]
    }
   ],
   "source": [
    "# Example usage\n",
    "file1_path = 'old_combine_all.csv'\n",
    "file2_path = 'new_combine_all.csv'\n",
    "output_file2_path = 'combine_all_filtered.csv'\n",
    "\n",
    "remove_duplicates(file1_path, file2_path, output_file2_path)\n"
   ]
  },
  {
   "cell_type": "code",
   "execution_count": null,
   "id": "3670d0e1-d62d-43ea-95c2-26eb155729cc",
   "metadata": {},
   "outputs": [],
   "source": []
  }
 ],
 "metadata": {
  "kernelspec": {
   "display_name": "Python 3 (ipykernel)",
   "language": "python",
   "name": "python3"
  },
  "language_info": {
   "codemirror_mode": {
    "name": "ipython",
    "version": 3
   },
   "file_extension": ".py",
   "mimetype": "text/x-python",
   "name": "python",
   "nbconvert_exporter": "python",
   "pygments_lexer": "ipython3",
   "version": "3.10.12"
  }
 },
 "nbformat": 4,
 "nbformat_minor": 5
}
