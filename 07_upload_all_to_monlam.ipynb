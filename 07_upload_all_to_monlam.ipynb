{
 "cells": [
  {
   "cell_type": "code",
   "execution_count": null,
   "metadata": {
    "tags": []
   },
   "outputs": [],
   "source": [
    "#download all speech data from s3 before running inference\n",
    "!aws s3 cp s3://monlam.ai.stt/tsv/latest.csv 04_combine_all.csv"
   ]
  },
  {
   "cell_type": "code",
   "execution_count": 1,
   "metadata": {
    "tags": []
   },
   "outputs": [
    {
     "name": "stdout",
     "output_type": "stream",
     "text": [
      "Requirement already satisfied: transformers in /home/ec2-user/anaconda3/envs/python3/lib/python3.10/site-packages (4.42.4)\n",
      "Requirement already satisfied: tqdm in /home/ec2-user/anaconda3/envs/python3/lib/python3.10/site-packages (4.66.4)\n",
      "Requirement already satisfied: filelock in /home/ec2-user/anaconda3/envs/python3/lib/python3.10/site-packages (from transformers) (3.14.0)\n",
      "Requirement already satisfied: huggingface-hub<1.0,>=0.23.2 in /home/ec2-user/anaconda3/envs/python3/lib/python3.10/site-packages (from transformers) (0.24.0)\n",
      "Requirement already satisfied: numpy<2.0,>=1.17 in /home/ec2-user/anaconda3/envs/python3/lib/python3.10/site-packages (from transformers) (1.22.4)\n",
      "Requirement already satisfied: packaging>=20.0 in /home/ec2-user/anaconda3/envs/python3/lib/python3.10/site-packages (from transformers) (21.3)\n",
      "Requirement already satisfied: pyyaml>=5.1 in /home/ec2-user/anaconda3/envs/python3/lib/python3.10/site-packages (from transformers) (6.0.1)\n",
      "Requirement already satisfied: regex!=2019.12.17 in /home/ec2-user/anaconda3/envs/python3/lib/python3.10/site-packages (from transformers) (2024.5.15)\n",
      "Requirement already satisfied: requests in /home/ec2-user/anaconda3/envs/python3/lib/python3.10/site-packages (from transformers) (2.32.3)\n",
      "Requirement already satisfied: safetensors>=0.4.1 in /home/ec2-user/anaconda3/envs/python3/lib/python3.10/site-packages (from transformers) (0.4.3)\n",
      "Requirement already satisfied: tokenizers<0.20,>=0.19 in /home/ec2-user/anaconda3/envs/python3/lib/python3.10/site-packages (from transformers) (0.19.1)\n",
      "Requirement already satisfied: fsspec>=2023.5.0 in /home/ec2-user/anaconda3/envs/python3/lib/python3.10/site-packages (from huggingface-hub<1.0,>=0.23.2->transformers) (2024.6.0)\n",
      "Requirement already satisfied: typing-extensions>=3.7.4.3 in /home/ec2-user/anaconda3/envs/python3/lib/python3.10/site-packages (from huggingface-hub<1.0,>=0.23.2->transformers) (4.12.1)\n",
      "Requirement already satisfied: pyparsing!=3.0.5,>=2.0.2 in /home/ec2-user/anaconda3/envs/python3/lib/python3.10/site-packages (from packaging>=20.0->transformers) (3.1.2)\n",
      "Requirement already satisfied: charset-normalizer<4,>=2 in /home/ec2-user/anaconda3/envs/python3/lib/python3.10/site-packages (from requests->transformers) (3.3.2)\n",
      "Requirement already satisfied: idna<4,>=2.5 in /home/ec2-user/anaconda3/envs/python3/lib/python3.10/site-packages (from requests->transformers) (3.7)\n",
      "Requirement already satisfied: urllib3<3,>=1.21.1 in /home/ec2-user/anaconda3/envs/python3/lib/python3.10/site-packages (from requests->transformers) (2.2.1)\n",
      "Requirement already satisfied: certifi>=2017.4.17 in /home/ec2-user/anaconda3/envs/python3/lib/python3.10/site-packages (from requests->transformers) (2024.6.2)\n",
      "Collecting torch\n",
      "  Using cached torch-2.3.1-cp310-cp310-manylinux1_x86_64.whl.metadata (26 kB)\n",
      "Collecting torchvision\n",
      "  Using cached torchvision-0.18.1-cp310-cp310-manylinux1_x86_64.whl.metadata (6.6 kB)\n",
      "Collecting torchaudio\n",
      "  Using cached torchaudio-2.3.1-cp310-cp310-manylinux1_x86_64.whl.metadata (6.4 kB)\n",
      "Requirement already satisfied: filelock in /home/ec2-user/anaconda3/envs/python3/lib/python3.10/site-packages (from torch) (3.14.0)\n",
      "Requirement already satisfied: typing-extensions>=4.8.0 in /home/ec2-user/anaconda3/envs/python3/lib/python3.10/site-packages (from torch) (4.12.1)\n",
      "Requirement already satisfied: sympy in /home/ec2-user/anaconda3/envs/python3/lib/python3.10/site-packages (from torch) (1.12)\n",
      "Requirement already satisfied: networkx in /home/ec2-user/anaconda3/envs/python3/lib/python3.10/site-packages (from torch) (3.3)\n",
      "Requirement already satisfied: jinja2 in /home/ec2-user/anaconda3/envs/python3/lib/python3.10/site-packages (from torch) (3.1.4)\n",
      "Requirement already satisfied: fsspec in /home/ec2-user/anaconda3/envs/python3/lib/python3.10/site-packages (from torch) (2024.6.0)\n",
      "Collecting nvidia-cuda-nvrtc-cu12==12.1.105 (from torch)\n",
      "  Using cached nvidia_cuda_nvrtc_cu12-12.1.105-py3-none-manylinux1_x86_64.whl.metadata (1.5 kB)\n",
      "Collecting nvidia-cuda-runtime-cu12==12.1.105 (from torch)\n",
      "  Using cached nvidia_cuda_runtime_cu12-12.1.105-py3-none-manylinux1_x86_64.whl.metadata (1.5 kB)\n",
      "Collecting nvidia-cuda-cupti-cu12==12.1.105 (from torch)\n",
      "  Using cached nvidia_cuda_cupti_cu12-12.1.105-py3-none-manylinux1_x86_64.whl.metadata (1.6 kB)\n",
      "Collecting nvidia-cudnn-cu12==8.9.2.26 (from torch)\n",
      "  Using cached nvidia_cudnn_cu12-8.9.2.26-py3-none-manylinux1_x86_64.whl.metadata (1.6 kB)\n",
      "Collecting nvidia-cublas-cu12==12.1.3.1 (from torch)\n",
      "  Using cached nvidia_cublas_cu12-12.1.3.1-py3-none-manylinux1_x86_64.whl.metadata (1.5 kB)\n",
      "Collecting nvidia-cufft-cu12==11.0.2.54 (from torch)\n",
      "  Using cached nvidia_cufft_cu12-11.0.2.54-py3-none-manylinux1_x86_64.whl.metadata (1.5 kB)\n",
      "Collecting nvidia-curand-cu12==10.3.2.106 (from torch)\n",
      "  Using cached nvidia_curand_cu12-10.3.2.106-py3-none-manylinux1_x86_64.whl.metadata (1.5 kB)\n",
      "Collecting nvidia-cusolver-cu12==11.4.5.107 (from torch)\n",
      "  Using cached nvidia_cusolver_cu12-11.4.5.107-py3-none-manylinux1_x86_64.whl.metadata (1.6 kB)\n",
      "Collecting nvidia-cusparse-cu12==12.1.0.106 (from torch)\n",
      "  Using cached nvidia_cusparse_cu12-12.1.0.106-py3-none-manylinux1_x86_64.whl.metadata (1.6 kB)\n",
      "Collecting nvidia-nccl-cu12==2.20.5 (from torch)\n",
      "  Using cached nvidia_nccl_cu12-2.20.5-py3-none-manylinux2014_x86_64.whl.metadata (1.8 kB)\n",
      "Collecting nvidia-nvtx-cu12==12.1.105 (from torch)\n",
      "  Using cached nvidia_nvtx_cu12-12.1.105-py3-none-manylinux1_x86_64.whl.metadata (1.7 kB)\n",
      "Collecting triton==2.3.1 (from torch)\n",
      "  Using cached triton-2.3.1-cp310-cp310-manylinux_2_17_x86_64.manylinux2014_x86_64.whl.metadata (1.4 kB)\n",
      "Collecting nvidia-nvjitlink-cu12 (from nvidia-cusolver-cu12==11.4.5.107->torch)\n",
      "  Using cached nvidia_nvjitlink_cu12-12.5.82-py3-none-manylinux2014_x86_64.whl.metadata (1.5 kB)\n",
      "Requirement already satisfied: numpy in /home/ec2-user/anaconda3/envs/python3/lib/python3.10/site-packages (from torchvision) (1.22.4)\n",
      "Requirement already satisfied: pillow!=8.3.*,>=5.3.0 in /home/ec2-user/anaconda3/envs/python3/lib/python3.10/site-packages (from torchvision) (10.3.0)\n",
      "Requirement already satisfied: MarkupSafe>=2.0 in /home/ec2-user/anaconda3/envs/python3/lib/python3.10/site-packages (from jinja2->torch) (2.1.5)\n",
      "Requirement already satisfied: mpmath>=0.19 in /home/ec2-user/anaconda3/envs/python3/lib/python3.10/site-packages (from sympy->torch) (1.3.0)\n",
      "Using cached torch-2.3.1-cp310-cp310-manylinux1_x86_64.whl (779.1 MB)\n",
      "Using cached nvidia_cublas_cu12-12.1.3.1-py3-none-manylinux1_x86_64.whl (410.6 MB)\n",
      "Using cached nvidia_cuda_cupti_cu12-12.1.105-py3-none-manylinux1_x86_64.whl (14.1 MB)\n",
      "Using cached nvidia_cuda_nvrtc_cu12-12.1.105-py3-none-manylinux1_x86_64.whl (23.7 MB)\n",
      "Using cached nvidia_cuda_runtime_cu12-12.1.105-py3-none-manylinux1_x86_64.whl (823 kB)\n",
      "Downloading nvidia_cudnn_cu12-8.9.2.26-py3-none-manylinux1_x86_64.whl (731.7 MB)\n",
      "\u001b[2K   \u001b[90m━━━━━━━━━━━━━━━━━━━━━━━━━━━━━━━━━━━━━━━━\u001b[0m \u001b[32m731.7/731.7 MB\u001b[0m \u001b[31m1.4 MB/s\u001b[0m eta \u001b[36m0:00:00\u001b[0m:00:01\u001b[0m00:01\u001b[0m\n",
      "\u001b[?25hDownloading nvidia_cufft_cu12-11.0.2.54-py3-none-manylinux1_x86_64.whl (121.6 MB)\n",
      "\u001b[2K   \u001b[90m━━━━━━━━━━━━━━━━━━━━━━━━━━━━━━━━━━━━━━━━\u001b[0m \u001b[32m121.6/121.6 MB\u001b[0m \u001b[31m2.0 MB/s\u001b[0m eta \u001b[36m0:00:00\u001b[0m:00:01\u001b[0m00:01\u001b[0m\n",
      "\u001b[?25hDownloading nvidia_curand_cu12-10.3.2.106-py3-none-manylinux1_x86_64.whl (56.5 MB)\n",
      "\u001b[2K   \u001b[90m━━━━━━━━━━━━━━━━━━━━━━━━━━━━━━━━━━━━━━━━\u001b[0m \u001b[32m56.5/56.5 MB\u001b[0m \u001b[31m3.1 MB/s\u001b[0m eta \u001b[36m0:00:00\u001b[0m0:00:01\u001b[0m00:01\u001b[0m\n",
      "\u001b[?25hDownloading nvidia_cusolver_cu12-11.4.5.107-py3-none-manylinux1_x86_64.whl (124.2 MB)\n",
      "\u001b[2K   \u001b[90m━━━━━━━━━━━━━━━━━━━━━━━━━━━━━━━━━━━━━━━━\u001b[0m \u001b[32m124.2/124.2 MB\u001b[0m \u001b[31m6.2 MB/s\u001b[0m eta \u001b[36m0:00:00\u001b[0m:00:01\u001b[0m00:01\u001b[0m\n",
      "\u001b[?25hDownloading nvidia_cusparse_cu12-12.1.0.106-py3-none-manylinux1_x86_64.whl (196.0 MB)\n",
      "\u001b[2K   \u001b[90m━━━━━━━━━━━━━━━━━━━━━━━━━━━━━━━━━━━━━━━━\u001b[0m \u001b[32m196.0/196.0 MB\u001b[0m \u001b[31m8.5 MB/s\u001b[0m eta \u001b[36m0:00:00\u001b[0m:00:01\u001b[0m00:01\u001b[0m\n",
      "\u001b[?25hDownloading nvidia_nccl_cu12-2.20.5-py3-none-manylinux2014_x86_64.whl (176.2 MB)\n",
      "\u001b[2K   \u001b[90m━━━━━━━━━━━━━━━━━━━━━━━━━━━━━━━━━━━━━━━━\u001b[0m \u001b[32m176.2/176.2 MB\u001b[0m \u001b[31m8.2 MB/s\u001b[0m eta \u001b[36m0:00:00\u001b[0m:00:01\u001b[0m00:01\u001b[0m\n",
      "\u001b[?25hDownloading nvidia_nvtx_cu12-12.1.105-py3-none-manylinux1_x86_64.whl (99 kB)\n",
      "\u001b[2K   \u001b[90m━━━━━━━━━━━━━━━━━━━━━━━━━━━━━━━━━━━━━━━━\u001b[0m \u001b[32m99.1/99.1 kB\u001b[0m \u001b[31m3.0 MB/s\u001b[0m eta \u001b[36m0:00:00\u001b[0m\n",
      "\u001b[?25hDownloading triton-2.3.1-cp310-cp310-manylinux_2_17_x86_64.manylinux2014_x86_64.whl (168.1 MB)\n",
      "\u001b[2K   \u001b[90m━━━━━━━━━━━━━━━━━━━━━━━━━━━━━━━━━━━━━━━━\u001b[0m \u001b[32m168.1/168.1 MB\u001b[0m \u001b[31m8.2 MB/s\u001b[0m eta \u001b[36m0:00:00\u001b[0m:00:01\u001b[0m00:01\u001b[0m\n",
      "\u001b[?25hDownloading torchvision-0.18.1-cp310-cp310-manylinux1_x86_64.whl (7.0 MB)\n",
      "\u001b[2K   \u001b[90m━━━━━━━━━━━━━━━━━━━━━━━━━━━━━━━━━━━━━━━━\u001b[0m \u001b[32m7.0/7.0 MB\u001b[0m \u001b[31m71.3 MB/s\u001b[0m eta \u001b[36m0:00:00\u001b[0m:00:01\u001b[0m00:01\u001b[0m\n",
      "\u001b[?25hDownloading torchaudio-2.3.1-cp310-cp310-manylinux1_x86_64.whl (3.3 MB)\n",
      "\u001b[2K   \u001b[90m━━━━━━━━━━━━━━━━━━━━━━━━━━━━━━━━━━━━━━━━\u001b[0m \u001b[32m3.3/3.3 MB\u001b[0m \u001b[31m71.3 MB/s\u001b[0m eta \u001b[36m0:00:00\u001b[0m:00:01\u001b[0m\n",
      "\u001b[?25hDownloading nvidia_nvjitlink_cu12-12.5.82-py3-none-manylinux2014_x86_64.whl (21.3 MB)\n",
      "\u001b[2K   \u001b[90m━━━━━━━━━━━━━━━━━━━━━━━━━━━━━━━━━━━━━━━━\u001b[0m \u001b[32m21.3/21.3 MB\u001b[0m \u001b[31m24.1 MB/s\u001b[0m eta \u001b[36m0:00:00\u001b[0m:00:01\u001b[0m00:01\u001b[0m\n",
      "\u001b[?25hInstalling collected packages: triton, nvidia-nvtx-cu12, nvidia-nvjitlink-cu12, nvidia-nccl-cu12, nvidia-curand-cu12, nvidia-cufft-cu12, nvidia-cuda-runtime-cu12, nvidia-cuda-nvrtc-cu12, nvidia-cuda-cupti-cu12, nvidia-cublas-cu12, nvidia-cusparse-cu12, nvidia-cudnn-cu12, nvidia-cusolver-cu12, torch, torchvision, torchaudio\n",
      "Successfully installed nvidia-cublas-cu12-12.1.3.1 nvidia-cuda-cupti-cu12-12.1.105 nvidia-cuda-nvrtc-cu12-12.1.105 nvidia-cuda-runtime-cu12-12.1.105 nvidia-cudnn-cu12-8.9.2.26 nvidia-cufft-cu12-11.0.2.54 nvidia-curand-cu12-10.3.2.106 nvidia-cusolver-cu12-11.4.5.107 nvidia-cusparse-cu12-12.1.0.106 nvidia-nccl-cu12-2.20.5 nvidia-nvjitlink-cu12-12.5.82 nvidia-nvtx-cu12-12.1.105 torch-2.3.1 torchaudio-2.3.1 torchvision-0.18.1 triton-2.3.1\n",
      "Collecting tensorflow\n",
      "  Using cached tensorflow-2.17.0-cp310-cp310-manylinux_2_17_x86_64.manylinux2014_x86_64.whl.metadata (4.2 kB)\n",
      "Collecting absl-py>=1.0.0 (from tensorflow)\n",
      "  Using cached absl_py-2.1.0-py3-none-any.whl.metadata (2.3 kB)\n",
      "Collecting astunparse>=1.6.0 (from tensorflow)\n",
      "  Using cached astunparse-1.6.3-py2.py3-none-any.whl.metadata (4.4 kB)\n",
      "Collecting flatbuffers>=24.3.25 (from tensorflow)\n",
      "  Using cached flatbuffers-24.3.25-py2.py3-none-any.whl.metadata (850 bytes)\n",
      "Collecting gast!=0.5.0,!=0.5.1,!=0.5.2,>=0.2.1 (from tensorflow)\n",
      "  Using cached gast-0.6.0-py3-none-any.whl.metadata (1.3 kB)\n",
      "Requirement already satisfied: google-pasta>=0.1.1 in /home/ec2-user/anaconda3/envs/python3/lib/python3.10/site-packages (from tensorflow) (0.2.0)\n",
      "Requirement already satisfied: h5py>=3.10.0 in /home/ec2-user/anaconda3/envs/python3/lib/python3.10/site-packages (from tensorflow) (3.11.0)\n",
      "Collecting libclang>=13.0.0 (from tensorflow)\n",
      "  Downloading libclang-18.1.1-py2.py3-none-manylinux2010_x86_64.whl.metadata (5.2 kB)\n",
      "Collecting ml-dtypes<0.5.0,>=0.3.1 (from tensorflow)\n",
      "  Downloading ml_dtypes-0.4.0-cp310-cp310-manylinux_2_17_x86_64.manylinux2014_x86_64.whl.metadata (20 kB)\n",
      "Collecting opt-einsum>=2.3.2 (from tensorflow)\n",
      "  Downloading opt_einsum-3.3.0-py3-none-any.whl.metadata (6.5 kB)\n",
      "Requirement already satisfied: packaging in /home/ec2-user/anaconda3/envs/python3/lib/python3.10/site-packages (from tensorflow) (21.3)\n",
      "Requirement already satisfied: protobuf!=4.21.0,!=4.21.1,!=4.21.2,!=4.21.3,!=4.21.4,!=4.21.5,<5.0.0dev,>=3.20.3 in /home/ec2-user/anaconda3/envs/python3/lib/python3.10/site-packages (from tensorflow) (4.25.3)\n",
      "Requirement already satisfied: requests<3,>=2.21.0 in /home/ec2-user/anaconda3/envs/python3/lib/python3.10/site-packages (from tensorflow) (2.32.3)\n",
      "Requirement already satisfied: setuptools in /home/ec2-user/anaconda3/envs/python3/lib/python3.10/site-packages (from tensorflow) (70.0.0)\n",
      "Requirement already satisfied: six>=1.12.0 in /home/ec2-user/anaconda3/envs/python3/lib/python3.10/site-packages (from tensorflow) (1.16.0)\n",
      "Collecting termcolor>=1.1.0 (from tensorflow)\n",
      "  Downloading termcolor-2.4.0-py3-none-any.whl.metadata (6.1 kB)\n",
      "Requirement already satisfied: typing-extensions>=3.6.6 in /home/ec2-user/anaconda3/envs/python3/lib/python3.10/site-packages (from tensorflow) (4.12.1)\n",
      "Requirement already satisfied: wrapt>=1.11.0 in /home/ec2-user/anaconda3/envs/python3/lib/python3.10/site-packages (from tensorflow) (1.16.0)\n",
      "Collecting grpcio<2.0,>=1.24.3 (from tensorflow)\n",
      "  Downloading grpcio-1.65.1-cp310-cp310-manylinux_2_17_x86_64.manylinux2014_x86_64.whl.metadata (3.3 kB)\n",
      "Collecting tensorboard<2.18,>=2.17 (from tensorflow)\n",
      "  Downloading tensorboard-2.17.0-py3-none-any.whl.metadata (1.6 kB)\n",
      "Collecting keras>=3.2.0 (from tensorflow)\n",
      "  Downloading keras-3.4.1-py3-none-any.whl.metadata (5.8 kB)\n",
      "Collecting tensorflow-io-gcs-filesystem>=0.23.1 (from tensorflow)\n",
      "  Downloading tensorflow_io_gcs_filesystem-0.37.1-cp310-cp310-manylinux_2_17_x86_64.manylinux2014_x86_64.whl.metadata (14 kB)\n",
      "Collecting numpy<2.0.0,>=1.23.5 (from tensorflow)\n",
      "  Downloading numpy-1.26.4-cp310-cp310-manylinux_2_17_x86_64.manylinux2014_x86_64.whl.metadata (61 kB)\n",
      "\u001b[2K     \u001b[90m━━━━━━━━━━━━━━━━━━━━━━━━━━━━━━━━━━━━━━━\u001b[0m \u001b[32m61.0/61.0 kB\u001b[0m \u001b[31m649.8 kB/s\u001b[0m eta \u001b[36m0:00:00\u001b[0ma \u001b[36m0:00:01\u001b[0m\n",
      "\u001b[?25hRequirement already satisfied: wheel<1.0,>=0.23.0 in /home/ec2-user/anaconda3/envs/python3/lib/python3.10/site-packages (from astunparse>=1.6.0->tensorflow) (0.43.0)\n",
      "Requirement already satisfied: rich in /home/ec2-user/anaconda3/envs/python3/lib/python3.10/site-packages (from keras>=3.2.0->tensorflow) (13.7.1)\n",
      "Collecting namex (from keras>=3.2.0->tensorflow)\n",
      "  Downloading namex-0.0.8-py3-none-any.whl.metadata (246 bytes)\n",
      "Collecting optree (from keras>=3.2.0->tensorflow)\n",
      "  Downloading optree-0.12.1-cp310-cp310-manylinux_2_17_x86_64.manylinux2014_x86_64.whl.metadata (47 kB)\n",
      "\u001b[2K     \u001b[90m━━━━━━━━━━━━━━━━━━━━━━━━━━━━━━━━━━━━━━━\u001b[0m \u001b[32m47.8/47.8 kB\u001b[0m \u001b[31m938.4 kB/s\u001b[0m eta \u001b[36m0:00:00\u001b[0ma \u001b[36m0:00:01\u001b[0m\n",
      "\u001b[?25hRequirement already satisfied: charset-normalizer<4,>=2 in /home/ec2-user/anaconda3/envs/python3/lib/python3.10/site-packages (from requests<3,>=2.21.0->tensorflow) (3.3.2)\n",
      "Requirement already satisfied: idna<4,>=2.5 in /home/ec2-user/anaconda3/envs/python3/lib/python3.10/site-packages (from requests<3,>=2.21.0->tensorflow) (3.7)\n",
      "Requirement already satisfied: urllib3<3,>=1.21.1 in /home/ec2-user/anaconda3/envs/python3/lib/python3.10/site-packages (from requests<3,>=2.21.0->tensorflow) (2.2.1)\n",
      "Requirement already satisfied: certifi>=2017.4.17 in /home/ec2-user/anaconda3/envs/python3/lib/python3.10/site-packages (from requests<3,>=2.21.0->tensorflow) (2024.6.2)\n",
      "Collecting markdown>=2.6.8 (from tensorboard<2.18,>=2.17->tensorflow)\n",
      "  Downloading Markdown-3.6-py3-none-any.whl.metadata (7.0 kB)\n",
      "Collecting tensorboard-data-server<0.8.0,>=0.7.0 (from tensorboard<2.18,>=2.17->tensorflow)\n",
      "  Downloading tensorboard_data_server-0.7.2-py3-none-any.whl.metadata (1.1 kB)\n",
      "Requirement already satisfied: werkzeug>=1.0.1 in /home/ec2-user/anaconda3/envs/python3/lib/python3.10/site-packages (from tensorboard<2.18,>=2.17->tensorflow) (3.0.3)\n",
      "Requirement already satisfied: pyparsing!=3.0.5,>=2.0.2 in /home/ec2-user/anaconda3/envs/python3/lib/python3.10/site-packages (from packaging->tensorflow) (3.1.2)\n",
      "Requirement already satisfied: MarkupSafe>=2.1.1 in /home/ec2-user/anaconda3/envs/python3/lib/python3.10/site-packages (from werkzeug>=1.0.1->tensorboard<2.18,>=2.17->tensorflow) (2.1.5)\n",
      "Requirement already satisfied: markdown-it-py>=2.2.0 in /home/ec2-user/anaconda3/envs/python3/lib/python3.10/site-packages (from rich->keras>=3.2.0->tensorflow) (3.0.0)\n",
      "Requirement already satisfied: pygments<3.0.0,>=2.13.0 in /home/ec2-user/anaconda3/envs/python3/lib/python3.10/site-packages (from rich->keras>=3.2.0->tensorflow) (2.18.0)\n",
      "Requirement already satisfied: mdurl~=0.1 in /home/ec2-user/anaconda3/envs/python3/lib/python3.10/site-packages (from markdown-it-py>=2.2.0->rich->keras>=3.2.0->tensorflow) (0.1.2)\n",
      "Downloading tensorflow-2.17.0-cp310-cp310-manylinux_2_17_x86_64.manylinux2014_x86_64.whl (601.3 MB)\n",
      "\u001b[2K   \u001b[90m━━━━━━━━━━━━━━━━━━━━━━━━━━━━━━━━━━━━━━━━\u001b[0m \u001b[32m601.3/601.3 MB\u001b[0m \u001b[31m1.7 MB/s\u001b[0m eta \u001b[36m0:00:00\u001b[0m:00:01\u001b[0m00:01\u001b[0m\n",
      "\u001b[?25hDownloading absl_py-2.1.0-py3-none-any.whl (133 kB)\n",
      "\u001b[2K   \u001b[90m━━━━━━━━━━━━━━━━━━━━━━━━━━━━━━━━━━━━━━━\u001b[0m \u001b[32m133.7/133.7 kB\u001b[0m \u001b[31m935.9 kB/s\u001b[0m eta \u001b[36m0:00:00\u001b[0m00:01\u001b[0m\n",
      "\u001b[?25hDownloading astunparse-1.6.3-py2.py3-none-any.whl (12 kB)\n",
      "Downloading flatbuffers-24.3.25-py2.py3-none-any.whl (26 kB)\n",
      "Downloading gast-0.6.0-py3-none-any.whl (21 kB)\n",
      "Downloading grpcio-1.65.1-cp310-cp310-manylinux_2_17_x86_64.manylinux2014_x86_64.whl (5.7 MB)\n",
      "\u001b[2K   \u001b[90m━━━━━━━━━━━━━━━━━━━━━━━━━━━━━━━━━━━━━━━━\u001b[0m \u001b[32m5.7/5.7 MB\u001b[0m \u001b[31m48.3 MB/s\u001b[0m eta \u001b[36m0:00:00\u001b[0m:00:01\u001b[0m\n",
      "\u001b[?25hDownloading keras-3.4.1-py3-none-any.whl (1.1 MB)\n",
      "\u001b[2K   \u001b[90m━━━━━━━━━━━━━━━━━━━━━━━━━━━━━━━━━━━━━━━━\u001b[0m \u001b[32m1.1/1.1 MB\u001b[0m \u001b[31m66.2 MB/s\u001b[0m eta \u001b[36m0:00:00\u001b[0m\n",
      "\u001b[?25hDownloading libclang-18.1.1-py2.py3-none-manylinux2010_x86_64.whl (24.5 MB)\n",
      "\u001b[2K   \u001b[90m━━━━━━━━━━━━━━━━━━━━━━━━━━━━━━━━━━━━━━━━\u001b[0m \u001b[32m24.5/24.5 MB\u001b[0m \u001b[31m54.0 MB/s\u001b[0m eta \u001b[36m0:00:00\u001b[0m:00:01\u001b[0m00:01\u001b[0m\n",
      "\u001b[?25hDownloading ml_dtypes-0.4.0-cp310-cp310-manylinux_2_17_x86_64.manylinux2014_x86_64.whl (2.2 MB)\n",
      "\u001b[2K   \u001b[90m━━━━━━━━━━━━━━━━━━━━━━━━━━━━━━━━━━━━━━━━\u001b[0m \u001b[32m2.2/2.2 MB\u001b[0m \u001b[31m70.2 MB/s\u001b[0m eta \u001b[36m0:00:00\u001b[0m\n",
      "\u001b[?25hDownloading numpy-1.26.4-cp310-cp310-manylinux_2_17_x86_64.manylinux2014_x86_64.whl (18.2 MB)\n",
      "\u001b[2K   \u001b[90m━━━━━━━━━━━━━━━━━━━━━━━━━━━━━━━━━━━━━━━━\u001b[0m \u001b[32m18.2/18.2 MB\u001b[0m \u001b[31m55.3 MB/s\u001b[0m eta \u001b[36m0:00:00\u001b[0m:00:01\u001b[0m0:01\u001b[0m\n",
      "\u001b[?25hDownloading opt_einsum-3.3.0-py3-none-any.whl (65 kB)\n",
      "\u001b[2K   \u001b[90m━━━━━━━━━━━━━━━━━━━━━━━━━━━━━━━━━━━━━━━━\u001b[0m \u001b[32m65.5/65.5 kB\u001b[0m \u001b[31m1.8 MB/s\u001b[0m eta \u001b[36m0:00:00\u001b[0m\n",
      "\u001b[?25hDownloading tensorboard-2.17.0-py3-none-any.whl (5.5 MB)\n",
      "\u001b[2K   \u001b[90m━━━━━━━━━━━━━━━━━━━━━━━━━━━━━━━━━━━━━━━━\u001b[0m \u001b[32m5.5/5.5 MB\u001b[0m \u001b[31m60.9 MB/s\u001b[0m eta \u001b[36m0:00:00\u001b[0m:00:01\u001b[0m\n",
      "\u001b[?25hDownloading tensorflow_io_gcs_filesystem-0.37.1-cp310-cp310-manylinux_2_17_x86_64.manylinux2014_x86_64.whl (5.1 MB)\n",
      "\u001b[2K   \u001b[90m━━━━━━━━━━━━━━━━━━━━━━━━━━━━━━━━━━━━━━━━\u001b[0m \u001b[32m5.1/5.1 MB\u001b[0m \u001b[31m70.7 MB/s\u001b[0m eta \u001b[36m0:00:00\u001b[0m:00:01\u001b[0m\n",
      "\u001b[?25hDownloading termcolor-2.4.0-py3-none-any.whl (7.7 kB)\n",
      "Downloading Markdown-3.6-py3-none-any.whl (105 kB)\n",
      "\u001b[2K   \u001b[90m━━━━━━━━━━━━━━━━━━━━━━━━━━━━━━━━━━━━━━━━\u001b[0m \u001b[32m105.4/105.4 kB\u001b[0m \u001b[31m7.0 MB/s\u001b[0m eta \u001b[36m0:00:00\u001b[0m\n",
      "\u001b[?25hDownloading tensorboard_data_server-0.7.2-py3-none-any.whl (2.4 kB)\n",
      "Downloading namex-0.0.8-py3-none-any.whl (5.8 kB)\n",
      "Downloading optree-0.12.1-cp310-cp310-manylinux_2_17_x86_64.manylinux2014_x86_64.whl (347 kB)\n",
      "\u001b[2K   \u001b[90m━━━━━━━━━━━━━━━━━━━━━━━━━━━━━━━━━━━━━━━━\u001b[0m \u001b[32m347.7/347.7 kB\u001b[0m \u001b[31m20.4 MB/s\u001b[0m eta \u001b[36m0:00:00\u001b[0m\n",
      "\u001b[?25hInstalling collected packages: namex, libclang, flatbuffers, termcolor, tensorflow-io-gcs-filesystem, tensorboard-data-server, optree, numpy, markdown, grpcio, gast, astunparse, absl-py, tensorboard, opt-einsum, ml-dtypes, keras, tensorflow\n",
      "  Attempting uninstall: numpy\n",
      "    Found existing installation: numpy 1.22.4\n",
      "    Uninstalling numpy-1.22.4:\n",
      "      Successfully uninstalled numpy-1.22.4\n",
      "\u001b[31mERROR: pip's dependency resolver does not currently take into account all the packages that are installed. This behaviour is the source of the following dependency conflicts.\n",
      "mkl-fft 1.3.10 requires mkl, which is not installed.\n",
      "hdijupyterutils 0.21.0 requires pandas<2.0.0,>=0.17.1, but you have pandas 2.2.2 which is incompatible.\n",
      "sparkmagic 0.21.0 requires pandas<2.0.0,>=0.17.1, but you have pandas 2.2.2 which is incompatible.\u001b[0m\u001b[31m\n",
      "\u001b[0mSuccessfully installed absl-py-2.1.0 astunparse-1.6.3 flatbuffers-24.3.25 gast-0.6.0 grpcio-1.65.1 keras-3.4.1 libclang-18.1.1 markdown-3.6 ml-dtypes-0.4.0 namex-0.0.8 numpy-1.26.4 opt-einsum-3.3.0 optree-0.12.1 tensorboard-2.17.0 tensorboard-data-server-0.7.2 tensorflow-2.17.0 tensorflow-io-gcs-filesystem-0.37.1 termcolor-2.4.0\n"
     ]
    }
   ],
   "source": [
    "!pip install transformers tqdm\n",
    "# Install PyTorch (Choose the appropriate command for your setup from the PyTorch website)\n",
    "!pip install torch torchvision torchaudio\n",
    "\n",
    "# Or install TensorFlow\n",
    "!pip install tensorflow\n"
   ]
  },
  {
   "cell_type": "code",
   "execution_count": 2,
   "metadata": {
    "tags": []
   },
   "outputs": [
    {
     "name": "stdout",
     "output_type": "stream",
     "text": [
      "Requirement already satisfied: torch in /home/ec2-user/anaconda3/envs/python3/lib/python3.10/site-packages (2.3.1)\n",
      "Requirement already satisfied: torchvision in /home/ec2-user/anaconda3/envs/python3/lib/python3.10/site-packages (0.18.1)\n",
      "Requirement already satisfied: torchaudio in /home/ec2-user/anaconda3/envs/python3/lib/python3.10/site-packages (2.3.1)\n",
      "Requirement already satisfied: filelock in /home/ec2-user/anaconda3/envs/python3/lib/python3.10/site-packages (from torch) (3.14.0)\n",
      "Requirement already satisfied: typing-extensions>=4.8.0 in /home/ec2-user/anaconda3/envs/python3/lib/python3.10/site-packages (from torch) (4.12.1)\n",
      "Requirement already satisfied: sympy in /home/ec2-user/anaconda3/envs/python3/lib/python3.10/site-packages (from torch) (1.12)\n",
      "Requirement already satisfied: networkx in /home/ec2-user/anaconda3/envs/python3/lib/python3.10/site-packages (from torch) (3.3)\n",
      "Requirement already satisfied: jinja2 in /home/ec2-user/anaconda3/envs/python3/lib/python3.10/site-packages (from torch) (3.1.4)\n",
      "Requirement already satisfied: fsspec in /home/ec2-user/anaconda3/envs/python3/lib/python3.10/site-packages (from torch) (2024.6.0)\n",
      "Requirement already satisfied: nvidia-cuda-nvrtc-cu12==12.1.105 in /home/ec2-user/anaconda3/envs/python3/lib/python3.10/site-packages (from torch) (12.1.105)\n",
      "Requirement already satisfied: nvidia-cuda-runtime-cu12==12.1.105 in /home/ec2-user/anaconda3/envs/python3/lib/python3.10/site-packages (from torch) (12.1.105)\n",
      "Requirement already satisfied: nvidia-cuda-cupti-cu12==12.1.105 in /home/ec2-user/anaconda3/envs/python3/lib/python3.10/site-packages (from torch) (12.1.105)\n",
      "Requirement already satisfied: nvidia-cudnn-cu12==8.9.2.26 in /home/ec2-user/anaconda3/envs/python3/lib/python3.10/site-packages (from torch) (8.9.2.26)\n",
      "Requirement already satisfied: nvidia-cublas-cu12==12.1.3.1 in /home/ec2-user/anaconda3/envs/python3/lib/python3.10/site-packages (from torch) (12.1.3.1)\n",
      "Requirement already satisfied: nvidia-cufft-cu12==11.0.2.54 in /home/ec2-user/anaconda3/envs/python3/lib/python3.10/site-packages (from torch) (11.0.2.54)\n",
      "Requirement already satisfied: nvidia-curand-cu12==10.3.2.106 in /home/ec2-user/anaconda3/envs/python3/lib/python3.10/site-packages (from torch) (10.3.2.106)\n",
      "Requirement already satisfied: nvidia-cusolver-cu12==11.4.5.107 in /home/ec2-user/anaconda3/envs/python3/lib/python3.10/site-packages (from torch) (11.4.5.107)\n",
      "Requirement already satisfied: nvidia-cusparse-cu12==12.1.0.106 in /home/ec2-user/anaconda3/envs/python3/lib/python3.10/site-packages (from torch) (12.1.0.106)\n",
      "Requirement already satisfied: nvidia-nccl-cu12==2.20.5 in /home/ec2-user/anaconda3/envs/python3/lib/python3.10/site-packages (from torch) (2.20.5)\n",
      "Requirement already satisfied: nvidia-nvtx-cu12==12.1.105 in /home/ec2-user/anaconda3/envs/python3/lib/python3.10/site-packages (from torch) (12.1.105)\n",
      "Requirement already satisfied: triton==2.3.1 in /home/ec2-user/anaconda3/envs/python3/lib/python3.10/site-packages (from torch) (2.3.1)\n",
      "Requirement already satisfied: nvidia-nvjitlink-cu12 in /home/ec2-user/anaconda3/envs/python3/lib/python3.10/site-packages (from nvidia-cusolver-cu12==11.4.5.107->torch) (12.5.82)\n",
      "Requirement already satisfied: numpy in /home/ec2-user/anaconda3/envs/python3/lib/python3.10/site-packages (from torchvision) (1.26.4)\n",
      "Requirement already satisfied: pillow!=8.3.*,>=5.3.0 in /home/ec2-user/anaconda3/envs/python3/lib/python3.10/site-packages (from torchvision) (10.3.0)\n",
      "Requirement already satisfied: MarkupSafe>=2.0 in /home/ec2-user/anaconda3/envs/python3/lib/python3.10/site-packages (from jinja2->torch) (2.1.5)\n",
      "Requirement already satisfied: mpmath>=0.19 in /home/ec2-user/anaconda3/envs/python3/lib/python3.10/site-packages (from sympy->torch) (1.3.0)\n",
      "Requirement already satisfied: tensorflow in /home/ec2-user/anaconda3/envs/python3/lib/python3.10/site-packages (2.17.0)\n",
      "Requirement already satisfied: absl-py>=1.0.0 in /home/ec2-user/anaconda3/envs/python3/lib/python3.10/site-packages (from tensorflow) (2.1.0)\n",
      "Requirement already satisfied: astunparse>=1.6.0 in /home/ec2-user/anaconda3/envs/python3/lib/python3.10/site-packages (from tensorflow) (1.6.3)\n",
      "Requirement already satisfied: flatbuffers>=24.3.25 in /home/ec2-user/anaconda3/envs/python3/lib/python3.10/site-packages (from tensorflow) (24.3.25)\n",
      "Requirement already satisfied: gast!=0.5.0,!=0.5.1,!=0.5.2,>=0.2.1 in /home/ec2-user/anaconda3/envs/python3/lib/python3.10/site-packages (from tensorflow) (0.6.0)\n",
      "Requirement already satisfied: google-pasta>=0.1.1 in /home/ec2-user/anaconda3/envs/python3/lib/python3.10/site-packages (from tensorflow) (0.2.0)\n",
      "Requirement already satisfied: h5py>=3.10.0 in /home/ec2-user/anaconda3/envs/python3/lib/python3.10/site-packages (from tensorflow) (3.11.0)\n",
      "Requirement already satisfied: libclang>=13.0.0 in /home/ec2-user/anaconda3/envs/python3/lib/python3.10/site-packages (from tensorflow) (18.1.1)\n",
      "Requirement already satisfied: ml-dtypes<0.5.0,>=0.3.1 in /home/ec2-user/anaconda3/envs/python3/lib/python3.10/site-packages (from tensorflow) (0.4.0)\n",
      "Requirement already satisfied: opt-einsum>=2.3.2 in /home/ec2-user/anaconda3/envs/python3/lib/python3.10/site-packages (from tensorflow) (3.3.0)\n",
      "Requirement already satisfied: packaging in /home/ec2-user/anaconda3/envs/python3/lib/python3.10/site-packages (from tensorflow) (21.3)\n",
      "Requirement already satisfied: protobuf!=4.21.0,!=4.21.1,!=4.21.2,!=4.21.3,!=4.21.4,!=4.21.5,<5.0.0dev,>=3.20.3 in /home/ec2-user/anaconda3/envs/python3/lib/python3.10/site-packages (from tensorflow) (4.25.3)\n",
      "Requirement already satisfied: requests<3,>=2.21.0 in /home/ec2-user/anaconda3/envs/python3/lib/python3.10/site-packages (from tensorflow) (2.32.3)\n",
      "Requirement already satisfied: setuptools in /home/ec2-user/anaconda3/envs/python3/lib/python3.10/site-packages (from tensorflow) (70.0.0)\n",
      "Requirement already satisfied: six>=1.12.0 in /home/ec2-user/anaconda3/envs/python3/lib/python3.10/site-packages (from tensorflow) (1.16.0)\n",
      "Requirement already satisfied: termcolor>=1.1.0 in /home/ec2-user/anaconda3/envs/python3/lib/python3.10/site-packages (from tensorflow) (2.4.0)\n",
      "Requirement already satisfied: typing-extensions>=3.6.6 in /home/ec2-user/anaconda3/envs/python3/lib/python3.10/site-packages (from tensorflow) (4.12.1)\n",
      "Requirement already satisfied: wrapt>=1.11.0 in /home/ec2-user/anaconda3/envs/python3/lib/python3.10/site-packages (from tensorflow) (1.16.0)\n",
      "Requirement already satisfied: grpcio<2.0,>=1.24.3 in /home/ec2-user/anaconda3/envs/python3/lib/python3.10/site-packages (from tensorflow) (1.65.1)\n",
      "Requirement already satisfied: tensorboard<2.18,>=2.17 in /home/ec2-user/anaconda3/envs/python3/lib/python3.10/site-packages (from tensorflow) (2.17.0)\n",
      "Requirement already satisfied: keras>=3.2.0 in /home/ec2-user/anaconda3/envs/python3/lib/python3.10/site-packages (from tensorflow) (3.4.1)\n",
      "Requirement already satisfied: tensorflow-io-gcs-filesystem>=0.23.1 in /home/ec2-user/anaconda3/envs/python3/lib/python3.10/site-packages (from tensorflow) (0.37.1)\n",
      "Requirement already satisfied: numpy<2.0.0,>=1.23.5 in /home/ec2-user/anaconda3/envs/python3/lib/python3.10/site-packages (from tensorflow) (1.26.4)\n",
      "Requirement already satisfied: wheel<1.0,>=0.23.0 in /home/ec2-user/anaconda3/envs/python3/lib/python3.10/site-packages (from astunparse>=1.6.0->tensorflow) (0.43.0)\n",
      "Requirement already satisfied: rich in /home/ec2-user/anaconda3/envs/python3/lib/python3.10/site-packages (from keras>=3.2.0->tensorflow) (13.7.1)\n",
      "Requirement already satisfied: namex in /home/ec2-user/anaconda3/envs/python3/lib/python3.10/site-packages (from keras>=3.2.0->tensorflow) (0.0.8)\n",
      "Requirement already satisfied: optree in /home/ec2-user/anaconda3/envs/python3/lib/python3.10/site-packages (from keras>=3.2.0->tensorflow) (0.12.1)\n",
      "Requirement already satisfied: charset-normalizer<4,>=2 in /home/ec2-user/anaconda3/envs/python3/lib/python3.10/site-packages (from requests<3,>=2.21.0->tensorflow) (3.3.2)\n",
      "Requirement already satisfied: idna<4,>=2.5 in /home/ec2-user/anaconda3/envs/python3/lib/python3.10/site-packages (from requests<3,>=2.21.0->tensorflow) (3.7)\n",
      "Requirement already satisfied: urllib3<3,>=1.21.1 in /home/ec2-user/anaconda3/envs/python3/lib/python3.10/site-packages (from requests<3,>=2.21.0->tensorflow) (2.2.1)\n",
      "Requirement already satisfied: certifi>=2017.4.17 in /home/ec2-user/anaconda3/envs/python3/lib/python3.10/site-packages (from requests<3,>=2.21.0->tensorflow) (2024.6.2)\n",
      "Requirement already satisfied: markdown>=2.6.8 in /home/ec2-user/anaconda3/envs/python3/lib/python3.10/site-packages (from tensorboard<2.18,>=2.17->tensorflow) (3.6)\n",
      "Requirement already satisfied: tensorboard-data-server<0.8.0,>=0.7.0 in /home/ec2-user/anaconda3/envs/python3/lib/python3.10/site-packages (from tensorboard<2.18,>=2.17->tensorflow) (0.7.2)\n",
      "Requirement already satisfied: werkzeug>=1.0.1 in /home/ec2-user/anaconda3/envs/python3/lib/python3.10/site-packages (from tensorboard<2.18,>=2.17->tensorflow) (3.0.3)\n",
      "Requirement already satisfied: pyparsing!=3.0.5,>=2.0.2 in /home/ec2-user/anaconda3/envs/python3/lib/python3.10/site-packages (from packaging->tensorflow) (3.1.2)\n",
      "Requirement already satisfied: MarkupSafe>=2.1.1 in /home/ec2-user/anaconda3/envs/python3/lib/python3.10/site-packages (from werkzeug>=1.0.1->tensorboard<2.18,>=2.17->tensorflow) (2.1.5)\n",
      "Requirement already satisfied: markdown-it-py>=2.2.0 in /home/ec2-user/anaconda3/envs/python3/lib/python3.10/site-packages (from rich->keras>=3.2.0->tensorflow) (3.0.0)\n",
      "Requirement already satisfied: pygments<3.0.0,>=2.13.0 in /home/ec2-user/anaconda3/envs/python3/lib/python3.10/site-packages (from rich->keras>=3.2.0->tensorflow) (2.18.0)\n",
      "Requirement already satisfied: mdurl~=0.1 in /home/ec2-user/anaconda3/envs/python3/lib/python3.10/site-packages (from markdown-it-py>=2.2.0->rich->keras>=3.2.0->tensorflow) (0.1.2)\n",
      "Collecting tf-keras\n",
      "  Downloading tf_keras-2.17.0-py3-none-any.whl.metadata (1.6 kB)\n",
      "Requirement already satisfied: tensorflow<2.18,>=2.17 in /home/ec2-user/anaconda3/envs/python3/lib/python3.10/site-packages (from tf-keras) (2.17.0)\n",
      "Requirement already satisfied: absl-py>=1.0.0 in /home/ec2-user/anaconda3/envs/python3/lib/python3.10/site-packages (from tensorflow<2.18,>=2.17->tf-keras) (2.1.0)\n",
      "Requirement already satisfied: astunparse>=1.6.0 in /home/ec2-user/anaconda3/envs/python3/lib/python3.10/site-packages (from tensorflow<2.18,>=2.17->tf-keras) (1.6.3)\n",
      "Requirement already satisfied: flatbuffers>=24.3.25 in /home/ec2-user/anaconda3/envs/python3/lib/python3.10/site-packages (from tensorflow<2.18,>=2.17->tf-keras) (24.3.25)\n",
      "Requirement already satisfied: gast!=0.5.0,!=0.5.1,!=0.5.2,>=0.2.1 in /home/ec2-user/anaconda3/envs/python3/lib/python3.10/site-packages (from tensorflow<2.18,>=2.17->tf-keras) (0.6.0)\n",
      "Requirement already satisfied: google-pasta>=0.1.1 in /home/ec2-user/anaconda3/envs/python3/lib/python3.10/site-packages (from tensorflow<2.18,>=2.17->tf-keras) (0.2.0)\n",
      "Requirement already satisfied: h5py>=3.10.0 in /home/ec2-user/anaconda3/envs/python3/lib/python3.10/site-packages (from tensorflow<2.18,>=2.17->tf-keras) (3.11.0)\n",
      "Requirement already satisfied: libclang>=13.0.0 in /home/ec2-user/anaconda3/envs/python3/lib/python3.10/site-packages (from tensorflow<2.18,>=2.17->tf-keras) (18.1.1)\n",
      "Requirement already satisfied: ml-dtypes<0.5.0,>=0.3.1 in /home/ec2-user/anaconda3/envs/python3/lib/python3.10/site-packages (from tensorflow<2.18,>=2.17->tf-keras) (0.4.0)\n",
      "Requirement already satisfied: opt-einsum>=2.3.2 in /home/ec2-user/anaconda3/envs/python3/lib/python3.10/site-packages (from tensorflow<2.18,>=2.17->tf-keras) (3.3.0)\n",
      "Requirement already satisfied: packaging in /home/ec2-user/anaconda3/envs/python3/lib/python3.10/site-packages (from tensorflow<2.18,>=2.17->tf-keras) (21.3)\n",
      "Requirement already satisfied: protobuf!=4.21.0,!=4.21.1,!=4.21.2,!=4.21.3,!=4.21.4,!=4.21.5,<5.0.0dev,>=3.20.3 in /home/ec2-user/anaconda3/envs/python3/lib/python3.10/site-packages (from tensorflow<2.18,>=2.17->tf-keras) (4.25.3)\n",
      "Requirement already satisfied: requests<3,>=2.21.0 in /home/ec2-user/anaconda3/envs/python3/lib/python3.10/site-packages (from tensorflow<2.18,>=2.17->tf-keras) (2.32.3)\n",
      "Requirement already satisfied: setuptools in /home/ec2-user/anaconda3/envs/python3/lib/python3.10/site-packages (from tensorflow<2.18,>=2.17->tf-keras) (70.0.0)\n",
      "Requirement already satisfied: six>=1.12.0 in /home/ec2-user/anaconda3/envs/python3/lib/python3.10/site-packages (from tensorflow<2.18,>=2.17->tf-keras) (1.16.0)\n",
      "Requirement already satisfied: termcolor>=1.1.0 in /home/ec2-user/anaconda3/envs/python3/lib/python3.10/site-packages (from tensorflow<2.18,>=2.17->tf-keras) (2.4.0)\n",
      "Requirement already satisfied: typing-extensions>=3.6.6 in /home/ec2-user/anaconda3/envs/python3/lib/python3.10/site-packages (from tensorflow<2.18,>=2.17->tf-keras) (4.12.1)\n",
      "Requirement already satisfied: wrapt>=1.11.0 in /home/ec2-user/anaconda3/envs/python3/lib/python3.10/site-packages (from tensorflow<2.18,>=2.17->tf-keras) (1.16.0)\n",
      "Requirement already satisfied: grpcio<2.0,>=1.24.3 in /home/ec2-user/anaconda3/envs/python3/lib/python3.10/site-packages (from tensorflow<2.18,>=2.17->tf-keras) (1.65.1)\n",
      "Requirement already satisfied: tensorboard<2.18,>=2.17 in /home/ec2-user/anaconda3/envs/python3/lib/python3.10/site-packages (from tensorflow<2.18,>=2.17->tf-keras) (2.17.0)\n",
      "Requirement already satisfied: keras>=3.2.0 in /home/ec2-user/anaconda3/envs/python3/lib/python3.10/site-packages (from tensorflow<2.18,>=2.17->tf-keras) (3.4.1)\n",
      "Requirement already satisfied: tensorflow-io-gcs-filesystem>=0.23.1 in /home/ec2-user/anaconda3/envs/python3/lib/python3.10/site-packages (from tensorflow<2.18,>=2.17->tf-keras) (0.37.1)\n",
      "Requirement already satisfied: numpy<2.0.0,>=1.23.5 in /home/ec2-user/anaconda3/envs/python3/lib/python3.10/site-packages (from tensorflow<2.18,>=2.17->tf-keras) (1.26.4)\n",
      "Requirement already satisfied: wheel<1.0,>=0.23.0 in /home/ec2-user/anaconda3/envs/python3/lib/python3.10/site-packages (from astunparse>=1.6.0->tensorflow<2.18,>=2.17->tf-keras) (0.43.0)\n",
      "Requirement already satisfied: rich in /home/ec2-user/anaconda3/envs/python3/lib/python3.10/site-packages (from keras>=3.2.0->tensorflow<2.18,>=2.17->tf-keras) (13.7.1)\n",
      "Requirement already satisfied: namex in /home/ec2-user/anaconda3/envs/python3/lib/python3.10/site-packages (from keras>=3.2.0->tensorflow<2.18,>=2.17->tf-keras) (0.0.8)\n",
      "Requirement already satisfied: optree in /home/ec2-user/anaconda3/envs/python3/lib/python3.10/site-packages (from keras>=3.2.0->tensorflow<2.18,>=2.17->tf-keras) (0.12.1)\n",
      "Requirement already satisfied: charset-normalizer<4,>=2 in /home/ec2-user/anaconda3/envs/python3/lib/python3.10/site-packages (from requests<3,>=2.21.0->tensorflow<2.18,>=2.17->tf-keras) (3.3.2)\n",
      "Requirement already satisfied: idna<4,>=2.5 in /home/ec2-user/anaconda3/envs/python3/lib/python3.10/site-packages (from requests<3,>=2.21.0->tensorflow<2.18,>=2.17->tf-keras) (3.7)\n",
      "Requirement already satisfied: urllib3<3,>=1.21.1 in /home/ec2-user/anaconda3/envs/python3/lib/python3.10/site-packages (from requests<3,>=2.21.0->tensorflow<2.18,>=2.17->tf-keras) (2.2.1)\n",
      "Requirement already satisfied: certifi>=2017.4.17 in /home/ec2-user/anaconda3/envs/python3/lib/python3.10/site-packages (from requests<3,>=2.21.0->tensorflow<2.18,>=2.17->tf-keras) (2024.6.2)\n",
      "Requirement already satisfied: markdown>=2.6.8 in /home/ec2-user/anaconda3/envs/python3/lib/python3.10/site-packages (from tensorboard<2.18,>=2.17->tensorflow<2.18,>=2.17->tf-keras) (3.6)\n",
      "Requirement already satisfied: tensorboard-data-server<0.8.0,>=0.7.0 in /home/ec2-user/anaconda3/envs/python3/lib/python3.10/site-packages (from tensorboard<2.18,>=2.17->tensorflow<2.18,>=2.17->tf-keras) (0.7.2)\n",
      "Requirement already satisfied: werkzeug>=1.0.1 in /home/ec2-user/anaconda3/envs/python3/lib/python3.10/site-packages (from tensorboard<2.18,>=2.17->tensorflow<2.18,>=2.17->tf-keras) (3.0.3)\n",
      "Requirement already satisfied: pyparsing!=3.0.5,>=2.0.2 in /home/ec2-user/anaconda3/envs/python3/lib/python3.10/site-packages (from packaging->tensorflow<2.18,>=2.17->tf-keras) (3.1.2)\n",
      "Requirement already satisfied: MarkupSafe>=2.1.1 in /home/ec2-user/anaconda3/envs/python3/lib/python3.10/site-packages (from werkzeug>=1.0.1->tensorboard<2.18,>=2.17->tensorflow<2.18,>=2.17->tf-keras) (2.1.5)\n",
      "Requirement already satisfied: markdown-it-py>=2.2.0 in /home/ec2-user/anaconda3/envs/python3/lib/python3.10/site-packages (from rich->keras>=3.2.0->tensorflow<2.18,>=2.17->tf-keras) (3.0.0)\n",
      "Requirement already satisfied: pygments<3.0.0,>=2.13.0 in /home/ec2-user/anaconda3/envs/python3/lib/python3.10/site-packages (from rich->keras>=3.2.0->tensorflow<2.18,>=2.17->tf-keras) (2.18.0)\n",
      "Requirement already satisfied: mdurl~=0.1 in /home/ec2-user/anaconda3/envs/python3/lib/python3.10/site-packages (from markdown-it-py>=2.2.0->rich->keras>=3.2.0->tensorflow<2.18,>=2.17->tf-keras) (0.1.2)\n",
      "Downloading tf_keras-2.17.0-py3-none-any.whl (1.7 MB)\n",
      "\u001b[2K   \u001b[90m━━━━━━━━━━━━━━━━━━━━━━━━━━━━━━━━━━━━━━━━\u001b[0m \u001b[32m1.7/1.7 MB\u001b[0m \u001b[31m39.8 MB/s\u001b[0m eta \u001b[36m0:00:00\u001b[0m00:01\u001b[0m\n",
      "\u001b[?25hInstalling collected packages: tf-keras\n",
      "Successfully installed tf-keras-2.17.0\n"
     ]
    }
   ],
   "source": [
    "# Install PyTorch (Choose the appropriate command for your setup from the PyTorch website)\n",
    "!pip install torch torchvision torchaudio\n",
    "\n",
    "# Or install TensorFlow\n",
    "!pip install tensorflow\n",
    "!pip install tf-keras"
   ]
  },
  {
   "cell_type": "code",
   "execution_count": null,
   "metadata": {
    "tags": []
   },
   "outputs": [],
   "source": [
    "import pandas as pd \n",
    "\n",
    "df = pd.read_csv('04_combine_all.csv')"
   ]
  },
  {
   "cell_type": "code",
   "execution_count": null,
   "metadata": {
    "tags": []
   },
   "outputs": [],
   "source": [
    "df.__len__()"
   ]
  },
  {
   "cell_type": "code",
   "execution_count": null,
   "metadata": {
    "tags": []
   },
   "outputs": [],
   "source": [
    "df.head()"
   ]
  },
  {
   "cell_type": "code",
   "execution_count": null,
   "metadata": {
    "tags": []
   },
   "outputs": [],
   "source": [
    "df['path'] = df['url'].apply(lambda x: '/'.join(x.split('/')[-2:]))"
   ]
  },
  {
   "cell_type": "code",
   "execution_count": null,
   "metadata": {
    "tags": []
   },
   "outputs": [],
   "source": [
    "df['inf'] = \" \""
   ]
  },
  {
   "cell_type": "code",
   "execution_count": null,
   "metadata": {
    "tags": []
   },
   "outputs": [],
   "source": [
    "df.head()"
   ]
  },
  {
   "cell_type": "code",
   "execution_count": null,
   "metadata": {
    "tags": []
   },
   "outputs": [],
   "source": [
    "df.to_csv('latest.csv')"
   ]
  },
  {
   "cell_type": "code",
   "execution_count": null,
   "metadata": {
    "scrolled": true
   },
   "outputs": [],
   "source": [
    "from tqdm.auto import tqdm\n",
    "from transformers import pipeline\n",
    "from pathlib import Path\n",
    "\n",
    "generator = pipeline(model=\"spsither/mms_300_v3.1020\")\n",
    "\n",
    "predictions = []\n",
    "\n",
    "for path in tqdm(df['path']):\n",
    "    path = Path(path)\n",
    "    if not path.exists(): \n",
    "        predictions.append('')\n",
    "        continue\n",
    "    opt = generator(str(path))\n",
    "    predictions.append(opt[\"text\"])\n",
    "\n",
    "df['inf'] = predictions"
   ]
  },
  {
   "cell_type": "code",
   "execution_count": null,
   "metadata": {},
   "outputs": [],
   "source": [
    "import pandas as pd\n",
    "from tqdm.auto import tqdm\n",
    "from transformers import pipeline\n",
    "from pathlib import Path"
   ]
  },
  {
   "cell_type": "code",
   "execution_count": null,
   "metadata": {
    "tags": []
   },
   "outputs": [],
   "source": [
    "df = pd.read_csv('04_combine_all.csv')"
   ]
  },
  {
   "cell_type": "code",
   "execution_count": null,
   "metadata": {},
   "outputs": [],
   "source": [
    "df.head()\n"
   ]
  },
  {
   "cell_type": "code",
   "execution_count": null,
   "metadata": {},
   "outputs": [],
   "source": [
    "# Load the dataframe from the latest checkpoint\n",
    "df = pd.read_csv(\"latest.csv\")\n",
    "\n",
    "# Initialize the pipeline\n",
    "generator = pipeline(model=\"spsither/mms_300_v3.1020\")\n",
    "\n",
    "# Filter the dataframe to only include rows where the 'inf' column is empty\n",
    "df_to_process = df[df['inf'] == \" \"]\n",
    "\n",
    "# Counter to keep track of rows processed\n",
    "counter = 0\n",
    "\n",
    "# Run inference on the filtered dataframe\n",
    "for index, path in tqdm(df_to_process['path'].items(), desc=\"Processing Paths\", total=len(df_to_process)):\n",
    "    path = Path(path)\n",
    "    if not path.exists():\n",
    "        df.at[index, 'inf'] = ' '\n",
    "    else:\n",
    "        opt = generator(str(path))\n",
    "        df.at[index, 'inf'] = opt[\"text\"]\n",
    "    \n",
    "    # Increment the counter\n",
    "    counter += 1\n",
    "\n",
    "    # Save the dataframe at every 100 intervals\n",
    "    if counter % 100 == 0:\n",
    "        df.to_csv(\"latest.csv\", index=False)\n",
    "        print(f\"Saved progress at {counter} rows.\")\n",
    "\n",
    "# Save the final updated dataframe\n",
    "df.to_csv(\"latest.csv\", index=False)\n",
    "print(\"Final save completed.\")\n"
   ]
  },
  {
   "cell_type": "code",
   "execution_count": null,
   "metadata": {},
   "outputs": [],
   "source": [
    "df.head(60)"
   ]
  },
  {
   "cell_type": "code",
   "execution_count": null,
   "metadata": {},
   "outputs": [],
   "source": [
    "df.to_csv('04_combine_all.csv', index=False)"
   ]
  },
  {
   "cell_type": "code",
   "execution_count": null,
   "metadata": {},
   "outputs": [],
   "source": [
    "# Define file paths and bucket details\n",
    "# save combine with time stamp to s3 \n",
    "local_file = '04_combine_all.csv'\n",
    "bucket_name = 'monlam.ai.stt'\n",
    "s3_file_name = 'tsv/04_combine_all_04_jun_2024.csv'\n",
    "\n",
    "# Run the AWS CLI command to upload the file\n",
    "!aws s3 cp {local_file} s3://{bucket_name}/{s3_file_name}"
   ]
  },
  {
   "cell_type": "code",
   "execution_count": null,
   "metadata": {
    "tags": []
   },
   "outputs": [],
   "source": [
    "import pandas as pd\n",
    "import os\n",
    "\n",
    "def split_csv(file_path, rows_per_file, output_dir):\n",
    "    # Create output directory if it doesn't exist\n",
    "    if not os.path.exists(output_dir):\n",
    "        os.makedirs(output_dir)\n",
    "\n",
    "    # Read the input CSV file\n",
    "    df = pd.read_csv(file_path)\n",
    "    df = df.loc[:, ~df.columns.str.contains('^Unnamed')]\n",
    "\n",
    "    # Get the total number of rows in the DataFrame\n",
    "    total_rows = len(df)\n",
    "\n",
    "    # Calculate the number of files needed\n",
    "    num_files = (total_rows // rows_per_file) + (1 if total_rows % rows_per_file != 0 else 0)\n",
    "\n",
    "    # Split the DataFrame and save each part as a new CSV file\n",
    "    for i in range(num_files):\n",
    "        start_row = i * rows_per_file\n",
    "        end_row = start_row + rows_per_file\n",
    "        part_df = df.iloc[start_row:end_row]\n",
    "        folder_dir = os.path.join(output_dir, f'SW{str(i+1).zfill(5)}')\n",
    "        if not os.path.exists(folder_dir):\n",
    "            os.makedirs(folder_dir)\n",
    "        output_file = os.path.join(folder_dir, f'SW{str(i+1).zfill(5)}.csv')\n",
    "        part_df = part_df.loc[:, ~part_df.columns.str.contains('^Unnamed')]\n",
    "        part_df.to_csv(output_file, index=False)\n",
    "    print(f'Successfully split {file_path} into {num_files} files.')\n"
   ]
  },
  {
   "cell_type": "code",
   "execution_count": null,
   "metadata": {
    "tags": []
   },
   "outputs": [],
   "source": [
    "# Specify the input file path and the number of rows per file\n",
    "input_file_path = '04_combine_all.csv'\n",
    "rows_per_file = 1000\n",
    "output_dir = 'output'\n",
    "# Split the CSV file\n",
    "split_csv(input_file_path, rows_per_file, output_dir)\n"
   ]
  },
  {
   "cell_type": "code",
   "execution_count": 3,
   "metadata": {
    "collapsed": true,
    "jupyter": {
     "outputs_hidden": true
    },
    "scrolled": true,
    "tags": []
   },
   "outputs": [
    {
     "name": "stdout",
     "output_type": "stream",
     "text": [
      "Collecting PyGithub\n",
      "  Downloading PyGithub-2.3.0-py3-none-any.whl.metadata (3.8 kB)\n",
      "Collecting pynacl>=1.4.0 (from PyGithub)\n",
      "  Downloading PyNaCl-1.5.0-cp36-abi3-manylinux_2_17_x86_64.manylinux2014_x86_64.manylinux_2_24_x86_64.whl.metadata (8.6 kB)\n",
      "Requirement already satisfied: requests>=2.14.0 in /home/ec2-user/anaconda3/envs/python3/lib/python3.10/site-packages (from PyGithub) (2.32.3)\n",
      "Collecting pyjwt>=2.4.0 (from pyjwt[crypto]>=2.4.0->PyGithub)\n",
      "  Downloading PyJWT-2.8.0-py3-none-any.whl.metadata (4.2 kB)\n",
      "Requirement already satisfied: typing-extensions>=4.0.0 in /home/ec2-user/anaconda3/envs/python3/lib/python3.10/site-packages (from PyGithub) (4.12.1)\n",
      "Requirement already satisfied: urllib3>=1.26.0 in /home/ec2-user/anaconda3/envs/python3/lib/python3.10/site-packages (from PyGithub) (2.2.1)\n",
      "Collecting Deprecated (from PyGithub)\n",
      "  Downloading Deprecated-1.2.14-py2.py3-none-any.whl.metadata (5.4 kB)\n",
      "Requirement already satisfied: cryptography>=3.4.0 in /home/ec2-user/anaconda3/envs/python3/lib/python3.10/site-packages (from pyjwt[crypto]>=2.4.0->PyGithub) (42.0.8)\n",
      "Requirement already satisfied: cffi>=1.4.1 in /home/ec2-user/anaconda3/envs/python3/lib/python3.10/site-packages (from pynacl>=1.4.0->PyGithub) (1.16.0)\n",
      "Requirement already satisfied: charset-normalizer<4,>=2 in /home/ec2-user/anaconda3/envs/python3/lib/python3.10/site-packages (from requests>=2.14.0->PyGithub) (3.3.2)\n",
      "Requirement already satisfied: idna<4,>=2.5 in /home/ec2-user/anaconda3/envs/python3/lib/python3.10/site-packages (from requests>=2.14.0->PyGithub) (3.7)\n",
      "Requirement already satisfied: certifi>=2017.4.17 in /home/ec2-user/anaconda3/envs/python3/lib/python3.10/site-packages (from requests>=2.14.0->PyGithub) (2024.6.2)\n",
      "Requirement already satisfied: wrapt<2,>=1.10 in /home/ec2-user/anaconda3/envs/python3/lib/python3.10/site-packages (from Deprecated->PyGithub) (1.16.0)\n",
      "Requirement already satisfied: pycparser in /home/ec2-user/anaconda3/envs/python3/lib/python3.10/site-packages (from cffi>=1.4.1->pynacl>=1.4.0->PyGithub) (2.22)\n",
      "Downloading PyGithub-2.3.0-py3-none-any.whl (354 kB)\n",
      "\u001b[2K   \u001b[90m━━━━━━━━━━━━━━━━━━━━━━━━━━━━━━━━━━━━━━━━\u001b[0m \u001b[32m354.4/354.4 kB\u001b[0m \u001b[31m5.0 MB/s\u001b[0m eta \u001b[36m0:00:00\u001b[0m:00:01\u001b[0m\n",
      "\u001b[?25hDownloading PyJWT-2.8.0-py3-none-any.whl (22 kB)\n",
      "Downloading PyNaCl-1.5.0-cp36-abi3-manylinux_2_17_x86_64.manylinux2014_x86_64.manylinux_2_24_x86_64.whl (856 kB)\n",
      "\u001b[2K   \u001b[90m━━━━━━━━━━━━━━━━━━━━━━━━━━━━━━━━━━━━━━━━\u001b[0m \u001b[32m856.7/856.7 kB\u001b[0m \u001b[31m21.5 MB/s\u001b[0m eta \u001b[36m0:00:00\u001b[0m00:01\u001b[0m\n",
      "\u001b[?25hDownloading Deprecated-1.2.14-py2.py3-none-any.whl (9.6 kB)\n",
      "Installing collected packages: pyjwt, Deprecated, pynacl, PyGithub\n",
      "Successfully installed Deprecated-1.2.14 PyGithub-2.3.0 pyjwt-2.8.0 pynacl-1.5.0\n"
     ]
    }
   ],
   "source": [
    "!pip install PyGithub"
   ]
  },
  {
   "cell_type": "code",
   "execution_count": 4,
   "metadata": {
    "tags": []
   },
   "outputs": [],
   "source": [
    "import os\n",
    "from github import Github\n",
    "import subprocess\n",
    "\n",
    "def repo_exists(org, repo_name):\n",
    "    \"\"\"Check if a repository exists in the organization.\"\"\"\n",
    "    try:\n",
    "        repo = org.get_repo(repo_name)\n",
    "        return repo.clone_url\n",
    "    except:\n",
    "        return False\n",
    "\n",
    "def create_github_repo(repo_name, org, token):\n",
    "    # Authenticate to GitHub\n",
    "    g = Github(token)\n",
    "    \n",
    "    # Get the organization\n",
    "    org = g.get_organization(org)\n",
    "    \n",
    "    # Check if the repository already exists\n",
    "    repo_url = repo_exists(org, repo_name)\n",
    "    if repo_url:\n",
    "        print(f'Repository {repo_name} already exists.')\n",
    "        return repo_url\n",
    "    \n",
    "    # Create the repository\n",
    "    try:\n",
    "        repo = org.create_repo(name=repo_name)\n",
    "        print(f'Successfully created repository: {repo_name}')\n",
    "        return repo.clone_url\n",
    "    except Exception as e:\n",
    "        print(f'Failed to create repository: {repo_name}')\n",
    "        print(f'Error: {e}')\n",
    "        return None\n",
    "\n",
    "def upload_files_to_repo(local_dir, repo_url, token):\n",
    "    # Set Git configuration for user\n",
    "    subprocess.run(['git', 'config', '--global', 'user.email', 'ganga@esukhia.org'])\n",
    "    subprocess.run(['git', 'config', '--global', 'user.name', 'gangagyatso4364'])\n",
    "    \n",
    "    # Initialize a local git repository if it does not exist\n",
    "    if not os.path.exists(os.path.join(local_dir, '.git')):\n",
    "        subprocess.run(['git', 'init'], cwd=local_dir)\n",
    "    \n",
    "    # Add the remote origin, ignoring error if it already exists\n",
    "    subprocess.run(['git', 'remote', 'remove', 'origin'], cwd=local_dir)\n",
    "    subprocess.run(['git', 'remote', 'add', 'origin', repo_url], cwd=local_dir)\n",
    "    \n",
    "    # Pull from the remote repository to get the latest changes\n",
    "    subprocess.run(['git', 'pull', 'origin', 'master'], cwd=local_dir)\n",
    "    \n",
    "    # Add all files to the staging area\n",
    "    subprocess.run(['git', 'add', '.'], cwd=local_dir)\n",
    "    \n",
    "    # Commit the files\n",
    "    subprocess.run(['git', 'commit', '-m', 'Initial commit'], cwd=local_dir)\n",
    "    \n",
    "    # Push the files to the GitHub repository\n",
    "    subprocess.run(['git', 'push', 'origin', 'master'], cwd=local_dir)\n",
    "\n",
    "def create_repos_for_folders(output_dir, org_name, token):\n",
    "    for folder_name in os.listdir(output_dir):\n",
    "        folder_path = os.path.join(output_dir, folder_name)\n",
    "        if os.path.isdir(folder_path):\n",
    "            repo_url = create_github_repo(folder_name, org_name, token)\n",
    "            if repo_url:\n",
    "                upload_files_to_repo(folder_path, repo_url.replace('https://', f'https://{token}@'), token)\n",
    "\n"
   ]
  },
  {
   "cell_type": "code",
   "execution_count": null,
   "metadata": {
    "collapsed": true,
    "jupyter": {
     "outputs_hidden": true
    },
    "tags": []
   },
   "outputs": [
    {
     "name": "stdout",
     "output_type": "stream",
     "text": [
      "Repository SW00231 already exists.\n",
      "Already up to date.\n",
      "On branch master\n",
      "nothing to commit, working tree clean\n"
     ]
    },
    {
     "name": "stderr",
     "output_type": "stream",
     "text": [
      "From https://github.com/MonlamAI/SW00231\n",
      " * branch            master     -> FETCH_HEAD\n",
      " * [new branch]      master     -> origin/master\n",
      "Everything up-to-date\n"
     ]
    },
    {
     "name": "stdout",
     "output_type": "stream",
     "text": [
      "Repository SW00085 already exists.\n",
      "Already up to date.\n",
      "On branch master\n",
      "nothing to commit, working tree clean\n"
     ]
    },
    {
     "name": "stderr",
     "output_type": "stream",
     "text": [
      "From https://github.com/MonlamAI/SW00085\n",
      " * branch            master     -> FETCH_HEAD\n",
      " * [new branch]      master     -> origin/master\n",
      "Everything up-to-date\n"
     ]
    },
    {
     "name": "stdout",
     "output_type": "stream",
     "text": [
      "Repository SW00247 already exists.\n",
      "Already up to date.\n",
      "On branch master\n",
      "nothing to commit, working tree clean\n"
     ]
    },
    {
     "name": "stderr",
     "output_type": "stream",
     "text": [
      "From https://github.com/MonlamAI/SW00247\n",
      " * branch            master     -> FETCH_HEAD\n",
      " * [new branch]      master     -> origin/master\n",
      "Everything up-to-date\n"
     ]
    },
    {
     "name": "stdout",
     "output_type": "stream",
     "text": [
      "Repository SW00866 already exists.\n",
      "Already up to date.\n",
      "On branch master\n",
      "nothing to commit, working tree clean\n"
     ]
    },
    {
     "name": "stderr",
     "output_type": "stream",
     "text": [
      "From https://github.com/MonlamAI/SW00866\n",
      " * branch            master     -> FETCH_HEAD\n",
      " * [new branch]      master     -> origin/master\n",
      "Everything up-to-date\n"
     ]
    },
    {
     "name": "stdout",
     "output_type": "stream",
     "text": [
      "Repository SW00831 already exists.\n",
      "Already up to date.\n",
      "On branch master\n",
      "nothing to commit, working tree clean\n"
     ]
    },
    {
     "name": "stderr",
     "output_type": "stream",
     "text": [
      "From https://github.com/MonlamAI/SW00831\n",
      " * branch            master     -> FETCH_HEAD\n",
      " * [new branch]      master     -> origin/master\n",
      "Everything up-to-date\n"
     ]
    },
    {
     "name": "stdout",
     "output_type": "stream",
     "text": [
      "Repository SW00124 already exists.\n",
      "Already up to date.\n",
      "On branch master\n",
      "nothing to commit, working tree clean\n"
     ]
    },
    {
     "name": "stderr",
     "output_type": "stream",
     "text": [
      "From https://github.com/MonlamAI/SW00124\n",
      " * branch            master     -> FETCH_HEAD\n",
      " * [new branch]      master     -> origin/master\n",
      "Everything up-to-date\n"
     ]
    },
    {
     "name": "stdout",
     "output_type": "stream",
     "text": [
      "Repository SW00771 already exists.\n",
      "Already up to date.\n",
      "On branch master\n",
      "nothing to commit, working tree clean\n"
     ]
    },
    {
     "name": "stderr",
     "output_type": "stream",
     "text": [
      "From https://github.com/MonlamAI/SW00771\n",
      " * branch            master     -> FETCH_HEAD\n",
      " * [new branch]      master     -> origin/master\n",
      "Everything up-to-date\n"
     ]
    },
    {
     "name": "stdout",
     "output_type": "stream",
     "text": [
      "Repository SW00854 already exists.\n",
      "Already up to date.\n",
      "On branch master\n",
      "nothing to commit, working tree clean\n"
     ]
    },
    {
     "name": "stderr",
     "output_type": "stream",
     "text": [
      "From https://github.com/MonlamAI/SW00854\n",
      " * branch            master     -> FETCH_HEAD\n",
      " * [new branch]      master     -> origin/master\n",
      "Everything up-to-date\n"
     ]
    },
    {
     "name": "stdout",
     "output_type": "stream",
     "text": [
      "Repository SW00472 already exists.\n",
      "Already up to date.\n",
      "On branch master\n",
      "nothing to commit, working tree clean\n"
     ]
    },
    {
     "name": "stderr",
     "output_type": "stream",
     "text": [
      "From https://github.com/MonlamAI/SW00472\n",
      " * branch            master     -> FETCH_HEAD\n",
      " * [new branch]      master     -> origin/master\n",
      "Everything up-to-date\n"
     ]
    },
    {
     "name": "stdout",
     "output_type": "stream",
     "text": [
      "Repository SW00918 already exists.\n",
      "Already up to date.\n",
      "On branch master\n",
      "nothing to commit, working tree clean\n"
     ]
    },
    {
     "name": "stderr",
     "output_type": "stream",
     "text": [
      "From https://github.com/MonlamAI/SW00918\n",
      " * branch            master     -> FETCH_HEAD\n",
      " * [new branch]      master     -> origin/master\n",
      "Everything up-to-date\n"
     ]
    },
    {
     "name": "stdout",
     "output_type": "stream",
     "text": [
      "Repository SW00393 already exists.\n",
      "Already up to date.\n",
      "On branch master\n",
      "nothing to commit, working tree clean\n"
     ]
    },
    {
     "name": "stderr",
     "output_type": "stream",
     "text": [
      "From https://github.com/MonlamAI/SW00393\n",
      " * branch            master     -> FETCH_HEAD\n",
      " * [new branch]      master     -> origin/master\n",
      "Everything up-to-date\n"
     ]
    },
    {
     "name": "stdout",
     "output_type": "stream",
     "text": [
      "Repository SW00225 already exists.\n",
      "Already up to date.\n",
      "On branch master\n",
      "nothing to commit, working tree clean\n"
     ]
    },
    {
     "name": "stderr",
     "output_type": "stream",
     "text": [
      "From https://github.com/MonlamAI/SW00225\n",
      " * branch            master     -> FETCH_HEAD\n",
      " * [new branch]      master     -> origin/master\n",
      "Everything up-to-date\n"
     ]
    },
    {
     "name": "stdout",
     "output_type": "stream",
     "text": [
      "Repository SW00429 already exists.\n",
      "Already up to date.\n",
      "On branch master\n",
      "nothing to commit, working tree clean\n"
     ]
    },
    {
     "name": "stderr",
     "output_type": "stream",
     "text": [
      "From https://github.com/MonlamAI/SW00429\n",
      " * branch            master     -> FETCH_HEAD\n",
      " * [new branch]      master     -> origin/master\n",
      "Everything up-to-date\n"
     ]
    },
    {
     "name": "stdout",
     "output_type": "stream",
     "text": [
      "Repository SW00476 already exists.\n",
      "Already up to date.\n",
      "On branch master\n",
      "nothing to commit, working tree clean\n"
     ]
    },
    {
     "name": "stderr",
     "output_type": "stream",
     "text": [
      "From https://github.com/MonlamAI/SW00476\n",
      " * branch            master     -> FETCH_HEAD\n",
      " * [new branch]      master     -> origin/master\n",
      "Everything up-to-date\n"
     ]
    },
    {
     "name": "stdout",
     "output_type": "stream",
     "text": [
      "Repository SW00460 already exists.\n",
      "Already up to date.\n",
      "On branch master\n",
      "nothing to commit, working tree clean\n"
     ]
    },
    {
     "name": "stderr",
     "output_type": "stream",
     "text": [
      "From https://github.com/MonlamAI/SW00460\n",
      " * branch            master     -> FETCH_HEAD\n",
      " * [new branch]      master     -> origin/master\n",
      "Everything up-to-date\n"
     ]
    },
    {
     "name": "stdout",
     "output_type": "stream",
     "text": [
      "Repository SW00037 already exists.\n",
      "Already up to date.\n",
      "On branch master\n",
      "nothing to commit, working tree clean\n"
     ]
    },
    {
     "name": "stderr",
     "output_type": "stream",
     "text": [
      "From https://github.com/MonlamAI/SW00037\n",
      " * branch            master     -> FETCH_HEAD\n",
      " * [new branch]      master     -> origin/master\n",
      "Everything up-to-date\n"
     ]
    },
    {
     "name": "stdout",
     "output_type": "stream",
     "text": [
      "Repository SW00612 already exists.\n",
      "Already up to date.\n",
      "On branch master\n",
      "nothing to commit, working tree clean\n"
     ]
    },
    {
     "name": "stderr",
     "output_type": "stream",
     "text": [
      "From https://github.com/MonlamAI/SW00612\n",
      " * branch            master     -> FETCH_HEAD\n",
      " * [new branch]      master     -> origin/master\n",
      "Everything up-to-date\n"
     ]
    },
    {
     "name": "stdout",
     "output_type": "stream",
     "text": [
      "Repository SW00250 already exists.\n",
      "Already up to date.\n",
      "On branch master\n",
      "nothing to commit, working tree clean\n"
     ]
    },
    {
     "name": "stderr",
     "output_type": "stream",
     "text": [
      "From https://github.com/MonlamAI/SW00250\n",
      " * branch            master     -> FETCH_HEAD\n",
      " * [new branch]      master     -> origin/master\n",
      "Everything up-to-date\n"
     ]
    },
    {
     "name": "stdout",
     "output_type": "stream",
     "text": [
      "Repository SW00335 already exists.\n",
      "Already up to date.\n",
      "On branch master\n",
      "nothing to commit, working tree clean\n"
     ]
    },
    {
     "name": "stderr",
     "output_type": "stream",
     "text": [
      "From https://github.com/MonlamAI/SW00335\n",
      " * branch            master     -> FETCH_HEAD\n",
      " * [new branch]      master     -> origin/master\n",
      "Everything up-to-date\n"
     ]
    },
    {
     "name": "stdout",
     "output_type": "stream",
     "text": [
      "Repository SW00084 already exists.\n",
      "Already up to date.\n",
      "On branch master\n",
      "nothing to commit, working tree clean\n"
     ]
    },
    {
     "name": "stderr",
     "output_type": "stream",
     "text": [
      "From https://github.com/MonlamAI/SW00084\n",
      " * branch            master     -> FETCH_HEAD\n",
      " * [new branch]      master     -> origin/master\n",
      "Everything up-to-date\n"
     ]
    },
    {
     "name": "stdout",
     "output_type": "stream",
     "text": [
      "Repository SW00171 already exists.\n",
      "Already up to date.\n",
      "On branch master\n",
      "nothing to commit, working tree clean\n"
     ]
    },
    {
     "name": "stderr",
     "output_type": "stream",
     "text": [
      "From https://github.com/MonlamAI/SW00171\n",
      " * branch            master     -> FETCH_HEAD\n",
      " * [new branch]      master     -> origin/master\n",
      "Everything up-to-date\n"
     ]
    },
    {
     "name": "stdout",
     "output_type": "stream",
     "text": [
      "Repository SW00371 already exists.\n",
      "Already up to date.\n",
      "On branch master\n",
      "nothing to commit, working tree clean\n"
     ]
    },
    {
     "name": "stderr",
     "output_type": "stream",
     "text": [
      "From https://github.com/MonlamAI/SW00371\n",
      " * branch            master     -> FETCH_HEAD\n",
      " * [new branch]      master     -> origin/master\n",
      "Everything up-to-date\n"
     ]
    },
    {
     "name": "stdout",
     "output_type": "stream",
     "text": [
      "Repository SW00148 already exists.\n",
      "Already up to date.\n",
      "On branch master\n",
      "nothing to commit, working tree clean\n"
     ]
    },
    {
     "name": "stderr",
     "output_type": "stream",
     "text": [
      "From https://github.com/MonlamAI/SW00148\n",
      " * branch            master     -> FETCH_HEAD\n",
      " * [new branch]      master     -> origin/master\n",
      "Everything up-to-date\n"
     ]
    },
    {
     "name": "stdout",
     "output_type": "stream",
     "text": [
      "Repository SW00030 already exists.\n",
      "Already up to date.\n",
      "On branch master\n",
      "nothing to commit, working tree clean\n"
     ]
    },
    {
     "name": "stderr",
     "output_type": "stream",
     "text": [
      "From https://github.com/MonlamAI/SW00030\n",
      " * branch            master     -> FETCH_HEAD\n",
      " * [new branch]      master     -> origin/master\n",
      "Everything up-to-date\n"
     ]
    },
    {
     "name": "stdout",
     "output_type": "stream",
     "text": [
      "Repository SW00838 already exists.\n",
      "Already up to date.\n",
      "On branch master\n",
      "nothing to commit, working tree clean\n"
     ]
    },
    {
     "name": "stderr",
     "output_type": "stream",
     "text": [
      "From https://github.com/MonlamAI/SW00838\n",
      " * branch            master     -> FETCH_HEAD\n",
      " * [new branch]      master     -> origin/master\n",
      "Everything up-to-date\n"
     ]
    },
    {
     "name": "stdout",
     "output_type": "stream",
     "text": [
      "Repository SW00963 already exists.\n",
      "Already up to date.\n",
      "On branch master\n",
      "nothing to commit, working tree clean\n"
     ]
    },
    {
     "name": "stderr",
     "output_type": "stream",
     "text": [
      "From https://github.com/MonlamAI/SW00963\n",
      " * branch            master     -> FETCH_HEAD\n",
      " * [new branch]      master     -> origin/master\n",
      "Everything up-to-date\n"
     ]
    },
    {
     "name": "stdout",
     "output_type": "stream",
     "text": [
      "Repository SW00034 already exists.\n",
      "Already up to date.\n",
      "On branch master\n",
      "nothing to commit, working tree clean\n"
     ]
    },
    {
     "name": "stderr",
     "output_type": "stream",
     "text": [
      "From https://github.com/MonlamAI/SW00034\n",
      " * branch            master     -> FETCH_HEAD\n",
      " * [new branch]      master     -> origin/master\n",
      "Everything up-to-date\n"
     ]
    },
    {
     "name": "stdout",
     "output_type": "stream",
     "text": [
      "Repository SW00674 already exists.\n"
     ]
    },
    {
     "name": "stderr",
     "output_type": "stream",
     "text": [
      "From https://github.com/MonlamAI/SW00674\n",
      " * branch            master     -> FETCH_HEAD\n",
      " * [new branch]      master     -> origin/master\n"
     ]
    },
    {
     "name": "stdout",
     "output_type": "stream",
     "text": [
      "Already up to date.\n",
      "On branch master\n",
      "nothing to commit, working tree clean\n"
     ]
    },
    {
     "name": "stderr",
     "output_type": "stream",
     "text": [
      "Everything up-to-date\n"
     ]
    },
    {
     "name": "stdout",
     "output_type": "stream",
     "text": [
      "Repository SW00496 already exists.\n",
      "Already up to date.\n"
     ]
    },
    {
     "name": "stderr",
     "output_type": "stream",
     "text": [
      "From https://github.com/MonlamAI/SW00496\n",
      " * branch            master     -> FETCH_HEAD\n",
      " * [new branch]      master     -> origin/master\n",
      "Everything up-to-date\n"
     ]
    },
    {
     "name": "stdout",
     "output_type": "stream",
     "text": [
      "On branch master\n",
      "nothing to commit, working tree clean\n",
      "Repository SW00484 already exists.\n",
      "Already up to date.\n",
      "On branch master\n",
      "nothing to commit, working tree clean\n"
     ]
    },
    {
     "name": "stderr",
     "output_type": "stream",
     "text": [
      "From https://github.com/MonlamAI/SW00484\n",
      " * branch            master     -> FETCH_HEAD\n",
      " * [new branch]      master     -> origin/master\n",
      "Everything up-to-date\n"
     ]
    },
    {
     "name": "stdout",
     "output_type": "stream",
     "text": [
      "Repository SW00617 already exists.\n",
      "Already up to date.\n",
      "On branch master\n",
      "nothing to commit, working tree clean\n"
     ]
    },
    {
     "name": "stderr",
     "output_type": "stream",
     "text": [
      "From https://github.com/MonlamAI/SW00617\n",
      " * branch            master     -> FETCH_HEAD\n",
      " * [new branch]      master     -> origin/master\n",
      "Everything up-to-date\n"
     ]
    },
    {
     "name": "stdout",
     "output_type": "stream",
     "text": [
      "Repository SW00475 already exists.\n",
      "Already up to date.\n",
      "On branch master\n",
      "nothing to commit, working tree clean\n"
     ]
    },
    {
     "name": "stderr",
     "output_type": "stream",
     "text": [
      "From https://github.com/MonlamAI/SW00475\n",
      " * branch            master     -> FETCH_HEAD\n",
      " * [new branch]      master     -> origin/master\n",
      "Everything up-to-date\n"
     ]
    },
    {
     "name": "stdout",
     "output_type": "stream",
     "text": [
      "Repository SW00935 already exists.\n",
      "Already up to date.\n",
      "On branch master\n",
      "nothing to commit, working tree clean\n"
     ]
    },
    {
     "name": "stderr",
     "output_type": "stream",
     "text": [
      "From https://github.com/MonlamAI/SW00935\n",
      " * branch            master     -> FETCH_HEAD\n",
      " * [new branch]      master     -> origin/master\n",
      "Everything up-to-date\n"
     ]
    },
    {
     "name": "stdout",
     "output_type": "stream",
     "text": [
      "Repository SW00416 already exists.\n",
      "Already up to date.\n",
      "On branch master\n",
      "nothing to commit, working tree clean\n"
     ]
    },
    {
     "name": "stderr",
     "output_type": "stream",
     "text": [
      "From https://github.com/MonlamAI/SW00416\n",
      " * branch            master     -> FETCH_HEAD\n",
      " * [new branch]      master     -> origin/master\n",
      "Everything up-to-date\n"
     ]
    },
    {
     "name": "stdout",
     "output_type": "stream",
     "text": [
      "Repository SW00467 already exists.\n",
      "Already up to date.\n",
      "On branch master\n",
      "nothing to commit, working tree clean\n"
     ]
    },
    {
     "name": "stderr",
     "output_type": "stream",
     "text": [
      "From https://github.com/MonlamAI/SW00467\n",
      " * branch            master     -> FETCH_HEAD\n",
      " * [new branch]      master     -> origin/master\n",
      "Everything up-to-date\n"
     ]
    },
    {
     "name": "stdout",
     "output_type": "stream",
     "text": [
      "Repository SW00035 already exists.\n",
      "Already up to date.\n",
      "On branch master\n",
      "nothing to commit, working tree clean\n"
     ]
    },
    {
     "name": "stderr",
     "output_type": "stream",
     "text": [
      "From https://github.com/MonlamAI/SW00035\n",
      " * branch            master     -> FETCH_HEAD\n",
      " * [new branch]      master     -> origin/master\n",
      "Everything up-to-date\n"
     ]
    },
    {
     "name": "stdout",
     "output_type": "stream",
     "text": [
      "Repository SW00713 already exists.\n",
      "Already up to date.\n",
      "On branch master\n",
      "nothing to commit, working tree clean\n"
     ]
    },
    {
     "name": "stderr",
     "output_type": "stream",
     "text": [
      "From https://github.com/MonlamAI/SW00713\n",
      " * branch            master     -> FETCH_HEAD\n",
      " * [new branch]      master     -> origin/master\n",
      "Everything up-to-date\n"
     ]
    },
    {
     "name": "stdout",
     "output_type": "stream",
     "text": [
      "Repository SW00345 already exists.\n"
     ]
    },
    {
     "name": "stderr",
     "output_type": "stream",
     "text": [
      "From https://github.com/MonlamAI/SW00345\n",
      " * branch            master     -> FETCH_HEAD\n",
      " * [new branch]      master     -> origin/master\n",
      "Everything up-to-date\n"
     ]
    },
    {
     "name": "stdout",
     "output_type": "stream",
     "text": [
      "Already up to date.\n",
      "On branch master\n",
      "nothing to commit, working tree clean\n",
      "Repository SW00038 already exists.\n",
      "Already up to date.\n",
      "On branch master\n",
      "nothing to commit, working tree clean\n"
     ]
    },
    {
     "name": "stderr",
     "output_type": "stream",
     "text": [
      "From https://github.com/MonlamAI/SW00038\n",
      " * branch            master     -> FETCH_HEAD\n",
      " * [new branch]      master     -> origin/master\n",
      "Everything up-to-date\n"
     ]
    },
    {
     "name": "stdout",
     "output_type": "stream",
     "text": [
      "Repository SW00334 already exists.\n",
      "Already up to date.\n",
      "On branch master\n",
      "nothing to commit, working tree clean\n"
     ]
    },
    {
     "name": "stderr",
     "output_type": "stream",
     "text": [
      "From https://github.com/MonlamAI/SW00334\n",
      " * branch            master     -> FETCH_HEAD\n",
      " * [new branch]      master     -> origin/master\n",
      "Everything up-to-date\n"
     ]
    },
    {
     "name": "stdout",
     "output_type": "stream",
     "text": [
      "Repository SW00817 already exists.\n",
      "Already up to date.\n"
     ]
    },
    {
     "name": "stderr",
     "output_type": "stream",
     "text": [
      "From https://github.com/MonlamAI/SW00817\n",
      " * branch            master     -> FETCH_HEAD\n",
      " * [new branch]      master     -> origin/master\n"
     ]
    },
    {
     "name": "stdout",
     "output_type": "stream",
     "text": [
      "On branch master\n",
      "nothing to commit, working tree clean\n"
     ]
    },
    {
     "name": "stderr",
     "output_type": "stream",
     "text": [
      "Everything up-to-date\n"
     ]
    },
    {
     "name": "stdout",
     "output_type": "stream",
     "text": [
      "Repository SW00380 already exists.\n",
      "Already up to date.\n",
      "On branch master\n",
      "nothing to commit, working tree clean\n"
     ]
    },
    {
     "name": "stderr",
     "output_type": "stream",
     "text": [
      "From https://github.com/MonlamAI/SW00380\n",
      " * branch            master     -> FETCH_HEAD\n",
      " * [new branch]      master     -> origin/master\n",
      "Everything up-to-date\n"
     ]
    },
    {
     "name": "stdout",
     "output_type": "stream",
     "text": [
      "Repository SW00240 already exists.\n",
      "Already up to date.\n",
      "On branch master\n",
      "nothing to commit, working tree clean\n"
     ]
    },
    {
     "name": "stderr",
     "output_type": "stream",
     "text": [
      "From https://github.com/MonlamAI/SW00240\n",
      " * branch            master     -> FETCH_HEAD\n",
      " * [new branch]      master     -> origin/master\n",
      "Everything up-to-date\n"
     ]
    },
    {
     "name": "stdout",
     "output_type": "stream",
     "text": [
      "Repository SW00796 already exists.\n",
      "Already up to date.\n",
      "On branch master\n",
      "nothing to commit, working tree clean\n"
     ]
    },
    {
     "name": "stderr",
     "output_type": "stream",
     "text": [
      "From https://github.com/MonlamAI/SW00796\n",
      " * branch            master     -> FETCH_HEAD\n",
      " * [new branch]      master     -> origin/master\n",
      "Everything up-to-date\n"
     ]
    },
    {
     "name": "stdout",
     "output_type": "stream",
     "text": [
      "Repository SW00566 already exists.\n",
      "Already up to date.\n",
      "On branch master\n",
      "nothing to commit, working tree clean\n"
     ]
    },
    {
     "name": "stderr",
     "output_type": "stream",
     "text": [
      "From https://github.com/MonlamAI/SW00566\n",
      " * branch            master     -> FETCH_HEAD\n",
      " * [new branch]      master     -> origin/master\n",
      "Everything up-to-date\n"
     ]
    },
    {
     "name": "stdout",
     "output_type": "stream",
     "text": [
      "Repository SW00174 already exists.\n",
      "Already up to date.\n",
      "On branch master\n",
      "nothing to commit, working tree clean\n"
     ]
    },
    {
     "name": "stderr",
     "output_type": "stream",
     "text": [
      "From https://github.com/MonlamAI/SW00174\n",
      " * branch            master     -> FETCH_HEAD\n",
      " * [new branch]      master     -> origin/master\n",
      "Everything up-to-date\n"
     ]
    },
    {
     "name": "stdout",
     "output_type": "stream",
     "text": [
      "Repository SW00010 already exists.\n",
      "Already up to date.\n",
      "On branch master\n",
      "nothing to commit, working tree clean\n"
     ]
    },
    {
     "name": "stderr",
     "output_type": "stream",
     "text": [
      "From https://github.com/MonlamAI/SW00010\n",
      " * branch            master     -> FETCH_HEAD\n",
      " * [new branch]      master     -> origin/master\n",
      "Everything up-to-date\n"
     ]
    },
    {
     "name": "stdout",
     "output_type": "stream",
     "text": [
      "Repository SW00058 already exists.\n",
      "Already up to date.\n"
     ]
    },
    {
     "name": "stderr",
     "output_type": "stream",
     "text": [
      "From https://github.com/MonlamAI/SW00058\n",
      " * branch            master     -> FETCH_HEAD\n",
      " * [new branch]      master     -> origin/master\n"
     ]
    },
    {
     "name": "stdout",
     "output_type": "stream",
     "text": [
      "On branch master\n",
      "nothing to commit, working tree clean\n"
     ]
    },
    {
     "name": "stderr",
     "output_type": "stream",
     "text": [
      "Everything up-to-date\n"
     ]
    },
    {
     "name": "stdout",
     "output_type": "stream",
     "text": [
      "Repository SW00843 already exists.\n",
      "Already up to date.\n",
      "On branch master\n",
      "nothing to commit, working tree clean\n"
     ]
    },
    {
     "name": "stderr",
     "output_type": "stream",
     "text": [
      "From https://github.com/MonlamAI/SW00843\n",
      " * branch            master     -> FETCH_HEAD\n",
      " * [new branch]      master     -> origin/master\n",
      "Everything up-to-date\n"
     ]
    },
    {
     "name": "stdout",
     "output_type": "stream",
     "text": [
      "Repository SW00194 already exists.\n",
      "Already up to date.\n",
      "On branch master\n",
      "nothing to commit, working tree clean\n"
     ]
    },
    {
     "name": "stderr",
     "output_type": "stream",
     "text": [
      "From https://github.com/MonlamAI/SW00194\n",
      " * branch            master     -> FETCH_HEAD\n",
      " * [new branch]      master     -> origin/master\n",
      "Everything up-to-date\n"
     ]
    },
    {
     "name": "stdout",
     "output_type": "stream",
     "text": [
      "Repository SW00473 already exists.\n"
     ]
    },
    {
     "name": "stderr",
     "output_type": "stream",
     "text": [
      "From https://github.com/MonlamAI/SW00473\n",
      " * branch            master     -> FETCH_HEAD\n",
      " * [new branch]      master     -> origin/master\n",
      "Everything up-to-date\n"
     ]
    },
    {
     "name": "stdout",
     "output_type": "stream",
     "text": [
      "Already up to date.\n",
      "On branch master\n",
      "nothing to commit, working tree clean\n",
      "Repository SW00191 already exists.\n",
      "Already up to date.\n",
      "On branch master\n",
      "nothing to commit, working tree clean\n"
     ]
    },
    {
     "name": "stderr",
     "output_type": "stream",
     "text": [
      "From https://github.com/MonlamAI/SW00191\n",
      " * branch            master     -> FETCH_HEAD\n",
      " * [new branch]      master     -> origin/master\n",
      "Everything up-to-date\n"
     ]
    },
    {
     "name": "stdout",
     "output_type": "stream",
     "text": [
      "Repository SW00365 already exists.\n",
      "Already up to date.\n",
      "On branch master\n",
      "nothing to commit, working tree clean\n"
     ]
    },
    {
     "name": "stderr",
     "output_type": "stream",
     "text": [
      "From https://github.com/MonlamAI/SW00365\n",
      " * branch            master     -> FETCH_HEAD\n",
      " * [new branch]      master     -> origin/master\n",
      "Everything up-to-date\n"
     ]
    },
    {
     "name": "stdout",
     "output_type": "stream",
     "text": [
      "Repository SW00494 already exists.\n",
      "Already up to date.\n",
      "On branch master\n",
      "nothing to commit, working tree clean\n"
     ]
    },
    {
     "name": "stderr",
     "output_type": "stream",
     "text": [
      "From https://github.com/MonlamAI/SW00494\n",
      " * branch            master     -> FETCH_HEAD\n",
      " * [new branch]      master     -> origin/master\n",
      "Everything up-to-date\n"
     ]
    },
    {
     "name": "stdout",
     "output_type": "stream",
     "text": [
      "Repository SW00288 already exists.\n",
      "Already up to date.\n",
      "On branch master\n",
      "nothing to commit, working tree clean\n"
     ]
    },
    {
     "name": "stderr",
     "output_type": "stream",
     "text": [
      "From https://github.com/MonlamAI/SW00288\n",
      " * branch            master     -> FETCH_HEAD\n",
      " * [new branch]      master     -> origin/master\n",
      "Everything up-to-date\n"
     ]
    },
    {
     "name": "stdout",
     "output_type": "stream",
     "text": [
      "Repository SW00059 already exists.\n",
      "Already up to date.\n",
      "On branch master\n",
      "nothing to commit, working tree clean\n"
     ]
    },
    {
     "name": "stderr",
     "output_type": "stream",
     "text": [
      "From https://github.com/MonlamAI/SW00059\n",
      " * branch            master     -> FETCH_HEAD\n",
      " * [new branch]      master     -> origin/master\n",
      "Everything up-to-date\n"
     ]
    },
    {
     "name": "stdout",
     "output_type": "stream",
     "text": [
      "Repository SW00848 already exists.\n",
      "Already up to date.\n",
      "On branch master\n",
      "nothing to commit, working tree clean\n"
     ]
    },
    {
     "name": "stderr",
     "output_type": "stream",
     "text": [
      "From https://github.com/MonlamAI/SW00848\n",
      " * branch            master     -> FETCH_HEAD\n",
      " * [new branch]      master     -> origin/master\n",
      "Everything up-to-date\n"
     ]
    },
    {
     "name": "stdout",
     "output_type": "stream",
     "text": [
      "Repository SW00451 already exists.\n",
      "Already up to date.\n",
      "On branch master\n",
      "nothing to commit, working tree clean\n"
     ]
    },
    {
     "name": "stderr",
     "output_type": "stream",
     "text": [
      "From https://github.com/MonlamAI/SW00451\n",
      " * branch            master     -> FETCH_HEAD\n",
      " * [new branch]      master     -> origin/master\n",
      "Everything up-to-date\n"
     ]
    },
    {
     "name": "stdout",
     "output_type": "stream",
     "text": [
      "Repository SW00533 already exists.\n",
      "Already up to date.\n",
      "On branch master\n",
      "nothing to commit, working tree clean\n"
     ]
    },
    {
     "name": "stderr",
     "output_type": "stream",
     "text": [
      "From https://github.com/MonlamAI/SW00533\n",
      " * branch            master     -> FETCH_HEAD\n",
      " * [new branch]      master     -> origin/master\n",
      "Everything up-to-date\n"
     ]
    },
    {
     "name": "stdout",
     "output_type": "stream",
     "text": [
      "Repository SW00754 already exists.\n",
      "Already up to date.\n",
      "On branch master\n",
      "nothing to commit, working tree clean\n"
     ]
    },
    {
     "name": "stderr",
     "output_type": "stream",
     "text": [
      "From https://github.com/MonlamAI/SW00754\n",
      " * branch            master     -> FETCH_HEAD\n",
      " * [new branch]      master     -> origin/master\n",
      "Everything up-to-date\n"
     ]
    },
    {
     "name": "stdout",
     "output_type": "stream",
     "text": [
      "Repository SW00104 already exists.\n"
     ]
    },
    {
     "name": "stderr",
     "output_type": "stream",
     "text": [
      "From https://github.com/MonlamAI/SW00104\n",
      " * branch            master     -> FETCH_HEAD\n",
      " * [new branch]      master     -> origin/master\n",
      "Everything up-to-date\n"
     ]
    },
    {
     "name": "stdout",
     "output_type": "stream",
     "text": [
      "Already up to date.\n",
      "On branch master\n",
      "nothing to commit, working tree clean\n",
      "Repository SW00358 already exists.\n",
      "Already up to date.\n",
      "On branch master\n",
      "nothing to commit, working tree clean\n"
     ]
    },
    {
     "name": "stderr",
     "output_type": "stream",
     "text": [
      "From https://github.com/MonlamAI/SW00358\n",
      " * branch            master     -> FETCH_HEAD\n",
      " * [new branch]      master     -> origin/master\n",
      "Everything up-to-date\n"
     ]
    },
    {
     "name": "stdout",
     "output_type": "stream",
     "text": [
      "Repository SW00397 already exists.\n",
      "Already up to date.\n",
      "On branch master\n",
      "nothing to commit, working tree clean\n"
     ]
    },
    {
     "name": "stderr",
     "output_type": "stream",
     "text": [
      "From https://github.com/MonlamAI/SW00397\n",
      " * branch            master     -> FETCH_HEAD\n",
      " * [new branch]      master     -> origin/master\n",
      "Everything up-to-date\n"
     ]
    },
    {
     "name": "stdout",
     "output_type": "stream",
     "text": [
      "Repository SW00904 already exists.\n"
     ]
    },
    {
     "name": "stderr",
     "output_type": "stream",
     "text": [
      "From https://github.com/MonlamAI/SW00904\n",
      " * branch            master     -> FETCH_HEAD\n",
      " * [new branch]      master     -> origin/master\n"
     ]
    },
    {
     "name": "stdout",
     "output_type": "stream",
     "text": [
      "Already up to date.\n",
      "On branch master\n",
      "nothing to commit, working tree clean\n"
     ]
    },
    {
     "name": "stderr",
     "output_type": "stream",
     "text": [
      "Everything up-to-date\n"
     ]
    },
    {
     "name": "stdout",
     "output_type": "stream",
     "text": [
      "Repository SW00063 already exists.\n",
      "Already up to date.\n",
      "On branch master\n",
      "nothing to commit, working tree clean\n"
     ]
    },
    {
     "name": "stderr",
     "output_type": "stream",
     "text": [
      "From https://github.com/MonlamAI/SW00063\n",
      " * branch            master     -> FETCH_HEAD\n",
      " * [new branch]      master     -> origin/master\n",
      "Everything up-to-date\n"
     ]
    },
    {
     "name": "stdout",
     "output_type": "stream",
     "text": [
      "Repository SW00482 already exists.\n",
      "Already up to date.\n",
      "On branch master\n",
      "nothing to commit, working tree clean\n"
     ]
    },
    {
     "name": "stderr",
     "output_type": "stream",
     "text": [
      "From https://github.com/MonlamAI/SW00482\n",
      " * branch            master     -> FETCH_HEAD\n",
      " * [new branch]      master     -> origin/master\n",
      "Everything up-to-date\n"
     ]
    },
    {
     "name": "stdout",
     "output_type": "stream",
     "text": [
      "Repository SW00959 already exists.\n",
      "Already up to date.\n",
      "On branch master\n",
      "nothing to commit, working tree clean\n"
     ]
    },
    {
     "name": "stderr",
     "output_type": "stream",
     "text": [
      "From https://github.com/MonlamAI/SW00959\n",
      " * branch            master     -> FETCH_HEAD\n",
      " * [new branch]      master     -> origin/master\n",
      "Everything up-to-date\n"
     ]
    },
    {
     "name": "stdout",
     "output_type": "stream",
     "text": [
      "Repository SW00885 already exists.\n",
      "Already up to date.\n",
      "On branch master\n",
      "nothing to commit, working tree clean\n"
     ]
    },
    {
     "name": "stderr",
     "output_type": "stream",
     "text": [
      "From https://github.com/MonlamAI/SW00885\n",
      " * branch            master     -> FETCH_HEAD\n",
      " * [new branch]      master     -> origin/master\n",
      "Everything up-to-date\n"
     ]
    },
    {
     "name": "stdout",
     "output_type": "stream",
     "text": [
      "Repository SW00916 already exists.\n",
      "Already up to date.\n",
      "On branch master\n",
      "nothing to commit, working tree clean\n"
     ]
    },
    {
     "name": "stderr",
     "output_type": "stream",
     "text": [
      "From https://github.com/MonlamAI/SW00916\n",
      " * branch            master     -> FETCH_HEAD\n",
      " * [new branch]      master     -> origin/master\n",
      "Everything up-to-date\n"
     ]
    },
    {
     "name": "stdout",
     "output_type": "stream",
     "text": [
      "Repository SW00043 already exists.\n",
      "Already up to date.\n",
      "On branch master\n",
      "nothing to commit, working tree clean\n"
     ]
    },
    {
     "name": "stderr",
     "output_type": "stream",
     "text": [
      "From https://github.com/MonlamAI/SW00043\n",
      " * branch            master     -> FETCH_HEAD\n",
      " * [new branch]      master     -> origin/master\n",
      "Everything up-to-date\n"
     ]
    },
    {
     "name": "stdout",
     "output_type": "stream",
     "text": [
      "Repository SW00673 already exists.\n",
      "Already up to date.\n",
      "On branch master\n",
      "nothing to commit, working tree clean\n"
     ]
    },
    {
     "name": "stderr",
     "output_type": "stream",
     "text": [
      "From https://github.com/MonlamAI/SW00673\n",
      " * branch            master     -> FETCH_HEAD\n",
      " * [new branch]      master     -> origin/master\n",
      "Everything up-to-date\n"
     ]
    },
    {
     "name": "stdout",
     "output_type": "stream",
     "text": [
      "Repository SW00106 already exists.\n",
      "Already up to date.\n",
      "On branch master\n",
      "nothing to commit, working tree clean\n"
     ]
    },
    {
     "name": "stderr",
     "output_type": "stream",
     "text": [
      "From https://github.com/MonlamAI/SW00106\n",
      " * branch            master     -> FETCH_HEAD\n",
      " * [new branch]      master     -> origin/master\n",
      "Everything up-to-date\n"
     ]
    },
    {
     "name": "stdout",
     "output_type": "stream",
     "text": [
      "Repository SW00367 already exists.\n",
      "Already up to date.\n",
      "On branch master\n",
      "nothing to commit, working tree clean\n"
     ]
    },
    {
     "name": "stderr",
     "output_type": "stream",
     "text": [
      "From https://github.com/MonlamAI/SW00367\n",
      " * branch            master     -> FETCH_HEAD\n",
      " * [new branch]      master     -> origin/master\n",
      "Everything up-to-date\n"
     ]
    },
    {
     "name": "stdout",
     "output_type": "stream",
     "text": [
      "Repository SW00466 already exists.\n",
      "Already up to date.\n",
      "On branch master\n",
      "nothing to commit, working tree clean\n"
     ]
    },
    {
     "name": "stderr",
     "output_type": "stream",
     "text": [
      "From https://github.com/MonlamAI/SW00466\n",
      " * branch            master     -> FETCH_HEAD\n",
      " * [new branch]      master     -> origin/master\n",
      "Everything up-to-date\n"
     ]
    },
    {
     "name": "stdout",
     "output_type": "stream",
     "text": [
      "Repository SW00140 already exists.\n",
      "Already up to date.\n",
      "On branch master\n",
      "nothing to commit, working tree clean\n"
     ]
    },
    {
     "name": "stderr",
     "output_type": "stream",
     "text": [
      "From https://github.com/MonlamAI/SW00140\n",
      " * branch            master     -> FETCH_HEAD\n",
      " * [new branch]      master     -> origin/master\n",
      "Everything up-to-date\n"
     ]
    },
    {
     "name": "stdout",
     "output_type": "stream",
     "text": [
      "Repository SW00881 already exists.\n",
      "Already up to date.\n",
      "On branch master\n",
      "nothing to commit, working tree clean\n"
     ]
    },
    {
     "name": "stderr",
     "output_type": "stream",
     "text": [
      "From https://github.com/MonlamAI/SW00881\n",
      " * branch            master     -> FETCH_HEAD\n",
      " * [new branch]      master     -> origin/master\n",
      "Everything up-to-date\n"
     ]
    },
    {
     "name": "stdout",
     "output_type": "stream",
     "text": [
      "Repository SW00321 already exists.\n"
     ]
    },
    {
     "name": "stderr",
     "output_type": "stream",
     "text": [
      "From https://github.com/MonlamAI/SW00321\n",
      " * branch            master     -> FETCH_HEAD\n",
      " * [new branch]      master     -> origin/master\n",
      "Everything up-to-date\n"
     ]
    },
    {
     "name": "stdout",
     "output_type": "stream",
     "text": [
      "Already up to date.\n",
      "On branch master\n",
      "nothing to commit, working tree clean\n",
      "Repository SW00662 already exists.\n",
      "Already up to date.\n",
      "On branch master\n",
      "nothing to commit, working tree clean\n"
     ]
    },
    {
     "name": "stderr",
     "output_type": "stream",
     "text": [
      "From https://github.com/MonlamAI/SW00662\n",
      " * branch            master     -> FETCH_HEAD\n",
      " * [new branch]      master     -> origin/master\n",
      "Everything up-to-date\n"
     ]
    },
    {
     "name": "stdout",
     "output_type": "stream",
     "text": [
      "Repository SW00844 already exists.\n",
      "Already up to date.\n",
      "On branch master\n",
      "nothing to commit, working tree clean\n"
     ]
    },
    {
     "name": "stderr",
     "output_type": "stream",
     "text": [
      "From https://github.com/MonlamAI/SW00844\n",
      " * branch            master     -> FETCH_HEAD\n",
      " * [new branch]      master     -> origin/master\n",
      "Everything up-to-date\n"
     ]
    },
    {
     "name": "stdout",
     "output_type": "stream",
     "text": [
      "Repository SW00744 already exists.\n",
      "Already up to date.\n",
      "On branch master\n",
      "nothing to commit, working tree clean\n"
     ]
    },
    {
     "name": "stderr",
     "output_type": "stream",
     "text": [
      "From https://github.com/MonlamAI/SW00744\n",
      " * branch            master     -> FETCH_HEAD\n",
      " * [new branch]      master     -> origin/master\n",
      "Everything up-to-date\n"
     ]
    },
    {
     "name": "stdout",
     "output_type": "stream",
     "text": [
      "Repository SW00440 already exists.\n",
      "Already up to date.\n",
      "On branch master\n",
      "nothing to commit, working tree clean\n"
     ]
    },
    {
     "name": "stderr",
     "output_type": "stream",
     "text": [
      "From https://github.com/MonlamAI/SW00440\n",
      " * branch            master     -> FETCH_HEAD\n",
      " * [new branch]      master     -> origin/master\n",
      "Everything up-to-date\n"
     ]
    },
    {
     "name": "stdout",
     "output_type": "stream",
     "text": [
      "Repository SW00311 already exists.\n",
      "Already up to date.\n",
      "On branch master\n",
      "nothing to commit, working tree clean\n"
     ]
    },
    {
     "name": "stderr",
     "output_type": "stream",
     "text": [
      "From https://github.com/MonlamAI/SW00311\n",
      " * branch            master     -> FETCH_HEAD\n",
      " * [new branch]      master     -> origin/master\n",
      "Everything up-to-date\n"
     ]
    },
    {
     "name": "stdout",
     "output_type": "stream",
     "text": [
      "Repository SW00154 already exists.\n",
      "Already up to date.\n",
      "On branch master\n",
      "nothing to commit, working tree clean\n"
     ]
    },
    {
     "name": "stderr",
     "output_type": "stream",
     "text": [
      "From https://github.com/MonlamAI/SW00154\n",
      " * branch            master     -> FETCH_HEAD\n",
      " * [new branch]      master     -> origin/master\n",
      "Everything up-to-date\n"
     ]
    },
    {
     "name": "stdout",
     "output_type": "stream",
     "text": [
      "Repository SW00304 already exists.\n",
      "Already up to date.\n",
      "On branch master\n",
      "nothing to commit, working tree clean\n"
     ]
    },
    {
     "name": "stderr",
     "output_type": "stream",
     "text": [
      "From https://github.com/MonlamAI/SW00304\n",
      " * branch            master     -> FETCH_HEAD\n",
      " * [new branch]      master     -> origin/master\n",
      "Everything up-to-date\n"
     ]
    },
    {
     "name": "stdout",
     "output_type": "stream",
     "text": [
      "Repository SW00694 already exists.\n",
      "Already up to date.\n",
      "On branch master\n",
      "nothing to commit, working tree clean\n"
     ]
    },
    {
     "name": "stderr",
     "output_type": "stream",
     "text": [
      "From https://github.com/MonlamAI/SW00694\n",
      " * branch            master     -> FETCH_HEAD\n",
      " * [new branch]      master     -> origin/master\n",
      "Everything up-to-date\n"
     ]
    },
    {
     "name": "stdout",
     "output_type": "stream",
     "text": [
      "Repository SW00387 already exists.\n",
      "Already up to date.\n",
      "On branch master\n",
      "nothing to commit, working tree clean\n"
     ]
    },
    {
     "name": "stderr",
     "output_type": "stream",
     "text": [
      "From https://github.com/MonlamAI/SW00387\n",
      " * branch            master     -> FETCH_HEAD\n",
      " * [new branch]      master     -> origin/master\n",
      "Everything up-to-date\n"
     ]
    },
    {
     "name": "stdout",
     "output_type": "stream",
     "text": [
      "Repository SW00791 already exists.\n",
      "Already up to date.\n",
      "On branch master\n",
      "nothing to commit, working tree clean\n"
     ]
    },
    {
     "name": "stderr",
     "output_type": "stream",
     "text": [
      "From https://github.com/MonlamAI/SW00791\n",
      " * branch            master     -> FETCH_HEAD\n",
      " * [new branch]      master     -> origin/master\n",
      "Everything up-to-date\n"
     ]
    },
    {
     "name": "stdout",
     "output_type": "stream",
     "text": [
      "Repository SW00368 already exists.\n",
      "Already up to date.\n",
      "On branch master\n",
      "nothing to commit, working tree clean\n"
     ]
    },
    {
     "name": "stderr",
     "output_type": "stream",
     "text": [
      "From https://github.com/MonlamAI/SW00368\n",
      " * branch            master     -> FETCH_HEAD\n",
      " * [new branch]      master     -> origin/master\n",
      "Everything up-to-date\n"
     ]
    },
    {
     "name": "stdout",
     "output_type": "stream",
     "text": [
      "Repository SW00528 already exists.\n",
      "Already up to date.\n",
      "On branch master\n",
      "nothing to commit, working tree clean\n"
     ]
    },
    {
     "name": "stderr",
     "output_type": "stream",
     "text": [
      "From https://github.com/MonlamAI/SW00528\n",
      " * branch            master     -> FETCH_HEAD\n",
      " * [new branch]      master     -> origin/master\n",
      "Everything up-to-date\n"
     ]
    },
    {
     "name": "stdout",
     "output_type": "stream",
     "text": [
      "Repository SW00166 already exists.\n",
      "Already up to date.\n",
      "On branch master\n",
      "nothing to commit, working tree clean\n"
     ]
    },
    {
     "name": "stderr",
     "output_type": "stream",
     "text": [
      "From https://github.com/MonlamAI/SW00166\n",
      " * branch            master     -> FETCH_HEAD\n",
      " * [new branch]      master     -> origin/master\n",
      "Everything up-to-date\n"
     ]
    },
    {
     "name": "stdout",
     "output_type": "stream",
     "text": [
      "Repository SW00816 already exists.\n",
      "Already up to date.\n",
      "On branch master\n",
      "nothing to commit, working tree clean\n"
     ]
    },
    {
     "name": "stderr",
     "output_type": "stream",
     "text": [
      "From https://github.com/MonlamAI/SW00816\n",
      " * branch            master     -> FETCH_HEAD\n",
      " * [new branch]      master     -> origin/master\n",
      "Everything up-to-date\n"
     ]
    },
    {
     "name": "stdout",
     "output_type": "stream",
     "text": [
      "Repository SW00948 already exists.\n",
      "Already up to date.\n",
      "On branch master\n",
      "nothing to commit, working tree clean\n"
     ]
    },
    {
     "name": "stderr",
     "output_type": "stream",
     "text": [
      "From https://github.com/MonlamAI/SW00948\n",
      " * branch            master     -> FETCH_HEAD\n",
      " * [new branch]      master     -> origin/master\n",
      "Everything up-to-date\n"
     ]
    },
    {
     "name": "stdout",
     "output_type": "stream",
     "text": [
      "Repository SW00229 already exists.\n",
      "Already up to date.\n",
      "On branch master\n",
      "nothing to commit, working tree clean\n"
     ]
    },
    {
     "name": "stderr",
     "output_type": "stream",
     "text": [
      "From https://github.com/MonlamAI/SW00229\n",
      " * branch            master     -> FETCH_HEAD\n",
      " * [new branch]      master     -> origin/master\n",
      "Everything up-to-date\n"
     ]
    },
    {
     "name": "stdout",
     "output_type": "stream",
     "text": [
      "Repository SW00005 already exists.\n",
      "Already up to date.\n",
      "On branch master\n",
      "nothing to commit, working tree clean\n"
     ]
    },
    {
     "name": "stderr",
     "output_type": "stream",
     "text": [
      "From https://github.com/MonlamAI/SW00005\n",
      " * branch            master     -> FETCH_HEAD\n",
      " * [new branch]      master     -> origin/master\n",
      "Everything up-to-date\n"
     ]
    },
    {
     "name": "stdout",
     "output_type": "stream",
     "text": [
      "Repository SW00277 already exists.\n"
     ]
    },
    {
     "name": "stderr",
     "output_type": "stream",
     "text": [
      "From https://github.com/MonlamAI/SW00277\n",
      " * branch            master     -> FETCH_HEAD\n",
      " * [new branch]      master     -> origin/master\n",
      "Everything up-to-date\n"
     ]
    },
    {
     "name": "stdout",
     "output_type": "stream",
     "text": [
      "Already up to date.\n",
      "On branch master\n",
      "nothing to commit, working tree clean\n",
      "Repository SW00048 already exists.\n",
      "Already up to date.\n",
      "On branch master\n",
      "nothing to commit, working tree clean\n"
     ]
    },
    {
     "name": "stderr",
     "output_type": "stream",
     "text": [
      "From https://github.com/MonlamAI/SW00048\n",
      " * branch            master     -> FETCH_HEAD\n",
      " * [new branch]      master     -> origin/master\n",
      "Everything up-to-date\n"
     ]
    },
    {
     "name": "stdout",
     "output_type": "stream",
     "text": [
      "Repository SW00341 already exists.\n",
      "Already up to date.\n",
      "On branch master\n",
      "nothing to commit, working tree clean\n"
     ]
    },
    {
     "name": "stderr",
     "output_type": "stream",
     "text": [
      "From https://github.com/MonlamAI/SW00341\n",
      " * branch            master     -> FETCH_HEAD\n",
      " * [new branch]      master     -> origin/master\n",
      "Everything up-to-date\n"
     ]
    },
    {
     "name": "stdout",
     "output_type": "stream",
     "text": [
      "Repository SW00767 already exists.\n",
      "Already up to date.\n",
      "On branch master\n",
      "nothing to commit, working tree clean\n"
     ]
    },
    {
     "name": "stderr",
     "output_type": "stream",
     "text": [
      "From https://github.com/MonlamAI/SW00767\n",
      " * branch            master     -> FETCH_HEAD\n",
      " * [new branch]      master     -> origin/master\n",
      "Everything up-to-date\n"
     ]
    },
    {
     "name": "stdout",
     "output_type": "stream",
     "text": [
      "Repository SW00207 already exists.\n",
      "Already up to date.\n",
      "On branch master\n",
      "nothing to commit, working tree clean\n"
     ]
    },
    {
     "name": "stderr",
     "output_type": "stream",
     "text": [
      "From https://github.com/MonlamAI/SW00207\n",
      " * branch            master     -> FETCH_HEAD\n",
      " * [new branch]      master     -> origin/master\n",
      "Everything up-to-date\n"
     ]
    },
    {
     "name": "stdout",
     "output_type": "stream",
     "text": [
      "Repository SW00408 already exists.\n",
      "Already up to date.\n",
      "On branch master\n",
      "nothing to commit, working tree clean\n"
     ]
    },
    {
     "name": "stderr",
     "output_type": "stream",
     "text": [
      "From https://github.com/MonlamAI/SW00408\n",
      " * branch            master     -> FETCH_HEAD\n",
      " * [new branch]      master     -> origin/master\n",
      "Everything up-to-date\n"
     ]
    },
    {
     "name": "stdout",
     "output_type": "stream",
     "text": [
      "Repository SW00450 already exists.\n",
      "Already up to date.\n",
      "On branch master\n",
      "nothing to commit, working tree clean\n"
     ]
    },
    {
     "name": "stderr",
     "output_type": "stream",
     "text": [
      "From https://github.com/MonlamAI/SW00450\n",
      " * branch            master     -> FETCH_HEAD\n",
      " * [new branch]      master     -> origin/master\n",
      "Everything up-to-date\n"
     ]
    },
    {
     "name": "stdout",
     "output_type": "stream",
     "text": [
      "Repository SW00014 already exists.\n"
     ]
    },
    {
     "name": "stderr",
     "output_type": "stream",
     "text": [
      "From https://github.com/MonlamAI/SW00014\n",
      " * branch            master     -> FETCH_HEAD\n",
      " * [new branch]      master     -> origin/master\n",
      "Everything up-to-date\n"
     ]
    },
    {
     "name": "stdout",
     "output_type": "stream",
     "text": [
      "Already up to date.\n",
      "On branch master\n",
      "nothing to commit, working tree clean\n",
      "Repository SW00126 already exists.\n",
      "Already up to date.\n",
      "On branch master\n",
      "nothing to commit, working tree clean\n"
     ]
    },
    {
     "name": "stderr",
     "output_type": "stream",
     "text": [
      "From https://github.com/MonlamAI/SW00126\n",
      " * branch            master     -> FETCH_HEAD\n",
      " * [new branch]      master     -> origin/master\n",
      "Everything up-to-date\n"
     ]
    },
    {
     "name": "stdout",
     "output_type": "stream",
     "text": [
      "Repository SW00023 already exists.\n",
      "Already up to date.\n",
      "On branch master\n",
      "nothing to commit, working tree clean\n"
     ]
    },
    {
     "name": "stderr",
     "output_type": "stream",
     "text": [
      "From https://github.com/MonlamAI/SW00023\n",
      " * branch            master     -> FETCH_HEAD\n",
      " * [new branch]      master     -> origin/master\n",
      "Everything up-to-date\n"
     ]
    },
    {
     "name": "stdout",
     "output_type": "stream",
     "text": [
      "Repository SW00872 already exists.\n",
      "Already up to date.\n",
      "On branch master\n",
      "nothing to commit, working tree clean\n"
     ]
    },
    {
     "name": "stderr",
     "output_type": "stream",
     "text": [
      "From https://github.com/MonlamAI/SW00872\n",
      " * branch            master     -> FETCH_HEAD\n",
      " * [new branch]      master     -> origin/master\n",
      "Everything up-to-date\n"
     ]
    },
    {
     "name": "stdout",
     "output_type": "stream",
     "text": [
      "Repository SW00101 already exists.\n",
      "Already up to date.\n",
      "On branch master\n",
      "nothing to commit, working tree clean\n"
     ]
    },
    {
     "name": "stderr",
     "output_type": "stream",
     "text": [
      "From https://github.com/MonlamAI/SW00101\n",
      " * branch            master     -> FETCH_HEAD\n",
      " * [new branch]      master     -> origin/master\n",
      "Everything up-to-date\n"
     ]
    },
    {
     "name": "stdout",
     "output_type": "stream",
     "text": [
      "Repository SW00377 already exists.\n",
      "Already up to date.\n",
      "On branch master\n",
      "nothing to commit, working tree clean\n"
     ]
    },
    {
     "name": "stderr",
     "output_type": "stream",
     "text": [
      "From https://github.com/MonlamAI/SW00377\n",
      " * branch            master     -> FETCH_HEAD\n",
      " * [new branch]      master     -> origin/master\n",
      "Everything up-to-date\n"
     ]
    },
    {
     "name": "stdout",
     "output_type": "stream",
     "text": [
      "Repository SW00569 already exists.\n",
      "Already up to date.\n",
      "On branch master\n",
      "nothing to commit, working tree clean\n"
     ]
    },
    {
     "name": "stderr",
     "output_type": "stream",
     "text": [
      "From https://github.com/MonlamAI/SW00569\n",
      " * branch            master     -> FETCH_HEAD\n",
      " * [new branch]      master     -> origin/master\n",
      "Everything up-to-date\n"
     ]
    },
    {
     "name": "stdout",
     "output_type": "stream",
     "text": [
      "Repository SW00268 already exists.\n",
      "Already up to date.\n",
      "On branch master\n",
      "nothing to commit, working tree clean\n"
     ]
    },
    {
     "name": "stderr",
     "output_type": "stream",
     "text": [
      "From https://github.com/MonlamAI/SW00268\n",
      " * branch            master     -> FETCH_HEAD\n",
      " * [new branch]      master     -> origin/master\n",
      "Everything up-to-date\n"
     ]
    },
    {
     "name": "stdout",
     "output_type": "stream",
     "text": [
      "Repository SW00544 already exists.\n",
      "Already up to date.\n",
      "On branch master\n",
      "nothing to commit, working tree clean\n"
     ]
    },
    {
     "name": "stderr",
     "output_type": "stream",
     "text": [
      "From https://github.com/MonlamAI/SW00544\n",
      " * branch            master     -> FETCH_HEAD\n",
      " * [new branch]      master     -> origin/master\n",
      "Everything up-to-date\n"
     ]
    },
    {
     "name": "stdout",
     "output_type": "stream",
     "text": [
      "Repository SW00062 already exists.\n",
      "Already up to date.\n",
      "On branch master\n",
      "nothing to commit, working tree clean\n"
     ]
    },
    {
     "name": "stderr",
     "output_type": "stream",
     "text": [
      "From https://github.com/MonlamAI/SW00062\n",
      " * branch            master     -> FETCH_HEAD\n",
      " * [new branch]      master     -> origin/master\n",
      "Everything up-to-date\n"
     ]
    },
    {
     "name": "stdout",
     "output_type": "stream",
     "text": [
      "Repository SW00840 already exists.\n",
      "Already up to date.\n",
      "On branch master\n",
      "nothing to commit, working tree clean\n"
     ]
    },
    {
     "name": "stderr",
     "output_type": "stream",
     "text": [
      "From https://github.com/MonlamAI/SW00840\n",
      " * branch            master     -> FETCH_HEAD\n",
      " * [new branch]      master     -> origin/master\n",
      "Everything up-to-date\n"
     ]
    },
    {
     "name": "stdout",
     "output_type": "stream",
     "text": [
      "Repository SW00218 already exists.\n",
      "Already up to date.\n",
      "On branch master\n",
      "nothing to commit, working tree clean\n"
     ]
    },
    {
     "name": "stderr",
     "output_type": "stream",
     "text": [
      "From https://github.com/MonlamAI/SW00218\n",
      " * branch            master     -> FETCH_HEAD\n",
      " * [new branch]      master     -> origin/master\n",
      "Everything up-to-date\n"
     ]
    },
    {
     "name": "stdout",
     "output_type": "stream",
     "text": [
      "Repository SW00575 already exists.\n",
      "Already up to date.\n",
      "On branch master\n",
      "nothing to commit, working tree clean\n"
     ]
    },
    {
     "name": "stderr",
     "output_type": "stream",
     "text": [
      "From https://github.com/MonlamAI/SW00575\n",
      " * branch            master     -> FETCH_HEAD\n",
      " * [new branch]      master     -> origin/master\n",
      "Everything up-to-date\n"
     ]
    },
    {
     "name": "stdout",
     "output_type": "stream",
     "text": [
      "Repository SW00213 already exists.\n",
      "Already up to date.\n",
      "On branch master\n",
      "nothing to commit, working tree clean\n"
     ]
    },
    {
     "name": "stderr",
     "output_type": "stream",
     "text": [
      "From https://github.com/MonlamAI/SW00213\n",
      " * branch            master     -> FETCH_HEAD\n",
      " * [new branch]      master     -> origin/master\n",
      "Everything up-to-date\n"
     ]
    },
    {
     "name": "stdout",
     "output_type": "stream",
     "text": [
      "Repository SW00022 already exists.\n",
      "Already up to date.\n",
      "On branch master\n",
      "nothing to commit, working tree clean\n"
     ]
    },
    {
     "name": "stderr",
     "output_type": "stream",
     "text": [
      "From https://github.com/MonlamAI/SW00022\n",
      " * branch            master     -> FETCH_HEAD\n",
      " * [new branch]      master     -> origin/master\n",
      "Everything up-to-date\n"
     ]
    },
    {
     "name": "stdout",
     "output_type": "stream",
     "text": [
      "Repository SW00317 already exists.\n",
      "Already up to date.\n",
      "On branch master\n",
      "nothing to commit, working tree clean\n"
     ]
    },
    {
     "name": "stderr",
     "output_type": "stream",
     "text": [
      "From https://github.com/MonlamAI/SW00317\n",
      " * branch            master     -> FETCH_HEAD\n",
      " * [new branch]      master     -> origin/master\n",
      "Everything up-to-date\n"
     ]
    },
    {
     "name": "stdout",
     "output_type": "stream",
     "text": [
      "Repository SW00424 already exists.\n",
      "Already up to date.\n",
      "On branch master\n",
      "nothing to commit, working tree clean\n"
     ]
    },
    {
     "name": "stderr",
     "output_type": "stream",
     "text": [
      "From https://github.com/MonlamAI/SW00424\n",
      " * branch            master     -> FETCH_HEAD\n",
      " * [new branch]      master     -> origin/master\n",
      "Everything up-to-date\n"
     ]
    },
    {
     "name": "stdout",
     "output_type": "stream",
     "text": [
      "Repository SW00080 already exists.\n",
      "Already up to date.\n",
      "On branch master\n",
      "nothing to commit, working tree clean\n"
     ]
    },
    {
     "name": "stderr",
     "output_type": "stream",
     "text": [
      "From https://github.com/MonlamAI/SW00080\n",
      " * branch            master     -> FETCH_HEAD\n",
      " * [new branch]      master     -> origin/master\n",
      "Everything up-to-date\n"
     ]
    },
    {
     "name": "stdout",
     "output_type": "stream",
     "text": [
      "Repository SW00281 already exists.\n",
      "Already up to date.\n",
      "On branch master\n",
      "nothing to commit, working tree clean\n"
     ]
    },
    {
     "name": "stderr",
     "output_type": "stream",
     "text": [
      "From https://github.com/MonlamAI/SW00281\n",
      " * branch            master     -> FETCH_HEAD\n",
      " * [new branch]      master     -> origin/master\n",
      "Everything up-to-date\n"
     ]
    },
    {
     "name": "stdout",
     "output_type": "stream",
     "text": [
      "Repository SW00428 already exists.\n",
      "Already up to date.\n",
      "On branch master\n",
      "nothing to commit, working tree clean\n"
     ]
    },
    {
     "name": "stderr",
     "output_type": "stream",
     "text": [
      "From https://github.com/MonlamAI/SW00428\n",
      " * branch            master     -> FETCH_HEAD\n",
      " * [new branch]      master     -> origin/master\n",
      "Everything up-to-date\n"
     ]
    },
    {
     "name": "stdout",
     "output_type": "stream",
     "text": [
      "Repository SW00723 already exists.\n",
      "Already up to date.\n"
     ]
    },
    {
     "name": "stderr",
     "output_type": "stream",
     "text": [
      "From https://github.com/MonlamAI/SW00723\n",
      " * branch            master     -> FETCH_HEAD\n",
      " * [new branch]      master     -> origin/master\n"
     ]
    },
    {
     "name": "stdout",
     "output_type": "stream",
     "text": [
      "On branch master\n",
      "nothing to commit, working tree clean\n"
     ]
    },
    {
     "name": "stderr",
     "output_type": "stream",
     "text": [
      "Everything up-to-date\n"
     ]
    },
    {
     "name": "stdout",
     "output_type": "stream",
     "text": [
      "Repository SW00444 already exists.\n",
      "Already up to date.\n",
      "On branch master\n",
      "nothing to commit, working tree clean\n"
     ]
    },
    {
     "name": "stderr",
     "output_type": "stream",
     "text": [
      "From https://github.com/MonlamAI/SW00444\n",
      " * branch            master     -> FETCH_HEAD\n",
      " * [new branch]      master     -> origin/master\n",
      "Everything up-to-date\n"
     ]
    },
    {
     "name": "stdout",
     "output_type": "stream",
     "text": [
      "Repository SW00560 already exists.\n",
      "Already up to date.\n",
      "On branch master\n",
      "nothing to commit, working tree clean\n"
     ]
    },
    {
     "name": "stderr",
     "output_type": "stream",
     "text": [
      "From https://github.com/MonlamAI/SW00560\n",
      " * branch            master     -> FETCH_HEAD\n",
      " * [new branch]      master     -> origin/master\n",
      "Everything up-to-date\n"
     ]
    },
    {
     "name": "stdout",
     "output_type": "stream",
     "text": [
      "Repository SW00788 already exists.\n",
      "Already up to date.\n",
      "On branch master\n",
      "nothing to commit, working tree clean\n"
     ]
    },
    {
     "name": "stderr",
     "output_type": "stream",
     "text": [
      "From https://github.com/MonlamAI/SW00788\n",
      " * branch            master     -> FETCH_HEAD\n",
      " * [new branch]      master     -> origin/master\n",
      "Everything up-to-date\n"
     ]
    },
    {
     "name": "stdout",
     "output_type": "stream",
     "text": [
      "Repository SW00707 already exists.\n",
      "Already up to date.\n",
      "On branch master\n",
      "nothing to commit, working tree clean\n"
     ]
    },
    {
     "name": "stderr",
     "output_type": "stream",
     "text": [
      "From https://github.com/MonlamAI/SW00707\n",
      " * branch            master     -> FETCH_HEAD\n",
      " * [new branch]      master     -> origin/master\n",
      "Everything up-to-date\n"
     ]
    },
    {
     "name": "stdout",
     "output_type": "stream",
     "text": [
      "Repository SW00020 already exists.\n",
      "Already up to date.\n",
      "On branch master\n",
      "nothing to commit, working tree clean\n"
     ]
    },
    {
     "name": "stderr",
     "output_type": "stream",
     "text": [
      "From https://github.com/MonlamAI/SW00020\n",
      " * branch            master     -> FETCH_HEAD\n",
      " * [new branch]      master     -> origin/master\n",
      "Everything up-to-date\n"
     ]
    },
    {
     "name": "stdout",
     "output_type": "stream",
     "text": [
      "Repository SW00511 already exists.\n",
      "Already up to date.\n",
      "On branch master\n",
      "nothing to commit, working tree clean\n"
     ]
    },
    {
     "name": "stderr",
     "output_type": "stream",
     "text": [
      "From https://github.com/MonlamAI/SW00511\n",
      " * branch            master     -> FETCH_HEAD\n",
      " * [new branch]      master     -> origin/master\n",
      "Everything up-to-date\n"
     ]
    },
    {
     "name": "stdout",
     "output_type": "stream",
     "text": [
      "Repository SW00483 already exists.\n",
      "Already up to date.\n",
      "On branch master\n",
      "nothing to commit, working tree clean\n"
     ]
    },
    {
     "name": "stderr",
     "output_type": "stream",
     "text": [
      "From https://github.com/MonlamAI/SW00483\n",
      " * branch            master     -> FETCH_HEAD\n",
      " * [new branch]      master     -> origin/master\n",
      "Everything up-to-date\n"
     ]
    },
    {
     "name": "stdout",
     "output_type": "stream",
     "text": [
      "Repository SW00420 already exists.\n",
      "Already up to date.\n",
      "On branch master\n",
      "nothing to commit, working tree clean\n"
     ]
    },
    {
     "name": "stderr",
     "output_type": "stream",
     "text": [
      "From https://github.com/MonlamAI/SW00420\n",
      " * branch            master     -> FETCH_HEAD\n",
      " * [new branch]      master     -> origin/master\n",
      "Everything up-to-date\n"
     ]
    },
    {
     "name": "stdout",
     "output_type": "stream",
     "text": [
      "Repository SW00239 already exists.\n",
      "Already up to date.\n",
      "On branch master\n",
      "nothing to commit, working tree clean\n"
     ]
    },
    {
     "name": "stderr",
     "output_type": "stream",
     "text": [
      "From https://github.com/MonlamAI/SW00239\n",
      " * branch            master     -> FETCH_HEAD\n",
      " * [new branch]      master     -> origin/master\n",
      "Everything up-to-date\n"
     ]
    },
    {
     "name": "stdout",
     "output_type": "stream",
     "text": [
      "Repository SW00538 already exists.\n",
      "Already up to date.\n",
      "On branch master\n",
      "nothing to commit, working tree clean\n"
     ]
    },
    {
     "name": "stderr",
     "output_type": "stream",
     "text": [
      "From https://github.com/MonlamAI/SW00538\n",
      " * branch            master     -> FETCH_HEAD\n",
      " * [new branch]      master     -> origin/master\n",
      "Everything up-to-date\n"
     ]
    },
    {
     "name": "stdout",
     "output_type": "stream",
     "text": [
      "Repository SW00936 already exists.\n",
      "Already up to date.\n",
      "On branch master\n",
      "nothing to commit, working tree clean\n"
     ]
    },
    {
     "name": "stderr",
     "output_type": "stream",
     "text": [
      "From https://github.com/MonlamAI/SW00936\n",
      " * branch            master     -> FETCH_HEAD\n",
      " * [new branch]      master     -> origin/master\n",
      "Everything up-to-date\n"
     ]
    },
    {
     "name": "stdout",
     "output_type": "stream",
     "text": [
      "Repository SW00868 already exists.\n",
      "Already up to date.\n",
      "On branch master\n",
      "nothing to commit, working tree clean\n"
     ]
    },
    {
     "name": "stderr",
     "output_type": "stream",
     "text": [
      "From https://github.com/MonlamAI/SW00868\n",
      " * branch            master     -> FETCH_HEAD\n",
      " * [new branch]      master     -> origin/master\n",
      "Everything up-to-date\n"
     ]
    },
    {
     "name": "stdout",
     "output_type": "stream",
     "text": [
      "Repository SW00547 already exists.\n",
      "Already up to date.\n",
      "On branch master\n",
      "nothing to commit, working tree clean\n"
     ]
    },
    {
     "name": "stderr",
     "output_type": "stream",
     "text": [
      "From https://github.com/MonlamAI/SW00547\n",
      " * branch            master     -> FETCH_HEAD\n",
      " * [new branch]      master     -> origin/master\n",
      "Everything up-to-date\n"
     ]
    },
    {
     "name": "stdout",
     "output_type": "stream",
     "text": [
      "Repository SW00355 already exists.\n",
      "Already up to date.\n",
      "On branch master\n",
      "nothing to commit, working tree clean\n"
     ]
    },
    {
     "name": "stderr",
     "output_type": "stream",
     "text": [
      "From https://github.com/MonlamAI/SW00355\n",
      " * branch            master     -> FETCH_HEAD\n",
      " * [new branch]      master     -> origin/master\n",
      "Everything up-to-date\n"
     ]
    },
    {
     "name": "stdout",
     "output_type": "stream",
     "text": [
      "Repository SW00344 already exists.\n",
      "Already up to date.\n",
      "On branch master\n",
      "nothing to commit, working tree clean\n"
     ]
    },
    {
     "name": "stderr",
     "output_type": "stream",
     "text": [
      "From https://github.com/MonlamAI/SW00344\n",
      " * branch            master     -> FETCH_HEAD\n",
      " * [new branch]      master     -> origin/master\n",
      "Everything up-to-date\n"
     ]
    },
    {
     "name": "stdout",
     "output_type": "stream",
     "text": [
      "Repository SW00578 already exists.\n",
      "Already up to date.\n",
      "On branch master\n",
      "nothing to commit, working tree clean\n"
     ]
    },
    {
     "name": "stderr",
     "output_type": "stream",
     "text": [
      "From https://github.com/MonlamAI/SW00578\n",
      " * branch            master     -> FETCH_HEAD\n",
      " * [new branch]      master     -> origin/master\n",
      "Everything up-to-date\n"
     ]
    },
    {
     "name": "stdout",
     "output_type": "stream",
     "text": [
      "Repository SW00300 already exists.\n",
      "Already up to date.\n",
      "On branch master\n",
      "nothing to commit, working tree clean\n"
     ]
    },
    {
     "name": "stderr",
     "output_type": "stream",
     "text": [
      "From https://github.com/MonlamAI/SW00300\n",
      " * branch            master     -> FETCH_HEAD\n",
      " * [new branch]      master     -> origin/master\n",
      "Everything up-to-date\n"
     ]
    },
    {
     "name": "stdout",
     "output_type": "stream",
     "text": [
      "Repository SW00347 already exists.\n",
      "Already up to date.\n",
      "On branch master\n",
      "nothing to commit, working tree clean\n"
     ]
    },
    {
     "name": "stderr",
     "output_type": "stream",
     "text": [
      "From https://github.com/MonlamAI/SW00347\n",
      " * branch            master     -> FETCH_HEAD\n",
      " * [new branch]      master     -> origin/master\n",
      "Everything up-to-date\n"
     ]
    },
    {
     "name": "stdout",
     "output_type": "stream",
     "text": [
      "Repository SW00248 already exists.\n",
      "Already up to date.\n",
      "On branch master\n",
      "nothing to commit, working tree clean\n"
     ]
    },
    {
     "name": "stderr",
     "output_type": "stream",
     "text": [
      "From https://github.com/MonlamAI/SW00248\n",
      " * branch            master     -> FETCH_HEAD\n",
      " * [new branch]      master     -> origin/master\n",
      "Everything up-to-date\n"
     ]
    },
    {
     "name": "stdout",
     "output_type": "stream",
     "text": [
      "Repository SW00563 already exists.\n",
      "Already up to date.\n",
      "On branch master\n",
      "nothing to commit, working tree clean\n"
     ]
    },
    {
     "name": "stderr",
     "output_type": "stream",
     "text": [
      "From https://github.com/MonlamAI/SW00563\n",
      " * branch            master     -> FETCH_HEAD\n",
      " * [new branch]      master     -> origin/master\n",
      "Everything up-to-date\n"
     ]
    },
    {
     "name": "stdout",
     "output_type": "stream",
     "text": [
      "Repository SW00302 already exists.\n",
      "Already up to date.\n",
      "On branch master\n",
      "nothing to commit, working tree clean\n"
     ]
    },
    {
     "name": "stderr",
     "output_type": "stream",
     "text": [
      "From https://github.com/MonlamAI/SW00302\n",
      " * branch            master     -> FETCH_HEAD\n",
      " * [new branch]      master     -> origin/master\n",
      "Everything up-to-date\n"
     ]
    },
    {
     "name": "stdout",
     "output_type": "stream",
     "text": [
      "Repository SW00514 already exists.\n",
      "Already up to date.\n",
      "On branch master\n",
      "nothing to commit, working tree clean\n"
     ]
    },
    {
     "name": "stderr",
     "output_type": "stream",
     "text": [
      "From https://github.com/MonlamAI/SW00514\n",
      " * branch            master     -> FETCH_HEAD\n",
      " * [new branch]      master     -> origin/master\n",
      "Everything up-to-date\n"
     ]
    },
    {
     "name": "stdout",
     "output_type": "stream",
     "text": [
      "Repository SW00753 already exists.\n",
      "Already up to date.\n",
      "On branch master\n",
      "nothing to commit, working tree clean\n"
     ]
    },
    {
     "name": "stderr",
     "output_type": "stream",
     "text": [
      "From https://github.com/MonlamAI/SW00753\n",
      " * branch            master     -> FETCH_HEAD\n",
      " * [new branch]      master     -> origin/master\n",
      "Everything up-to-date\n"
     ]
    },
    {
     "name": "stdout",
     "output_type": "stream",
     "text": [
      "Repository SW00655 already exists.\n",
      "Already up to date.\n"
     ]
    },
    {
     "name": "stderr",
     "output_type": "stream",
     "text": [
      "From https://github.com/MonlamAI/SW00655\n",
      " * branch            master     -> FETCH_HEAD\n",
      " * [new branch]      master     -> origin/master\n"
     ]
    },
    {
     "name": "stdout",
     "output_type": "stream",
     "text": [
      "On branch master\n",
      "nothing to commit, working tree clean\n"
     ]
    },
    {
     "name": "stderr",
     "output_type": "stream",
     "text": [
      "Everything up-to-date\n"
     ]
    },
    {
     "name": "stdout",
     "output_type": "stream",
     "text": [
      "Repository SW00293 already exists.\n"
     ]
    },
    {
     "name": "stderr",
     "output_type": "stream",
     "text": [
      "From https://github.com/MonlamAI/SW00293\n",
      " * branch            master     -> FETCH_HEAD\n",
      " * [new branch]      master     -> origin/master\n",
      "Everything up-to-date\n"
     ]
    },
    {
     "name": "stdout",
     "output_type": "stream",
     "text": [
      "Already up to date.\n",
      "On branch master\n",
      "nothing to commit, working tree clean\n",
      "Repository SW00217 already exists.\n",
      "Already up to date.\n",
      "On branch master\n",
      "nothing to commit, working tree clean\n"
     ]
    },
    {
     "name": "stderr",
     "output_type": "stream",
     "text": [
      "From https://github.com/MonlamAI/SW00217\n",
      " * branch            master     -> FETCH_HEAD\n",
      " * [new branch]      master     -> origin/master\n",
      "Everything up-to-date\n"
     ]
    },
    {
     "name": "stdout",
     "output_type": "stream",
     "text": [
      "Repository SW00184 already exists.\n",
      "Already up to date.\n",
      "On branch master\n",
      "nothing to commit, working tree clean\n"
     ]
    },
    {
     "name": "stderr",
     "output_type": "stream",
     "text": [
      "From https://github.com/MonlamAI/SW00184\n",
      " * branch            master     -> FETCH_HEAD\n",
      " * [new branch]      master     -> origin/master\n",
      "Everything up-to-date\n"
     ]
    },
    {
     "name": "stdout",
     "output_type": "stream",
     "text": [
      "Repository SW00519 already exists.\n",
      "Already up to date.\n"
     ]
    },
    {
     "name": "stderr",
     "output_type": "stream",
     "text": [
      "From https://github.com/MonlamAI/SW00519\n",
      " * branch            master     -> FETCH_HEAD\n",
      " * [new branch]      master     -> origin/master\n",
      "Everything up-to-date\n"
     ]
    },
    {
     "name": "stdout",
     "output_type": "stream",
     "text": [
      "On branch master\n",
      "nothing to commit, working tree clean\n",
      "Repository SW00275 already exists.\n",
      "Already up to date.\n",
      "On branch master\n",
      "nothing to commit, working tree clean\n"
     ]
    },
    {
     "name": "stderr",
     "output_type": "stream",
     "text": [
      "From https://github.com/MonlamAI/SW00275\n",
      " * branch            master     -> FETCH_HEAD\n",
      " * [new branch]      master     -> origin/master\n",
      "Everything up-to-date\n"
     ]
    },
    {
     "name": "stdout",
     "output_type": "stream",
     "text": [
      "Repository SW00282 already exists.\n",
      "Already up to date.\n",
      "On branch master\n",
      "nothing to commit, working tree clean\n"
     ]
    },
    {
     "name": "stderr",
     "output_type": "stream",
     "text": [
      "From https://github.com/MonlamAI/SW00282\n",
      " * branch            master     -> FETCH_HEAD\n",
      " * [new branch]      master     -> origin/master\n",
      "Everything up-to-date\n"
     ]
    },
    {
     "name": "stdout",
     "output_type": "stream",
     "text": [
      "Repository SW00427 already exists.\n",
      "Already up to date.\n",
      "On branch master\n",
      "nothing to commit, working tree clean\n"
     ]
    },
    {
     "name": "stderr",
     "output_type": "stream",
     "text": [
      "From https://github.com/MonlamAI/SW00427\n",
      " * branch            master     -> FETCH_HEAD\n",
      " * [new branch]      master     -> origin/master\n",
      "Everything up-to-date\n"
     ]
    },
    {
     "name": "stdout",
     "output_type": "stream",
     "text": [
      "Repository SW00806 already exists.\n",
      "Already up to date.\n",
      "On branch master\n",
      "nothing to commit, working tree clean\n"
     ]
    },
    {
     "name": "stderr",
     "output_type": "stream",
     "text": [
      "From https://github.com/MonlamAI/SW00806\n",
      " * branch            master     -> FETCH_HEAD\n",
      " * [new branch]      master     -> origin/master\n",
      "Everything up-to-date\n"
     ]
    },
    {
     "name": "stdout",
     "output_type": "stream",
     "text": [
      "Repository SW00525 already exists.\n",
      "Already up to date.\n",
      "On branch master\n",
      "nothing to commit, working tree clean\n"
     ]
    },
    {
     "name": "stderr",
     "output_type": "stream",
     "text": [
      "From https://github.com/MonlamAI/SW00525\n",
      " * branch            master     -> FETCH_HEAD\n",
      " * [new branch]      master     -> origin/master\n",
      "Everything up-to-date\n"
     ]
    },
    {
     "name": "stdout",
     "output_type": "stream",
     "text": [
      "Repository SW00925 already exists.\n",
      "Already up to date.\n",
      "On branch master\n",
      "nothing to commit, working tree clean\n"
     ]
    },
    {
     "name": "stderr",
     "output_type": "stream",
     "text": [
      "From https://github.com/MonlamAI/SW00925\n",
      " * branch            master     -> FETCH_HEAD\n",
      " * [new branch]      master     -> origin/master\n",
      "Everything up-to-date\n"
     ]
    },
    {
     "name": "stdout",
     "output_type": "stream",
     "text": [
      "Repository SW00798 already exists.\n",
      "Already up to date.\n",
      "On branch master\n",
      "nothing to commit, working tree clean\n"
     ]
    },
    {
     "name": "stderr",
     "output_type": "stream",
     "text": [
      "From https://github.com/MonlamAI/SW00798\n",
      " * branch            master     -> FETCH_HEAD\n",
      " * [new branch]      master     -> origin/master\n",
      "Everything up-to-date\n"
     ]
    },
    {
     "name": "stdout",
     "output_type": "stream",
     "text": [
      "Repository SW00201 already exists.\n",
      "Already up to date.\n",
      "On branch master\n",
      "nothing to commit, working tree clean\n"
     ]
    },
    {
     "name": "stderr",
     "output_type": "stream",
     "text": [
      "From https://github.com/MonlamAI/SW00201\n",
      " * branch            master     -> FETCH_HEAD\n",
      " * [new branch]      master     -> origin/master\n",
      "Everything up-to-date\n"
     ]
    },
    {
     "name": "stdout",
     "output_type": "stream",
     "text": [
      "Repository SW00755 already exists.\n",
      "Already up to date.\n",
      "On branch master\n",
      "nothing to commit, working tree clean\n"
     ]
    },
    {
     "name": "stderr",
     "output_type": "stream",
     "text": [
      "From https://github.com/MonlamAI/SW00755\n",
      " * branch            master     -> FETCH_HEAD\n",
      " * [new branch]      master     -> origin/master\n",
      "Everything up-to-date\n"
     ]
    },
    {
     "name": "stdout",
     "output_type": "stream",
     "text": [
      "Repository SW00136 already exists.\n",
      "Already up to date.\n",
      "On branch master\n",
      "nothing to commit, working tree clean\n"
     ]
    },
    {
     "name": "stderr",
     "output_type": "stream",
     "text": [
      "From https://github.com/MonlamAI/SW00136\n",
      " * branch            master     -> FETCH_HEAD\n",
      " * [new branch]      master     -> origin/master\n",
      "Everything up-to-date\n"
     ]
    },
    {
     "name": "stdout",
     "output_type": "stream",
     "text": [
      "Repository SW00693 already exists.\n",
      "Already up to date.\n",
      "On branch master\n",
      "nothing to commit, working tree clean\n"
     ]
    },
    {
     "name": "stderr",
     "output_type": "stream",
     "text": [
      "From https://github.com/MonlamAI/SW00693\n",
      " * branch            master     -> FETCH_HEAD\n",
      " * [new branch]      master     -> origin/master\n",
      "Everything up-to-date\n"
     ]
    },
    {
     "name": "stdout",
     "output_type": "stream",
     "text": [
      "Repository SW00716 already exists.\n",
      "Already up to date.\n",
      "On branch master\n",
      "nothing to commit, working tree clean\n"
     ]
    },
    {
     "name": "stderr",
     "output_type": "stream",
     "text": [
      "From https://github.com/MonlamAI/SW00716\n",
      " * branch            master     -> FETCH_HEAD\n",
      " * [new branch]      master     -> origin/master\n",
      "Everything up-to-date\n"
     ]
    },
    {
     "name": "stdout",
     "output_type": "stream",
     "text": [
      "Repository SW00942 already exists.\n",
      "Already up to date.\n",
      "On branch master\n",
      "nothing to commit, working tree clean\n"
     ]
    },
    {
     "name": "stderr",
     "output_type": "stream",
     "text": [
      "From https://github.com/MonlamAI/SW00942\n",
      " * branch            master     -> FETCH_HEAD\n",
      " * [new branch]      master     -> origin/master\n",
      "Everything up-to-date\n"
     ]
    },
    {
     "name": "stdout",
     "output_type": "stream",
     "text": [
      "Repository SW00790 already exists.\n",
      "Already up to date.\n",
      "On branch master\n",
      "nothing to commit, working tree clean\n"
     ]
    },
    {
     "name": "stderr",
     "output_type": "stream",
     "text": [
      "From https://github.com/MonlamAI/SW00790\n",
      " * branch            master     -> FETCH_HEAD\n",
      " * [new branch]      master     -> origin/master\n",
      "Everything up-to-date\n"
     ]
    },
    {
     "name": "stdout",
     "output_type": "stream",
     "text": [
      "Repository SW00129 already exists.\n",
      "Already up to date.\n",
      "On branch master\n",
      "nothing to commit, working tree clean\n"
     ]
    },
    {
     "name": "stderr",
     "output_type": "stream",
     "text": [
      "From https://github.com/MonlamAI/SW00129\n",
      " * branch            master     -> FETCH_HEAD\n",
      " * [new branch]      master     -> origin/master\n",
      "Everything up-to-date\n"
     ]
    },
    {
     "name": "stdout",
     "output_type": "stream",
     "text": [
      "Repository SW00319 already exists.\n",
      "Already up to date.\n"
     ]
    },
    {
     "name": "stderr",
     "output_type": "stream",
     "text": [
      "From https://github.com/MonlamAI/SW00319\n",
      " * branch            master     -> FETCH_HEAD\n",
      " * [new branch]      master     -> origin/master\n"
     ]
    },
    {
     "name": "stdout",
     "output_type": "stream",
     "text": [
      "On branch master\n",
      "nothing to commit, working tree clean\n"
     ]
    },
    {
     "name": "stderr",
     "output_type": "stream",
     "text": [
      "Everything up-to-date\n"
     ]
    },
    {
     "name": "stdout",
     "output_type": "stream",
     "text": [
      "Repository SW00859 already exists.\n",
      "Already up to date.\n",
      "On branch master\n",
      "nothing to commit, working tree clean\n"
     ]
    },
    {
     "name": "stderr",
     "output_type": "stream",
     "text": [
      "From https://github.com/MonlamAI/SW00859\n",
      " * branch            master     -> FETCH_HEAD\n",
      " * [new branch]      master     -> origin/master\n",
      "Everything up-to-date\n"
     ]
    },
    {
     "name": "stdout",
     "output_type": "stream",
     "text": [
      "Repository SW00597 already exists.\n",
      "Already up to date.\n",
      "On branch master\n",
      "nothing to commit, working tree clean\n"
     ]
    },
    {
     "name": "stderr",
     "output_type": "stream",
     "text": [
      "From https://github.com/MonlamAI/SW00597\n",
      " * branch            master     -> FETCH_HEAD\n",
      " * [new branch]      master     -> origin/master\n",
      "Everything up-to-date\n"
     ]
    },
    {
     "name": "stdout",
     "output_type": "stream",
     "text": [
      "Repository SW00632 already exists.\n",
      "Already up to date.\n"
     ]
    },
    {
     "name": "stderr",
     "output_type": "stream",
     "text": [
      "From https://github.com/MonlamAI/SW00632\n",
      " * branch            master     -> FETCH_HEAD\n",
      " * [new branch]      master     -> origin/master\n",
      "Everything up-to-date\n"
     ]
    },
    {
     "name": "stdout",
     "output_type": "stream",
     "text": [
      "On branch master\n",
      "nothing to commit, working tree clean\n",
      "Repository SW00099 already exists.\n",
      "Already up to date.\n",
      "On branch master\n",
      "nothing to commit, working tree clean\n"
     ]
    },
    {
     "name": "stderr",
     "output_type": "stream",
     "text": [
      "From https://github.com/MonlamAI/SW00099\n",
      " * branch            master     -> FETCH_HEAD\n",
      " * [new branch]      master     -> origin/master\n",
      "Everything up-to-date\n"
     ]
    },
    {
     "name": "stdout",
     "output_type": "stream",
     "text": [
      "Repository SW00067 already exists.\n",
      "Already up to date.\n"
     ]
    },
    {
     "name": "stderr",
     "output_type": "stream",
     "text": [
      "From https://github.com/MonlamAI/SW00067\n",
      " * branch            master     -> FETCH_HEAD\n",
      " * [new branch]      master     -> origin/master\n",
      "Everything up-to-date\n"
     ]
    },
    {
     "name": "stdout",
     "output_type": "stream",
     "text": [
      "On branch master\n",
      "nothing to commit, working tree clean\n",
      "Repository SW00516 already exists.\n",
      "Already up to date.\n",
      "On branch master\n",
      "nothing to commit, working tree clean\n"
     ]
    },
    {
     "name": "stderr",
     "output_type": "stream",
     "text": [
      "From https://github.com/MonlamAI/SW00516\n",
      " * branch            master     -> FETCH_HEAD\n",
      " * [new branch]      master     -> origin/master\n",
      "Everything up-to-date\n"
     ]
    },
    {
     "name": "stdout",
     "output_type": "stream",
     "text": [
      "Repository SW00772 already exists.\n",
      "Already up to date.\n",
      "On branch master\n",
      "nothing to commit, working tree clean\n"
     ]
    },
    {
     "name": "stderr",
     "output_type": "stream",
     "text": [
      "From https://github.com/MonlamAI/SW00772\n",
      " * branch            master     -> FETCH_HEAD\n",
      " * [new branch]      master     -> origin/master\n",
      "Everything up-to-date\n"
     ]
    },
    {
     "name": "stdout",
     "output_type": "stream",
     "text": [
      "Repository SW00015 already exists.\n",
      "Already up to date.\n",
      "On branch master\n",
      "nothing to commit, working tree clean\n"
     ]
    },
    {
     "name": "stderr",
     "output_type": "stream",
     "text": [
      "From https://github.com/MonlamAI/SW00015\n",
      " * branch            master     -> FETCH_HEAD\n",
      " * [new branch]      master     -> origin/master\n",
      "Everything up-to-date\n"
     ]
    },
    {
     "name": "stdout",
     "output_type": "stream",
     "text": [
      "Repository SW00588 already exists.\n",
      "Already up to date.\n",
      "On branch master\n",
      "nothing to commit, working tree clean\n"
     ]
    },
    {
     "name": "stderr",
     "output_type": "stream",
     "text": [
      "From https://github.com/MonlamAI/SW00588\n",
      " * branch            master     -> FETCH_HEAD\n",
      " * [new branch]      master     -> origin/master\n",
      "Everything up-to-date\n"
     ]
    },
    {
     "name": "stdout",
     "output_type": "stream",
     "text": [
      "Repository SW00292 already exists.\n",
      "Already up to date.\n",
      "On branch master\n",
      "nothing to commit, working tree clean\n"
     ]
    },
    {
     "name": "stderr",
     "output_type": "stream",
     "text": [
      "From https://github.com/MonlamAI/SW00292\n",
      " * branch            master     -> FETCH_HEAD\n",
      " * [new branch]      master     -> origin/master\n",
      "Everything up-to-date\n"
     ]
    },
    {
     "name": "stdout",
     "output_type": "stream",
     "text": [
      "Repository SW00087 already exists.\n",
      "Already up to date.\n",
      "On branch master\n",
      "nothing to commit, working tree clean\n"
     ]
    },
    {
     "name": "stderr",
     "output_type": "stream",
     "text": [
      "From https://github.com/MonlamAI/SW00087\n",
      " * branch            master     -> FETCH_HEAD\n",
      " * [new branch]      master     -> origin/master\n",
      "Everything up-to-date\n"
     ]
    },
    {
     "name": "stdout",
     "output_type": "stream",
     "text": [
      "Repository SW00658 already exists.\n",
      "Already up to date.\n",
      "On branch master\n",
      "nothing to commit, working tree clean\n"
     ]
    },
    {
     "name": "stderr",
     "output_type": "stream",
     "text": [
      "From https://github.com/MonlamAI/SW00658\n",
      " * branch            master     -> FETCH_HEAD\n",
      " * [new branch]      master     -> origin/master\n",
      "Everything up-to-date\n"
     ]
    },
    {
     "name": "stdout",
     "output_type": "stream",
     "text": [
      "Repository SW00383 already exists.\n",
      "Already up to date.\n",
      "On branch master\n",
      "nothing to commit, working tree clean\n"
     ]
    },
    {
     "name": "stderr",
     "output_type": "stream",
     "text": [
      "From https://github.com/MonlamAI/SW00383\n",
      " * branch            master     -> FETCH_HEAD\n",
      " * [new branch]      master     -> origin/master\n",
      "Everything up-to-date\n"
     ]
    },
    {
     "name": "stdout",
     "output_type": "stream",
     "text": [
      "Repository SW00110 already exists.\n",
      "Already up to date.\n",
      "On branch master\n",
      "nothing to commit, working tree clean\n"
     ]
    },
    {
     "name": "stderr",
     "output_type": "stream",
     "text": [
      "From https://github.com/MonlamAI/SW00110\n",
      " * branch            master     -> FETCH_HEAD\n",
      " * [new branch]      master     -> origin/master\n",
      "Everything up-to-date\n"
     ]
    },
    {
     "name": "stdout",
     "output_type": "stream",
     "text": [
      "Repository SW00242 already exists.\n",
      "Already up to date.\n",
      "On branch master\n",
      "nothing to commit, working tree clean\n"
     ]
    },
    {
     "name": "stderr",
     "output_type": "stream",
     "text": [
      "From https://github.com/MonlamAI/SW00242\n",
      " * branch            master     -> FETCH_HEAD\n",
      " * [new branch]      master     -> origin/master\n",
      "Everything up-to-date\n"
     ]
    },
    {
     "name": "stdout",
     "output_type": "stream",
     "text": [
      "Repository SW00200 already exists.\n",
      "Already up to date.\n",
      "On branch master\n",
      "nothing to commit, working tree clean\n"
     ]
    },
    {
     "name": "stderr",
     "output_type": "stream",
     "text": [
      "From https://github.com/MonlamAI/SW00200\n",
      " * branch            master     -> FETCH_HEAD\n",
      " * [new branch]      master     -> origin/master\n",
      "Everything up-to-date\n"
     ]
    },
    {
     "name": "stdout",
     "output_type": "stream",
     "text": [
      "Repository SW00639 already exists.\n",
      "Already up to date.\n",
      "On branch master\n",
      "nothing to commit, working tree clean\n"
     ]
    },
    {
     "name": "stderr",
     "output_type": "stream",
     "text": [
      "From https://github.com/MonlamAI/SW00639\n",
      " * branch            master     -> FETCH_HEAD\n",
      " * [new branch]      master     -> origin/master\n",
      "Everything up-to-date\n"
     ]
    },
    {
     "name": "stdout",
     "output_type": "stream",
     "text": [
      "Repository SW00024 already exists.\n",
      "Already up to date.\n",
      "On branch master\n",
      "nothing to commit, working tree clean\n"
     ]
    },
    {
     "name": "stderr",
     "output_type": "stream",
     "text": [
      "From https://github.com/MonlamAI/SW00024\n",
      " * branch            master     -> FETCH_HEAD\n",
      " * [new branch]      master     -> origin/master\n",
      "Everything up-to-date\n"
     ]
    },
    {
     "name": "stdout",
     "output_type": "stream",
     "text": [
      "Repository SW00001 already exists.\n",
      "Already up to date.\n",
      "On branch master\n",
      "nothing to commit, working tree clean\n"
     ]
    },
    {
     "name": "stderr",
     "output_type": "stream",
     "text": [
      "From https://github.com/MonlamAI/sw00001\n",
      " * branch            master     -> FETCH_HEAD\n",
      " * [new branch]      master     -> origin/master\n",
      "Everything up-to-date\n"
     ]
    },
    {
     "name": "stdout",
     "output_type": "stream",
     "text": [
      "Repository SW00325 already exists.\n",
      "Already up to date.\n",
      "On branch master\n",
      "nothing to commit, working tree clean\n"
     ]
    },
    {
     "name": "stderr",
     "output_type": "stream",
     "text": [
      "From https://github.com/MonlamAI/SW00325\n",
      " * branch            master     -> FETCH_HEAD\n",
      " * [new branch]      master     -> origin/master\n",
      "Everything up-to-date\n"
     ]
    },
    {
     "name": "stdout",
     "output_type": "stream",
     "text": [
      "Repository SW00322 already exists.\n",
      "Already up to date.\n",
      "On branch master\n",
      "nothing to commit, working tree clean\n"
     ]
    },
    {
     "name": "stderr",
     "output_type": "stream",
     "text": [
      "From https://github.com/MonlamAI/SW00322\n",
      " * branch            master     -> FETCH_HEAD\n",
      " * [new branch]      master     -> origin/master\n",
      "Everything up-to-date\n"
     ]
    },
    {
     "name": "stdout",
     "output_type": "stream",
     "text": [
      "Repository SW00492 already exists.\n",
      "Already up to date.\n",
      "On branch master\n",
      "nothing to commit, working tree clean\n"
     ]
    },
    {
     "name": "stderr",
     "output_type": "stream",
     "text": [
      "From https://github.com/MonlamAI/SW00492\n",
      " * branch            master     -> FETCH_HEAD\n",
      " * [new branch]      master     -> origin/master\n",
      "Everything up-to-date\n"
     ]
    },
    {
     "name": "stdout",
     "output_type": "stream",
     "text": [
      "Repository SW00551 already exists.\n",
      "Already up to date.\n",
      "On branch master\n",
      "nothing to commit, working tree clean\n"
     ]
    },
    {
     "name": "stderr",
     "output_type": "stream",
     "text": [
      "From https://github.com/MonlamAI/SW00551\n",
      " * branch            master     -> FETCH_HEAD\n",
      " * [new branch]      master     -> origin/master\n",
      "Everything up-to-date\n"
     ]
    },
    {
     "name": "stdout",
     "output_type": "stream",
     "text": [
      "Repository SW00556 already exists.\n",
      "Already up to date.\n",
      "On branch master\n",
      "nothing to commit, working tree clean\n"
     ]
    },
    {
     "name": "stderr",
     "output_type": "stream",
     "text": [
      "From https://github.com/MonlamAI/SW00556\n",
      " * branch            master     -> FETCH_HEAD\n",
      " * [new branch]      master     -> origin/master\n",
      "Everything up-to-date\n"
     ]
    },
    {
     "name": "stdout",
     "output_type": "stream",
     "text": [
      "Repository SW00914 already exists.\n",
      "Already up to date.\n",
      "On branch master\n",
      "nothing to commit, working tree clean\n"
     ]
    },
    {
     "name": "stderr",
     "output_type": "stream",
     "text": [
      "From https://github.com/MonlamAI/SW00914\n",
      " * branch            master     -> FETCH_HEAD\n",
      " * [new branch]      master     -> origin/master\n",
      "Everything up-to-date\n"
     ]
    },
    {
     "name": "stdout",
     "output_type": "stream",
     "text": [
      "Repository SW00453 already exists.\n",
      "Already up to date.\n",
      "On branch master\n",
      "nothing to commit, working tree clean\n"
     ]
    },
    {
     "name": "stderr",
     "output_type": "stream",
     "text": [
      "From https://github.com/MonlamAI/SW00453\n",
      " * branch            master     -> FETCH_HEAD\n",
      " * [new branch]      master     -> origin/master\n",
      "Everything up-to-date\n"
     ]
    },
    {
     "name": "stdout",
     "output_type": "stream",
     "text": [
      "Repository SW00699 already exists.\n",
      "Already up to date.\n",
      "On branch master\n",
      "nothing to commit, working tree clean\n"
     ]
    },
    {
     "name": "stderr",
     "output_type": "stream",
     "text": [
      "From https://github.com/MonlamAI/SW00699\n",
      " * branch            master     -> FETCH_HEAD\n",
      " * [new branch]      master     -> origin/master\n",
      "Everything up-to-date\n"
     ]
    },
    {
     "name": "stdout",
     "output_type": "stream",
     "text": [
      "Repository SW00640 already exists.\n",
      "Already up to date.\n",
      "On branch master\n",
      "nothing to commit, working tree clean\n"
     ]
    },
    {
     "name": "stderr",
     "output_type": "stream",
     "text": [
      "From https://github.com/MonlamAI/SW00640\n",
      " * branch            master     -> FETCH_HEAD\n",
      " * [new branch]      master     -> origin/master\n",
      "Everything up-to-date\n"
     ]
    },
    {
     "name": "stdout",
     "output_type": "stream",
     "text": [
      "Repository SW00259 already exists.\n",
      "Already up to date.\n",
      "On branch master\n",
      "nothing to commit, working tree clean\n"
     ]
    },
    {
     "name": "stderr",
     "output_type": "stream",
     "text": [
      "From https://github.com/MonlamAI/SW00259\n",
      " * branch            master     -> FETCH_HEAD\n",
      " * [new branch]      master     -> origin/master\n",
      "Everything up-to-date\n"
     ]
    },
    {
     "name": "stdout",
     "output_type": "stream",
     "text": [
      "Repository SW00316 already exists.\n",
      "Already up to date.\n",
      "On branch master\n",
      "nothing to commit, working tree clean\n"
     ]
    },
    {
     "name": "stderr",
     "output_type": "stream",
     "text": [
      "From https://github.com/MonlamAI/SW00316\n",
      " * branch            master     -> FETCH_HEAD\n",
      " * [new branch]      master     -> origin/master\n",
      "Everything up-to-date\n"
     ]
    },
    {
     "name": "stdout",
     "output_type": "stream",
     "text": [
      "Repository SW00159 already exists.\n",
      "Already up to date.\n",
      "On branch master\n",
      "nothing to commit, working tree clean\n"
     ]
    },
    {
     "name": "stderr",
     "output_type": "stream",
     "text": [
      "From https://github.com/MonlamAI/SW00159\n",
      " * branch            master     -> FETCH_HEAD\n",
      " * [new branch]      master     -> origin/master\n",
      "Everything up-to-date\n"
     ]
    },
    {
     "name": "stdout",
     "output_type": "stream",
     "text": [
      "Repository SW00491 already exists.\n",
      "Already up to date.\n",
      "On branch master\n",
      "nothing to commit, working tree clean\n"
     ]
    },
    {
     "name": "stderr",
     "output_type": "stream",
     "text": [
      "From https://github.com/MonlamAI/SW00491\n",
      " * branch            master     -> FETCH_HEAD\n",
      " * [new branch]      master     -> origin/master\n",
      "Everything up-to-date\n"
     ]
    },
    {
     "name": "stdout",
     "output_type": "stream",
     "text": [
      "Repository SW00443 already exists.\n",
      "Already up to date.\n",
      "On branch master\n",
      "nothing to commit, working tree clean\n"
     ]
    },
    {
     "name": "stderr",
     "output_type": "stream",
     "text": [
      "From https://github.com/MonlamAI/SW00443\n",
      " * branch            master     -> FETCH_HEAD\n",
      " * [new branch]      master     -> origin/master\n",
      "Everything up-to-date\n"
     ]
    },
    {
     "name": "stdout",
     "output_type": "stream",
     "text": [
      "Repository SW00873 already exists.\n",
      "Already up to date.\n",
      "On branch master\n",
      "nothing to commit, working tree clean\n"
     ]
    },
    {
     "name": "stderr",
     "output_type": "stream",
     "text": [
      "From https://github.com/MonlamAI/SW00873\n",
      " * branch            master     -> FETCH_HEAD\n",
      " * [new branch]      master     -> origin/master\n",
      "Everything up-to-date\n"
     ]
    },
    {
     "name": "stdout",
     "output_type": "stream",
     "text": [
      "Repository SW00550 already exists.\n",
      "Already up to date.\n",
      "On branch master\n",
      "nothing to commit, working tree clean\n"
     ]
    },
    {
     "name": "stderr",
     "output_type": "stream",
     "text": [
      "From https://github.com/MonlamAI/SW00550\n",
      " * branch            master     -> FETCH_HEAD\n",
      " * [new branch]      master     -> origin/master\n",
      "Everything up-to-date\n"
     ]
    },
    {
     "name": "stdout",
     "output_type": "stream",
     "text": [
      "Repository SW00670 already exists.\n"
     ]
    },
    {
     "name": "stderr",
     "output_type": "stream",
     "text": [
      "From https://github.com/MonlamAI/SW00670\n",
      " * branch            master     -> FETCH_HEAD\n",
      " * [new branch]      master     -> origin/master\n",
      "Everything up-to-date\n"
     ]
    },
    {
     "name": "stdout",
     "output_type": "stream",
     "text": [
      "Already up to date.\n",
      "On branch master\n",
      "nothing to commit, working tree clean\n",
      "Repository SW00567 already exists.\n",
      "Already up to date.\n",
      "On branch master\n",
      "nothing to commit, working tree clean\n"
     ]
    },
    {
     "name": "stderr",
     "output_type": "stream",
     "text": [
      "From https://github.com/MonlamAI/SW00567\n",
      " * branch            master     -> FETCH_HEAD\n",
      " * [new branch]      master     -> origin/master\n",
      "Everything up-to-date\n"
     ]
    },
    {
     "name": "stdout",
     "output_type": "stream",
     "text": [
      "Repository SW00447 already exists.\n",
      "Already up to date.\n",
      "On branch master\n",
      "nothing to commit, working tree clean\n"
     ]
    },
    {
     "name": "stderr",
     "output_type": "stream",
     "text": [
      "From https://github.com/MonlamAI/SW00447\n",
      " * branch            master     -> FETCH_HEAD\n",
      " * [new branch]      master     -> origin/master\n",
      "Everything up-to-date\n"
     ]
    },
    {
     "name": "stdout",
     "output_type": "stream",
     "text": [
      "Repository SW00714 already exists.\n",
      "Already up to date.\n",
      "On branch master\n",
      "nothing to commit, working tree clean\n"
     ]
    },
    {
     "name": "stderr",
     "output_type": "stream",
     "text": [
      "From https://github.com/MonlamAI/SW00714\n",
      " * branch            master     -> FETCH_HEAD\n",
      " * [new branch]      master     -> origin/master\n",
      "Everything up-to-date\n"
     ]
    },
    {
     "name": "stdout",
     "output_type": "stream",
     "text": [
      "Repository SW00028 already exists.\n",
      "Already up to date.\n",
      "On branch master\n",
      "nothing to commit, working tree clean\n"
     ]
    },
    {
     "name": "stderr",
     "output_type": "stream",
     "text": [
      "From https://github.com/MonlamAI/SW00028\n",
      " * branch            master     -> FETCH_HEAD\n",
      " * [new branch]      master     -> origin/master\n",
      "Everything up-to-date\n"
     ]
    },
    {
     "name": "stdout",
     "output_type": "stream",
     "text": [
      "Repository SW00565 already exists.\n",
      "Already up to date.\n",
      "On branch master\n",
      "nothing to commit, working tree clean\n"
     ]
    },
    {
     "name": "stderr",
     "output_type": "stream",
     "text": [
      "From https://github.com/MonlamAI/SW00565\n",
      " * branch            master     -> FETCH_HEAD\n",
      " * [new branch]      master     -> origin/master\n",
      "Everything up-to-date\n"
     ]
    },
    {
     "name": "stdout",
     "output_type": "stream",
     "text": [
      "Repository SW00631 already exists.\n",
      "Already up to date.\n",
      "On branch master\n",
      "nothing to commit, working tree clean\n"
     ]
    },
    {
     "name": "stderr",
     "output_type": "stream",
     "text": [
      "From https://github.com/MonlamAI/SW00631\n",
      " * branch            master     -> FETCH_HEAD\n",
      " * [new branch]      master     -> origin/master\n",
      "Everything up-to-date\n"
     ]
    },
    {
     "name": "stdout",
     "output_type": "stream",
     "text": [
      "Repository SW00668 already exists.\n",
      "Already up to date.\n",
      "On branch master\n",
      "nothing to commit, working tree clean\n"
     ]
    },
    {
     "name": "stderr",
     "output_type": "stream",
     "text": [
      "From https://github.com/MonlamAI/SW00668\n",
      " * branch            master     -> FETCH_HEAD\n",
      " * [new branch]      master     -> origin/master\n",
      "Everything up-to-date\n"
     ]
    },
    {
     "name": "stdout",
     "output_type": "stream",
     "text": [
      "Repository SW00053 already exists.\n",
      "Already up to date.\n",
      "On branch master\n",
      "nothing to commit, working tree clean\n"
     ]
    },
    {
     "name": "stderr",
     "output_type": "stream",
     "text": [
      "From https://github.com/MonlamAI/SW00053\n",
      " * branch            master     -> FETCH_HEAD\n",
      " * [new branch]      master     -> origin/master\n",
      "Everything up-to-date\n"
     ]
    },
    {
     "name": "stdout",
     "output_type": "stream",
     "text": [
      "Repository SW00842 already exists.\n",
      "Already up to date.\n",
      "On branch master\n",
      "nothing to commit, working tree clean\n"
     ]
    },
    {
     "name": "stderr",
     "output_type": "stream",
     "text": [
      "From https://github.com/MonlamAI/SW00842\n",
      " * branch            master     -> FETCH_HEAD\n",
      " * [new branch]      master     -> origin/master\n",
      "Everything up-to-date\n"
     ]
    },
    {
     "name": "stdout",
     "output_type": "stream",
     "text": [
      "Repository SW00769 already exists.\n",
      "Already up to date.\n",
      "On branch master\n",
      "nothing to commit, working tree clean\n"
     ]
    },
    {
     "name": "stderr",
     "output_type": "stream",
     "text": [
      "From https://github.com/MonlamAI/SW00769\n",
      " * branch            master     -> FETCH_HEAD\n",
      " * [new branch]      master     -> origin/master\n",
      "Everything up-to-date\n"
     ]
    },
    {
     "name": "stdout",
     "output_type": "stream",
     "text": [
      "Repository SW00091 already exists.\n",
      "Already up to date.\n",
      "On branch master\n",
      "nothing to commit, working tree clean\n"
     ]
    },
    {
     "name": "stderr",
     "output_type": "stream",
     "text": [
      "From https://github.com/MonlamAI/SW00091\n",
      " * branch            master     -> FETCH_HEAD\n",
      " * [new branch]      master     -> origin/master\n",
      "Everything up-to-date\n"
     ]
    },
    {
     "name": "stdout",
     "output_type": "stream",
     "text": [
      "Repository SW00197 already exists.\n",
      "Already up to date.\n",
      "On branch master\n",
      "nothing to commit, working tree clean\n"
     ]
    },
    {
     "name": "stderr",
     "output_type": "stream",
     "text": [
      "From https://github.com/MonlamAI/SW00197\n",
      " * branch            master     -> FETCH_HEAD\n",
      " * [new branch]      master     -> origin/master\n",
      "Everything up-to-date\n"
     ]
    },
    {
     "name": "stdout",
     "output_type": "stream",
     "text": [
      "Repository SW00019 already exists.\n",
      "Already up to date.\n",
      "On branch master\n",
      "nothing to commit, working tree clean\n"
     ]
    },
    {
     "name": "stderr",
     "output_type": "stream",
     "text": [
      "From https://github.com/MonlamAI/SW00019\n",
      " * branch            master     -> FETCH_HEAD\n",
      " * [new branch]      master     -> origin/master\n",
      "Everything up-to-date\n"
     ]
    },
    {
     "name": "stdout",
     "output_type": "stream",
     "text": [
      "Repository SW00449 already exists.\n",
      "Already up to date.\n",
      "On branch master\n",
      "nothing to commit, working tree clean\n"
     ]
    },
    {
     "name": "stderr",
     "output_type": "stream",
     "text": [
      "From https://github.com/MonlamAI/SW00449\n",
      " * branch            master     -> FETCH_HEAD\n",
      " * [new branch]      master     -> origin/master\n",
      "Everything up-to-date\n"
     ]
    },
    {
     "name": "stdout",
     "output_type": "stream",
     "text": [
      "Repository SW00829 already exists.\n",
      "Already up to date.\n",
      "On branch master\n",
      "nothing to commit, working tree clean\n"
     ]
    },
    {
     "name": "stderr",
     "output_type": "stream",
     "text": [
      "From https://github.com/MonlamAI/SW00829\n",
      " * branch            master     -> FETCH_HEAD\n",
      " * [new branch]      master     -> origin/master\n",
      "Everything up-to-date\n"
     ]
    },
    {
     "name": "stdout",
     "output_type": "stream",
     "text": [
      "Repository SW00149 already exists.\n",
      "Already up to date.\n",
      "On branch master\n",
      "nothing to commit, working tree clean\n"
     ]
    },
    {
     "name": "stderr",
     "output_type": "stream",
     "text": [
      "From https://github.com/MonlamAI/SW00149\n",
      " * branch            master     -> FETCH_HEAD\n",
      " * [new branch]      master     -> origin/master\n",
      "Everything up-to-date\n"
     ]
    },
    {
     "name": "stdout",
     "output_type": "stream",
     "text": [
      "Repository SW00469 already exists.\n",
      "Already up to date.\n",
      "On branch master\n",
      "nothing to commit, working tree clean\n"
     ]
    },
    {
     "name": "stderr",
     "output_type": "stream",
     "text": [
      "From https://github.com/MonlamAI/SW00469\n",
      " * branch            master     -> FETCH_HEAD\n",
      " * [new branch]      master     -> origin/master\n",
      "Everything up-to-date\n"
     ]
    },
    {
     "name": "stdout",
     "output_type": "stream",
     "text": [
      "Repository SW00320 already exists.\n",
      "Already up to date.\n",
      "On branch master\n",
      "nothing to commit, working tree clean\n"
     ]
    },
    {
     "name": "stderr",
     "output_type": "stream",
     "text": [
      "From https://github.com/MonlamAI/SW00320\n",
      " * branch            master     -> FETCH_HEAD\n",
      " * [new branch]      master     -> origin/master\n",
      "Everything up-to-date\n"
     ]
    },
    {
     "name": "stdout",
     "output_type": "stream",
     "text": [
      "Repository SW00743 already exists.\n",
      "Already up to date.\n",
      "On branch master\n",
      "nothing to commit, working tree clean\n"
     ]
    },
    {
     "name": "stderr",
     "output_type": "stream",
     "text": [
      "From https://github.com/MonlamAI/SW00743\n",
      " * branch            master     -> FETCH_HEAD\n",
      " * [new branch]      master     -> origin/master\n",
      "Everything up-to-date\n"
     ]
    },
    {
     "name": "stdout",
     "output_type": "stream",
     "text": [
      "Repository SW00517 already exists.\n",
      "Already up to date.\n",
      "On branch master\n",
      "nothing to commit, working tree clean\n"
     ]
    },
    {
     "name": "stderr",
     "output_type": "stream",
     "text": [
      "From https://github.com/MonlamAI/SW00517\n",
      " * branch            master     -> FETCH_HEAD\n",
      " * [new branch]      master     -> origin/master\n",
      "Everything up-to-date\n"
     ]
    },
    {
     "name": "stdout",
     "output_type": "stream",
     "text": [
      "Repository SW00331 already exists.\n",
      "Already up to date.\n",
      "On branch master\n",
      "nothing to commit, working tree clean\n"
     ]
    },
    {
     "name": "stderr",
     "output_type": "stream",
     "text": [
      "From https://github.com/MonlamAI/SW00331\n",
      " * branch            master     -> FETCH_HEAD\n",
      " * [new branch]      master     -> origin/master\n",
      "Everything up-to-date\n"
     ]
    },
    {
     "name": "stdout",
     "output_type": "stream",
     "text": [
      "Repository SW00021 already exists.\n",
      "Already up to date.\n",
      "On branch master\n",
      "nothing to commit, working tree clean\n"
     ]
    },
    {
     "name": "stderr",
     "output_type": "stream",
     "text": [
      "From https://github.com/MonlamAI/SW00021\n",
      " * branch            master     -> FETCH_HEAD\n",
      " * [new branch]      master     -> origin/master\n",
      "Everything up-to-date\n"
     ]
    },
    {
     "name": "stdout",
     "output_type": "stream",
     "text": [
      "Repository SW00735 already exists.\n",
      "Already up to date.\n",
      "On branch master\n",
      "nothing to commit, working tree clean\n"
     ]
    },
    {
     "name": "stderr",
     "output_type": "stream",
     "text": [
      "From https://github.com/MonlamAI/SW00735\n",
      " * branch            master     -> FETCH_HEAD\n",
      " * [new branch]      master     -> origin/master\n",
      "Everything up-to-date\n"
     ]
    },
    {
     "name": "stdout",
     "output_type": "stream",
     "text": [
      "Repository SW00075 already exists.\n",
      "Already up to date.\n",
      "On branch master\n",
      "nothing to commit, working tree clean\n"
     ]
    },
    {
     "name": "stderr",
     "output_type": "stream",
     "text": [
      "From https://github.com/MonlamAI/SW00075\n",
      " * branch            master     -> FETCH_HEAD\n",
      " * [new branch]      master     -> origin/master\n",
      "Everything up-to-date\n"
     ]
    },
    {
     "name": "stdout",
     "output_type": "stream",
     "text": [
      "Repository SW00041 already exists.\n",
      "Already up to date.\n",
      "On branch master\n",
      "nothing to commit, working tree clean\n"
     ]
    },
    {
     "name": "stderr",
     "output_type": "stream",
     "text": [
      "From https://github.com/MonlamAI/SW00041\n",
      " * branch            master     -> FETCH_HEAD\n",
      " * [new branch]      master     -> origin/master\n",
      "Everything up-to-date\n"
     ]
    },
    {
     "name": "stdout",
     "output_type": "stream",
     "text": [
      "Repository SW00303 already exists.\n",
      "Already up to date.\n",
      "On branch master\n",
      "nothing to commit, working tree clean\n"
     ]
    },
    {
     "name": "stderr",
     "output_type": "stream",
     "text": [
      "From https://github.com/MonlamAI/SW00303\n",
      " * branch            master     -> FETCH_HEAD\n",
      " * [new branch]      master     -> origin/master\n",
      "Everything up-to-date\n"
     ]
    },
    {
     "name": "stdout",
     "output_type": "stream",
     "text": [
      "Repository SW00178 already exists.\n",
      "Already up to date.\n",
      "On branch master\n",
      "nothing to commit, working tree clean\n"
     ]
    },
    {
     "name": "stderr",
     "output_type": "stream",
     "text": [
      "From https://github.com/MonlamAI/SW00178\n",
      " * branch            master     -> FETCH_HEAD\n",
      " * [new branch]      master     -> origin/master\n",
      "Everything up-to-date\n"
     ]
    },
    {
     "name": "stdout",
     "output_type": "stream",
     "text": [
      "Repository SW00254 already exists.\n",
      "Already up to date.\n",
      "On branch master\n",
      "nothing to commit, working tree clean\n"
     ]
    },
    {
     "name": "stderr",
     "output_type": "stream",
     "text": [
      "From https://github.com/MonlamAI/SW00254\n",
      " * branch            master     -> FETCH_HEAD\n",
      " * [new branch]      master     -> origin/master\n",
      "Everything up-to-date\n"
     ]
    },
    {
     "name": "stdout",
     "output_type": "stream",
     "text": [
      "Repository SW00276 already exists.\n"
     ]
    },
    {
     "name": "stderr",
     "output_type": "stream",
     "text": [
      "From https://github.com/MonlamAI/SW00276\n",
      " * branch            master     -> FETCH_HEAD\n",
      " * [new branch]      master     -> origin/master\n",
      "Everything up-to-date\n"
     ]
    },
    {
     "name": "stdout",
     "output_type": "stream",
     "text": [
      "Already up to date.\n",
      "On branch master\n",
      "nothing to commit, working tree clean\n",
      "Repository SW00807 already exists.\n",
      "Already up to date.\n",
      "On branch master\n",
      "nothing to commit, working tree clean\n"
     ]
    },
    {
     "name": "stderr",
     "output_type": "stream",
     "text": [
      "From https://github.com/MonlamAI/SW00807\n",
      " * branch            master     -> FETCH_HEAD\n",
      " * [new branch]      master     -> origin/master\n",
      "Everything up-to-date\n"
     ]
    },
    {
     "name": "stdout",
     "output_type": "stream",
     "text": [
      "Repository SW00847 already exists.\n",
      "Already up to date.\n",
      "On branch master\n",
      "nothing to commit, working tree clean\n"
     ]
    },
    {
     "name": "stderr",
     "output_type": "stream",
     "text": [
      "From https://github.com/MonlamAI/SW00847\n",
      " * branch            master     -> FETCH_HEAD\n",
      " * [new branch]      master     -> origin/master\n",
      "Everything up-to-date\n"
     ]
    },
    {
     "name": "stdout",
     "output_type": "stream",
     "text": [
      "Repository SW00182 already exists.\n",
      "Already up to date.\n",
      "On branch master\n",
      "nothing to commit, working tree clean\n"
     ]
    },
    {
     "name": "stderr",
     "output_type": "stream",
     "text": [
      "From https://github.com/MonlamAI/SW00182\n",
      " * branch            master     -> FETCH_HEAD\n",
      " * [new branch]      master     -> origin/master\n",
      "Everything up-to-date\n"
     ]
    },
    {
     "name": "stdout",
     "output_type": "stream",
     "text": [
      "Repository SW00305 already exists.\n",
      "Already up to date.\n",
      "On branch master\n",
      "nothing to commit, working tree clean\n"
     ]
    },
    {
     "name": "stderr",
     "output_type": "stream",
     "text": [
      "From https://github.com/MonlamAI/SW00305\n",
      " * branch            master     -> FETCH_HEAD\n",
      " * [new branch]      master     -> origin/master\n",
      "Everything up-to-date\n"
     ]
    },
    {
     "name": "stdout",
     "output_type": "stream",
     "text": [
      "Repository SW00042 already exists.\n"
     ]
    },
    {
     "name": "stderr",
     "output_type": "stream",
     "text": [
      "From https://github.com/MonlamAI/SW00042\n",
      " * branch            master     -> FETCH_HEAD\n",
      " * [new branch]      master     -> origin/master\n",
      "Everything up-to-date\n"
     ]
    },
    {
     "name": "stdout",
     "output_type": "stream",
     "text": [
      "Already up to date.\n",
      "On branch master\n",
      "nothing to commit, working tree clean\n",
      "Repository SW00894 already exists.\n",
      "Already up to date.\n",
      "On branch master\n",
      "nothing to commit, working tree clean\n"
     ]
    },
    {
     "name": "stderr",
     "output_type": "stream",
     "text": [
      "From https://github.com/MonlamAI/SW00894\n",
      " * branch            master     -> FETCH_HEAD\n",
      " * [new branch]      master     -> origin/master\n",
      "Everything up-to-date\n"
     ]
    },
    {
     "name": "stdout",
     "output_type": "stream",
     "text": [
      "Repository SW00839 already exists.\n",
      "Already up to date.\n",
      "On branch master\n",
      "nothing to commit, working tree clean\n"
     ]
    },
    {
     "name": "stderr",
     "output_type": "stream",
     "text": [
      "From https://github.com/MonlamAI/SW00839\n",
      " * branch            master     -> FETCH_HEAD\n",
      " * [new branch]      master     -> origin/master\n",
      "Everything up-to-date\n"
     ]
    },
    {
     "name": "stdout",
     "output_type": "stream",
     "text": [
      "Repository SW00664 already exists.\n",
      "Already up to date.\n",
      "On branch master\n",
      "nothing to commit, working tree clean\n"
     ]
    },
    {
     "name": "stderr",
     "output_type": "stream",
     "text": [
      "From https://github.com/MonlamAI/SW00664\n",
      " * branch            master     -> FETCH_HEAD\n",
      " * [new branch]      master     -> origin/master\n",
      "Everything up-to-date\n"
     ]
    },
    {
     "name": "stdout",
     "output_type": "stream",
     "text": [
      "Repository SW00246 already exists.\n",
      "Already up to date.\n",
      "On branch master\n",
      "nothing to commit, working tree clean\n"
     ]
    },
    {
     "name": "stderr",
     "output_type": "stream",
     "text": [
      "From https://github.com/MonlamAI/SW00246\n",
      " * branch            master     -> FETCH_HEAD\n",
      " * [new branch]      master     -> origin/master\n",
      "Everything up-to-date\n"
     ]
    },
    {
     "name": "stdout",
     "output_type": "stream",
     "text": [
      "Repository SW00422 already exists.\n",
      "Already up to date.\n",
      "On branch master\n",
      "nothing to commit, working tree clean\n"
     ]
    },
    {
     "name": "stderr",
     "output_type": "stream",
     "text": [
      "From https://github.com/MonlamAI/SW00422\n",
      " * branch            master     -> FETCH_HEAD\n",
      " * [new branch]      master     -> origin/master\n",
      "Everything up-to-date\n"
     ]
    },
    {
     "name": "stdout",
     "output_type": "stream",
     "text": [
      "Repository SW00195 already exists.\n",
      "Already up to date.\n",
      "On branch master\n",
      "nothing to commit, working tree clean\n"
     ]
    },
    {
     "name": "stderr",
     "output_type": "stream",
     "text": [
      "From https://github.com/MonlamAI/SW00195\n",
      " * branch            master     -> FETCH_HEAD\n",
      " * [new branch]      master     -> origin/master\n",
      "Everything up-to-date\n"
     ]
    },
    {
     "name": "stdout",
     "output_type": "stream",
     "text": [
      "Repository SW00862 already exists.\n",
      "Already up to date.\n",
      "On branch master\n",
      "nothing to commit, working tree clean\n"
     ]
    },
    {
     "name": "stderr",
     "output_type": "stream",
     "text": [
      "From https://github.com/MonlamAI/SW00862\n",
      " * branch            master     -> FETCH_HEAD\n",
      " * [new branch]      master     -> origin/master\n",
      "Everything up-to-date\n"
     ]
    },
    {
     "name": "stdout",
     "output_type": "stream",
     "text": [
      "Repository SW00878 already exists.\n",
      "Already up to date.\n",
      "On branch master\n",
      "nothing to commit, working tree clean\n"
     ]
    },
    {
     "name": "stderr",
     "output_type": "stream",
     "text": [
      "From https://github.com/MonlamAI/SW00878\n",
      " * branch            master     -> FETCH_HEAD\n",
      " * [new branch]      master     -> origin/master\n",
      "Everything up-to-date\n"
     ]
    },
    {
     "name": "stdout",
     "output_type": "stream",
     "text": [
      "Repository SW00122 already exists.\n",
      "Already up to date.\n",
      "On branch master\n",
      "nothing to commit, working tree clean\n"
     ]
    },
    {
     "name": "stderr",
     "output_type": "stream",
     "text": [
      "From https://github.com/MonlamAI/SW00122\n",
      " * branch            master     -> FETCH_HEAD\n",
      " * [new branch]      master     -> origin/master\n",
      "Everything up-to-date\n"
     ]
    },
    {
     "name": "stdout",
     "output_type": "stream",
     "text": [
      "Repository SW00613 already exists.\n",
      "Already up to date.\n",
      "On branch master\n",
      "nothing to commit, working tree clean\n"
     ]
    },
    {
     "name": "stderr",
     "output_type": "stream",
     "text": [
      "From https://github.com/MonlamAI/SW00613\n",
      " * branch            master     -> FETCH_HEAD\n",
      " * [new branch]      master     -> origin/master\n",
      "Everything up-to-date\n"
     ]
    },
    {
     "name": "stdout",
     "output_type": "stream",
     "text": [
      "Repository SW00152 already exists.\n",
      "Already up to date.\n",
      "On branch master\n",
      "nothing to commit, working tree clean\n"
     ]
    },
    {
     "name": "stderr",
     "output_type": "stream",
     "text": [
      "From https://github.com/MonlamAI/SW00152\n",
      " * branch            master     -> FETCH_HEAD\n",
      " * [new branch]      master     -> origin/master\n",
      "Everything up-to-date\n"
     ]
    },
    {
     "name": "stdout",
     "output_type": "stream",
     "text": [
      "Repository SW00488 already exists.\n",
      "Already up to date.\n",
      "On branch master\n",
      "nothing to commit, working tree clean\n"
     ]
    },
    {
     "name": "stderr",
     "output_type": "stream",
     "text": [
      "From https://github.com/MonlamAI/SW00488\n",
      " * branch            master     -> FETCH_HEAD\n",
      " * [new branch]      master     -> origin/master\n",
      "Everything up-to-date\n"
     ]
    },
    {
     "name": "stdout",
     "output_type": "stream",
     "text": [
      "Repository SW00913 already exists.\n",
      "Already up to date.\n"
     ]
    },
    {
     "name": "stderr",
     "output_type": "stream",
     "text": [
      "From https://github.com/MonlamAI/SW00913\n",
      " * branch            master     -> FETCH_HEAD\n",
      " * [new branch]      master     -> origin/master\n",
      "Everything up-to-date\n"
     ]
    },
    {
     "name": "stdout",
     "output_type": "stream",
     "text": [
      "On branch master\n",
      "nothing to commit, working tree clean\n",
      "Repository SW00072 already exists.\n",
      "Already up to date.\n",
      "On branch master\n",
      "nothing to commit, working tree clean\n"
     ]
    },
    {
     "name": "stderr",
     "output_type": "stream",
     "text": [
      "From https://github.com/MonlamAI/SW00072\n",
      " * branch            master     -> FETCH_HEAD\n",
      " * [new branch]      master     -> origin/master\n",
      "Everything up-to-date\n"
     ]
    },
    {
     "name": "stdout",
     "output_type": "stream",
     "text": [
      "Repository SW00549 already exists.\n",
      "Already up to date.\n",
      "On branch master\n",
      "nothing to commit, working tree clean\n"
     ]
    },
    {
     "name": "stderr",
     "output_type": "stream",
     "text": [
      "From https://github.com/MonlamAI/SW00549\n",
      " * branch            master     -> FETCH_HEAD\n",
      " * [new branch]      master     -> origin/master\n",
      "Everything up-to-date\n"
     ]
    },
    {
     "name": "stdout",
     "output_type": "stream",
     "text": [
      "Repository SW00958 already exists.\n",
      "Already up to date.\n",
      "On branch master\n",
      "nothing to commit, working tree clean\n"
     ]
    },
    {
     "name": "stderr",
     "output_type": "stream",
     "text": [
      "From https://github.com/MonlamAI/SW00958\n",
      " * branch            master     -> FETCH_HEAD\n",
      " * [new branch]      master     -> origin/master\n",
      "Everything up-to-date\n"
     ]
    },
    {
     "name": "stdout",
     "output_type": "stream",
     "text": [
      "Repository SW00485 already exists.\n",
      "Already up to date.\n",
      "On branch master\n",
      "nothing to commit, working tree clean\n"
     ]
    },
    {
     "name": "stderr",
     "output_type": "stream",
     "text": [
      "From https://github.com/MonlamAI/SW00485\n",
      " * branch            master     -> FETCH_HEAD\n",
      " * [new branch]      master     -> origin/master\n",
      "Everything up-to-date\n"
     ]
    },
    {
     "name": "stdout",
     "output_type": "stream",
     "text": [
      "Repository SW00409 already exists.\n",
      "Already up to date.\n",
      "On branch master\n",
      "nothing to commit, working tree clean\n"
     ]
    },
    {
     "name": "stderr",
     "output_type": "stream",
     "text": [
      "From https://github.com/MonlamAI/SW00409\n",
      " * branch            master     -> FETCH_HEAD\n",
      " * [new branch]      master     -> origin/master\n",
      "Everything up-to-date\n"
     ]
    },
    {
     "name": "stdout",
     "output_type": "stream",
     "text": [
      "Repository SW00107 already exists.\n",
      "Already up to date.\n",
      "On branch master\n",
      "nothing to commit, working tree clean\n"
     ]
    },
    {
     "name": "stderr",
     "output_type": "stream",
     "text": [
      "From https://github.com/MonlamAI/SW00107\n",
      " * branch            master     -> FETCH_HEAD\n",
      " * [new branch]      master     -> origin/master\n",
      "Everything up-to-date\n"
     ]
    },
    {
     "name": "stdout",
     "output_type": "stream",
     "text": [
      "Repository SW00189 already exists.\n",
      "Already up to date.\n",
      "On branch master\n",
      "nothing to commit, working tree clean\n"
     ]
    },
    {
     "name": "stderr",
     "output_type": "stream",
     "text": [
      "From https://github.com/MonlamAI/SW00189\n",
      " * branch            master     -> FETCH_HEAD\n",
      " * [new branch]      master     -> origin/master\n",
      "Everything up-to-date\n"
     ]
    },
    {
     "name": "stdout",
     "output_type": "stream",
     "text": [
      "Repository SW00846 already exists.\n",
      "Already up to date.\n",
      "On branch master\n",
      "nothing to commit, working tree clean\n"
     ]
    },
    {
     "name": "stderr",
     "output_type": "stream",
     "text": [
      "From https://github.com/MonlamAI/SW00846\n",
      " * branch            master     -> FETCH_HEAD\n",
      " * [new branch]      master     -> origin/master\n",
      "Everything up-to-date\n"
     ]
    },
    {
     "name": "stdout",
     "output_type": "stream",
     "text": [
      "Repository SW00391 already exists.\n",
      "Already up to date.\n",
      "On branch master\n",
      "nothing to commit, working tree clean\n"
     ]
    },
    {
     "name": "stderr",
     "output_type": "stream",
     "text": [
      "From https://github.com/MonlamAI/SW00391\n",
      " * branch            master     -> FETCH_HEAD\n",
      " * [new branch]      master     -> origin/master\n",
      "Everything up-to-date\n"
     ]
    },
    {
     "name": "stdout",
     "output_type": "stream",
     "text": [
      "Repository SW00252 already exists.\n",
      "Already up to date.\n",
      "On branch master\n",
      "nothing to commit, working tree clean\n"
     ]
    },
    {
     "name": "stderr",
     "output_type": "stream",
     "text": [
      "From https://github.com/MonlamAI/SW00252\n",
      " * branch            master     -> FETCH_HEAD\n",
      " * [new branch]      master     -> origin/master\n",
      "Everything up-to-date\n"
     ]
    },
    {
     "name": "stdout",
     "output_type": "stream",
     "text": [
      "Repository SW00542 already exists.\n",
      "Already up to date.\n",
      "On branch master\n",
      "nothing to commit, working tree clean\n"
     ]
    },
    {
     "name": "stderr",
     "output_type": "stream",
     "text": [
      "From https://github.com/MonlamAI/SW00542\n",
      " * branch            master     -> FETCH_HEAD\n",
      " * [new branch]      master     -> origin/master\n",
      "Everything up-to-date\n"
     ]
    },
    {
     "name": "stdout",
     "output_type": "stream",
     "text": [
      "Repository SW00595 already exists.\n"
     ]
    },
    {
     "name": "stderr",
     "output_type": "stream",
     "text": [
      "From https://github.com/MonlamAI/SW00595\n",
      " * branch            master     -> FETCH_HEAD\n",
      " * [new branch]      master     -> origin/master\n",
      "Everything up-to-date\n"
     ]
    },
    {
     "name": "stdout",
     "output_type": "stream",
     "text": [
      "Already up to date.\n",
      "On branch master\n",
      "nothing to commit, working tree clean\n",
      "Repository SW00603 already exists.\n",
      "Already up to date.\n",
      "On branch master\n",
      "nothing to commit, working tree clean\n"
     ]
    },
    {
     "name": "stderr",
     "output_type": "stream",
     "text": [
      "From https://github.com/MonlamAI/SW00603\n",
      " * branch            master     -> FETCH_HEAD\n",
      " * [new branch]      master     -> origin/master\n",
      "Everything up-to-date\n"
     ]
    },
    {
     "name": "stdout",
     "output_type": "stream",
     "text": [
      "Repository SW00461 already exists.\n",
      "Already up to date.\n",
      "On branch master\n",
      "nothing to commit, working tree clean\n"
     ]
    },
    {
     "name": "stderr",
     "output_type": "stream",
     "text": [
      "From https://github.com/MonlamAI/SW00461\n",
      " * branch            master     -> FETCH_HEAD\n",
      " * [new branch]      master     -> origin/master\n",
      "Everything up-to-date\n"
     ]
    },
    {
     "name": "stdout",
     "output_type": "stream",
     "text": [
      "Repository SW00701 already exists.\n",
      "Already up to date.\n",
      "On branch master\n",
      "nothing to commit, working tree clean\n"
     ]
    },
    {
     "name": "stderr",
     "output_type": "stream",
     "text": [
      "From https://github.com/MonlamAI/SW00701\n",
      " * branch            master     -> FETCH_HEAD\n",
      " * [new branch]      master     -> origin/master\n",
      "Everything up-to-date\n"
     ]
    },
    {
     "name": "stdout",
     "output_type": "stream",
     "text": [
      "Repository SW00805 already exists.\n",
      "Already up to date.\n",
      "On branch master\n",
      "nothing to commit, working tree clean\n"
     ]
    },
    {
     "name": "stderr",
     "output_type": "stream",
     "text": [
      "From https://github.com/MonlamAI/SW00805\n",
      " * branch            master     -> FETCH_HEAD\n",
      " * [new branch]      master     -> origin/master\n",
      "Everything up-to-date\n"
     ]
    },
    {
     "name": "stdout",
     "output_type": "stream",
     "text": [
      "Repository SW00093 already exists.\n",
      "Already up to date.\n",
      "On branch master\n",
      "nothing to commit, working tree clean\n"
     ]
    },
    {
     "name": "stderr",
     "output_type": "stream",
     "text": [
      "From https://github.com/MonlamAI/SW00093\n",
      " * branch            master     -> FETCH_HEAD\n",
      " * [new branch]      master     -> origin/master\n",
      "Everything up-to-date\n"
     ]
    },
    {
     "name": "stdout",
     "output_type": "stream",
     "text": [
      "Repository SW00442 already exists.\n",
      "Already up to date.\n"
     ]
    },
    {
     "name": "stderr",
     "output_type": "stream",
     "text": [
      "From https://github.com/MonlamAI/SW00442\n",
      " * branch            master     -> FETCH_HEAD\n",
      " * [new branch]      master     -> origin/master\n",
      "Everything up-to-date\n"
     ]
    },
    {
     "name": "stdout",
     "output_type": "stream",
     "text": [
      "On branch master\n",
      "nothing to commit, working tree clean\n",
      "Repository SW00369 already exists.\n",
      "Already up to date.\n",
      "On branch master\n",
      "nothing to commit, working tree clean\n"
     ]
    },
    {
     "name": "stderr",
     "output_type": "stream",
     "text": [
      "From https://github.com/MonlamAI/SW00369\n",
      " * branch            master     -> FETCH_HEAD\n",
      " * [new branch]      master     -> origin/master\n",
      "Everything up-to-date\n"
     ]
    },
    {
     "name": "stdout",
     "output_type": "stream",
     "text": [
      "Repository SW00534 already exists.\n",
      "Already up to date.\n",
      "On branch master\n",
      "nothing to commit, working tree clean\n"
     ]
    },
    {
     "name": "stderr",
     "output_type": "stream",
     "text": [
      "From https://github.com/MonlamAI/SW00534\n",
      " * branch            master     -> FETCH_HEAD\n",
      " * [new branch]      master     -> origin/master\n",
      "Everything up-to-date\n"
     ]
    },
    {
     "name": "stdout",
     "output_type": "stream",
     "text": [
      "Repository SW00836 already exists.\n",
      "Already up to date.\n",
      "On branch master\n",
      "nothing to commit, working tree clean\n"
     ]
    },
    {
     "name": "stderr",
     "output_type": "stream",
     "text": [
      "From https://github.com/MonlamAI/SW00836\n",
      " * branch            master     -> FETCH_HEAD\n",
      " * [new branch]      master     -> origin/master\n",
      "Everything up-to-date\n"
     ]
    },
    {
     "name": "stdout",
     "output_type": "stream",
     "text": [
      "Repository SW00348 already exists.\n",
      "Already up to date.\n",
      "On branch master\n",
      "nothing to commit, working tree clean\n"
     ]
    },
    {
     "name": "stderr",
     "output_type": "stream",
     "text": [
      "From https://github.com/MonlamAI/SW00348\n",
      " * branch            master     -> FETCH_HEAD\n",
      " * [new branch]      master     -> origin/master\n",
      "Everything up-to-date\n"
     ]
    },
    {
     "name": "stdout",
     "output_type": "stream",
     "text": [
      "Repository SW00591 already exists.\n",
      "Already up to date.\n",
      "On branch master\n",
      "nothing to commit, working tree clean\n"
     ]
    },
    {
     "name": "stderr",
     "output_type": "stream",
     "text": [
      "From https://github.com/MonlamAI/SW00591\n",
      " * branch            master     -> FETCH_HEAD\n",
      " * [new branch]      master     -> origin/master\n",
      "Everything up-to-date\n"
     ]
    },
    {
     "name": "stdout",
     "output_type": "stream",
     "text": [
      "Repository SW00403 already exists.\n",
      "Already up to date.\n",
      "On branch master\n",
      "nothing to commit, working tree clean\n"
     ]
    },
    {
     "name": "stderr",
     "output_type": "stream",
     "text": [
      "From https://github.com/MonlamAI/SW00403\n",
      " * branch            master     -> FETCH_HEAD\n",
      " * [new branch]      master     -> origin/master\n",
      "Everything up-to-date\n"
     ]
    },
    {
     "name": "stdout",
     "output_type": "stream",
     "text": [
      "Repository SW00102 already exists.\n",
      "Already up to date.\n",
      "On branch master\n",
      "nothing to commit, working tree clean\n"
     ]
    },
    {
     "name": "stderr",
     "output_type": "stream",
     "text": [
      "From https://github.com/MonlamAI/SW00102\n",
      " * branch            master     -> FETCH_HEAD\n",
      " * [new branch]      master     -> origin/master\n",
      "Everything up-to-date\n"
     ]
    },
    {
     "name": "stdout",
     "output_type": "stream",
     "text": [
      "Repository SW00586 already exists.\n",
      "Already up to date.\n",
      "On branch master\n",
      "nothing to commit, working tree clean\n"
     ]
    },
    {
     "name": "stderr",
     "output_type": "stream",
     "text": [
      "From https://github.com/MonlamAI/SW00586\n",
      " * branch            master     -> FETCH_HEAD\n",
      " * [new branch]      master     -> origin/master\n",
      "Everything up-to-date\n"
     ]
    },
    {
     "name": "stdout",
     "output_type": "stream",
     "text": [
      "Repository SW00802 already exists.\n",
      "Already up to date.\n",
      "On branch master\n",
      "nothing to commit, working tree clean\n"
     ]
    },
    {
     "name": "stderr",
     "output_type": "stream",
     "text": [
      "From https://github.com/MonlamAI/SW00802\n",
      " * branch            master     -> FETCH_HEAD\n",
      " * [new branch]      master     -> origin/master\n",
      "Everything up-to-date\n"
     ]
    },
    {
     "name": "stdout",
     "output_type": "stream",
     "text": [
      "Repository SW00709 already exists.\n",
      "Already up to date.\n"
     ]
    },
    {
     "name": "stderr",
     "output_type": "stream",
     "text": [
      "From https://github.com/MonlamAI/SW00709\n",
      " * branch            master     -> FETCH_HEAD\n",
      " * [new branch]      master     -> origin/master\n",
      "Everything up-to-date\n"
     ]
    },
    {
     "name": "stdout",
     "output_type": "stream",
     "text": [
      "On branch master\n",
      "nothing to commit, working tree clean\n",
      "Repository SW00003 already exists.\n",
      "Already up to date.\n",
      "On branch master\n",
      "nothing to commit, working tree clean\n"
     ]
    },
    {
     "name": "stderr",
     "output_type": "stream",
     "text": [
      "From https://github.com/MonlamAI/SW00003\n",
      " * branch            master     -> FETCH_HEAD\n",
      " * [new branch]      master     -> origin/master\n",
      "Everything up-to-date\n"
     ]
    },
    {
     "name": "stdout",
     "output_type": "stream",
     "text": [
      "Repository SW00052 already exists.\n",
      "Already up to date.\n",
      "On branch master\n",
      "nothing to commit, working tree clean\n"
     ]
    },
    {
     "name": "stderr",
     "output_type": "stream",
     "text": [
      "From https://github.com/MonlamAI/SW00052\n",
      " * branch            master     -> FETCH_HEAD\n",
      " * [new branch]      master     -> origin/master\n",
      "Everything up-to-date\n"
     ]
    },
    {
     "name": "stdout",
     "output_type": "stream",
     "text": [
      "Repository SW00074 already exists.\n",
      "Already up to date.\n",
      "On branch master\n",
      "nothing to commit, working tree clean\n"
     ]
    },
    {
     "name": "stderr",
     "output_type": "stream",
     "text": [
      "From https://github.com/MonlamAI/SW00074\n",
      " * branch            master     -> FETCH_HEAD\n",
      " * [new branch]      master     -> origin/master\n",
      "Everything up-to-date\n"
     ]
    },
    {
     "name": "stdout",
     "output_type": "stream",
     "text": [
      "Repository SW00600 already exists.\n",
      "Already up to date.\n",
      "On branch master\n",
      "nothing to commit, working tree clean\n"
     ]
    },
    {
     "name": "stderr",
     "output_type": "stream",
     "text": [
      "From https://github.com/MonlamAI/SW00600\n",
      " * branch            master     -> FETCH_HEAD\n",
      " * [new branch]      master     -> origin/master\n",
      "Everything up-to-date\n"
     ]
    },
    {
     "name": "stdout",
     "output_type": "stream",
     "text": [
      "Repository SW00009 already exists.\n",
      "Already up to date.\n",
      "On branch master\n",
      "nothing to commit, working tree clean\n"
     ]
    },
    {
     "name": "stderr",
     "output_type": "stream",
     "text": [
      "From https://github.com/MonlamAI/SW00009\n",
      " * branch            master     -> FETCH_HEAD\n",
      " * [new branch]      master     -> origin/master\n",
      "Everything up-to-date\n"
     ]
    },
    {
     "name": "stdout",
     "output_type": "stream",
     "text": [
      "Repository SW00675 already exists.\n",
      "Already up to date.\n",
      "On branch master\n",
      "nothing to commit, working tree clean\n"
     ]
    },
    {
     "name": "stderr",
     "output_type": "stream",
     "text": [
      "From https://github.com/MonlamAI/SW00675\n",
      " * branch            master     -> FETCH_HEAD\n",
      " * [new branch]      master     -> origin/master\n",
      "Everything up-to-date\n"
     ]
    },
    {
     "name": "stdout",
     "output_type": "stream",
     "text": [
      "Repository SW00090 already exists.\n",
      "Already up to date.\n",
      "On branch master\n",
      "nothing to commit, working tree clean\n"
     ]
    },
    {
     "name": "stderr",
     "output_type": "stream",
     "text": [
      "From https://github.com/MonlamAI/SW00090\n",
      " * branch            master     -> FETCH_HEAD\n",
      " * [new branch]      master     -> origin/master\n",
      "Everything up-to-date\n"
     ]
    },
    {
     "name": "stdout",
     "output_type": "stream",
     "text": [
      "Repository SW00912 already exists.\n",
      "Already up to date.\n",
      "On branch master\n",
      "nothing to commit, working tree clean\n"
     ]
    },
    {
     "name": "stderr",
     "output_type": "stream",
     "text": [
      "From https://github.com/MonlamAI/SW00912\n",
      " * branch            master     -> FETCH_HEAD\n",
      " * [new branch]      master     -> origin/master\n",
      "Everything up-to-date\n"
     ]
    },
    {
     "name": "stdout",
     "output_type": "stream",
     "text": [
      "Repository SW00856 already exists.\n",
      "Already up to date.\n",
      "On branch master\n",
      "nothing to commit, working tree clean\n"
     ]
    },
    {
     "name": "stderr",
     "output_type": "stream",
     "text": [
      "From https://github.com/MonlamAI/SW00856\n",
      " * branch            master     -> FETCH_HEAD\n",
      " * [new branch]      master     -> origin/master\n",
      "Everything up-to-date\n"
     ]
    },
    {
     "name": "stdout",
     "output_type": "stream",
     "text": [
      "Repository SW00818 already exists.\n",
      "Already up to date.\n"
     ]
    },
    {
     "name": "stderr",
     "output_type": "stream",
     "text": [
      "From https://github.com/MonlamAI/SW00818\n",
      " * branch            master     -> FETCH_HEAD\n",
      " * [new branch]      master     -> origin/master\n",
      "Everything up-to-date\n"
     ]
    },
    {
     "name": "stdout",
     "output_type": "stream",
     "text": [
      "On branch master\n",
      "nothing to commit, working tree clean\n",
      "Repository SW00783 already exists.\n",
      "Already up to date.\n",
      "On branch master\n",
      "nothing to commit, working tree clean\n"
     ]
    },
    {
     "name": "stderr",
     "output_type": "stream",
     "text": [
      "From https://github.com/MonlamAI/SW00783\n",
      " * branch            master     -> FETCH_HEAD\n",
      " * [new branch]      master     -> origin/master\n",
      "Everything up-to-date\n"
     ]
    },
    {
     "name": "stdout",
     "output_type": "stream",
     "text": [
      "Repository SW00255 already exists.\n",
      "Already up to date.\n",
      "On branch master\n",
      "nothing to commit, working tree clean\n"
     ]
    },
    {
     "name": "stderr",
     "output_type": "stream",
     "text": [
      "From https://github.com/MonlamAI/SW00255\n",
      " * branch            master     -> FETCH_HEAD\n",
      " * [new branch]      master     -> origin/master\n",
      "Everything up-to-date\n"
     ]
    },
    {
     "name": "stdout",
     "output_type": "stream",
     "text": [
      "Repository SW00871 already exists.\n",
      "Already up to date.\n",
      "On branch master\n",
      "nothing to commit, working tree clean\n"
     ]
    },
    {
     "name": "stderr",
     "output_type": "stream",
     "text": [
      "From https://github.com/MonlamAI/SW00871\n",
      " * branch            master     -> FETCH_HEAD\n",
      " * [new branch]      master     -> origin/master\n",
      "Everything up-to-date\n"
     ]
    },
    {
     "name": "stdout",
     "output_type": "stream",
     "text": [
      "Repository SW00353 already exists.\n",
      "Already up to date.\n",
      "On branch master\n",
      "nothing to commit, working tree clean\n"
     ]
    },
    {
     "name": "stderr",
     "output_type": "stream",
     "text": [
      "From https://github.com/MonlamAI/SW00353\n",
      " * branch            master     -> FETCH_HEAD\n",
      " * [new branch]      master     -> origin/master\n",
      "Everything up-to-date\n"
     ]
    },
    {
     "name": "stdout",
     "output_type": "stream",
     "text": [
      "Repository SW00768 already exists.\n",
      "Already up to date.\n",
      "On branch master\n",
      "nothing to commit, working tree clean\n"
     ]
    },
    {
     "name": "stderr",
     "output_type": "stream",
     "text": [
      "From https://github.com/MonlamAI/SW00768\n",
      " * branch            master     -> FETCH_HEAD\n",
      " * [new branch]      master     -> origin/master\n",
      "Everything up-to-date\n"
     ]
    },
    {
     "name": "stdout",
     "output_type": "stream",
     "text": [
      "Repository SW00047 already exists.\n",
      "Already up to date.\n",
      "On branch master\n",
      "nothing to commit, working tree clean\n"
     ]
    },
    {
     "name": "stderr",
     "output_type": "stream",
     "text": [
      "From https://github.com/MonlamAI/SW00047\n",
      " * branch            master     -> FETCH_HEAD\n",
      " * [new branch]      master     -> origin/master\n",
      "Everything up-to-date\n"
     ]
    },
    {
     "name": "stdout",
     "output_type": "stream",
     "text": [
      "Repository SW00351 already exists.\n",
      "Already up to date.\n",
      "On branch master\n",
      "nothing to commit, working tree clean\n"
     ]
    },
    {
     "name": "stderr",
     "output_type": "stream",
     "text": [
      "From https://github.com/MonlamAI/SW00351\n",
      " * branch            master     -> FETCH_HEAD\n",
      " * [new branch]      master     -> origin/master\n",
      "Everything up-to-date\n"
     ]
    },
    {
     "name": "stdout",
     "output_type": "stream",
     "text": [
      "Repository SW00431 already exists.\n",
      "Already up to date.\n",
      "On branch master\n",
      "nothing to commit, working tree clean\n"
     ]
    },
    {
     "name": "stderr",
     "output_type": "stream",
     "text": [
      "From https://github.com/MonlamAI/SW00431\n",
      " * branch            master     -> FETCH_HEAD\n",
      " * [new branch]      master     -> origin/master\n",
      "Everything up-to-date\n"
     ]
    },
    {
     "name": "stdout",
     "output_type": "stream",
     "text": [
      "Repository SW00570 already exists.\n",
      "Already up to date.\n",
      "On branch master\n",
      "nothing to commit, working tree clean\n"
     ]
    },
    {
     "name": "stderr",
     "output_type": "stream",
     "text": [
      "From https://github.com/MonlamAI/SW00570\n",
      " * branch            master     -> FETCH_HEAD\n",
      " * [new branch]      master     -> origin/master\n",
      "Everything up-to-date\n"
     ]
    },
    {
     "name": "stdout",
     "output_type": "stream",
     "text": [
      "Repository SW00158 already exists.\n",
      "Already up to date.\n"
     ]
    },
    {
     "name": "stderr",
     "output_type": "stream",
     "text": [
      "From https://github.com/MonlamAI/SW00158\n",
      " * branch            master     -> FETCH_HEAD\n",
      " * [new branch]      master     -> origin/master\n",
      "Everything up-to-date\n"
     ]
    },
    {
     "name": "stdout",
     "output_type": "stream",
     "text": [
      "On branch master\n",
      "nothing to commit, working tree clean\n",
      "Repository SW00400 already exists.\n",
      "Already up to date.\n",
      "On branch master\n",
      "nothing to commit, working tree clean\n"
     ]
    },
    {
     "name": "stderr",
     "output_type": "stream",
     "text": [
      "From https://github.com/MonlamAI/SW00400\n",
      " * branch            master     -> FETCH_HEAD\n",
      " * [new branch]      master     -> origin/master\n",
      "Everything up-to-date\n"
     ]
    },
    {
     "name": "stdout",
     "output_type": "stream",
     "text": [
      "Repository SW00625 already exists.\n",
      "Already up to date.\n",
      "On branch master\n",
      "nothing to commit, working tree clean\n"
     ]
    },
    {
     "name": "stderr",
     "output_type": "stream",
     "text": [
      "From https://github.com/MonlamAI/SW00625\n",
      " * branch            master     -> FETCH_HEAD\n",
      " * [new branch]      master     -> origin/master\n",
      "Everything up-to-date\n"
     ]
    },
    {
     "name": "stdout",
     "output_type": "stream",
     "text": [
      "Repository SW00682 already exists.\n",
      "Already up to date.\n",
      "On branch master\n",
      "nothing to commit, working tree clean\n"
     ]
    },
    {
     "name": "stderr",
     "output_type": "stream",
     "text": [
      "From https://github.com/MonlamAI/SW00682\n",
      " * branch            master     -> FETCH_HEAD\n",
      " * [new branch]      master     -> origin/master\n",
      "Everything up-to-date\n"
     ]
    },
    {
     "name": "stdout",
     "output_type": "stream",
     "text": [
      "Repository SW00941 already exists.\n",
      "Already up to date.\n",
      "On branch master\n",
      "nothing to commit, working tree clean\n"
     ]
    },
    {
     "name": "stderr",
     "output_type": "stream",
     "text": [
      "From https://github.com/MonlamAI/SW00941\n",
      " * branch            master     -> FETCH_HEAD\n",
      " * [new branch]      master     -> origin/master\n",
      "Everything up-to-date\n"
     ]
    },
    {
     "name": "stdout",
     "output_type": "stream",
     "text": [
      "Repository SW00236 already exists.\n",
      "Already up to date.\n",
      "On branch master\n",
      "nothing to commit, working tree clean\n"
     ]
    },
    {
     "name": "stderr",
     "output_type": "stream",
     "text": [
      "From https://github.com/MonlamAI/SW00236\n",
      " * branch            master     -> FETCH_HEAD\n",
      " * [new branch]      master     -> origin/master\n",
      "Everything up-to-date\n"
     ]
    },
    {
     "name": "stdout",
     "output_type": "stream",
     "text": [
      "Repository SW00579 already exists.\n",
      "Already up to date.\n",
      "On branch master\n",
      "nothing to commit, working tree clean\n"
     ]
    },
    {
     "name": "stderr",
     "output_type": "stream",
     "text": [
      "From https://github.com/MonlamAI/SW00579\n",
      " * branch            master     -> FETCH_HEAD\n",
      " * [new branch]      master     -> origin/master\n",
      "Everything up-to-date\n"
     ]
    },
    {
     "name": "stdout",
     "output_type": "stream",
     "text": [
      "Repository SW00622 already exists.\n",
      "Already up to date.\n",
      "On branch master\n",
      "nothing to commit, working tree clean\n"
     ]
    },
    {
     "name": "stderr",
     "output_type": "stream",
     "text": [
      "From https://github.com/MonlamAI/SW00622\n",
      " * branch            master     -> FETCH_HEAD\n",
      " * [new branch]      master     -> origin/master\n",
      "Everything up-to-date\n"
     ]
    },
    {
     "name": "stdout",
     "output_type": "stream",
     "text": [
      "Repository SW00249 already exists.\n",
      "Already up to date.\n",
      "On branch master\n",
      "nothing to commit, working tree clean\n"
     ]
    },
    {
     "name": "stderr",
     "output_type": "stream",
     "text": [
      "From https://github.com/MonlamAI/SW00249\n",
      " * branch            master     -> FETCH_HEAD\n",
      " * [new branch]      master     -> origin/master\n",
      "Everything up-to-date\n"
     ]
    },
    {
     "name": "stdout",
     "output_type": "stream",
     "text": [
      "Repository SW00297 already exists.\n",
      "Already up to date.\n",
      "On branch master\n",
      "nothing to commit, working tree clean\n"
     ]
    },
    {
     "name": "stderr",
     "output_type": "stream",
     "text": [
      "From https://github.com/MonlamAI/SW00297\n",
      " * branch            master     -> FETCH_HEAD\n",
      " * [new branch]      master     -> origin/master\n",
      "Everything up-to-date\n"
     ]
    },
    {
     "name": "stdout",
     "output_type": "stream",
     "text": [
      "Repository SW00880 already exists.\n",
      "Already up to date.\n",
      "On branch master\n",
      "nothing to commit, working tree clean\n"
     ]
    },
    {
     "name": "stderr",
     "output_type": "stream",
     "text": [
      "From https://github.com/MonlamAI/SW00880\n",
      " * branch            master     -> FETCH_HEAD\n",
      " * [new branch]      master     -> origin/master\n",
      "Everything up-to-date\n"
     ]
    },
    {
     "name": "stdout",
     "output_type": "stream",
     "text": [
      "Repository SW00330 already exists.\n",
      "Already up to date.\n",
      "On branch master\n",
      "nothing to commit, working tree clean\n"
     ]
    },
    {
     "name": "stderr",
     "output_type": "stream",
     "text": [
      "From https://github.com/MonlamAI/SW00330\n",
      " * branch            master     -> FETCH_HEAD\n",
      " * [new branch]      master     -> origin/master\n",
      "Everything up-to-date\n"
     ]
    },
    {
     "name": "stdout",
     "output_type": "stream",
     "text": [
      "Repository SW00810 already exists.\n",
      "Already up to date.\n",
      "On branch master\n",
      "nothing to commit, working tree clean\n"
     ]
    },
    {
     "name": "stderr",
     "output_type": "stream",
     "text": [
      "From https://github.com/MonlamAI/SW00810\n",
      " * branch            master     -> FETCH_HEAD\n",
      " * [new branch]      master     -> origin/master\n",
      "Everything up-to-date\n"
     ]
    },
    {
     "name": "stdout",
     "output_type": "stream",
     "text": [
      "Repository SW00340 already exists.\n",
      "Already up to date.\n",
      "On branch master\n",
      "nothing to commit, working tree clean\n"
     ]
    },
    {
     "name": "stderr",
     "output_type": "stream",
     "text": [
      "From https://github.com/MonlamAI/SW00340\n",
      " * branch            master     -> FETCH_HEAD\n",
      " * [new branch]      master     -> origin/master\n",
      "Everything up-to-date\n"
     ]
    },
    {
     "name": "stdout",
     "output_type": "stream",
     "text": [
      "Repository SW00620 already exists.\n",
      "Already up to date.\n",
      "On branch master\n",
      "nothing to commit, working tree clean\n"
     ]
    },
    {
     "name": "stderr",
     "output_type": "stream",
     "text": [
      "From https://github.com/MonlamAI/SW00620\n",
      " * branch            master     -> FETCH_HEAD\n",
      " * [new branch]      master     -> origin/master\n",
      "Everything up-to-date\n"
     ]
    },
    {
     "name": "stdout",
     "output_type": "stream",
     "text": [
      "Repository SW00681 already exists.\n",
      "Already up to date.\n",
      "On branch master\n",
      "nothing to commit, working tree clean\n"
     ]
    },
    {
     "name": "stderr",
     "output_type": "stream",
     "text": [
      "From https://github.com/MonlamAI/SW00681\n",
      " * branch            master     -> FETCH_HEAD\n",
      " * [new branch]      master     -> origin/master\n",
      "Everything up-to-date\n"
     ]
    },
    {
     "name": "stdout",
     "output_type": "stream",
     "text": [
      "Repository SW00432 already exists.\n",
      "Already up to date.\n",
      "On branch master\n",
      "nothing to commit, working tree clean\n"
     ]
    },
    {
     "name": "stderr",
     "output_type": "stream",
     "text": [
      "From https://github.com/MonlamAI/SW00432\n",
      " * branch            master     -> FETCH_HEAD\n",
      " * [new branch]      master     -> origin/master\n",
      "Everything up-to-date\n"
     ]
    },
    {
     "name": "stdout",
     "output_type": "stream",
     "text": [
      "Repository SW00382 already exists.\n",
      "Already up to date.\n",
      "On branch master\n",
      "nothing to commit, working tree clean\n"
     ]
    },
    {
     "name": "stderr",
     "output_type": "stream",
     "text": [
      "From https://github.com/MonlamAI/SW00382\n",
      " * branch            master     -> FETCH_HEAD\n",
      " * [new branch]      master     -> origin/master\n",
      "Everything up-to-date\n"
     ]
    },
    {
     "name": "stdout",
     "output_type": "stream",
     "text": [
      "Repository SW00555 already exists.\n",
      "Already up to date.\n",
      "On branch master\n",
      "nothing to commit, working tree clean\n"
     ]
    },
    {
     "name": "stderr",
     "output_type": "stream",
     "text": [
      "From https://github.com/MonlamAI/SW00555\n",
      " * branch            master     -> FETCH_HEAD\n",
      " * [new branch]      master     -> origin/master\n",
      "Everything up-to-date\n"
     ]
    },
    {
     "name": "stdout",
     "output_type": "stream",
     "text": [
      "Repository SW00630 already exists.\n",
      "Already up to date.\n",
      "On branch master\n",
      "nothing to commit, working tree clean\n"
     ]
    },
    {
     "name": "stderr",
     "output_type": "stream",
     "text": [
      "From https://github.com/MonlamAI/SW00630\n",
      " * branch            master     -> FETCH_HEAD\n",
      " * [new branch]      master     -> origin/master\n",
      "Everything up-to-date\n"
     ]
    },
    {
     "name": "stdout",
     "output_type": "stream",
     "text": [
      "Repository SW00828 already exists.\n",
      "Already up to date.\n",
      "On branch master\n",
      "nothing to commit, working tree clean\n"
     ]
    },
    {
     "name": "stderr",
     "output_type": "stream",
     "text": [
      "From https://github.com/MonlamAI/SW00828\n",
      " * branch            master     -> FETCH_HEAD\n",
      " * [new branch]      master     -> origin/master\n",
      "Everything up-to-date\n"
     ]
    },
    {
     "name": "stdout",
     "output_type": "stream",
     "text": [
      "Repository SW00459 already exists.\n",
      "Already up to date.\n",
      "On branch master\n",
      "nothing to commit, working tree clean\n"
     ]
    },
    {
     "name": "stderr",
     "output_type": "stream",
     "text": [
      "From https://github.com/MonlamAI/SW00459\n",
      " * branch            master     -> FETCH_HEAD\n",
      " * [new branch]      master     -> origin/master\n",
      "Everything up-to-date\n"
     ]
    },
    {
     "name": "stdout",
     "output_type": "stream",
     "text": [
      "Repository SW00692 already exists.\n",
      "Already up to date.\n",
      "On branch master\n",
      "nothing to commit, working tree clean\n"
     ]
    },
    {
     "name": "stderr",
     "output_type": "stream",
     "text": [
      "From https://github.com/MonlamAI/SW00692\n",
      " * branch            master     -> FETCH_HEAD\n",
      " * [new branch]      master     -> origin/master\n",
      "Everything up-to-date\n"
     ]
    },
    {
     "name": "stdout",
     "output_type": "stream",
     "text": [
      "Repository SW00133 already exists.\n",
      "Already up to date.\n",
      "On branch master\n",
      "nothing to commit, working tree clean\n"
     ]
    },
    {
     "name": "stderr",
     "output_type": "stream",
     "text": [
      "From https://github.com/MonlamAI/SW00133\n",
      " * branch            master     -> FETCH_HEAD\n",
      " * [new branch]      master     -> origin/master\n",
      "Everything up-to-date\n"
     ]
    },
    {
     "name": "stdout",
     "output_type": "stream",
     "text": [
      "Repository SW00505 already exists.\n",
      "Already up to date.\n",
      "On branch master\n",
      "nothing to commit, working tree clean\n"
     ]
    },
    {
     "name": "stderr",
     "output_type": "stream",
     "text": [
      "From https://github.com/MonlamAI/SW00505\n",
      " * branch            master     -> FETCH_HEAD\n",
      " * [new branch]      master     -> origin/master\n",
      "Everything up-to-date\n"
     ]
    },
    {
     "name": "stdout",
     "output_type": "stream",
     "text": [
      "Repository SW00464 already exists.\n",
      "Already up to date.\n",
      "On branch master\n",
      "nothing to commit, working tree clean\n"
     ]
    },
    {
     "name": "stderr",
     "output_type": "stream",
     "text": [
      "From https://github.com/MonlamAI/SW00464\n",
      " * branch            master     -> FETCH_HEAD\n",
      " * [new branch]      master     -> origin/master\n",
      "Everything up-to-date\n"
     ]
    },
    {
     "name": "stdout",
     "output_type": "stream",
     "text": [
      "Repository SW00298 already exists.\n",
      "Already up to date.\n",
      "On branch master\n",
      "nothing to commit, working tree clean\n"
     ]
    },
    {
     "name": "stderr",
     "output_type": "stream",
     "text": [
      "From https://github.com/MonlamAI/SW00298\n",
      " * branch            master     -> FETCH_HEAD\n",
      " * [new branch]      master     -> origin/master\n",
      "Everything up-to-date\n"
     ]
    },
    {
     "name": "stdout",
     "output_type": "stream",
     "text": [
      "Repository SW00007 already exists.\n",
      "Already up to date.\n",
      "On branch master\n",
      "nothing to commit, working tree clean\n"
     ]
    },
    {
     "name": "stderr",
     "output_type": "stream",
     "text": [
      "From https://github.com/MonlamAI/SW00007\n",
      " * branch            master     -> FETCH_HEAD\n",
      " * [new branch]      master     -> origin/master\n",
      "Everything up-to-date\n"
     ]
    },
    {
     "name": "stdout",
     "output_type": "stream",
     "text": [
      "Repository SW00433 already exists.\n",
      "Already up to date.\n",
      "On branch master\n",
      "nothing to commit, working tree clean\n"
     ]
    },
    {
     "name": "stderr",
     "output_type": "stream",
     "text": [
      "From https://github.com/MonlamAI/SW00433\n",
      " * branch            master     -> FETCH_HEAD\n",
      " * [new branch]      master     -> origin/master\n",
      "Everything up-to-date\n"
     ]
    },
    {
     "name": "stdout",
     "output_type": "stream",
     "text": [
      "Repository SW00219 already exists.\n",
      "Already up to date.\n",
      "On branch master\n",
      "nothing to commit, working tree clean\n"
     ]
    },
    {
     "name": "stderr",
     "output_type": "stream",
     "text": [
      "From https://github.com/MonlamAI/SW00219\n",
      " * branch            master     -> FETCH_HEAD\n",
      " * [new branch]      master     -> origin/master\n",
      "Everything up-to-date\n"
     ]
    },
    {
     "name": "stdout",
     "output_type": "stream",
     "text": [
      "Repository SW00858 already exists.\n",
      "Already up to date.\n",
      "On branch master\n",
      "nothing to commit, working tree clean\n"
     ]
    },
    {
     "name": "stderr",
     "output_type": "stream",
     "text": [
      "From https://github.com/MonlamAI/SW00858\n",
      " * branch            master     -> FETCH_HEAD\n",
      " * [new branch]      master     -> origin/master\n",
      "Everything up-to-date\n"
     ]
    },
    {
     "name": "stdout",
     "output_type": "stream",
     "text": [
      "Repository SW00719 already exists.\n",
      "Already up to date.\n",
      "On branch master\n",
      "nothing to commit, working tree clean\n"
     ]
    },
    {
     "name": "stderr",
     "output_type": "stream",
     "text": [
      "From https://github.com/MonlamAI/SW00719\n",
      " * branch            master     -> FETCH_HEAD\n",
      " * [new branch]      master     -> origin/master\n",
      "Everything up-to-date\n"
     ]
    },
    {
     "name": "stdout",
     "output_type": "stream",
     "text": [
      "Repository SW00373 already exists.\n",
      "Already up to date.\n",
      "On branch master\n",
      "nothing to commit, working tree clean\n"
     ]
    },
    {
     "name": "stderr",
     "output_type": "stream",
     "text": [
      "From https://github.com/MonlamAI/SW00373\n",
      " * branch            master     -> FETCH_HEAD\n",
      " * [new branch]      master     -> origin/master\n",
      "Everything up-to-date\n"
     ]
    },
    {
     "name": "stdout",
     "output_type": "stream",
     "text": [
      "Repository SW00362 already exists.\n",
      "Already up to date.\n",
      "On branch master\n",
      "nothing to commit, working tree clean\n"
     ]
    },
    {
     "name": "stderr",
     "output_type": "stream",
     "text": [
      "From https://github.com/MonlamAI/SW00362\n",
      " * branch            master     -> FETCH_HEAD\n",
      " * [new branch]      master     -> origin/master\n",
      "Everything up-to-date\n"
     ]
    },
    {
     "name": "stdout",
     "output_type": "stream",
     "text": [
      "Repository SW00164 already exists.\n",
      "Already up to date.\n",
      "On branch master\n",
      "nothing to commit, working tree clean\n"
     ]
    },
    {
     "name": "stderr",
     "output_type": "stream",
     "text": [
      "From https://github.com/MonlamAI/SW00164\n",
      " * branch            master     -> FETCH_HEAD\n",
      " * [new branch]      master     -> origin/master\n",
      "Everything up-to-date\n"
     ]
    },
    {
     "name": "stdout",
     "output_type": "stream",
     "text": [
      "Repository SW00374 already exists.\n",
      "Already up to date.\n",
      "On branch master\n",
      "nothing to commit, working tree clean\n"
     ]
    },
    {
     "name": "stderr",
     "output_type": "stream",
     "text": [
      "From https://github.com/MonlamAI/SW00374\n",
      " * branch            master     -> FETCH_HEAD\n",
      " * [new branch]      master     -> origin/master\n",
      "Everything up-to-date\n"
     ]
    },
    {
     "name": "stdout",
     "output_type": "stream",
     "text": [
      "Repository SW00823 already exists.\n",
      "Already up to date.\n",
      "On branch master\n",
      "nothing to commit, working tree clean\n"
     ]
    },
    {
     "name": "stderr",
     "output_type": "stream",
     "text": [
      "From https://github.com/MonlamAI/SW00823\n",
      " * branch            master     -> FETCH_HEAD\n",
      " * [new branch]      master     -> origin/master\n",
      "Everything up-to-date\n"
     ]
    },
    {
     "name": "stdout",
     "output_type": "stream",
     "text": [
      "Repository SW00518 already exists.\n",
      "Already up to date.\n",
      "On branch master\n",
      "nothing to commit, working tree clean\n"
     ]
    },
    {
     "name": "stderr",
     "output_type": "stream",
     "text": [
      "From https://github.com/MonlamAI/SW00518\n",
      " * branch            master     -> FETCH_HEAD\n",
      " * [new branch]      master     -> origin/master\n",
      "Everything up-to-date\n"
     ]
    },
    {
     "name": "stdout",
     "output_type": "stream",
     "text": [
      "Repository SW00580 already exists.\n",
      "Already up to date.\n",
      "On branch master\n",
      "nothing to commit, working tree clean\n"
     ]
    },
    {
     "name": "stderr",
     "output_type": "stream",
     "text": [
      "From https://github.com/MonlamAI/SW00580\n",
      " * branch            master     -> FETCH_HEAD\n",
      " * [new branch]      master     -> origin/master\n",
      "Everything up-to-date\n"
     ]
    },
    {
     "name": "stdout",
     "output_type": "stream",
     "text": [
      "Repository SW00169 already exists.\n",
      "Already up to date.\n",
      "On branch master\n",
      "nothing to commit, working tree clean\n"
     ]
    },
    {
     "name": "stderr",
     "output_type": "stream",
     "text": [
      "From https://github.com/MonlamAI/SW00169\n",
      " * branch            master     -> FETCH_HEAD\n",
      " * [new branch]      master     -> origin/master\n",
      "Everything up-to-date\n"
     ]
    },
    {
     "name": "stdout",
     "output_type": "stream",
     "text": [
      "Repository SW00289 already exists.\n",
      "Already up to date.\n",
      "On branch master\n",
      "nothing to commit, working tree clean\n"
     ]
    },
    {
     "name": "stderr",
     "output_type": "stream",
     "text": [
      "From https://github.com/MonlamAI/SW00289\n",
      " * branch            master     -> FETCH_HEAD\n",
      " * [new branch]      master     -> origin/master\n",
      "Everything up-to-date\n"
     ]
    },
    {
     "name": "stdout",
     "output_type": "stream",
     "text": [
      "Repository SW00571 already exists.\n",
      "Already up to date.\n",
      "On branch master\n",
      "nothing to commit, working tree clean\n"
     ]
    },
    {
     "name": "stderr",
     "output_type": "stream",
     "text": [
      "From https://github.com/MonlamAI/SW00571\n",
      " * branch            master     -> FETCH_HEAD\n",
      " * [new branch]      master     -> origin/master\n",
      "Everything up-to-date\n"
     ]
    },
    {
     "name": "stdout",
     "output_type": "stream",
     "text": [
      "Repository SW00079 already exists.\n",
      "Already up to date.\n",
      "On branch master\n",
      "nothing to commit, working tree clean\n"
     ]
    },
    {
     "name": "stderr",
     "output_type": "stream",
     "text": [
      "From https://github.com/MonlamAI/SW00079\n",
      " * branch            master     -> FETCH_HEAD\n",
      " * [new branch]      master     -> origin/master\n",
      "Everything up-to-date\n"
     ]
    },
    {
     "name": "stdout",
     "output_type": "stream",
     "text": [
      "Repository SW00395 already exists.\n",
      "Already up to date.\n",
      "On branch master\n",
      "nothing to commit, working tree clean\n"
     ]
    },
    {
     "name": "stderr",
     "output_type": "stream",
     "text": [
      "From https://github.com/MonlamAI/SW00395\n",
      " * branch            master     -> FETCH_HEAD\n",
      " * [new branch]      master     -> origin/master\n",
      "Everything up-to-date\n"
     ]
    },
    {
     "name": "stdout",
     "output_type": "stream",
     "text": [
      "Repository SW00418 already exists.\n",
      "Already up to date.\n",
      "On branch master\n",
      "nothing to commit, working tree clean\n"
     ]
    },
    {
     "name": "stderr",
     "output_type": "stream",
     "text": [
      "From https://github.com/MonlamAI/SW00418\n",
      " * branch            master     -> FETCH_HEAD\n",
      " * [new branch]      master     -> origin/master\n",
      "Everything up-to-date\n"
     ]
    },
    {
     "name": "stdout",
     "output_type": "stream",
     "text": [
      "Repository SW00245 already exists.\n",
      "Already up to date.\n",
      "On branch master\n",
      "nothing to commit, working tree clean\n"
     ]
    },
    {
     "name": "stderr",
     "output_type": "stream",
     "text": [
      "From https://github.com/MonlamAI/SW00245\n",
      " * branch            master     -> FETCH_HEAD\n",
      " * [new branch]      master     -> origin/master\n",
      "Everything up-to-date\n"
     ]
    },
    {
     "name": "stdout",
     "output_type": "stream",
     "text": [
      "Repository SW00361 already exists.\n",
      "Already up to date.\n",
      "On branch master\n",
      "nothing to commit, working tree clean\n"
     ]
    },
    {
     "name": "stderr",
     "output_type": "stream",
     "text": [
      "From https://github.com/MonlamAI/SW00361\n",
      " * branch            master     -> FETCH_HEAD\n",
      " * [new branch]      master     -> origin/master\n",
      "Everything up-to-date\n"
     ]
    },
    {
     "name": "stdout",
     "output_type": "stream",
     "text": [
      "Repository SW00864 already exists.\n",
      "Already up to date.\n",
      "On branch master\n",
      "nothing to commit, working tree clean\n"
     ]
    },
    {
     "name": "stderr",
     "output_type": "stream",
     "text": [
      "From https://github.com/MonlamAI/SW00864\n",
      " * branch            master     -> FETCH_HEAD\n",
      " * [new branch]      master     -> origin/master\n",
      "Everything up-to-date\n"
     ]
    },
    {
     "name": "stdout",
     "output_type": "stream",
     "text": [
      "Repository SW00766 already exists.\n",
      "Already up to date.\n",
      "On branch master\n",
      "nothing to commit, working tree clean\n"
     ]
    },
    {
     "name": "stderr",
     "output_type": "stream",
     "text": [
      "From https://github.com/MonlamAI/SW00766\n",
      " * branch            master     -> FETCH_HEAD\n",
      " * [new branch]      master     -> origin/master\n",
      "Everything up-to-date\n"
     ]
    },
    {
     "name": "stdout",
     "output_type": "stream",
     "text": [
      "Repository SW00740 already exists.\n",
      "Already up to date.\n",
      "On branch master\n",
      "nothing to commit, working tree clean\n"
     ]
    },
    {
     "name": "stderr",
     "output_type": "stream",
     "text": [
      "From https://github.com/MonlamAI/SW00740\n",
      " * branch            master     -> FETCH_HEAD\n",
      " * [new branch]      master     -> origin/master\n",
      "Everything up-to-date\n"
     ]
    },
    {
     "name": "stdout",
     "output_type": "stream",
     "text": [
      "Repository SW00930 already exists.\n",
      "Already up to date.\n",
      "On branch master\n",
      "nothing to commit, working tree clean\n"
     ]
    },
    {
     "name": "stderr",
     "output_type": "stream",
     "text": [
      "From https://github.com/MonlamAI/SW00930\n",
      " * branch            master     -> FETCH_HEAD\n",
      " * [new branch]      master     -> origin/master\n",
      "Everything up-to-date\n"
     ]
    },
    {
     "name": "stdout",
     "output_type": "stream",
     "text": [
      "Repository SW00272 already exists.\n",
      "Already up to date.\n",
      "On branch master\n",
      "nothing to commit, working tree clean\n"
     ]
    },
    {
     "name": "stderr",
     "output_type": "stream",
     "text": [
      "From https://github.com/MonlamAI/SW00272\n",
      " * branch            master     -> FETCH_HEAD\n",
      " * [new branch]      master     -> origin/master\n",
      "Everything up-to-date\n"
     ]
    },
    {
     "name": "stdout",
     "output_type": "stream",
     "text": [
      "Repository SW00192 already exists.\n",
      "Already up to date.\n",
      "On branch master\n",
      "nothing to commit, working tree clean\n"
     ]
    },
    {
     "name": "stderr",
     "output_type": "stream",
     "text": [
      "From https://github.com/MonlamAI/SW00192\n",
      " * branch            master     -> FETCH_HEAD\n",
      " * [new branch]      master     -> origin/master\n",
      "Everything up-to-date\n"
     ]
    },
    {
     "name": "stdout",
     "output_type": "stream",
     "text": [
      "Repository SW00141 already exists.\n",
      "Already up to date.\n",
      "On branch master\n",
      "nothing to commit, working tree clean\n"
     ]
    },
    {
     "name": "stderr",
     "output_type": "stream",
     "text": [
      "From https://github.com/MonlamAI/SW00141\n",
      " * branch            master     -> FETCH_HEAD\n",
      " * [new branch]      master     -> origin/master\n",
      "Everything up-to-date\n"
     ]
    },
    {
     "name": "stdout",
     "output_type": "stream",
     "text": [
      "Repository SW00419 already exists.\n",
      "Already up to date.\n",
      "On branch master\n",
      "nothing to commit, working tree clean\n"
     ]
    },
    {
     "name": "stderr",
     "output_type": "stream",
     "text": [
      "From https://github.com/MonlamAI/SW00419\n",
      " * branch            master     -> FETCH_HEAD\n",
      " * [new branch]      master     -> origin/master\n",
      "Everything up-to-date\n"
     ]
    },
    {
     "name": "stdout",
     "output_type": "stream",
     "text": [
      "Repository SW00876 already exists.\n",
      "Already up to date.\n"
     ]
    },
    {
     "name": "stderr",
     "output_type": "stream",
     "text": [
      "From https://github.com/MonlamAI/SW00876\n",
      " * branch            master     -> FETCH_HEAD\n",
      " * [new branch]      master     -> origin/master\n"
     ]
    },
    {
     "name": "stdout",
     "output_type": "stream",
     "text": [
      "On branch master\n",
      "nothing to commit, working tree clean\n"
     ]
    },
    {
     "name": "stderr",
     "output_type": "stream",
     "text": [
      "Everything up-to-date\n"
     ]
    },
    {
     "name": "stdout",
     "output_type": "stream",
     "text": [
      "Repository SW00531 already exists.\n",
      "Already up to date.\n",
      "On branch master\n",
      "nothing to commit, working tree clean\n"
     ]
    },
    {
     "name": "stderr",
     "output_type": "stream",
     "text": [
      "From https://github.com/MonlamAI/SW00531\n",
      " * branch            master     -> FETCH_HEAD\n",
      " * [new branch]      master     -> origin/master\n",
      "Everything up-to-date\n"
     ]
    },
    {
     "name": "stdout",
     "output_type": "stream",
     "text": [
      "Repository SW00008 already exists.\n",
      "Already up to date.\n",
      "On branch master\n",
      "nothing to commit, working tree clean\n"
     ]
    },
    {
     "name": "stderr",
     "output_type": "stream",
     "text": [
      "From https://github.com/MonlamAI/SW00008\n",
      " * branch            master     -> FETCH_HEAD\n",
      " * [new branch]      master     -> origin/master\n",
      "Everything up-to-date\n"
     ]
    },
    {
     "name": "stdout",
     "output_type": "stream",
     "text": [
      "Repository SW00618 already exists.\n",
      "Already up to date.\n",
      "On branch master\n",
      "nothing to commit, working tree clean\n"
     ]
    },
    {
     "name": "stderr",
     "output_type": "stream",
     "text": [
      "From https://github.com/MonlamAI/SW00618\n",
      " * branch            master     -> FETCH_HEAD\n",
      " * [new branch]      master     -> origin/master\n",
      "Everything up-to-date\n"
     ]
    },
    {
     "name": "stdout",
     "output_type": "stream",
     "text": [
      "Repository SW00572 already exists.\n"
     ]
    },
    {
     "name": "stderr",
     "output_type": "stream",
     "text": [
      "From https://github.com/MonlamAI/SW00572\n",
      " * branch            master     -> FETCH_HEAD\n",
      " * [new branch]      master     -> origin/master\n",
      "Everything up-to-date\n"
     ]
    },
    {
     "name": "stdout",
     "output_type": "stream",
     "text": [
      "Already up to date.\n",
      "On branch master\n",
      "nothing to commit, working tree clean\n",
      "Repository SW00132 already exists.\n",
      "Already up to date.\n",
      "On branch master\n",
      "nothing to commit, working tree clean\n"
     ]
    },
    {
     "name": "stderr",
     "output_type": "stream",
     "text": [
      "From https://github.com/MonlamAI/SW00132\n",
      " * branch            master     -> FETCH_HEAD\n",
      " * [new branch]      master     -> origin/master\n",
      "Everything up-to-date\n"
     ]
    },
    {
     "name": "stdout",
     "output_type": "stream",
     "text": [
      "Repository SW00407 already exists.\n",
      "Already up to date.\n",
      "On branch master\n",
      "nothing to commit, working tree clean\n"
     ]
    },
    {
     "name": "stderr",
     "output_type": "stream",
     "text": [
      "From https://github.com/MonlamAI/SW00407\n",
      " * branch            master     -> FETCH_HEAD\n",
      " * [new branch]      master     -> origin/master\n",
      "Everything up-to-date\n"
     ]
    },
    {
     "name": "stdout",
     "output_type": "stream",
     "text": [
      "Repository SW00543 already exists.\n",
      "Already up to date.\n",
      "On branch master\n",
      "nothing to commit, working tree clean\n"
     ]
    },
    {
     "name": "stderr",
     "output_type": "stream",
     "text": [
      "From https://github.com/MonlamAI/SW00543\n",
      " * branch            master     -> FETCH_HEAD\n",
      " * [new branch]      master     -> origin/master\n",
      "Everything up-to-date\n"
     ]
    },
    {
     "name": "stdout",
     "output_type": "stream",
     "text": [
      "Repository SW00685 already exists.\n",
      "Already up to date.\n",
      "On branch master\n",
      "nothing to commit, working tree clean\n"
     ]
    },
    {
     "name": "stderr",
     "output_type": "stream",
     "text": [
      "From https://github.com/MonlamAI/SW00685\n",
      " * branch            master     -> FETCH_HEAD\n",
      " * [new branch]      master     -> origin/master\n",
      "Everything up-to-date\n"
     ]
    },
    {
     "name": "stdout",
     "output_type": "stream",
     "text": [
      "Repository SW00163 already exists.\n",
      "Already up to date.\n",
      "On branch master\n",
      "nothing to commit, working tree clean\n"
     ]
    },
    {
     "name": "stderr",
     "output_type": "stream",
     "text": [
      "From https://github.com/MonlamAI/SW00163\n",
      " * branch            master     -> FETCH_HEAD\n",
      " * [new branch]      master     -> origin/master\n",
      "Everything up-to-date\n"
     ]
    },
    {
     "name": "stdout",
     "output_type": "stream",
     "text": [
      "Repository SW00822 already exists.\n",
      "Already up to date.\n",
      "On branch master\n",
      "nothing to commit, working tree clean\n"
     ]
    },
    {
     "name": "stderr",
     "output_type": "stream",
     "text": [
      "From https://github.com/MonlamAI/SW00822\n",
      " * branch            master     -> FETCH_HEAD\n",
      " * [new branch]      master     -> origin/master\n",
      "Everything up-to-date\n"
     ]
    },
    {
     "name": "stdout",
     "output_type": "stream",
     "text": [
      "Repository SW00157 already exists.\n",
      "Already up to date.\n",
      "On branch master\n",
      "nothing to commit, working tree clean\n"
     ]
    },
    {
     "name": "stderr",
     "output_type": "stream",
     "text": [
      "From https://github.com/MonlamAI/SW00157\n",
      " * branch            master     -> FETCH_HEAD\n",
      " * [new branch]      master     -> origin/master\n",
      "Everything up-to-date\n"
     ]
    },
    {
     "name": "stdout",
     "output_type": "stream",
     "text": [
      "Repository SW00386 already exists.\n",
      "Already up to date.\n",
      "On branch master\n",
      "nothing to commit, working tree clean\n"
     ]
    },
    {
     "name": "stderr",
     "output_type": "stream",
     "text": [
      "From https://github.com/MonlamAI/SW00386\n",
      " * branch            master     -> FETCH_HEAD\n",
      " * [new branch]      master     -> origin/master\n",
      "Everything up-to-date\n"
     ]
    },
    {
     "name": "stdout",
     "output_type": "stream",
     "text": [
      "Repository SW00284 already exists.\n",
      "Already up to date.\n",
      "On branch master\n",
      "nothing to commit, working tree clean\n"
     ]
    },
    {
     "name": "stderr",
     "output_type": "stream",
     "text": [
      "From https://github.com/MonlamAI/SW00284\n",
      " * branch            master     -> FETCH_HEAD\n",
      " * [new branch]      master     -> origin/master\n",
      "Everything up-to-date\n"
     ]
    },
    {
     "name": "stdout",
     "output_type": "stream",
     "text": [
      "Repository SW00598 already exists.\n",
      "Already up to date.\n",
      "On branch master\n",
      "nothing to commit, working tree clean\n"
     ]
    },
    {
     "name": "stderr",
     "output_type": "stream",
     "text": [
      "From https://github.com/MonlamAI/SW00598\n",
      " * branch            master     -> FETCH_HEAD\n",
      " * [new branch]      master     -> origin/master\n",
      "Everything up-to-date\n"
     ]
    },
    {
     "name": "stdout",
     "output_type": "stream",
     "text": [
      "Repository SW00004 already exists.\n",
      "Already up to date.\n",
      "On branch master\n",
      "nothing to commit, working tree clean\n"
     ]
    },
    {
     "name": "stderr",
     "output_type": "stream",
     "text": [
      "From https://github.com/MonlamAI/SW00004\n",
      " * branch            master     -> FETCH_HEAD\n",
      " * [new branch]      master     -> origin/master\n",
      "Everything up-to-date\n"
     ]
    },
    {
     "name": "stdout",
     "output_type": "stream",
     "text": [
      "Repository SW00849 already exists.\n",
      "Already up to date.\n",
      "On branch master\n",
      "nothing to commit, working tree clean\n"
     ]
    },
    {
     "name": "stderr",
     "output_type": "stream",
     "text": [
      "From https://github.com/MonlamAI/SW00849\n",
      " * branch            master     -> FETCH_HEAD\n",
      " * [new branch]      master     -> origin/master\n",
      "Everything up-to-date\n"
     ]
    },
    {
     "name": "stdout",
     "output_type": "stream",
     "text": [
      "Repository SW00577 already exists.\n",
      "Already up to date.\n",
      "On branch master\n",
      "nothing to commit, working tree clean\n"
     ]
    },
    {
     "name": "stderr",
     "output_type": "stream",
     "text": [
      "From https://github.com/MonlamAI/SW00577\n",
      " * branch            master     -> FETCH_HEAD\n",
      " * [new branch]      master     -> origin/master\n",
      "Everything up-to-date\n"
     ]
    },
    {
     "name": "stdout",
     "output_type": "stream",
     "text": [
      "Repository SW00776 already exists.\n",
      "Already up to date.\n",
      "On branch master\n",
      "nothing to commit, working tree clean\n"
     ]
    },
    {
     "name": "stderr",
     "output_type": "stream",
     "text": [
      "From https://github.com/MonlamAI/SW00776\n",
      " * branch            master     -> FETCH_HEAD\n",
      " * [new branch]      master     -> origin/master\n",
      "Everything up-to-date\n"
     ]
    },
    {
     "name": "stdout",
     "output_type": "stream",
     "text": [
      "Repository SW00134 already exists.\n",
      "Already up to date.\n",
      "On branch master\n",
      "nothing to commit, working tree clean\n"
     ]
    },
    {
     "name": "stderr",
     "output_type": "stream",
     "text": [
      "From https://github.com/MonlamAI/SW00134\n",
      " * branch            master     -> FETCH_HEAD\n",
      " * [new branch]      master     -> origin/master\n",
      "Everything up-to-date\n"
     ]
    },
    {
     "name": "stdout",
     "output_type": "stream",
     "text": [
      "Repository SW00077 already exists.\n",
      "Already up to date.\n",
      "On branch master\n",
      "nothing to commit, working tree clean\n"
     ]
    },
    {
     "name": "stderr",
     "output_type": "stream",
     "text": [
      "From https://github.com/MonlamAI/SW00077\n",
      " * branch            master     -> FETCH_HEAD\n",
      " * [new branch]      master     -> origin/master\n",
      "Everything up-to-date\n"
     ]
    },
    {
     "name": "stdout",
     "output_type": "stream",
     "text": [
      "Repository SW00956 already exists.\n",
      "Already up to date.\n",
      "On branch master\n",
      "nothing to commit, working tree clean\n"
     ]
    },
    {
     "name": "stderr",
     "output_type": "stream",
     "text": [
      "From https://github.com/MonlamAI/SW00956\n",
      " * branch            master     -> FETCH_HEAD\n",
      " * [new branch]      master     -> origin/master\n",
      "Everything up-to-date\n"
     ]
    },
    {
     "name": "stdout",
     "output_type": "stream",
     "text": [
      "Repository SW00114 already exists.\n",
      "Already up to date.\n",
      "On branch master\n",
      "nothing to commit, working tree clean\n"
     ]
    },
    {
     "name": "stderr",
     "output_type": "stream",
     "text": [
      "From https://github.com/MonlamAI/SW00114\n",
      " * branch            master     -> FETCH_HEAD\n",
      " * [new branch]      master     -> origin/master\n",
      "Everything up-to-date\n"
     ]
    },
    {
     "name": "stdout",
     "output_type": "stream",
     "text": [
      "Repository SW00676 already exists.\n",
      "Already up to date.\n",
      "On branch master\n",
      "nothing to commit, working tree clean\n"
     ]
    },
    {
     "name": "stderr",
     "output_type": "stream",
     "text": [
      "From https://github.com/MonlamAI/SW00676\n",
      " * branch            master     -> FETCH_HEAD\n",
      " * [new branch]      master     -> origin/master\n",
      "Everything up-to-date\n"
     ]
    },
    {
     "name": "stdout",
     "output_type": "stream",
     "text": [
      "Repository SW00188 already exists.\n",
      "Already up to date.\n",
      "On branch master\n",
      "nothing to commit, working tree clean\n"
     ]
    },
    {
     "name": "stderr",
     "output_type": "stream",
     "text": [
      "From https://github.com/MonlamAI/SW00188\n",
      " * branch            master     -> FETCH_HEAD\n",
      " * [new branch]      master     -> origin/master\n",
      "Everything up-to-date\n"
     ]
    },
    {
     "name": "stdout",
     "output_type": "stream",
     "text": [
      "Repository SW00697 already exists.\n",
      "Already up to date.\n",
      "On branch master\n",
      "nothing to commit, working tree clean\n"
     ]
    },
    {
     "name": "stderr",
     "output_type": "stream",
     "text": [
      "From https://github.com/MonlamAI/SW00697\n",
      " * branch            master     -> FETCH_HEAD\n",
      " * [new branch]      master     -> origin/master\n",
      "Everything up-to-date\n"
     ]
    },
    {
     "name": "stdout",
     "output_type": "stream",
     "text": [
      "Repository SW00441 already exists.\n",
      "Already up to date.\n",
      "On branch master\n",
      "nothing to commit, working tree clean\n"
     ]
    },
    {
     "name": "stderr",
     "output_type": "stream",
     "text": [
      "From https://github.com/MonlamAI/SW00441\n",
      " * branch            master     -> FETCH_HEAD\n",
      " * [new branch]      master     -> origin/master\n",
      "Everything up-to-date\n"
     ]
    },
    {
     "name": "stdout",
     "output_type": "stream",
     "text": [
      "Repository SW00366 already exists.\n",
      "Already up to date.\n",
      "On branch master\n",
      "nothing to commit, working tree clean\n"
     ]
    },
    {
     "name": "stderr",
     "output_type": "stream",
     "text": [
      "From https://github.com/MonlamAI/SW00366\n",
      " * branch            master     -> FETCH_HEAD\n",
      " * [new branch]      master     -> origin/master\n",
      "Everything up-to-date\n"
     ]
    },
    {
     "name": "stdout",
     "output_type": "stream",
     "text": [
      "Repository SW00919 already exists.\n",
      "Already up to date.\n",
      "On branch master\n",
      "nothing to commit, working tree clean\n"
     ]
    },
    {
     "name": "stderr",
     "output_type": "stream",
     "text": [
      "From https://github.com/MonlamAI/SW00919\n",
      " * branch            master     -> FETCH_HEAD\n",
      " * [new branch]      master     -> origin/master\n",
      "Everything up-to-date\n"
     ]
    },
    {
     "name": "stdout",
     "output_type": "stream",
     "text": [
      "Repository SW00932 already exists.\n",
      "Already up to date.\n",
      "On branch master\n",
      "nothing to commit, working tree clean\n"
     ]
    },
    {
     "name": "stderr",
     "output_type": "stream",
     "text": [
      "From https://github.com/MonlamAI/SW00932\n",
      " * branch            master     -> FETCH_HEAD\n",
      " * [new branch]      master     -> origin/master\n",
      "Everything up-to-date\n"
     ]
    },
    {
     "name": "stdout",
     "output_type": "stream",
     "text": [
      "Repository SW00199 already exists.\n",
      "Already up to date.\n",
      "On branch master\n",
      "nothing to commit, working tree clean\n"
     ]
    },
    {
     "name": "stderr",
     "output_type": "stream",
     "text": [
      "From https://github.com/MonlamAI/SW00199\n",
      " * branch            master     -> FETCH_HEAD\n",
      " * [new branch]      master     -> origin/master\n",
      "Everything up-to-date\n"
     ]
    },
    {
     "name": "stdout",
     "output_type": "stream",
     "text": [
      "Repository SW00874 already exists.\n",
      "Already up to date.\n",
      "On branch master\n",
      "nothing to commit, working tree clean\n"
     ]
    },
    {
     "name": "stderr",
     "output_type": "stream",
     "text": [
      "From https://github.com/MonlamAI/SW00874\n",
      " * branch            master     -> FETCH_HEAD\n",
      " * [new branch]      master     -> origin/master\n",
      "Everything up-to-date\n"
     ]
    },
    {
     "name": "stdout",
     "output_type": "stream",
     "text": [
      "Repository SW00589 already exists.\n",
      "Already up to date.\n",
      "On branch master\n",
      "nothing to commit, working tree clean\n"
     ]
    },
    {
     "name": "stderr",
     "output_type": "stream",
     "text": [
      "From https://github.com/MonlamAI/SW00589\n",
      " * branch            master     -> FETCH_HEAD\n",
      " * [new branch]      master     -> origin/master\n",
      "Everything up-to-date\n"
     ]
    },
    {
     "name": "stdout",
     "output_type": "stream",
     "text": [
      "Repository SW00712 already exists.\n",
      "Already up to date.\n",
      "On branch master\n",
      "nothing to commit, working tree clean\n"
     ]
    },
    {
     "name": "stderr",
     "output_type": "stream",
     "text": [
      "From https://github.com/MonlamAI/SW00712\n",
      " * branch            master     -> FETCH_HEAD\n",
      " * [new branch]      master     -> origin/master\n",
      "Everything up-to-date\n"
     ]
    },
    {
     "name": "stdout",
     "output_type": "stream",
     "text": [
      "Repository SW00764 already exists.\n",
      "Already up to date.\n",
      "On branch master\n",
      "nothing to commit, working tree clean\n"
     ]
    },
    {
     "name": "stderr",
     "output_type": "stream",
     "text": [
      "From https://github.com/MonlamAI/SW00764\n",
      " * branch            master     -> FETCH_HEAD\n",
      " * [new branch]      master     -> origin/master\n",
      "Everything up-to-date\n"
     ]
    },
    {
     "name": "stdout",
     "output_type": "stream",
     "text": [
      "Repository SW00061 already exists.\n",
      "Already up to date.\n",
      "On branch master\n",
      "nothing to commit, working tree clean\n"
     ]
    },
    {
     "name": "stderr",
     "output_type": "stream",
     "text": [
      "From https://github.com/MonlamAI/SW00061\n",
      " * branch            master     -> FETCH_HEAD\n",
      " * [new branch]      master     -> origin/master\n",
      "Everything up-to-date\n"
     ]
    },
    {
     "name": "stdout",
     "output_type": "stream",
     "text": [
      "Repository SW00879 already exists.\n",
      "Already up to date.\n",
      "On branch master\n",
      "nothing to commit, working tree clean\n"
     ]
    },
    {
     "name": "stderr",
     "output_type": "stream",
     "text": [
      "From https://github.com/MonlamAI/SW00879\n",
      " * branch            master     -> FETCH_HEAD\n",
      " * [new branch]      master     -> origin/master\n",
      "Everything up-to-date\n"
     ]
    },
    {
     "name": "stdout",
     "output_type": "stream",
     "text": [
      "Repository SW00012 already exists.\n",
      "Already up to date.\n",
      "On branch master\n",
      "nothing to commit, working tree clean\n"
     ]
    },
    {
     "name": "stderr",
     "output_type": "stream",
     "text": [
      "From https://github.com/MonlamAI/SW00012\n",
      " * branch            master     -> FETCH_HEAD\n",
      " * [new branch]      master     -> origin/master\n",
      "Everything up-to-date\n"
     ]
    },
    {
     "name": "stdout",
     "output_type": "stream",
     "text": [
      "Repository SW00002 already exists.\n",
      "Already up to date.\n",
      "On branch master\n",
      "nothing to commit, working tree clean\n"
     ]
    },
    {
     "name": "stderr",
     "output_type": "stream",
     "text": [
      "From https://github.com/MonlamAI/sw00002\n",
      " * branch            master     -> FETCH_HEAD\n",
      " * [new branch]      master     -> origin/master\n",
      "Everything up-to-date\n"
     ]
    },
    {
     "name": "stdout",
     "output_type": "stream",
     "text": [
      "Repository SW00274 already exists.\n",
      "Already up to date.\n",
      "On branch master\n",
      "nothing to commit, working tree clean\n"
     ]
    },
    {
     "name": "stderr",
     "output_type": "stream",
     "text": [
      "From https://github.com/MonlamAI/SW00274\n",
      " * branch            master     -> FETCH_HEAD\n",
      " * [new branch]      master     -> origin/master\n",
      "Everything up-to-date\n"
     ]
    },
    {
     "name": "stdout",
     "output_type": "stream",
     "text": [
      "Repository SW00832 already exists.\n",
      "Already up to date.\n"
     ]
    },
    {
     "name": "stderr",
     "output_type": "stream",
     "text": [
      "From https://github.com/MonlamAI/SW00832\n",
      " * branch            master     -> FETCH_HEAD\n",
      " * [new branch]      master     -> origin/master\n"
     ]
    },
    {
     "name": "stdout",
     "output_type": "stream",
     "text": [
      "On branch master\n",
      "nothing to commit, working tree clean\n"
     ]
    },
    {
     "name": "stderr",
     "output_type": "stream",
     "text": [
      "Everything up-to-date\n"
     ]
    },
    {
     "name": "stdout",
     "output_type": "stream",
     "text": [
      "Repository SW00108 already exists.\n",
      "Already up to date.\n",
      "On branch master\n",
      "nothing to commit, working tree clean\n"
     ]
    },
    {
     "name": "stderr",
     "output_type": "stream",
     "text": [
      "From https://github.com/MonlamAI/SW00108\n",
      " * branch            master     -> FETCH_HEAD\n",
      " * [new branch]      master     -> origin/master\n",
      "Everything up-to-date\n"
     ]
    },
    {
     "name": "stdout",
     "output_type": "stream",
     "text": [
      "Repository SW00814 already exists.\n",
      "Already up to date.\n",
      "On branch master\n",
      "nothing to commit, working tree clean\n"
     ]
    },
    {
     "name": "stderr",
     "output_type": "stream",
     "text": [
      "From https://github.com/MonlamAI/SW00814\n",
      " * branch            master     -> FETCH_HEAD\n",
      " * [new branch]      master     -> origin/master\n",
      "Everything up-to-date\n"
     ]
    },
    {
     "name": "stdout",
     "output_type": "stream",
     "text": [
      "Repository SW00561 already exists.\n",
      "Already up to date.\n",
      "On branch master\n",
      "nothing to commit, working tree clean\n"
     ]
    },
    {
     "name": "stderr",
     "output_type": "stream",
     "text": [
      "From https://github.com/MonlamAI/SW00561\n",
      " * branch            master     -> FETCH_HEAD\n",
      " * [new branch]      master     -> origin/master\n",
      "Everything up-to-date\n"
     ]
    },
    {
     "name": "stdout",
     "output_type": "stream",
     "text": [
      "Repository SW00477 already exists.\n",
      "Already up to date.\n",
      "On branch master\n",
      "nothing to commit, working tree clean\n"
     ]
    },
    {
     "name": "stderr",
     "output_type": "stream",
     "text": [
      "From https://github.com/MonlamAI/SW00477\n",
      " * branch            master     -> FETCH_HEAD\n",
      " * [new branch]      master     -> origin/master\n",
      "Everything up-to-date\n"
     ]
    },
    {
     "name": "stdout",
     "output_type": "stream",
     "text": [
      "Repository SW00051 already exists.\n"
     ]
    },
    {
     "name": "stderr",
     "output_type": "stream",
     "text": [
      "From https://github.com/MonlamAI/SW00051\n",
      " * branch            master     -> FETCH_HEAD\n",
      " * [new branch]      master     -> origin/master\n",
      "Everything up-to-date\n"
     ]
    },
    {
     "name": "stdout",
     "output_type": "stream",
     "text": [
      "Already up to date.\n",
      "On branch master\n",
      "nothing to commit, working tree clean\n",
      "Repository SW00763 already exists.\n",
      "Already up to date.\n",
      "On branch master\n",
      "nothing to commit, working tree clean\n"
     ]
    },
    {
     "name": "stderr",
     "output_type": "stream",
     "text": [
      "From https://github.com/MonlamAI/SW00763\n",
      " * branch            master     -> FETCH_HEAD\n",
      " * [new branch]      master     -> origin/master\n",
      "Everything up-to-date\n"
     ]
    },
    {
     "name": "stdout",
     "output_type": "stream",
     "text": [
      "Repository SW00173 already exists.\n",
      "Already up to date.\n",
      "On branch master\n",
      "nothing to commit, working tree clean\n"
     ]
    },
    {
     "name": "stderr",
     "output_type": "stream",
     "text": [
      "From https://github.com/MonlamAI/SW00173\n",
      " * branch            master     -> FETCH_HEAD\n",
      " * [new branch]      master     -> origin/master\n",
      "Everything up-to-date\n"
     ]
    },
    {
     "name": "stdout",
     "output_type": "stream",
     "text": [
      "Repository SW00690 already exists.\n",
      "Already up to date.\n",
      "On branch master\n",
      "nothing to commit, working tree clean\n"
     ]
    },
    {
     "name": "stderr",
     "output_type": "stream",
     "text": [
      "From https://github.com/MonlamAI/SW00690\n",
      " * branch            master     -> FETCH_HEAD\n",
      " * [new branch]      master     -> origin/master\n",
      "Everything up-to-date\n"
     ]
    },
    {
     "name": "stdout",
     "output_type": "stream",
     "text": [
      "Repository SW00642 already exists.\n",
      "Already up to date.\n",
      "On branch master\n",
      "nothing to commit, working tree clean\n"
     ]
    },
    {
     "name": "stderr",
     "output_type": "stream",
     "text": [
      "From https://github.com/MonlamAI/SW00642\n",
      " * branch            master     -> FETCH_HEAD\n",
      " * [new branch]      master     -> origin/master\n",
      "Everything up-to-date\n"
     ]
    },
    {
     "name": "stdout",
     "output_type": "stream",
     "text": [
      "Repository SW00310 already exists.\n",
      "Already up to date.\n",
      "On branch master\n",
      "nothing to commit, working tree clean\n"
     ]
    },
    {
     "name": "stderr",
     "output_type": "stream",
     "text": [
      "From https://github.com/MonlamAI/SW00310\n",
      " * branch            master     -> FETCH_HEAD\n",
      " * [new branch]      master     -> origin/master\n",
      "Everything up-to-date\n"
     ]
    },
    {
     "name": "stdout",
     "output_type": "stream",
     "text": [
      "Repository SW00176 already exists.\n",
      "Already up to date.\n",
      "On branch master\n",
      "nothing to commit, working tree clean\n"
     ]
    },
    {
     "name": "stderr",
     "output_type": "stream",
     "text": [
      "From https://github.com/MonlamAI/SW00176\n",
      " * branch            master     -> FETCH_HEAD\n",
      " * [new branch]      master     -> origin/master\n",
      "Everything up-to-date\n"
     ]
    },
    {
     "name": "stdout",
     "output_type": "stream",
     "text": [
      "Repository SW00780 already exists.\n",
      "Already up to date.\n",
      "On branch master\n",
      "nothing to commit, working tree clean\n"
     ]
    },
    {
     "name": "stderr",
     "output_type": "stream",
     "text": [
      "From https://github.com/MonlamAI/SW00780\n",
      " * branch            master     -> FETCH_HEAD\n",
      " * [new branch]      master     -> origin/master\n",
      "Everything up-to-date\n"
     ]
    },
    {
     "name": "stdout",
     "output_type": "stream",
     "text": [
      "Repository SW00821 already exists.\n",
      "Already up to date.\n",
      "On branch master\n",
      "nothing to commit, working tree clean\n"
     ]
    },
    {
     "name": "stderr",
     "output_type": "stream",
     "text": [
      "From https://github.com/MonlamAI/SW00821\n",
      " * branch            master     -> FETCH_HEAD\n",
      " * [new branch]      master     -> origin/master\n",
      "Everything up-to-date\n"
     ]
    },
    {
     "name": "stdout",
     "output_type": "stream",
     "text": [
      "Repository SW00820 already exists.\n",
      "Already up to date.\n",
      "On branch master\n",
      "nothing to commit, working tree clean\n"
     ]
    },
    {
     "name": "stderr",
     "output_type": "stream",
     "text": [
      "From https://github.com/MonlamAI/SW00820\n",
      " * branch            master     -> FETCH_HEAD\n",
      " * [new branch]      master     -> origin/master\n",
      "Everything up-to-date\n"
     ]
    },
    {
     "name": "stdout",
     "output_type": "stream",
     "text": [
      "Repository SW00470 already exists.\n",
      "Already up to date.\n",
      "On branch master\n",
      "nothing to commit, working tree clean\n"
     ]
    },
    {
     "name": "stderr",
     "output_type": "stream",
     "text": [
      "From https://github.com/MonlamAI/SW00470\n",
      " * branch            master     -> FETCH_HEAD\n",
      " * [new branch]      master     -> origin/master\n",
      "Everything up-to-date\n"
     ]
    },
    {
     "name": "stdout",
     "output_type": "stream",
     "text": [
      "Repository SW00032 already exists.\n",
      "Already up to date.\n",
      "On branch master\n",
      "nothing to commit, working tree clean\n"
     ]
    },
    {
     "name": "stderr",
     "output_type": "stream",
     "text": [
      "From https://github.com/MonlamAI/SW00032\n",
      " * branch            master     -> FETCH_HEAD\n",
      " * [new branch]      master     -> origin/master\n",
      "Everything up-to-date\n"
     ]
    },
    {
     "name": "stdout",
     "output_type": "stream",
     "text": [
      "Repository SW00089 already exists.\n",
      "Already up to date.\n",
      "On branch master\n",
      "nothing to commit, working tree clean\n"
     ]
    },
    {
     "name": "stderr",
     "output_type": "stream",
     "text": [
      "From https://github.com/MonlamAI/SW00089\n",
      " * branch            master     -> FETCH_HEAD\n",
      " * [new branch]      master     -> origin/master\n",
      "Everything up-to-date\n"
     ]
    },
    {
     "name": "stdout",
     "output_type": "stream",
     "text": [
      "Repository SW00405 already exists.\n",
      "Already up to date.\n",
      "On branch master\n",
      "nothing to commit, working tree clean\n"
     ]
    },
    {
     "name": "stderr",
     "output_type": "stream",
     "text": [
      "From https://github.com/MonlamAI/SW00405\n",
      " * branch            master     -> FETCH_HEAD\n",
      " * [new branch]      master     -> origin/master\n",
      "Everything up-to-date\n"
     ]
    },
    {
     "name": "stdout",
     "output_type": "stream",
     "text": [
      "Repository SW00273 already exists.\n",
      "Already up to date.\n",
      "On branch master\n",
      "nothing to commit, working tree clean\n"
     ]
    },
    {
     "name": "stderr",
     "output_type": "stream",
     "text": [
      "From https://github.com/MonlamAI/SW00273\n",
      " * branch            master     -> FETCH_HEAD\n",
      " * [new branch]      master     -> origin/master\n",
      "Everything up-to-date\n"
     ]
    },
    {
     "name": "stdout",
     "output_type": "stream",
     "text": [
      "Repository SW00437 already exists.\n",
      "Already up to date.\n",
      "On branch master\n",
      "nothing to commit, working tree clean\n"
     ]
    },
    {
     "name": "stderr",
     "output_type": "stream",
     "text": [
      "From https://github.com/MonlamAI/SW00437\n",
      " * branch            master     -> FETCH_HEAD\n",
      " * [new branch]      master     -> origin/master\n",
      "Everything up-to-date\n"
     ]
    },
    {
     "name": "stdout",
     "output_type": "stream",
     "text": [
      "Repository SW00086 already exists.\n",
      "Already up to date.\n",
      "On branch master\n",
      "nothing to commit, working tree clean\n"
     ]
    },
    {
     "name": "stderr",
     "output_type": "stream",
     "text": [
      "From https://github.com/MonlamAI/SW00086\n",
      " * branch            master     -> FETCH_HEAD\n",
      " * [new branch]      master     -> origin/master\n",
      "Everything up-to-date\n"
     ]
    },
    {
     "name": "stdout",
     "output_type": "stream",
     "text": [
      "Repository SW00870 already exists.\n",
      "Already up to date.\n",
      "On branch master\n",
      "nothing to commit, working tree clean\n"
     ]
    },
    {
     "name": "stderr",
     "output_type": "stream",
     "text": [
      "From https://github.com/MonlamAI/SW00870\n",
      " * branch            master     -> FETCH_HEAD\n",
      " * [new branch]      master     -> origin/master\n",
      "Everything up-to-date\n"
     ]
    },
    {
     "name": "stdout",
     "output_type": "stream",
     "text": [
      "Repository SW00623 already exists.\n",
      "Already up to date.\n",
      "On branch master\n",
      "nothing to commit, working tree clean\n"
     ]
    },
    {
     "name": "stderr",
     "output_type": "stream",
     "text": [
      "From https://github.com/MonlamAI/SW00623\n",
      " * branch            master     -> FETCH_HEAD\n",
      " * [new branch]      master     -> origin/master\n",
      "Everything up-to-date\n"
     ]
    },
    {
     "name": "stdout",
     "output_type": "stream",
     "text": [
      "Repository SW00757 already exists.\n",
      "Already up to date.\n",
      "On branch master\n",
      "nothing to commit, working tree clean\n"
     ]
    },
    {
     "name": "stderr",
     "output_type": "stream",
     "text": [
      "From https://github.com/MonlamAI/SW00757\n",
      " * branch            master     -> FETCH_HEAD\n",
      " * [new branch]      master     -> origin/master\n",
      "Everything up-to-date\n"
     ]
    },
    {
     "name": "stdout",
     "output_type": "stream",
     "text": [
      "Repository SW00893 already exists.\n",
      "Already up to date.\n",
      "On branch master\n",
      "nothing to commit, working tree clean\n"
     ]
    },
    {
     "name": "stderr",
     "output_type": "stream",
     "text": [
      "From https://github.com/MonlamAI/SW00893\n",
      " * branch            master     -> FETCH_HEAD\n",
      " * [new branch]      master     -> origin/master\n",
      "Everything up-to-date\n"
     ]
    },
    {
     "name": "stdout",
     "output_type": "stream",
     "text": [
      "Repository SW00066 already exists.\n",
      "Already up to date.\n",
      "On branch master\n",
      "nothing to commit, working tree clean\n"
     ]
    },
    {
     "name": "stderr",
     "output_type": "stream",
     "text": [
      "From https://github.com/MonlamAI/SW00066\n",
      " * branch            master     -> FETCH_HEAD\n",
      " * [new branch]      master     -> origin/master\n",
      "Everything up-to-date\n"
     ]
    },
    {
     "name": "stdout",
     "output_type": "stream",
     "text": [
      "Repository SW00648 already exists.\n",
      "Already up to date.\n",
      "On branch master\n",
      "nothing to commit, working tree clean\n"
     ]
    },
    {
     "name": "stderr",
     "output_type": "stream",
     "text": [
      "From https://github.com/MonlamAI/SW00648\n",
      " * branch            master     -> FETCH_HEAD\n",
      " * [new branch]      master     -> origin/master\n",
      "Everything up-to-date\n"
     ]
    },
    {
     "name": "stdout",
     "output_type": "stream",
     "text": [
      "Repository SW00834 already exists.\n",
      "Already up to date.\n",
      "On branch master\n",
      "nothing to commit, working tree clean\n"
     ]
    },
    {
     "name": "stderr",
     "output_type": "stream",
     "text": [
      "From https://github.com/MonlamAI/SW00834\n",
      " * branch            master     -> FETCH_HEAD\n",
      " * [new branch]      master     -> origin/master\n",
      "Everything up-to-date\n"
     ]
    },
    {
     "name": "stdout",
     "output_type": "stream",
     "text": [
      "Repository SW00161 already exists.\n",
      "Already up to date.\n",
      "On branch master\n",
      "nothing to commit, working tree clean\n"
     ]
    },
    {
     "name": "stderr",
     "output_type": "stream",
     "text": [
      "From https://github.com/MonlamAI/SW00161\n",
      " * branch            master     -> FETCH_HEAD\n",
      " * [new branch]      master     -> origin/master\n",
      "Everything up-to-date\n"
     ]
    },
    {
     "name": "stdout",
     "output_type": "stream",
     "text": [
      "Repository SW00040 already exists.\n",
      "Already up to date.\n",
      "On branch master\n",
      "nothing to commit, working tree clean\n"
     ]
    },
    {
     "name": "stderr",
     "output_type": "stream",
     "text": [
      "From https://github.com/MonlamAI/SW00040\n",
      " * branch            master     -> FETCH_HEAD\n",
      " * [new branch]      master     -> origin/master\n",
      "Everything up-to-date\n"
     ]
    },
    {
     "name": "stdout",
     "output_type": "stream",
     "text": [
      "Repository SW00669 already exists.\n",
      "Already up to date.\n",
      "On branch master\n",
      "nothing to commit, working tree clean\n"
     ]
    },
    {
     "name": "stderr",
     "output_type": "stream",
     "text": [
      "From https://github.com/MonlamAI/SW00669\n",
      " * branch            master     -> FETCH_HEAD\n",
      " * [new branch]      master     -> origin/master\n",
      "Everything up-to-date\n"
     ]
    },
    {
     "name": "stdout",
     "output_type": "stream",
     "text": [
      "Repository SW00512 already exists.\n",
      "Already up to date.\n",
      "On branch master\n",
      "nothing to commit, working tree clean\n"
     ]
    },
    {
     "name": "stderr",
     "output_type": "stream",
     "text": [
      "From https://github.com/MonlamAI/SW00512\n",
      " * branch            master     -> FETCH_HEAD\n",
      " * [new branch]      master     -> origin/master\n",
      "Everything up-to-date\n"
     ]
    },
    {
     "name": "stdout",
     "output_type": "stream",
     "text": [
      "Repository SW00659 already exists.\n",
      "Already up to date.\n",
      "On branch master\n",
      "nothing to commit, working tree clean\n"
     ]
    },
    {
     "name": "stderr",
     "output_type": "stream",
     "text": [
      "From https://github.com/MonlamAI/SW00659\n",
      " * branch            master     -> FETCH_HEAD\n",
      " * [new branch]      master     -> origin/master\n",
      "Everything up-to-date\n"
     ]
    },
    {
     "name": "stdout",
     "output_type": "stream",
     "text": [
      "Repository SW00628 already exists.\n",
      "Already up to date.\n",
      "On branch master\n",
      "nothing to commit, working tree clean\n"
     ]
    },
    {
     "name": "stderr",
     "output_type": "stream",
     "text": [
      "From https://github.com/MonlamAI/SW00628\n",
      " * branch            master     -> FETCH_HEAD\n",
      " * [new branch]      master     -> origin/master\n",
      "Everything up-to-date\n"
     ]
    },
    {
     "name": "stdout",
     "output_type": "stream",
     "text": [
      "Repository SW00939 already exists.\n",
      "Already up to date.\n",
      "On branch master\n",
      "nothing to commit, working tree clean\n"
     ]
    },
    {
     "name": "stderr",
     "output_type": "stream",
     "text": [
      "From https://github.com/MonlamAI/SW00939\n",
      " * branch            master     -> FETCH_HEAD\n",
      " * [new branch]      master     -> origin/master\n",
      "Everything up-to-date\n"
     ]
    },
    {
     "name": "stdout",
     "output_type": "stream",
     "text": [
      "Repository SW00795 already exists.\n",
      "Already up to date.\n",
      "On branch master\n",
      "nothing to commit, working tree clean\n"
     ]
    },
    {
     "name": "stderr",
     "output_type": "stream",
     "text": [
      "From https://github.com/MonlamAI/SW00795\n",
      " * branch            master     -> FETCH_HEAD\n",
      " * [new branch]      master     -> origin/master\n",
      "Everything up-to-date\n"
     ]
    },
    {
     "name": "stdout",
     "output_type": "stream",
     "text": [
      "Repository SW00095 already exists.\n",
      "Already up to date.\n",
      "On branch master\n",
      "nothing to commit, working tree clean\n"
     ]
    },
    {
     "name": "stderr",
     "output_type": "stream",
     "text": [
      "From https://github.com/MonlamAI/SW00095\n",
      " * branch            master     -> FETCH_HEAD\n",
      " * [new branch]      master     -> origin/master\n",
      "Everything up-to-date\n"
     ]
    },
    {
     "name": "stdout",
     "output_type": "stream",
     "text": [
      "Repository SW00524 already exists.\n",
      "Already up to date.\n",
      "On branch master\n",
      "nothing to commit, working tree clean\n"
     ]
    },
    {
     "name": "stderr",
     "output_type": "stream",
     "text": [
      "From https://github.com/MonlamAI/SW00524\n",
      " * branch            master     -> FETCH_HEAD\n",
      " * [new branch]      master     -> origin/master\n",
      "Everything up-to-date\n"
     ]
    },
    {
     "name": "stdout",
     "output_type": "stream",
     "text": [
      "Repository SW00396 already exists.\n",
      "Already up to date.\n",
      "On branch master\n",
      "nothing to commit, working tree clean\n"
     ]
    },
    {
     "name": "stderr",
     "output_type": "stream",
     "text": [
      "From https://github.com/MonlamAI/SW00396\n",
      " * branch            master     -> FETCH_HEAD\n",
      " * [new branch]      master     -> origin/master\n",
      "Everything up-to-date\n"
     ]
    },
    {
     "name": "stdout",
     "output_type": "stream",
     "text": [
      "Repository SW00804 already exists.\n"
     ]
    },
    {
     "name": "stderr",
     "output_type": "stream",
     "text": [
      "From https://github.com/MonlamAI/SW00804\n",
      " * branch            master     -> FETCH_HEAD\n",
      " * [new branch]      master     -> origin/master\n",
      "Everything up-to-date\n"
     ]
    },
    {
     "name": "stdout",
     "output_type": "stream",
     "text": [
      "Already up to date.\n",
      "On branch master\n",
      "nothing to commit, working tree clean\n",
      "Repository SW00934 already exists.\n",
      "Already up to date.\n",
      "On branch master\n",
      "nothing to commit, working tree clean\n"
     ]
    },
    {
     "name": "stderr",
     "output_type": "stream",
     "text": [
      "From https://github.com/MonlamAI/SW00934\n",
      " * branch            master     -> FETCH_HEAD\n",
      " * [new branch]      master     -> origin/master\n",
      "Everything up-to-date\n"
     ]
    },
    {
     "name": "stdout",
     "output_type": "stream",
     "text": [
      "Repository SW00726 already exists.\n",
      "Already up to date.\n",
      "On branch master\n",
      "nothing to commit, working tree clean\n"
     ]
    },
    {
     "name": "stderr",
     "output_type": "stream",
     "text": [
      "From https://github.com/MonlamAI/SW00726\n",
      " * branch            master     -> FETCH_HEAD\n",
      " * [new branch]      master     -> origin/master\n",
      "Everything up-to-date\n"
     ]
    },
    {
     "name": "stdout",
     "output_type": "stream",
     "text": [
      "Repository SW00706 already exists.\n",
      "Already up to date.\n",
      "On branch master\n",
      "nothing to commit, working tree clean\n"
     ]
    },
    {
     "name": "stderr",
     "output_type": "stream",
     "text": [
      "From https://github.com/MonlamAI/SW00706\n",
      " * branch            master     -> FETCH_HEAD\n",
      " * [new branch]      master     -> origin/master\n",
      "Everything up-to-date\n"
     ]
    },
    {
     "name": "stdout",
     "output_type": "stream",
     "text": [
      "Repository SW00824 already exists.\n",
      "Already up to date.\n",
      "On branch master\n",
      "nothing to commit, working tree clean\n"
     ]
    },
    {
     "name": "stderr",
     "output_type": "stream",
     "text": [
      "From https://github.com/MonlamAI/SW00824\n",
      " * branch            master     -> FETCH_HEAD\n",
      " * [new branch]      master     -> origin/master\n",
      "Everything up-to-date\n"
     ]
    },
    {
     "name": "stdout",
     "output_type": "stream",
     "text": [
      "Repository SW00887 already exists.\n",
      "Already up to date.\n"
     ]
    },
    {
     "name": "stderr",
     "output_type": "stream",
     "text": [
      "From https://github.com/MonlamAI/SW00887\n",
      " * branch            master     -> FETCH_HEAD\n",
      " * [new branch]      master     -> origin/master\n"
     ]
    },
    {
     "name": "stdout",
     "output_type": "stream",
     "text": [
      "On branch master\n",
      "nothing to commit, working tree clean\n"
     ]
    },
    {
     "name": "stderr",
     "output_type": "stream",
     "text": [
      "Everything up-to-date\n"
     ]
    },
    {
     "name": "stdout",
     "output_type": "stream",
     "text": [
      "Repository SW00857 already exists.\n",
      "Already up to date.\n",
      "On branch master\n",
      "nothing to commit, working tree clean\n"
     ]
    },
    {
     "name": "stderr",
     "output_type": "stream",
     "text": [
      "From https://github.com/MonlamAI/SW00857\n",
      " * branch            master     -> FETCH_HEAD\n",
      " * [new branch]      master     -> origin/master\n",
      "Everything up-to-date\n"
     ]
    },
    {
     "name": "stdout",
     "output_type": "stream",
     "text": [
      "Repository SW00128 already exists.\n",
      "Already up to date.\n",
      "On branch master\n",
      "nothing to commit, working tree clean\n"
     ]
    },
    {
     "name": "stderr",
     "output_type": "stream",
     "text": [
      "From https://github.com/MonlamAI/SW00128\n",
      " * branch            master     -> FETCH_HEAD\n",
      " * [new branch]      master     -> origin/master\n",
      "Everything up-to-date\n"
     ]
    },
    {
     "name": "stdout",
     "output_type": "stream",
     "text": [
      "Repository SW00109 already exists.\n",
      "Already up to date.\n",
      "On branch master\n",
      "nothing to commit, working tree clean\n"
     ]
    },
    {
     "name": "stderr",
     "output_type": "stream",
     "text": [
      "From https://github.com/MonlamAI/SW00109\n",
      " * branch            master     -> FETCH_HEAD\n",
      " * [new branch]      master     -> origin/master\n",
      "Everything up-to-date\n"
     ]
    },
    {
     "name": "stdout",
     "output_type": "stream",
     "text": [
      "Repository SW00017 already exists.\n",
      "Already up to date.\n",
      "On branch master\n",
      "nothing to commit, working tree clean\n"
     ]
    },
    {
     "name": "stderr",
     "output_type": "stream",
     "text": [
      "From https://github.com/MonlamAI/SW00017\n",
      " * branch            master     -> FETCH_HEAD\n",
      " * [new branch]      master     -> origin/master\n",
      "Everything up-to-date\n"
     ]
    },
    {
     "name": "stdout",
     "output_type": "stream",
     "text": [
      "Repository SW00479 already exists.\n",
      "Already up to date.\n",
      "On branch master\n",
      "nothing to commit, working tree clean\n"
     ]
    },
    {
     "name": "stderr",
     "output_type": "stream",
     "text": [
      "From https://github.com/MonlamAI/SW00479\n",
      " * branch            master     -> FETCH_HEAD\n",
      " * [new branch]      master     -> origin/master\n",
      "Everything up-to-date\n"
     ]
    },
    {
     "name": "stdout",
     "output_type": "stream",
     "text": [
      "Repository SW00758 already exists.\n",
      "Already up to date.\n",
      "On branch master\n",
      "nothing to commit, working tree clean\n"
     ]
    },
    {
     "name": "stderr",
     "output_type": "stream",
     "text": [
      "From https://github.com/MonlamAI/SW00758\n",
      " * branch            master     -> FETCH_HEAD\n",
      " * [new branch]      master     -> origin/master\n",
      "Everything up-to-date\n"
     ]
    },
    {
     "name": "stdout",
     "output_type": "stream",
     "text": [
      "Repository SW00559 already exists.\n",
      "Already up to date.\n",
      "On branch master\n",
      "nothing to commit, working tree clean\n"
     ]
    },
    {
     "name": "stderr",
     "output_type": "stream",
     "text": [
      "From https://github.com/MonlamAI/SW00559\n",
      " * branch            master     -> FETCH_HEAD\n",
      " * [new branch]      master     -> origin/master\n",
      "Everything up-to-date\n"
     ]
    },
    {
     "name": "stdout",
     "output_type": "stream",
     "text": [
      "Repository SW00720 already exists.\n",
      "Already up to date.\n",
      "On branch master\n",
      "nothing to commit, working tree clean\n"
     ]
    },
    {
     "name": "stderr",
     "output_type": "stream",
     "text": [
      "From https://github.com/MonlamAI/SW00720\n",
      " * branch            master     -> FETCH_HEAD\n",
      " * [new branch]      master     -> origin/master\n",
      "Everything up-to-date\n"
     ]
    },
    {
     "name": "stdout",
     "output_type": "stream",
     "text": [
      "Repository SW00513 already exists.\n",
      "Already up to date.\n",
      "On branch master\n",
      "nothing to commit, working tree clean\n"
     ]
    },
    {
     "name": "stderr",
     "output_type": "stream",
     "text": [
      "From https://github.com/MonlamAI/SW00513\n",
      " * branch            master     -> FETCH_HEAD\n",
      " * [new branch]      master     -> origin/master\n",
      "Everything up-to-date\n"
     ]
    },
    {
     "name": "stdout",
     "output_type": "stream",
     "text": [
      "Repository SW00260 already exists.\n",
      "Already up to date.\n",
      "On branch master\n",
      "nothing to commit, working tree clean\n"
     ]
    },
    {
     "name": "stderr",
     "output_type": "stream",
     "text": [
      "From https://github.com/MonlamAI/SW00260\n",
      " * branch            master     -> FETCH_HEAD\n",
      " * [new branch]      master     -> origin/master\n",
      "Everything up-to-date\n"
     ]
    },
    {
     "name": "stdout",
     "output_type": "stream",
     "text": [
      "Repository SW00123 already exists.\n",
      "Already up to date.\n",
      "On branch master\n",
      "nothing to commit, working tree clean\n"
     ]
    },
    {
     "name": "stderr",
     "output_type": "stream",
     "text": [
      "From https://github.com/MonlamAI/SW00123\n",
      " * branch            master     -> FETCH_HEAD\n",
      " * [new branch]      master     -> origin/master\n",
      "Everything up-to-date\n"
     ]
    },
    {
     "name": "stdout",
     "output_type": "stream",
     "text": [
      "Repository SW00686 already exists.\n",
      "Already up to date.\n",
      "On branch master\n",
      "nothing to commit, working tree clean\n"
     ]
    },
    {
     "name": "stderr",
     "output_type": "stream",
     "text": [
      "From https://github.com/MonlamAI/SW00686\n",
      " * branch            master     -> FETCH_HEAD\n",
      " * [new branch]      master     -> origin/master\n",
      "Everything up-to-date\n"
     ]
    },
    {
     "name": "stdout",
     "output_type": "stream",
     "text": [
      "Repository SW00349 already exists.\n",
      "Already up to date.\n",
      "On branch master\n",
      "nothing to commit, working tree clean\n"
     ]
    },
    {
     "name": "stderr",
     "output_type": "stream",
     "text": [
      "From https://github.com/MonlamAI/SW00349\n",
      " * branch            master     -> FETCH_HEAD\n",
      " * [new branch]      master     -> origin/master\n",
      "Everything up-to-date\n"
     ]
    },
    {
     "name": "stdout",
     "output_type": "stream",
     "text": [
      "Repository SW00115 already exists.\n",
      "Already up to date.\n",
      "On branch master\n",
      "nothing to commit, working tree clean\n"
     ]
    },
    {
     "name": "stderr",
     "output_type": "stream",
     "text": [
      "From https://github.com/MonlamAI/SW00115\n",
      " * branch            master     -> FETCH_HEAD\n",
      " * [new branch]      master     -> origin/master\n",
      "Everything up-to-date\n"
     ]
    },
    {
     "name": "stdout",
     "output_type": "stream",
     "text": [
      "Repository SW00425 already exists.\n",
      "Already up to date.\n",
      "On branch master\n",
      "nothing to commit, working tree clean\n"
     ]
    },
    {
     "name": "stderr",
     "output_type": "stream",
     "text": [
      "From https://github.com/MonlamAI/SW00425\n",
      " * branch            master     -> FETCH_HEAD\n",
      " * [new branch]      master     -> origin/master\n",
      "Everything up-to-date\n"
     ]
    },
    {
     "name": "stdout",
     "output_type": "stream",
     "text": [
      "Repository SW00830 already exists.\n",
      "Already up to date.\n",
      "On branch master\n",
      "nothing to commit, working tree clean\n"
     ]
    },
    {
     "name": "stderr",
     "output_type": "stream",
     "text": [
      "From https://github.com/MonlamAI/SW00830\n",
      " * branch            master     -> FETCH_HEAD\n",
      " * [new branch]      master     -> origin/master\n",
      "Everything up-to-date\n"
     ]
    },
    {
     "name": "stdout",
     "output_type": "stream",
     "text": [
      "Repository SW00663 already exists.\n",
      "Already up to date.\n",
      "On branch master\n",
      "nothing to commit, working tree clean\n"
     ]
    },
    {
     "name": "stderr",
     "output_type": "stream",
     "text": [
      "From https://github.com/MonlamAI/SW00663\n",
      " * branch            master     -> FETCH_HEAD\n",
      " * [new branch]      master     -> origin/master\n",
      "Everything up-to-date\n"
     ]
    },
    {
     "name": "stdout",
     "output_type": "stream",
     "text": [
      "Repository SW00261 already exists.\n",
      "Already up to date.\n",
      "On branch master\n",
      "nothing to commit, working tree clean\n"
     ]
    },
    {
     "name": "stderr",
     "output_type": "stream",
     "text": [
      "From https://github.com/MonlamAI/SW00261\n",
      " * branch            master     -> FETCH_HEAD\n",
      " * [new branch]      master     -> origin/master\n",
      "Everything up-to-date\n"
     ]
    },
    {
     "name": "stdout",
     "output_type": "stream",
     "text": [
      "Repository SW00025 already exists.\n",
      "Already up to date.\n"
     ]
    },
    {
     "name": "stderr",
     "output_type": "stream",
     "text": [
      "From https://github.com/MonlamAI/SW00025\n",
      " * branch            master     -> FETCH_HEAD\n",
      " * [new branch]      master     -> origin/master\n"
     ]
    },
    {
     "name": "stdout",
     "output_type": "stream",
     "text": [
      "On branch master\n",
      "nothing to commit, working tree clean\n"
     ]
    },
    {
     "name": "stderr",
     "output_type": "stream",
     "text": [
      "Everything up-to-date\n"
     ]
    },
    {
     "name": "stdout",
     "output_type": "stream",
     "text": [
      "Repository SW00889 already exists.\n",
      "Already up to date.\n",
      "On branch master\n",
      "nothing to commit, working tree clean\n"
     ]
    },
    {
     "name": "stderr",
     "output_type": "stream",
     "text": [
      "From https://github.com/MonlamAI/SW00889\n",
      " * branch            master     -> FETCH_HEAD\n",
      " * [new branch]      master     -> origin/master\n",
      "Everything up-to-date\n"
     ]
    },
    {
     "name": "stdout",
     "output_type": "stream",
     "text": [
      "Repository SW00203 already exists.\n",
      "Already up to date.\n",
      "On branch master\n",
      "nothing to commit, working tree clean\n"
     ]
    },
    {
     "name": "stderr",
     "output_type": "stream",
     "text": [
      "From https://github.com/MonlamAI/SW00203\n",
      " * branch            master     -> FETCH_HEAD\n",
      " * [new branch]      master     -> origin/master\n",
      "Everything up-to-date\n"
     ]
    },
    {
     "name": "stdout",
     "output_type": "stream",
     "text": [
      "Repository SW00812 already exists.\n",
      "Already up to date.\n",
      "On branch master\n",
      "nothing to commit, working tree clean\n"
     ]
    },
    {
     "name": "stderr",
     "output_type": "stream",
     "text": [
      "From https://github.com/MonlamAI/SW00812\n",
      " * branch            master     -> FETCH_HEAD\n",
      " * [new branch]      master     -> origin/master\n",
      "Everything up-to-date\n"
     ]
    },
    {
     "name": "stdout",
     "output_type": "stream",
     "text": [
      "Repository SW00328 already exists.\n",
      "Already up to date.\n",
      "On branch master\n",
      "nothing to commit, working tree clean\n"
     ]
    },
    {
     "name": "stderr",
     "output_type": "stream",
     "text": [
      "From https://github.com/MonlamAI/SW00328\n",
      " * branch            master     -> FETCH_HEAD\n",
      " * [new branch]      master     -> origin/master\n",
      "Everything up-to-date\n"
     ]
    },
    {
     "name": "stdout",
     "output_type": "stream",
     "text": [
      "Repository SW00787 already exists.\n",
      "Already up to date.\n",
      "On branch master\n",
      "nothing to commit, working tree clean\n"
     ]
    },
    {
     "name": "stderr",
     "output_type": "stream",
     "text": [
      "From https://github.com/MonlamAI/SW00787\n",
      " * branch            master     -> FETCH_HEAD\n",
      " * [new branch]      master     -> origin/master\n",
      "Everything up-to-date\n"
     ]
    },
    {
     "name": "stdout",
     "output_type": "stream",
     "text": [
      "Repository SW00803 already exists.\n",
      "Already up to date.\n",
      "On branch master\n",
      "nothing to commit, working tree clean\n"
     ]
    },
    {
     "name": "stderr",
     "output_type": "stream",
     "text": [
      "From https://github.com/MonlamAI/SW00803\n",
      " * branch            master     -> FETCH_HEAD\n",
      " * [new branch]      master     -> origin/master\n",
      "Everything up-to-date\n"
     ]
    },
    {
     "name": "stdout",
     "output_type": "stream",
     "text": [
      "Repository SW00638 already exists.\n",
      "Already up to date.\n",
      "On branch master\n",
      "nothing to commit, working tree clean\n"
     ]
    },
    {
     "name": "stderr",
     "output_type": "stream",
     "text": [
      "From https://github.com/MonlamAI/SW00638\n",
      " * branch            master     -> FETCH_HEAD\n",
      " * [new branch]      master     -> origin/master\n",
      "Everything up-to-date\n"
     ]
    },
    {
     "name": "stdout",
     "output_type": "stream",
     "text": [
      "Repository SW00414 already exists.\n",
      "Already up to date.\n",
      "On branch master\n",
      "nothing to commit, working tree clean\n"
     ]
    },
    {
     "name": "stderr",
     "output_type": "stream",
     "text": [
      "From https://github.com/MonlamAI/SW00414\n",
      " * branch            master     -> FETCH_HEAD\n",
      " * [new branch]      master     -> origin/master\n",
      "Everything up-to-date\n"
     ]
    },
    {
     "name": "stdout",
     "output_type": "stream",
     "text": [
      "Repository SW00436 already exists.\n",
      "Already up to date.\n",
      "On branch master\n",
      "nothing to commit, working tree clean\n"
     ]
    },
    {
     "name": "stderr",
     "output_type": "stream",
     "text": [
      "From https://github.com/MonlamAI/SW00436\n",
      " * branch            master     -> FETCH_HEAD\n",
      " * [new branch]      master     -> origin/master\n",
      "Everything up-to-date\n"
     ]
    },
    {
     "name": "stdout",
     "output_type": "stream",
     "text": [
      "Repository SW00705 already exists.\n",
      "Already up to date.\n",
      "On branch master\n",
      "nothing to commit, working tree clean\n"
     ]
    },
    {
     "name": "stderr",
     "output_type": "stream",
     "text": [
      "From https://github.com/MonlamAI/SW00705\n",
      " * branch            master     -> FETCH_HEAD\n",
      " * [new branch]      master     -> origin/master\n",
      "Everything up-to-date\n"
     ]
    },
    {
     "name": "stdout",
     "output_type": "stream",
     "text": [
      "Repository SW00500 already exists.\n",
      "Already up to date.\n",
      "On branch master\n",
      "nothing to commit, working tree clean\n"
     ]
    },
    {
     "name": "stderr",
     "output_type": "stream",
     "text": [
      "From https://github.com/MonlamAI/SW00500\n",
      " * branch            master     -> FETCH_HEAD\n",
      " * [new branch]      master     -> origin/master\n",
      "Everything up-to-date\n"
     ]
    },
    {
     "name": "stdout",
     "output_type": "stream",
     "text": [
      "Repository SW00103 already exists.\n",
      "Already up to date.\n",
      "On branch master\n",
      "nothing to commit, working tree clean\n"
     ]
    },
    {
     "name": "stderr",
     "output_type": "stream",
     "text": [
      "From https://github.com/MonlamAI/SW00103\n",
      " * branch            master     -> FETCH_HEAD\n",
      " * [new branch]      master     -> origin/master\n",
      "Everything up-to-date\n"
     ]
    },
    {
     "name": "stdout",
     "output_type": "stream",
     "text": [
      "Repository SW00088 already exists.\n",
      "Already up to date.\n"
     ]
    },
    {
     "name": "stderr",
     "output_type": "stream",
     "text": [
      "From https://github.com/MonlamAI/SW00088\n",
      " * branch            master     -> FETCH_HEAD\n",
      " * [new branch]      master     -> origin/master\n",
      "Everything up-to-date\n"
     ]
    },
    {
     "name": "stdout",
     "output_type": "stream",
     "text": [
      "On branch master\n",
      "nothing to commit, working tree clean\n",
      "Repository SW00480 already exists.\n",
      "Already up to date.\n",
      "On branch master\n",
      "nothing to commit, working tree clean\n"
     ]
    },
    {
     "name": "stderr",
     "output_type": "stream",
     "text": [
      "From https://github.com/MonlamAI/SW00480\n",
      " * branch            master     -> FETCH_HEAD\n",
      " * [new branch]      master     -> origin/master\n",
      "Everything up-to-date\n"
     ]
    },
    {
     "name": "stdout",
     "output_type": "stream",
     "text": [
      "Repository SW00307 already exists.\n",
      "Already up to date.\n",
      "On branch master\n",
      "nothing to commit, working tree clean\n"
     ]
    },
    {
     "name": "stderr",
     "output_type": "stream",
     "text": [
      "From https://github.com/MonlamAI/SW00307\n",
      " * branch            master     -> FETCH_HEAD\n",
      " * [new branch]      master     -> origin/master\n",
      "Everything up-to-date\n"
     ]
    },
    {
     "name": "stdout",
     "output_type": "stream",
     "text": [
      "Repository SW00819 already exists.\n",
      "Already up to date.\n",
      "On branch master\n",
      "nothing to commit, working tree clean\n"
     ]
    },
    {
     "name": "stderr",
     "output_type": "stream",
     "text": [
      "From https://github.com/MonlamAI/SW00819\n",
      " * branch            master     -> FETCH_HEAD\n",
      " * [new branch]      master     -> origin/master\n",
      "Everything up-to-date\n"
     ]
    },
    {
     "name": "stdout",
     "output_type": "stream",
     "text": [
      "Repository SW00954 already exists.\n",
      "Already up to date.\n",
      "On branch master\n",
      "nothing to commit, working tree clean\n"
     ]
    },
    {
     "name": "stderr",
     "output_type": "stream",
     "text": [
      "From https://github.com/MonlamAI/SW00954\n",
      " * branch            master     -> FETCH_HEAD\n",
      " * [new branch]      master     -> origin/master\n",
      "Everything up-to-date\n"
     ]
    },
    {
     "name": "stdout",
     "output_type": "stream",
     "text": [
      "Repository SW00515 already exists.\n",
      "Already up to date.\n",
      "On branch master\n",
      "nothing to commit, working tree clean\n"
     ]
    },
    {
     "name": "stderr",
     "output_type": "stream",
     "text": [
      "From https://github.com/MonlamAI/SW00515\n",
      " * branch            master     -> FETCH_HEAD\n",
      " * [new branch]      master     -> origin/master\n",
      "Everything up-to-date\n"
     ]
    },
    {
     "name": "stdout",
     "output_type": "stream",
     "text": [
      "Repository SW00029 already exists.\n",
      "Already up to date.\n",
      "On branch master\n",
      "nothing to commit, working tree clean\n"
     ]
    },
    {
     "name": "stderr",
     "output_type": "stream",
     "text": [
      "From https://github.com/MonlamAI/SW00029\n",
      " * branch            master     -> FETCH_HEAD\n",
      " * [new branch]      master     -> origin/master\n",
      "Everything up-to-date\n"
     ]
    },
    {
     "name": "stdout",
     "output_type": "stream",
     "text": [
      "Repository SW00241 already exists.\n",
      "Already up to date.\n",
      "On branch master\n",
      "nothing to commit, working tree clean\n"
     ]
    },
    {
     "name": "stderr",
     "output_type": "stream",
     "text": [
      "From https://github.com/MonlamAI/SW00241\n",
      " * branch            master     -> FETCH_HEAD\n",
      " * [new branch]      master     -> origin/master\n",
      "Everything up-to-date\n"
     ]
    },
    {
     "name": "stdout",
     "output_type": "stream",
     "text": [
      "Repository SW00526 already exists.\n",
      "Already up to date.\n"
     ]
    },
    {
     "name": "stderr",
     "output_type": "stream",
     "text": [
      "From https://github.com/MonlamAI/SW00526\n",
      " * branch            master     -> FETCH_HEAD\n",
      " * [new branch]      master     -> origin/master\n"
     ]
    },
    {
     "name": "stdout",
     "output_type": "stream",
     "text": [
      "On branch master\n",
      "nothing to commit, working tree clean\n"
     ]
    },
    {
     "name": "stderr",
     "output_type": "stream",
     "text": [
      "Everything up-to-date\n"
     ]
    },
    {
     "name": "stdout",
     "output_type": "stream",
     "text": [
      "Repository SW00237 already exists.\n",
      "Already up to date.\n",
      "On branch master\n",
      "nothing to commit, working tree clean\n"
     ]
    },
    {
     "name": "stderr",
     "output_type": "stream",
     "text": [
      "From https://github.com/MonlamAI/SW00237\n",
      " * branch            master     -> FETCH_HEAD\n",
      " * [new branch]      master     -> origin/master\n",
      "Everything up-to-date\n"
     ]
    },
    {
     "name": "stdout",
     "output_type": "stream",
     "text": [
      "Repository SW00230 already exists.\n",
      "Already up to date.\n",
      "On branch master\n",
      "nothing to commit, working tree clean\n"
     ]
    },
    {
     "name": "stderr",
     "output_type": "stream",
     "text": [
      "From https://github.com/MonlamAI/SW00230\n",
      " * branch            master     -> FETCH_HEAD\n",
      " * [new branch]      master     -> origin/master\n",
      "Everything up-to-date\n"
     ]
    },
    {
     "name": "stdout",
     "output_type": "stream",
     "text": [
      "Repository SW00036 already exists.\n",
      "Already up to date.\n",
      "On branch master\n",
      "nothing to commit, working tree clean\n"
     ]
    },
    {
     "name": "stderr",
     "output_type": "stream",
     "text": [
      "From https://github.com/MonlamAI/SW00036\n",
      " * branch            master     -> FETCH_HEAD\n",
      " * [new branch]      master     -> origin/master\n",
      "Everything up-to-date\n"
     ]
    },
    {
     "name": "stdout",
     "output_type": "stream",
     "text": [
      "Repository SW00782 already exists.\n",
      "Already up to date.\n",
      "On branch master\n",
      "nothing to commit, working tree clean\n"
     ]
    },
    {
     "name": "stderr",
     "output_type": "stream",
     "text": [
      "From https://github.com/MonlamAI/SW00782\n",
      " * branch            master     -> FETCH_HEAD\n",
      " * [new branch]      master     -> origin/master\n",
      "Everything up-to-date\n"
     ]
    },
    {
     "name": "stdout",
     "output_type": "stream",
     "text": [
      "Repository SW00552 already exists.\n",
      "Already up to date.\n",
      "On branch master\n",
      "nothing to commit, working tree clean\n"
     ]
    },
    {
     "name": "stderr",
     "output_type": "stream",
     "text": [
      "From https://github.com/MonlamAI/SW00552\n",
      " * branch            master     -> FETCH_HEAD\n",
      " * [new branch]      master     -> origin/master\n",
      "Everything up-to-date\n"
     ]
    },
    {
     "name": "stdout",
     "output_type": "stream",
     "text": [
      "Repository SW00065 already exists.\n",
      "Already up to date.\n",
      "On branch master\n",
      "nothing to commit, working tree clean\n"
     ]
    },
    {
     "name": "stderr",
     "output_type": "stream",
     "text": [
      "From https://github.com/MonlamAI/SW00065\n",
      " * branch            master     -> FETCH_HEAD\n",
      " * [new branch]      master     -> origin/master\n",
      "Everything up-to-date\n"
     ]
    },
    {
     "name": "stdout",
     "output_type": "stream",
     "text": [
      "Repository SW00388 already exists.\n",
      "Already up to date.\n",
      "On branch master\n",
      "nothing to commit, working tree clean\n"
     ]
    },
    {
     "name": "stderr",
     "output_type": "stream",
     "text": [
      "From https://github.com/MonlamAI/SW00388\n",
      " * branch            master     -> FETCH_HEAD\n",
      " * [new branch]      master     -> origin/master\n",
      "Everything up-to-date\n"
     ]
    },
    {
     "name": "stdout",
     "output_type": "stream",
     "text": [
      "Repository SW00614 already exists.\n",
      "Already up to date.\n",
      "On branch master\n",
      "nothing to commit, working tree clean\n"
     ]
    },
    {
     "name": "stderr",
     "output_type": "stream",
     "text": [
      "From https://github.com/MonlamAI/SW00614\n",
      " * branch            master     -> FETCH_HEAD\n",
      " * [new branch]      master     -> origin/master\n",
      "Everything up-to-date\n"
     ]
    },
    {
     "name": "stdout",
     "output_type": "stream",
     "text": [
      "Repository SW00175 already exists.\n",
      "Already up to date.\n",
      "On branch master\n",
      "nothing to commit, working tree clean\n"
     ]
    },
    {
     "name": "stderr",
     "output_type": "stream",
     "text": [
      "From https://github.com/MonlamAI/SW00175\n",
      " * branch            master     -> FETCH_HEAD\n",
      " * [new branch]      master     -> origin/master\n",
      "Everything up-to-date\n"
     ]
    },
    {
     "name": "stdout",
     "output_type": "stream",
     "text": [
      "Repository SW00902 already exists.\n",
      "Already up to date.\n",
      "On branch master\n",
      "nothing to commit, working tree clean\n"
     ]
    },
    {
     "name": "stderr",
     "output_type": "stream",
     "text": [
      "From https://github.com/MonlamAI/SW00902\n",
      " * branch            master     -> FETCH_HEAD\n",
      " * [new branch]      master     -> origin/master\n",
      "Everything up-to-date\n"
     ]
    },
    {
     "name": "stdout",
     "output_type": "stream",
     "text": [
      "Repository SW00356 already exists.\n"
     ]
    },
    {
     "name": "stderr",
     "output_type": "stream",
     "text": [
      "From https://github.com/MonlamAI/SW00356\n",
      " * branch            master     -> FETCH_HEAD\n",
      " * [new branch]      master     -> origin/master\n",
      "Everything up-to-date\n"
     ]
    },
    {
     "name": "stdout",
     "output_type": "stream",
     "text": [
      "Already up to date.\n",
      "On branch master\n",
      "nothing to commit, working tree clean\n",
      "Repository SW00081 already exists.\n",
      "Already up to date.\n",
      "On branch master\n",
      "nothing to commit, working tree clean\n"
     ]
    },
    {
     "name": "stderr",
     "output_type": "stream",
     "text": [
      "From https://github.com/MonlamAI/SW00081\n",
      " * branch            master     -> FETCH_HEAD\n",
      " * [new branch]      master     -> origin/master\n",
      "Everything up-to-date\n"
     ]
    },
    {
     "name": "stdout",
     "output_type": "stream",
     "text": [
      "Repository SW00621 already exists.\n",
      "Already up to date.\n",
      "On branch master\n",
      "nothing to commit, working tree clean\n"
     ]
    },
    {
     "name": "stderr",
     "output_type": "stream",
     "text": [
      "From https://github.com/MonlamAI/SW00621\n",
      " * branch            master     -> FETCH_HEAD\n",
      " * [new branch]      master     -> origin/master\n",
      "Everything up-to-date\n"
     ]
    },
    {
     "name": "stdout",
     "output_type": "stream",
     "text": [
      "Repository SW00398 already exists.\n",
      "Already up to date.\n",
      "On branch master\n",
      "nothing to commit, working tree clean\n"
     ]
    },
    {
     "name": "stderr",
     "output_type": "stream",
     "text": [
      "From https://github.com/MonlamAI/SW00398\n",
      " * branch            master     -> FETCH_HEAD\n",
      " * [new branch]      master     -> origin/master\n",
      "Everything up-to-date\n"
     ]
    },
    {
     "name": "stdout",
     "output_type": "stream",
     "text": [
      "Repository SW00111 already exists.\n",
      "Already up to date.\n",
      "On branch master\n",
      "nothing to commit, working tree clean\n"
     ]
    },
    {
     "name": "stderr",
     "output_type": "stream",
     "text": [
      "From https://github.com/MonlamAI/SW00111\n",
      " * branch            master     -> FETCH_HEAD\n",
      " * [new branch]      master     -> origin/master\n",
      "Everything up-to-date\n"
     ]
    },
    {
     "name": "stdout",
     "output_type": "stream",
     "text": [
      "Repository SW00295 already exists.\n",
      "Already up to date.\n",
      "On branch master\n",
      "nothing to commit, working tree clean\n"
     ]
    },
    {
     "name": "stderr",
     "output_type": "stream",
     "text": [
      "From https://github.com/MonlamAI/SW00295\n",
      " * branch            master     -> FETCH_HEAD\n",
      " * [new branch]      master     -> origin/master\n",
      "Everything up-to-date\n"
     ]
    },
    {
     "name": "stdout",
     "output_type": "stream",
     "text": [
      "Repository SW00672 already exists.\n",
      "Already up to date.\n",
      "On branch master\n",
      "nothing to commit, working tree clean\n"
     ]
    },
    {
     "name": "stderr",
     "output_type": "stream",
     "text": [
      "From https://github.com/MonlamAI/SW00672\n",
      " * branch            master     -> FETCH_HEAD\n",
      " * [new branch]      master     -> origin/master\n",
      "Everything up-to-date\n"
     ]
    },
    {
     "name": "stdout",
     "output_type": "stream",
     "text": [
      "Repository SW00784 already exists.\n",
      "Already up to date.\n",
      "On branch master\n",
      "nothing to commit, working tree clean\n"
     ]
    },
    {
     "name": "stderr",
     "output_type": "stream",
     "text": [
      "From https://github.com/MonlamAI/SW00784\n",
      " * branch            master     -> FETCH_HEAD\n",
      " * [new branch]      master     -> origin/master\n",
      "Everything up-to-date\n"
     ]
    },
    {
     "name": "stdout",
     "output_type": "stream",
     "text": [
      "Repository SW00389 already exists.\n",
      "Already up to date.\n",
      "On branch master\n",
      "nothing to commit, working tree clean\n"
     ]
    },
    {
     "name": "stderr",
     "output_type": "stream",
     "text": [
      "From https://github.com/MonlamAI/SW00389\n",
      " * branch            master     -> FETCH_HEAD\n",
      " * [new branch]      master     -> origin/master\n",
      "Everything up-to-date\n"
     ]
    },
    {
     "name": "stdout",
     "output_type": "stream",
     "text": [
      "Repository SW00742 already exists.\n",
      "Already up to date.\n",
      "On branch master\n",
      "nothing to commit, working tree clean\n"
     ]
    },
    {
     "name": "stderr",
     "output_type": "stream",
     "text": [
      "From https://github.com/MonlamAI/SW00742\n",
      " * branch            master     -> FETCH_HEAD\n",
      " * [new branch]      master     -> origin/master\n",
      "Everything up-to-date\n"
     ]
    },
    {
     "name": "stdout",
     "output_type": "stream",
     "text": [
      "Repository SW00226 already exists.\n",
      "Already up to date.\n",
      "On branch master\n",
      "nothing to commit, working tree clean\n"
     ]
    },
    {
     "name": "stderr",
     "output_type": "stream",
     "text": [
      "From https://github.com/MonlamAI/SW00226\n",
      " * branch            master     -> FETCH_HEAD\n",
      " * [new branch]      master     -> origin/master\n",
      "Everything up-to-date\n"
     ]
    },
    {
     "name": "stdout",
     "output_type": "stream",
     "text": [
      "Repository SW00717 already exists.\n",
      "Already up to date.\n",
      "On branch master\n",
      "nothing to commit, working tree clean\n"
     ]
    },
    {
     "name": "stderr",
     "output_type": "stream",
     "text": [
      "From https://github.com/MonlamAI/SW00717\n",
      " * branch            master     -> FETCH_HEAD\n",
      " * [new branch]      master     -> origin/master\n",
      "Everything up-to-date\n"
     ]
    },
    {
     "name": "stdout",
     "output_type": "stream",
     "text": [
      "Repository SW00539 already exists.\n",
      "Already up to date.\n",
      "On branch master\n",
      "nothing to commit, working tree clean\n"
     ]
    },
    {
     "name": "stderr",
     "output_type": "stream",
     "text": [
      "From https://github.com/MonlamAI/SW00539\n",
      " * branch            master     -> FETCH_HEAD\n",
      " * [new branch]      master     -> origin/master\n",
      "Everything up-to-date\n"
     ]
    },
    {
     "name": "stdout",
     "output_type": "stream",
     "text": [
      "Repository SW00651 already exists.\n",
      "Already up to date.\n",
      "On branch master\n",
      "nothing to commit, working tree clean\n"
     ]
    },
    {
     "name": "stderr",
     "output_type": "stream",
     "text": [
      "From https://github.com/MonlamAI/SW00651\n",
      " * branch            master     -> FETCH_HEAD\n",
      " * [new branch]      master     -> origin/master\n",
      "Everything up-to-date\n"
     ]
    },
    {
     "name": "stdout",
     "output_type": "stream",
     "text": [
      "Repository SW00564 already exists.\n",
      "Already up to date.\n",
      "On branch master\n",
      "nothing to commit, working tree clean\n"
     ]
    },
    {
     "name": "stderr",
     "output_type": "stream",
     "text": [
      "From https://github.com/MonlamAI/SW00564\n",
      " * branch            master     -> FETCH_HEAD\n",
      " * [new branch]      master     -> origin/master\n",
      "Everything up-to-date\n"
     ]
    },
    {
     "name": "stdout",
     "output_type": "stream",
     "text": [
      "Repository SW00168 already exists.\n",
      "Already up to date.\n",
      "On branch master\n",
      "nothing to commit, working tree clean\n"
     ]
    },
    {
     "name": "stderr",
     "output_type": "stream",
     "text": [
      "From https://github.com/MonlamAI/SW00168\n",
      " * branch            master     -> FETCH_HEAD\n",
      " * [new branch]      master     -> origin/master\n",
      "Everything up-to-date\n"
     ]
    },
    {
     "name": "stdout",
     "output_type": "stream",
     "text": [
      "Repository SW00438 already exists.\n",
      "Already up to date.\n",
      "On branch master\n",
      "nothing to commit, working tree clean\n"
     ]
    },
    {
     "name": "stderr",
     "output_type": "stream",
     "text": [
      "From https://github.com/MonlamAI/SW00438\n",
      " * branch            master     -> FETCH_HEAD\n",
      " * [new branch]      master     -> origin/master\n",
      "Everything up-to-date\n"
     ]
    },
    {
     "name": "stdout",
     "output_type": "stream",
     "text": [
      "Repository SW00660 already exists.\n",
      "Already up to date.\n",
      "On branch master\n",
      "nothing to commit, working tree clean\n"
     ]
    },
    {
     "name": "stderr",
     "output_type": "stream",
     "text": [
      "From https://github.com/MonlamAI/SW00660\n",
      " * branch            master     -> FETCH_HEAD\n",
      " * [new branch]      master     -> origin/master\n",
      "Everything up-to-date\n"
     ]
    },
    {
     "name": "stdout",
     "output_type": "stream",
     "text": [
      "Repository SW00700 already exists.\n",
      "Already up to date.\n",
      "On branch master\n",
      "nothing to commit, working tree clean\n"
     ]
    },
    {
     "name": "stderr",
     "output_type": "stream",
     "text": [
      "From https://github.com/MonlamAI/SW00700\n",
      " * branch            master     -> FETCH_HEAD\n",
      " * [new branch]      master     -> origin/master\n",
      "Everything up-to-date\n"
     ]
    },
    {
     "name": "stdout",
     "output_type": "stream",
     "text": [
      "Repository SW00243 already exists.\n",
      "Already up to date.\n",
      "On branch master\n",
      "nothing to commit, working tree clean\n"
     ]
    },
    {
     "name": "stderr",
     "output_type": "stream",
     "text": [
      "From https://github.com/MonlamAI/SW00243\n",
      " * branch            master     -> FETCH_HEAD\n",
      " * [new branch]      master     -> origin/master\n",
      "Everything up-to-date\n"
     ]
    },
    {
     "name": "stdout",
     "output_type": "stream",
     "text": [
      "Repository SW00637 already exists.\n",
      "Already up to date.\n",
      "On branch master\n",
      "nothing to commit, working tree clean\n"
     ]
    },
    {
     "name": "stderr",
     "output_type": "stream",
     "text": [
      "From https://github.com/MonlamAI/SW00637\n",
      " * branch            master     -> FETCH_HEAD\n",
      " * [new branch]      master     -> origin/master\n",
      "Everything up-to-date\n"
     ]
    },
    {
     "name": "stdout",
     "output_type": "stream",
     "text": [
      "Repository SW00920 already exists.\n",
      "Already up to date.\n",
      "On branch master\n",
      "nothing to commit, working tree clean\n"
     ]
    },
    {
     "name": "stderr",
     "output_type": "stream",
     "text": [
      "From https://github.com/MonlamAI/SW00920\n",
      " * branch            master     -> FETCH_HEAD\n",
      " * [new branch]      master     -> origin/master\n",
      "Everything up-to-date\n"
     ]
    },
    {
     "name": "stdout",
     "output_type": "stream",
     "text": [
      "Repository SW00546 already exists.\n",
      "Already up to date.\n",
      "On branch master\n",
      "nothing to commit, working tree clean\n"
     ]
    },
    {
     "name": "stderr",
     "output_type": "stream",
     "text": [
      "From https://github.com/MonlamAI/SW00546\n",
      " * branch            master     -> FETCH_HEAD\n",
      " * [new branch]      master     -> origin/master\n",
      "Everything up-to-date\n"
     ]
    },
    {
     "name": "stdout",
     "output_type": "stream",
     "text": [
      "Repository SW00733 already exists.\n",
      "Already up to date.\n",
      "On branch master\n",
      "nothing to commit, working tree clean\n"
     ]
    },
    {
     "name": "stderr",
     "output_type": "stream",
     "text": [
      "From https://github.com/MonlamAI/SW00733\n",
      " * branch            master     -> FETCH_HEAD\n",
      " * [new branch]      master     -> origin/master\n",
      "Everything up-to-date\n"
     ]
    },
    {
     "name": "stdout",
     "output_type": "stream",
     "text": [
      "Repository SW00068 already exists.\n",
      "Already up to date.\n",
      "On branch master\n",
      "nothing to commit, working tree clean\n"
     ]
    },
    {
     "name": "stderr",
     "output_type": "stream",
     "text": [
      "From https://github.com/MonlamAI/SW00068\n",
      " * branch            master     -> FETCH_HEAD\n",
      " * [new branch]      master     -> origin/master\n",
      "Everything up-to-date\n"
     ]
    },
    {
     "name": "stdout",
     "output_type": "stream",
     "text": [
      "Repository SW00208 already exists.\n",
      "Already up to date.\n",
      "On branch master\n",
      "nothing to commit, working tree clean\n"
     ]
    },
    {
     "name": "stderr",
     "output_type": "stream",
     "text": [
      "From https://github.com/MonlamAI/SW00208\n",
      " * branch            master     -> FETCH_HEAD\n",
      " * [new branch]      master     -> origin/master\n",
      "Everything up-to-date\n"
     ]
    },
    {
     "name": "stdout",
     "output_type": "stream",
     "text": [
      "Repository SW00264 already exists.\n",
      "Already up to date.\n",
      "On branch master\n",
      "nothing to commit, working tree clean\n"
     ]
    },
    {
     "name": "stderr",
     "output_type": "stream",
     "text": [
      "From https://github.com/MonlamAI/SW00264\n",
      " * branch            master     -> FETCH_HEAD\n",
      " * [new branch]      master     -> origin/master\n",
      "Everything up-to-date\n"
     ]
    },
    {
     "name": "stdout",
     "output_type": "stream",
     "text": [
      "Repository SW00186 already exists.\n",
      "Already up to date.\n",
      "On branch master\n",
      "nothing to commit, working tree clean\n"
     ]
    },
    {
     "name": "stderr",
     "output_type": "stream",
     "text": [
      "From https://github.com/MonlamAI/SW00186\n",
      " * branch            master     -> FETCH_HEAD\n",
      " * [new branch]      master     -> origin/master\n",
      "Everything up-to-date\n"
     ]
    },
    {
     "name": "stdout",
     "output_type": "stream",
     "text": [
      "Repository SW00691 already exists.\n",
      "Already up to date.\n",
      "On branch master\n",
      "nothing to commit, working tree clean\n"
     ]
    },
    {
     "name": "stderr",
     "output_type": "stream",
     "text": [
      "From https://github.com/MonlamAI/SW00691\n",
      " * branch            master     -> FETCH_HEAD\n",
      " * [new branch]      master     -> origin/master\n",
      "Everything up-to-date\n"
     ]
    },
    {
     "name": "stdout",
     "output_type": "stream",
     "text": [
      "Repository SW00456 already exists.\n",
      "Already up to date.\n",
      "On branch master\n",
      "nothing to commit, working tree clean\n"
     ]
    },
    {
     "name": "stderr",
     "output_type": "stream",
     "text": [
      "From https://github.com/MonlamAI/SW00456\n",
      " * branch            master     -> FETCH_HEAD\n",
      " * [new branch]      master     -> origin/master\n",
      "Everything up-to-date\n"
     ]
    },
    {
     "name": "stdout",
     "output_type": "stream",
     "text": [
      "Repository SW00044 already exists.\n",
      "Already up to date.\n",
      "On branch master\n",
      "nothing to commit, working tree clean\n"
     ]
    },
    {
     "name": "stderr",
     "output_type": "stream",
     "text": [
      "From https://github.com/MonlamAI/SW00044\n",
      " * branch            master     -> FETCH_HEAD\n",
      " * [new branch]      master     -> origin/master\n",
      "Everything up-to-date\n"
     ]
    },
    {
     "name": "stdout",
     "output_type": "stream",
     "text": [
      "Repository SW00629 already exists.\n",
      "Already up to date.\n",
      "On branch master\n",
      "nothing to commit, working tree clean\n"
     ]
    },
    {
     "name": "stderr",
     "output_type": "stream",
     "text": [
      "From https://github.com/MonlamAI/SW00629\n",
      " * branch            master     -> FETCH_HEAD\n",
      " * [new branch]      master     -> origin/master\n",
      "Everything up-to-date\n"
     ]
    },
    {
     "name": "stdout",
     "output_type": "stream",
     "text": [
      "Repository SW00957 already exists.\n",
      "Already up to date.\n",
      "On branch master\n",
      "nothing to commit, working tree clean\n"
     ]
    },
    {
     "name": "stderr",
     "output_type": "stream",
     "text": [
      "From https://github.com/MonlamAI/SW00957\n",
      " * branch            master     -> FETCH_HEAD\n",
      " * [new branch]      master     -> origin/master\n",
      "Everything up-to-date\n"
     ]
    },
    {
     "name": "stdout",
     "output_type": "stream",
     "text": [
      "Repository SW00338 already exists.\n",
      "Already up to date.\n",
      "On branch master\n",
      "nothing to commit, working tree clean\n"
     ]
    },
    {
     "name": "stderr",
     "output_type": "stream",
     "text": [
      "From https://github.com/MonlamAI/SW00338\n",
      " * branch            master     -> FETCH_HEAD\n",
      " * [new branch]      master     -> origin/master\n",
      "Everything up-to-date\n"
     ]
    },
    {
     "name": "stdout",
     "output_type": "stream",
     "text": [
      "Repository SW00096 already exists.\n",
      "Already up to date.\n",
      "On branch master\n",
      "nothing to commit, working tree clean\n"
     ]
    },
    {
     "name": "stderr",
     "output_type": "stream",
     "text": [
      "From https://github.com/MonlamAI/SW00096\n",
      " * branch            master     -> FETCH_HEAD\n",
      " * [new branch]      master     -> origin/master\n",
      "Everything up-to-date\n"
     ]
    },
    {
     "name": "stdout",
     "output_type": "stream",
     "text": [
      "Repository SW00915 already exists.\n",
      "Already up to date.\n",
      "On branch master\n",
      "nothing to commit, working tree clean\n"
     ]
    },
    {
     "name": "stderr",
     "output_type": "stream",
     "text": [
      "From https://github.com/MonlamAI/SW00915\n",
      " * branch            master     -> FETCH_HEAD\n",
      " * [new branch]      master     -> origin/master\n",
      "Everything up-to-date\n"
     ]
    },
    {
     "name": "stdout",
     "output_type": "stream",
     "text": [
      "Repository SW00412 already exists.\n",
      "Already up to date.\n",
      "On branch master\n",
      "nothing to commit, working tree clean\n"
     ]
    },
    {
     "name": "stderr",
     "output_type": "stream",
     "text": [
      "From https://github.com/MonlamAI/SW00412\n",
      " * branch            master     -> FETCH_HEAD\n",
      " * [new branch]      master     -> origin/master\n",
      "Everything up-to-date\n"
     ]
    },
    {
     "name": "stdout",
     "output_type": "stream",
     "text": [
      "Repository SW00545 already exists.\n",
      "Already up to date.\n",
      "On branch master\n",
      "nothing to commit, working tree clean\n"
     ]
    },
    {
     "name": "stderr",
     "output_type": "stream",
     "text": [
      "From https://github.com/MonlamAI/SW00545\n",
      " * branch            master     -> FETCH_HEAD\n",
      " * [new branch]      master     -> origin/master\n",
      "Everything up-to-date\n"
     ]
    },
    {
     "name": "stdout",
     "output_type": "stream",
     "text": [
      "Repository SW00098 already exists.\n",
      "Already up to date.\n",
      "On branch master\n",
      "nothing to commit, working tree clean\n"
     ]
    },
    {
     "name": "stderr",
     "output_type": "stream",
     "text": [
      "From https://github.com/MonlamAI/SW00098\n",
      " * branch            master     -> FETCH_HEAD\n",
      " * [new branch]      master     -> origin/master\n",
      "Everything up-to-date\n"
     ]
    },
    {
     "name": "stdout",
     "output_type": "stream",
     "text": [
      "Repository SW00326 already exists.\n",
      "Already up to date.\n",
      "On branch master\n",
      "nothing to commit, working tree clean\n"
     ]
    },
    {
     "name": "stderr",
     "output_type": "stream",
     "text": [
      "From https://github.com/MonlamAI/SW00326\n",
      " * branch            master     -> FETCH_HEAD\n",
      " * [new branch]      master     -> origin/master\n",
      "Everything up-to-date\n"
     ]
    },
    {
     "name": "stdout",
     "output_type": "stream",
     "text": [
      "Repository SW00083 already exists.\n",
      "Already up to date.\n",
      "On branch master\n",
      "nothing to commit, working tree clean\n"
     ]
    },
    {
     "name": "stderr",
     "output_type": "stream",
     "text": [
      "From https://github.com/MonlamAI/SW00083\n",
      " * branch            master     -> FETCH_HEAD\n",
      " * [new branch]      master     -> origin/master\n",
      "Everything up-to-date\n"
     ]
    },
    {
     "name": "stdout",
     "output_type": "stream",
     "text": [
      "Repository SW00294 already exists.\n",
      "Already up to date.\n",
      "On branch master\n",
      "nothing to commit, working tree clean\n"
     ]
    },
    {
     "name": "stderr",
     "output_type": "stream",
     "text": [
      "From https://github.com/MonlamAI/SW00294\n",
      " * branch            master     -> FETCH_HEAD\n",
      " * [new branch]      master     -> origin/master\n",
      "Everything up-to-date\n"
     ]
    },
    {
     "name": "stdout",
     "output_type": "stream",
     "text": [
      "Repository SW00233 already exists.\n",
      "Already up to date.\n",
      "On branch master\n",
      "nothing to commit, working tree clean\n"
     ]
    },
    {
     "name": "stderr",
     "output_type": "stream",
     "text": [
      "From https://github.com/MonlamAI/SW00233\n",
      " * branch            master     -> FETCH_HEAD\n",
      " * [new branch]      master     -> origin/master\n",
      "Everything up-to-date\n"
     ]
    },
    {
     "name": "stdout",
     "output_type": "stream",
     "text": [
      "Repository SW00360 already exists.\n",
      "Already up to date.\n",
      "On branch master\n",
      "nothing to commit, working tree clean\n"
     ]
    },
    {
     "name": "stderr",
     "output_type": "stream",
     "text": [
      "From https://github.com/MonlamAI/SW00360\n",
      " * branch            master     -> FETCH_HEAD\n",
      " * [new branch]      master     -> origin/master\n",
      "Everything up-to-date\n"
     ]
    },
    {
     "name": "stdout",
     "output_type": "stream",
     "text": [
      "Repository SW00553 already exists.\n",
      "Already up to date.\n",
      "On branch master\n",
      "nothing to commit, working tree clean\n"
     ]
    },
    {
     "name": "stderr",
     "output_type": "stream",
     "text": [
      "From https://github.com/MonlamAI/SW00553\n",
      " * branch            master     -> FETCH_HEAD\n",
      " * [new branch]      master     -> origin/master\n",
      "Everything up-to-date\n"
     ]
    },
    {
     "name": "stdout",
     "output_type": "stream",
     "text": [
      "Repository SW00271 already exists.\n",
      "Already up to date.\n",
      "On branch master\n",
      "nothing to commit, working tree clean\n"
     ]
    },
    {
     "name": "stderr",
     "output_type": "stream",
     "text": [
      "From https://github.com/MonlamAI/SW00271\n",
      " * branch            master     -> FETCH_HEAD\n",
      " * [new branch]      master     -> origin/master\n",
      "Everything up-to-date\n"
     ]
    },
    {
     "name": "stdout",
     "output_type": "stream",
     "text": [
      "Repository SW00665 already exists.\n",
      "Already up to date.\n",
      "On branch master\n",
      "nothing to commit, working tree clean\n"
     ]
    },
    {
     "name": "stderr",
     "output_type": "stream",
     "text": [
      "From https://github.com/MonlamAI/SW00665\n",
      " * branch            master     -> FETCH_HEAD\n",
      " * [new branch]      master     -> origin/master\n",
      "Everything up-to-date\n"
     ]
    },
    {
     "name": "stdout",
     "output_type": "stream",
     "text": [
      "Repository SW00221 already exists.\n",
      "Already up to date.\n",
      "On branch master\n",
      "nothing to commit, working tree clean\n"
     ]
    },
    {
     "name": "stderr",
     "output_type": "stream",
     "text": [
      "From https://github.com/MonlamAI/SW00221\n",
      " * branch            master     -> FETCH_HEAD\n",
      " * [new branch]      master     -> origin/master\n",
      "Everything up-to-date\n"
     ]
    },
    {
     "name": "stdout",
     "output_type": "stream",
     "text": [
      "Repository SW00809 already exists.\n",
      "Already up to date.\n",
      "On branch master\n",
      "nothing to commit, working tree clean\n"
     ]
    },
    {
     "name": "stderr",
     "output_type": "stream",
     "text": [
      "From https://github.com/MonlamAI/SW00809\n",
      " * branch            master     -> FETCH_HEAD\n",
      " * [new branch]      master     -> origin/master\n",
      "Everything up-to-date\n"
     ]
    },
    {
     "name": "stdout",
     "output_type": "stream",
     "text": [
      "Repository SW00924 already exists.\n",
      "Already up to date.\n",
      "On branch master\n",
      "nothing to commit, working tree clean\n"
     ]
    },
    {
     "name": "stderr",
     "output_type": "stream",
     "text": [
      "From https://github.com/MonlamAI/SW00924\n",
      " * branch            master     -> FETCH_HEAD\n",
      " * [new branch]      master     -> origin/master\n",
      "Everything up-to-date\n"
     ]
    },
    {
     "name": "stdout",
     "output_type": "stream",
     "text": [
      "Repository SW00933 already exists.\n",
      "Already up to date.\n",
      "On branch master\n",
      "nothing to commit, working tree clean\n"
     ]
    },
    {
     "name": "stderr",
     "output_type": "stream",
     "text": [
      "From https://github.com/MonlamAI/SW00933\n",
      " * branch            master     -> FETCH_HEAD\n",
      " * [new branch]      master     -> origin/master\n",
      "Everything up-to-date\n"
     ]
    },
    {
     "name": "stdout",
     "output_type": "stream",
     "text": [
      "Repository SW00601 already exists.\n",
      "Already up to date.\n",
      "On branch master\n",
      "nothing to commit, working tree clean\n"
     ]
    },
    {
     "name": "stderr",
     "output_type": "stream",
     "text": [
      "From https://github.com/MonlamAI/SW00601\n",
      " * branch            master     -> FETCH_HEAD\n",
      " * [new branch]      master     -> origin/master\n",
      "Everything up-to-date\n"
     ]
    },
    {
     "name": "stdout",
     "output_type": "stream",
     "text": [
      "Repository SW00619 already exists.\n",
      "Already up to date.\n",
      "On branch master\n",
      "nothing to commit, working tree clean\n"
     ]
    },
    {
     "name": "stderr",
     "output_type": "stream",
     "text": [
      "From https://github.com/MonlamAI/SW00619\n",
      " * branch            master     -> FETCH_HEAD\n",
      " * [new branch]      master     -> origin/master\n",
      "Everything up-to-date\n"
     ]
    },
    {
     "name": "stdout",
     "output_type": "stream",
     "text": [
      "Repository SW00610 already exists.\n",
      "Already up to date.\n",
      "On branch master\n",
      "nothing to commit, working tree clean\n"
     ]
    },
    {
     "name": "stderr",
     "output_type": "stream",
     "text": [
      "From https://github.com/MonlamAI/SW00610\n",
      " * branch            master     -> FETCH_HEAD\n",
      " * [new branch]      master     -> origin/master\n",
      "Everything up-to-date\n"
     ]
    },
    {
     "name": "stdout",
     "output_type": "stream",
     "text": [
      "Repository SW00306 already exists.\n",
      "Already up to date.\n",
      "On branch master\n",
      "nothing to commit, working tree clean\n"
     ]
    },
    {
     "name": "stderr",
     "output_type": "stream",
     "text": [
      "From https://github.com/MonlamAI/SW00306\n",
      " * branch            master     -> FETCH_HEAD\n",
      " * [new branch]      master     -> origin/master\n",
      "Everything up-to-date\n"
     ]
    },
    {
     "name": "stdout",
     "output_type": "stream",
     "text": [
      "Repository SW00234 already exists.\n",
      "Already up to date.\n",
      "On branch master\n",
      "nothing to commit, working tree clean\n"
     ]
    },
    {
     "name": "stderr",
     "output_type": "stream",
     "text": [
      "From https://github.com/MonlamAI/SW00234\n",
      " * branch            master     -> FETCH_HEAD\n",
      " * [new branch]      master     -> origin/master\n",
      "Everything up-to-date\n"
     ]
    },
    {
     "name": "stdout",
     "output_type": "stream",
     "text": [
      "Repository SW00392 already exists.\n",
      "Already up to date.\n",
      "On branch master\n",
      "nothing to commit, working tree clean\n"
     ]
    },
    {
     "name": "stderr",
     "output_type": "stream",
     "text": [
      "From https://github.com/MonlamAI/SW00392\n",
      " * branch            master     -> FETCH_HEAD\n",
      " * [new branch]      master     -> origin/master\n",
      "Everything up-to-date\n"
     ]
    },
    {
     "name": "stdout",
     "output_type": "stream",
     "text": [
      "Repository SW00687 already exists.\n",
      "Already up to date.\n",
      "On branch master\n",
      "nothing to commit, working tree clean\n"
     ]
    },
    {
     "name": "stderr",
     "output_type": "stream",
     "text": [
      "From https://github.com/MonlamAI/SW00687\n",
      " * branch            master     -> FETCH_HEAD\n",
      " * [new branch]      master     -> origin/master\n",
      "Everything up-to-date\n"
     ]
    },
    {
     "name": "stdout",
     "output_type": "stream",
     "text": [
      "Repository SW00454 already exists.\n",
      "Already up to date.\n",
      "On branch master\n",
      "nothing to commit, working tree clean\n"
     ]
    },
    {
     "name": "stderr",
     "output_type": "stream",
     "text": [
      "From https://github.com/MonlamAI/SW00454\n",
      " * branch            master     -> FETCH_HEAD\n",
      " * [new branch]      master     -> origin/master\n",
      "Everything up-to-date\n"
     ]
    },
    {
     "name": "stdout",
     "output_type": "stream",
     "text": [
      "Repository SW00536 already exists.\n",
      "Already up to date.\n",
      "On branch master\n",
      "nothing to commit, working tree clean\n"
     ]
    },
    {
     "name": "stderr",
     "output_type": "stream",
     "text": [
      "From https://github.com/MonlamAI/SW00536\n",
      " * branch            master     -> FETCH_HEAD\n",
      " * [new branch]      master     -> origin/master\n",
      "Everything up-to-date\n"
     ]
    },
    {
     "name": "stdout",
     "output_type": "stream",
     "text": [
      "Repository SW00927 already exists.\n",
      "Already up to date.\n",
      "On branch master\n",
      "nothing to commit, working tree clean\n"
     ]
    },
    {
     "name": "stderr",
     "output_type": "stream",
     "text": [
      "From https://github.com/MonlamAI/SW00927\n",
      " * branch            master     -> FETCH_HEAD\n",
      " * [new branch]      master     -> origin/master\n",
      "Everything up-to-date\n"
     ]
    },
    {
     "name": "stdout",
     "output_type": "stream",
     "text": [
      "Repository SW00151 already exists.\n",
      "Already up to date.\n",
      "On branch master\n",
      "nothing to commit, working tree clean\n"
     ]
    },
    {
     "name": "stderr",
     "output_type": "stream",
     "text": [
      "From https://github.com/MonlamAI/SW00151\n",
      " * branch            master     -> FETCH_HEAD\n",
      " * [new branch]      master     -> origin/master\n",
      "Everything up-to-date\n"
     ]
    },
    {
     "name": "stdout",
     "output_type": "stream",
     "text": [
      "Repository SW00170 already exists.\n",
      "Already up to date.\n",
      "On branch master\n",
      "nothing to commit, working tree clean\n"
     ]
    },
    {
     "name": "stderr",
     "output_type": "stream",
     "text": [
      "From https://github.com/MonlamAI/SW00170\n",
      " * branch            master     -> FETCH_HEAD\n",
      " * [new branch]      master     -> origin/master\n",
      "Everything up-to-date\n"
     ]
    },
    {
     "name": "stdout",
     "output_type": "stream",
     "text": [
      "Repository SW00253 already exists.\n",
      "Already up to date.\n",
      "On branch master\n",
      "nothing to commit, working tree clean\n"
     ]
    },
    {
     "name": "stderr",
     "output_type": "stream",
     "text": [
      "From https://github.com/MonlamAI/SW00253\n",
      " * branch            master     -> FETCH_HEAD\n",
      " * [new branch]      master     -> origin/master\n",
      "Everything up-to-date\n"
     ]
    },
    {
     "name": "stdout",
     "output_type": "stream",
     "text": [
      "Repository SW00376 already exists.\n",
      "Already up to date.\n",
      "On branch master\n",
      "nothing to commit, working tree clean\n"
     ]
    },
    {
     "name": "stderr",
     "output_type": "stream",
     "text": [
      "From https://github.com/MonlamAI/SW00376\n",
      " * branch            master     -> FETCH_HEAD\n",
      " * [new branch]      master     -> origin/master\n",
      "Everything up-to-date\n"
     ]
    },
    {
     "name": "stdout",
     "output_type": "stream",
     "text": [
      "Repository SW00209 already exists.\n",
      "Already up to date.\n",
      "On branch master\n",
      "nothing to commit, working tree clean\n"
     ]
    },
    {
     "name": "stderr",
     "output_type": "stream",
     "text": [
      "From https://github.com/MonlamAI/SW00209\n",
      " * branch            master     -> FETCH_HEAD\n",
      " * [new branch]      master     -> origin/master\n",
      "Everything up-to-date\n"
     ]
    },
    {
     "name": "stdout",
     "output_type": "stream",
     "text": [
      "Repository SW00263 already exists.\n",
      "Already up to date.\n",
      "On branch master\n",
      "nothing to commit, working tree clean\n"
     ]
    },
    {
     "name": "stderr",
     "output_type": "stream",
     "text": [
      "From https://github.com/MonlamAI/SW00263\n",
      " * branch            master     -> FETCH_HEAD\n",
      " * [new branch]      master     -> origin/master\n",
      "Everything up-to-date\n"
     ]
    },
    {
     "name": "stdout",
     "output_type": "stream",
     "text": [
      "Repository SW00354 already exists.\n",
      "Already up to date.\n",
      "On branch master\n",
      "nothing to commit, working tree clean\n"
     ]
    },
    {
     "name": "stderr",
     "output_type": "stream",
     "text": [
      "From https://github.com/MonlamAI/SW00354\n",
      " * branch            master     -> FETCH_HEAD\n",
      " * [new branch]      master     -> origin/master\n",
      "Everything up-to-date\n"
     ]
    },
    {
     "name": "stdout",
     "output_type": "stream",
     "text": [
      "Repository SW00703 already exists.\n",
      "Already up to date.\n",
      "On branch master\n",
      "nothing to commit, working tree clean\n"
     ]
    },
    {
     "name": "stderr",
     "output_type": "stream",
     "text": [
      "From https://github.com/MonlamAI/SW00703\n",
      " * branch            master     -> FETCH_HEAD\n",
      " * [new branch]      master     -> origin/master\n",
      "Everything up-to-date\n"
     ]
    },
    {
     "name": "stdout",
     "output_type": "stream",
     "text": [
      "Repository SW00888 already exists.\n",
      "Already up to date.\n",
      "On branch master\n",
      "nothing to commit, working tree clean\n"
     ]
    },
    {
     "name": "stderr",
     "output_type": "stream",
     "text": [
      "From https://github.com/MonlamAI/SW00888\n",
      " * branch            master     -> FETCH_HEAD\n",
      " * [new branch]      master     -> origin/master\n",
      "Everything up-to-date\n"
     ]
    },
    {
     "name": "stdout",
     "output_type": "stream",
     "text": [
      "Repository SW00845 already exists.\n",
      "Already up to date.\n",
      "On branch master\n",
      "nothing to commit, working tree clean\n"
     ]
    },
    {
     "name": "stderr",
     "output_type": "stream",
     "text": [
      "From https://github.com/MonlamAI/SW00845\n",
      " * branch            master     -> FETCH_HEAD\n",
      " * [new branch]      master     -> origin/master\n",
      "Everything up-to-date\n"
     ]
    },
    {
     "name": "stdout",
     "output_type": "stream",
     "text": [
      "Repository SW00113 already exists.\n",
      "Already up to date.\n",
      "On branch master\n",
      "nothing to commit, working tree clean\n"
     ]
    },
    {
     "name": "stderr",
     "output_type": "stream",
     "text": [
      "From https://github.com/MonlamAI/SW00113\n",
      " * branch            master     -> FETCH_HEAD\n",
      " * [new branch]      master     -> origin/master\n",
      "Everything up-to-date\n"
     ]
    },
    {
     "name": "stdout",
     "output_type": "stream",
     "text": [
      "Repository SW00117 already exists.\n",
      "Already up to date.\n",
      "On branch master\n",
      "nothing to commit, working tree clean\n"
     ]
    },
    {
     "name": "stderr",
     "output_type": "stream",
     "text": [
      "From https://github.com/MonlamAI/SW00117\n",
      " * branch            master     -> FETCH_HEAD\n",
      " * [new branch]      master     -> origin/master\n",
      "Everything up-to-date\n"
     ]
    },
    {
     "name": "stdout",
     "output_type": "stream",
     "text": [
      "Repository SW00446 already exists.\n",
      "Already up to date.\n",
      "On branch master\n",
      "nothing to commit, working tree clean\n"
     ]
    },
    {
     "name": "stderr",
     "output_type": "stream",
     "text": [
      "From https://github.com/MonlamAI/SW00446\n",
      " * branch            master     -> FETCH_HEAD\n",
      " * [new branch]      master     -> origin/master\n",
      "Everything up-to-date\n"
     ]
    },
    {
     "name": "stdout",
     "output_type": "stream",
     "text": [
      "Repository SW00046 already exists.\n",
      "Already up to date.\n",
      "On branch master\n",
      "nothing to commit, working tree clean\n"
     ]
    },
    {
     "name": "stderr",
     "output_type": "stream",
     "text": [
      "From https://github.com/MonlamAI/SW00046\n",
      " * branch            master     -> FETCH_HEAD\n",
      " * [new branch]      master     -> origin/master\n",
      "Everything up-to-date\n"
     ]
    },
    {
     "name": "stdout",
     "output_type": "stream",
     "text": [
      "Repository SW00471 already exists.\n",
      "Already up to date.\n",
      "On branch master\n",
      "nothing to commit, working tree clean\n"
     ]
    },
    {
     "name": "stderr",
     "output_type": "stream",
     "text": [
      "From https://github.com/MonlamAI/SW00471\n",
      " * branch            master     -> FETCH_HEAD\n",
      " * [new branch]      master     -> origin/master\n",
      "Everything up-to-date\n"
     ]
    },
    {
     "name": "stdout",
     "output_type": "stream",
     "text": [
      "Repository SW00667 already exists.\n",
      "Already up to date.\n",
      "On branch master\n",
      "nothing to commit, working tree clean\n"
     ]
    },
    {
     "name": "stderr",
     "output_type": "stream",
     "text": [
      "From https://github.com/MonlamAI/SW00667\n",
      " * branch            master     -> FETCH_HEAD\n",
      " * [new branch]      master     -> origin/master\n",
      "Everything up-to-date\n"
     ]
    },
    {
     "name": "stdout",
     "output_type": "stream",
     "text": [
      "Repository SW00770 already exists.\n",
      "Already up to date.\n",
      "On branch master\n",
      "nothing to commit, working tree clean\n"
     ]
    },
    {
     "name": "stderr",
     "output_type": "stream",
     "text": [
      "From https://github.com/MonlamAI/SW00770\n",
      " * branch            master     -> FETCH_HEAD\n",
      " * [new branch]      master     -> origin/master\n",
      "Everything up-to-date\n"
     ]
    },
    {
     "name": "stdout",
     "output_type": "stream",
     "text": [
      "Repository SW00406 already exists.\n",
      "Already up to date.\n",
      "On branch master\n",
      "nothing to commit, working tree clean\n"
     ]
    },
    {
     "name": "stderr",
     "output_type": "stream",
     "text": [
      "From https://github.com/MonlamAI/SW00406\n",
      " * branch            master     -> FETCH_HEAD\n",
      " * [new branch]      master     -> origin/master\n",
      "Everything up-to-date\n"
     ]
    },
    {
     "name": "stdout",
     "output_type": "stream",
     "text": [
      "Repository SW00202 already exists.\n",
      "Already up to date.\n",
      "On branch master\n",
      "nothing to commit, working tree clean\n"
     ]
    },
    {
     "name": "stderr",
     "output_type": "stream",
     "text": [
      "From https://github.com/MonlamAI/SW00202\n",
      " * branch            master     -> FETCH_HEAD\n",
      " * [new branch]      master     -> origin/master\n",
      "Everything up-to-date\n"
     ]
    },
    {
     "name": "stdout",
     "output_type": "stream",
     "text": [
      "Repository SW00759 already exists.\n",
      "Already up to date.\n",
      "On branch master\n",
      "nothing to commit, working tree clean\n"
     ]
    },
    {
     "name": "stderr",
     "output_type": "stream",
     "text": [
      "From https://github.com/MonlamAI/SW00759\n",
      " * branch            master     -> FETCH_HEAD\n",
      " * [new branch]      master     -> origin/master\n",
      "Everything up-to-date\n"
     ]
    },
    {
     "name": "stdout",
     "output_type": "stream",
     "text": [
      "Repository SW00262 already exists.\n",
      "Already up to date.\n",
      "On branch master\n",
      "nothing to commit, working tree clean\n"
     ]
    },
    {
     "name": "stderr",
     "output_type": "stream",
     "text": [
      "From https://github.com/MonlamAI/SW00262\n",
      " * branch            master     -> FETCH_HEAD\n",
      " * [new branch]      master     -> origin/master\n",
      "Everything up-to-date\n"
     ]
    },
    {
     "name": "stdout",
     "output_type": "stream",
     "text": [
      "Repository SW00497 already exists.\n",
      "Already up to date.\n",
      "On branch master\n",
      "nothing to commit, working tree clean\n"
     ]
    },
    {
     "name": "stderr",
     "output_type": "stream",
     "text": [
      "From https://github.com/MonlamAI/SW00497\n",
      " * branch            master     -> FETCH_HEAD\n",
      " * [new branch]      master     -> origin/master\n",
      "Everything up-to-date\n"
     ]
    },
    {
     "name": "stdout",
     "output_type": "stream",
     "text": [
      "Repository SW00198 already exists.\n",
      "Already up to date.\n",
      "On branch master\n",
      "nothing to commit, working tree clean\n"
     ]
    },
    {
     "name": "stderr",
     "output_type": "stream",
     "text": [
      "From https://github.com/MonlamAI/SW00198\n",
      " * branch            master     -> FETCH_HEAD\n",
      " * [new branch]      master     -> origin/master\n",
      "Everything up-to-date\n"
     ]
    },
    {
     "name": "stdout",
     "output_type": "stream",
     "text": [
      "Repository SW00404 already exists.\n",
      "Already up to date.\n",
      "On branch master\n",
      "nothing to commit, working tree clean\n"
     ]
    },
    {
     "name": "stderr",
     "output_type": "stream",
     "text": [
      "From https://github.com/MonlamAI/SW00404\n",
      " * branch            master     -> FETCH_HEAD\n",
      " * [new branch]      master     -> origin/master\n",
      "Everything up-to-date\n"
     ]
    },
    {
     "name": "stdout",
     "output_type": "stream",
     "text": [
      "Repository SW00364 already exists.\n"
     ]
    },
    {
     "name": "stderr",
     "output_type": "stream",
     "text": [
      "From https://github.com/MonlamAI/SW00364\n",
      " * branch            master     -> FETCH_HEAD\n",
      " * [new branch]      master     -> origin/master\n",
      "Everything up-to-date\n"
     ]
    },
    {
     "name": "stdout",
     "output_type": "stream",
     "text": [
      "Already up to date.\n",
      "On branch master\n",
      "nothing to commit, working tree clean\n",
      "Repository SW00486 already exists.\n",
      "Already up to date.\n",
      "On branch master\n",
      "nothing to commit, working tree clean\n"
     ]
    },
    {
     "name": "stderr",
     "output_type": "stream",
     "text": [
      "From https://github.com/MonlamAI/SW00486\n",
      " * branch            master     -> FETCH_HEAD\n",
      " * [new branch]      master     -> origin/master\n",
      "Everything up-to-date\n"
     ]
    },
    {
     "name": "stdout",
     "output_type": "stream",
     "text": [
      "Repository SW00947 already exists.\n",
      "Already up to date.\n",
      "On branch master\n",
      "nothing to commit, working tree clean\n"
     ]
    },
    {
     "name": "stderr",
     "output_type": "stream",
     "text": [
      "From https://github.com/MonlamAI/SW00947\n",
      " * branch            master     -> FETCH_HEAD\n",
      " * [new branch]      master     -> origin/master\n",
      "Everything up-to-date\n"
     ]
    },
    {
     "name": "stdout",
     "output_type": "stream",
     "text": [
      "Repository SW00327 already exists.\n",
      "Already up to date.\n",
      "On branch master\n",
      "nothing to commit, working tree clean\n"
     ]
    },
    {
     "name": "stderr",
     "output_type": "stream",
     "text": [
      "From https://github.com/MonlamAI/SW00327\n",
      " * branch            master     -> FETCH_HEAD\n",
      " * [new branch]      master     -> origin/master\n",
      "Everything up-to-date\n"
     ]
    },
    {
     "name": "stdout",
     "output_type": "stream",
     "text": [
      "Repository SW00599 already exists.\n",
      "Already up to date.\n",
      "On branch master\n",
      "nothing to commit, working tree clean\n"
     ]
    },
    {
     "name": "stderr",
     "output_type": "stream",
     "text": [
      "From https://github.com/MonlamAI/SW00599\n",
      " * branch            master     -> FETCH_HEAD\n",
      " * [new branch]      master     -> origin/master\n",
      "Everything up-to-date\n"
     ]
    },
    {
     "name": "stdout",
     "output_type": "stream",
     "text": [
      "Repository SW00781 already exists.\n",
      "Already up to date.\n",
      "On branch master\n",
      "nothing to commit, working tree clean\n"
     ]
    },
    {
     "name": "stderr",
     "output_type": "stream",
     "text": [
      "From https://github.com/MonlamAI/SW00781\n",
      " * branch            master     -> FETCH_HEAD\n",
      " * [new branch]      master     -> origin/master\n",
      "Everything up-to-date\n"
     ]
    },
    {
     "name": "stdout",
     "output_type": "stream",
     "text": [
      "Repository SW00183 already exists.\n",
      "Already up to date.\n",
      "On branch master\n",
      "nothing to commit, working tree clean\n"
     ]
    },
    {
     "name": "stderr",
     "output_type": "stream",
     "text": [
      "From https://github.com/MonlamAI/SW00183\n",
      " * branch            master     -> FETCH_HEAD\n",
      " * [new branch]      master     -> origin/master\n",
      "Everything up-to-date\n"
     ]
    },
    {
     "name": "stdout",
     "output_type": "stream",
     "text": [
      "Repository SW00666 already exists.\n",
      "Already up to date.\n",
      "On branch master\n",
      "nothing to commit, working tree clean\n"
     ]
    },
    {
     "name": "stderr",
     "output_type": "stream",
     "text": [
      "From https://github.com/MonlamAI/SW00666\n",
      " * branch            master     -> FETCH_HEAD\n",
      " * [new branch]      master     -> origin/master\n",
      "Everything up-to-date\n"
     ]
    },
    {
     "name": "stdout",
     "output_type": "stream",
     "text": [
      "Repository SW00039 already exists.\n",
      "Already up to date.\n",
      "On branch master\n",
      "nothing to commit, working tree clean\n"
     ]
    },
    {
     "name": "stderr",
     "output_type": "stream",
     "text": [
      "From https://github.com/MonlamAI/SW00039\n",
      " * branch            master     -> FETCH_HEAD\n",
      " * [new branch]      master     -> origin/master\n",
      "Everything up-to-date\n"
     ]
    },
    {
     "name": "stdout",
     "output_type": "stream",
     "text": [
      "Repository SW00160 already exists.\n",
      "Already up to date.\n",
      "On branch master\n",
      "nothing to commit, working tree clean\n"
     ]
    },
    {
     "name": "stderr",
     "output_type": "stream",
     "text": [
      "From https://github.com/MonlamAI/SW00160\n",
      " * branch            master     -> FETCH_HEAD\n",
      " * [new branch]      master     -> origin/master\n",
      "Everything up-to-date\n"
     ]
    },
    {
     "name": "stdout",
     "output_type": "stream",
     "text": [
      "Repository SW00082 already exists.\n",
      "Already up to date.\n",
      "On branch master\n",
      "nothing to commit, working tree clean\n"
     ]
    },
    {
     "name": "stderr",
     "output_type": "stream",
     "text": [
      "From https://github.com/MonlamAI/SW00082\n",
      " * branch            master     -> FETCH_HEAD\n",
      " * [new branch]      master     -> origin/master\n",
      "Everything up-to-date\n"
     ]
    },
    {
     "name": "stdout",
     "output_type": "stream",
     "text": [
      "Repository SW00656 already exists.\n",
      "Already up to date.\n",
      "On branch master\n",
      "nothing to commit, working tree clean\n"
     ]
    },
    {
     "name": "stderr",
     "output_type": "stream",
     "text": [
      "From https://github.com/MonlamAI/SW00656\n",
      " * branch            master     -> FETCH_HEAD\n",
      " * [new branch]      master     -> origin/master\n",
      "Everything up-to-date\n"
     ]
    },
    {
     "name": "stdout",
     "output_type": "stream",
     "text": [
      "Repository SW00162 already exists.\n",
      "Already up to date.\n",
      "On branch master\n",
      "nothing to commit, working tree clean\n"
     ]
    },
    {
     "name": "stderr",
     "output_type": "stream",
     "text": [
      "From https://github.com/MonlamAI/SW00162\n",
      " * branch            master     -> FETCH_HEAD\n",
      " * [new branch]      master     -> origin/master\n",
      "Everything up-to-date\n"
     ]
    },
    {
     "name": "stdout",
     "output_type": "stream",
     "text": [
      "Repository SW00882 already exists.\n",
      "Already up to date.\n",
      "On branch master\n",
      "nothing to commit, working tree clean\n"
     ]
    },
    {
     "name": "stderr",
     "output_type": "stream",
     "text": [
      "From https://github.com/MonlamAI/SW00882\n",
      " * branch            master     -> FETCH_HEAD\n",
      " * [new branch]      master     -> origin/master\n",
      "Everything up-to-date\n"
     ]
    },
    {
     "name": "stdout",
     "output_type": "stream",
     "text": [
      "Repository SW00309 already exists.\n",
      "Already up to date.\n",
      "On branch master\n",
      "nothing to commit, working tree clean\n"
     ]
    },
    {
     "name": "stderr",
     "output_type": "stream",
     "text": [
      "From https://github.com/MonlamAI/SW00309\n",
      " * branch            master     -> FETCH_HEAD\n",
      " * [new branch]      master     -> origin/master\n",
      "Everything up-to-date\n"
     ]
    },
    {
     "name": "stdout",
     "output_type": "stream",
     "text": [
      "Repository SW00641 already exists.\n",
      "Already up to date.\n",
      "On branch master\n",
      "nothing to commit, working tree clean\n"
     ]
    },
    {
     "name": "stderr",
     "output_type": "stream",
     "text": [
      "From https://github.com/MonlamAI/SW00641\n",
      " * branch            master     -> FETCH_HEAD\n",
      " * [new branch]      master     -> origin/master\n",
      "Everything up-to-date\n"
     ]
    },
    {
     "name": "stdout",
     "output_type": "stream",
     "text": [
      "Repository SW00633 already exists.\n",
      "Already up to date.\n",
      "On branch master\n",
      "nothing to commit, working tree clean\n"
     ]
    },
    {
     "name": "stderr",
     "output_type": "stream",
     "text": [
      "From https://github.com/MonlamAI/SW00633\n",
      " * branch            master     -> FETCH_HEAD\n",
      " * [new branch]      master     -> origin/master\n",
      "Everything up-to-date\n"
     ]
    },
    {
     "name": "stdout",
     "output_type": "stream",
     "text": [
      "Repository SW00695 already exists.\n",
      "Already up to date.\n",
      "On branch master\n",
      "nothing to commit, working tree clean\n"
     ]
    },
    {
     "name": "stderr",
     "output_type": "stream",
     "text": [
      "From https://github.com/MonlamAI/SW00695\n",
      " * branch            master     -> FETCH_HEAD\n",
      " * [new branch]      master     -> origin/master\n",
      "Everything up-to-date\n"
     ]
    },
    {
     "name": "stdout",
     "output_type": "stream",
     "text": [
      "Repository SW00615 already exists.\n",
      "Already up to date.\n",
      "On branch master\n",
      "nothing to commit, working tree clean\n"
     ]
    },
    {
     "name": "stderr",
     "output_type": "stream",
     "text": [
      "From https://github.com/MonlamAI/SW00615\n",
      " * branch            master     -> FETCH_HEAD\n",
      " * [new branch]      master     -> origin/master\n",
      "Everything up-to-date\n"
     ]
    },
    {
     "name": "stdout",
     "output_type": "stream",
     "text": [
      "Repository SW00677 already exists.\n",
      "Already up to date.\n",
      "On branch master\n",
      "nothing to commit, working tree clean\n"
     ]
    },
    {
     "name": "stderr",
     "output_type": "stream",
     "text": [
      "From https://github.com/MonlamAI/SW00677\n",
      " * branch            master     -> FETCH_HEAD\n",
      " * [new branch]      master     -> origin/master\n",
      "Everything up-to-date\n"
     ]
    },
    {
     "name": "stdout",
     "output_type": "stream",
     "text": [
      "Repository SW00901 already exists.\n",
      "Already up to date.\n",
      "On branch master\n",
      "nothing to commit, working tree clean\n"
     ]
    },
    {
     "name": "stderr",
     "output_type": "stream",
     "text": [
      "From https://github.com/MonlamAI/SW00901\n",
      " * branch            master     -> FETCH_HEAD\n",
      " * [new branch]      master     -> origin/master\n",
      "Everything up-to-date\n"
     ]
    },
    {
     "name": "stdout",
     "output_type": "stream",
     "text": [
      "Repository SW00172 already exists.\n",
      "Already up to date.\n",
      "On branch master\n",
      "nothing to commit, working tree clean\n"
     ]
    },
    {
     "name": "stderr",
     "output_type": "stream",
     "text": [
      "From https://github.com/MonlamAI/SW00172\n",
      " * branch            master     -> FETCH_HEAD\n",
      " * [new branch]      master     -> origin/master\n",
      "Everything up-to-date\n"
     ]
    },
    {
     "name": "stdout",
     "output_type": "stream",
     "text": [
      "Repository SW00815 already exists.\n",
      "Already up to date.\n",
      "On branch master\n",
      "nothing to commit, working tree clean\n"
     ]
    },
    {
     "name": "stderr",
     "output_type": "stream",
     "text": [
      "From https://github.com/MonlamAI/SW00815\n",
      " * branch            master     -> FETCH_HEAD\n",
      " * [new branch]      master     -> origin/master\n",
      "Everything up-to-date\n"
     ]
    },
    {
     "name": "stdout",
     "output_type": "stream",
     "text": [
      "Repository SW00890 already exists.\n",
      "Already up to date.\n",
      "On branch master\n",
      "nothing to commit, working tree clean\n"
     ]
    },
    {
     "name": "stderr",
     "output_type": "stream",
     "text": [
      "From https://github.com/MonlamAI/SW00890\n",
      " * branch            master     -> FETCH_HEAD\n",
      " * [new branch]      master     -> origin/master\n",
      "Everything up-to-date\n"
     ]
    },
    {
     "name": "stdout",
     "output_type": "stream",
     "text": [
      "Repository SW00535 already exists.\n",
      "Already up to date.\n",
      "On branch master\n",
      "nothing to commit, working tree clean\n"
     ]
    },
    {
     "name": "stderr",
     "output_type": "stream",
     "text": [
      "From https://github.com/MonlamAI/SW00535\n",
      " * branch            master     -> FETCH_HEAD\n",
      " * [new branch]      master     -> origin/master\n",
      "Everything up-to-date\n"
     ]
    },
    {
     "name": "stdout",
     "output_type": "stream",
     "text": [
      "Repository SW00911 already exists.\n",
      "Already up to date.\n",
      "On branch master\n",
      "nothing to commit, working tree clean\n"
     ]
    },
    {
     "name": "stderr",
     "output_type": "stream",
     "text": [
      "From https://github.com/MonlamAI/SW00911\n",
      " * branch            master     -> FETCH_HEAD\n",
      " * [new branch]      master     -> origin/master\n",
      "Everything up-to-date\n"
     ]
    },
    {
     "name": "stdout",
     "output_type": "stream",
     "text": [
      "Repository SW00130 already exists.\n",
      "Already up to date.\n",
      "On branch master\n",
      "nothing to commit, working tree clean\n"
     ]
    },
    {
     "name": "stderr",
     "output_type": "stream",
     "text": [
      "From https://github.com/MonlamAI/SW00130\n",
      " * branch            master     -> FETCH_HEAD\n",
      " * [new branch]      master     -> origin/master\n",
      "Everything up-to-date\n"
     ]
    },
    {
     "name": "stdout",
     "output_type": "stream",
     "text": [
      "Repository SW00678 already exists.\n",
      "Already up to date.\n",
      "On branch master\n",
      "nothing to commit, working tree clean\n"
     ]
    },
    {
     "name": "stderr",
     "output_type": "stream",
     "text": [
      "From https://github.com/MonlamAI/SW00678\n",
      " * branch            master     -> FETCH_HEAD\n",
      " * [new branch]      master     -> origin/master\n",
      "Everything up-to-date\n"
     ]
    },
    {
     "name": "stdout",
     "output_type": "stream",
     "text": [
      "Repository SW00594 already exists.\n",
      "Already up to date.\n",
      "On branch master\n",
      "nothing to commit, working tree clean\n"
     ]
    },
    {
     "name": "stderr",
     "output_type": "stream",
     "text": [
      "From https://github.com/MonlamAI/SW00594\n",
      " * branch            master     -> FETCH_HEAD\n",
      " * [new branch]      master     -> origin/master\n",
      "Everything up-to-date\n"
     ]
    },
    {
     "name": "stdout",
     "output_type": "stream",
     "text": [
      "Repository SW00112 already exists.\n",
      "Already up to date.\n",
      "On branch master\n",
      "nothing to commit, working tree clean\n"
     ]
    },
    {
     "name": "stderr",
     "output_type": "stream",
     "text": [
      "From https://github.com/MonlamAI/SW00112\n",
      " * branch            master     -> FETCH_HEAD\n",
      " * [new branch]      master     -> origin/master\n",
      "Everything up-to-date\n"
     ]
    },
    {
     "name": "stdout",
     "output_type": "stream",
     "text": [
      "Repository SW00385 already exists.\n",
      "Already up to date.\n",
      "On branch master\n",
      "nothing to commit, working tree clean\n"
     ]
    },
    {
     "name": "stderr",
     "output_type": "stream",
     "text": [
      "From https://github.com/MonlamAI/SW00385\n",
      " * branch            master     -> FETCH_HEAD\n",
      " * [new branch]      master     -> origin/master\n",
      "Everything up-to-date\n"
     ]
    },
    {
     "name": "stdout",
     "output_type": "stream",
     "text": [
      "Repository SW00417 already exists.\n",
      "Already up to date.\n",
      "On branch master\n",
      "nothing to commit, working tree clean\n"
     ]
    },
    {
     "name": "stderr",
     "output_type": "stream",
     "text": [
      "From https://github.com/MonlamAI/SW00417\n",
      " * branch            master     -> FETCH_HEAD\n",
      " * [new branch]      master     -> origin/master\n",
      "Everything up-to-date\n"
     ]
    },
    {
     "name": "stdout",
     "output_type": "stream",
     "text": [
      "Repository SW00722 already exists.\n",
      "Already up to date.\n"
     ]
    },
    {
     "name": "stderr",
     "output_type": "stream",
     "text": [
      "From https://github.com/MonlamAI/SW00722\n",
      " * branch            master     -> FETCH_HEAD\n",
      " * [new branch]      master     -> origin/master\n"
     ]
    },
    {
     "name": "stdout",
     "output_type": "stream",
     "text": [
      "On branch master\n",
      "nothing to commit, working tree clean\n"
     ]
    },
    {
     "name": "stderr",
     "output_type": "stream",
     "text": [
      "Everything up-to-date\n"
     ]
    },
    {
     "name": "stdout",
     "output_type": "stream",
     "text": [
      "Repository SW00343 already exists.\n",
      "Already up to date.\n",
      "On branch master\n",
      "nothing to commit, working tree clean\n"
     ]
    },
    {
     "name": "stderr",
     "output_type": "stream",
     "text": [
      "From https://github.com/MonlamAI/SW00343\n",
      " * branch            master     -> FETCH_HEAD\n",
      " * [new branch]      master     -> origin/master\n",
      "Everything up-to-date\n"
     ]
    },
    {
     "name": "stdout",
     "output_type": "stream",
     "text": [
      "Repository SW00523 already exists.\n",
      "Already up to date.\n",
      "On branch master\n",
      "nothing to commit, working tree clean\n"
     ]
    },
    {
     "name": "stderr",
     "output_type": "stream",
     "text": [
      "From https://github.com/MonlamAI/SW00523\n",
      " * branch            master     -> FETCH_HEAD\n",
      " * [new branch]      master     -> origin/master\n",
      "Everything up-to-date\n"
     ]
    },
    {
     "name": "stdout",
     "output_type": "stream",
     "text": [
      "Repository SW00683 already exists.\n"
     ]
    },
    {
     "name": "stderr",
     "output_type": "stream",
     "text": [
      "From https://github.com/MonlamAI/SW00683\n",
      " * branch            master     -> FETCH_HEAD\n",
      " * [new branch]      master     -> origin/master\n"
     ]
    },
    {
     "name": "stdout",
     "output_type": "stream",
     "text": [
      "Already up to date.\n",
      "On branch master\n",
      "nothing to commit, working tree clean\n"
     ]
    },
    {
     "name": "stderr",
     "output_type": "stream",
     "text": [
      "Everything up-to-date\n"
     ]
    },
    {
     "name": "stdout",
     "output_type": "stream",
     "text": [
      "Repository SW00049 already exists.\n",
      "Already up to date.\n",
      "On branch master\n",
      "nothing to commit, working tree clean\n"
     ]
    },
    {
     "name": "stderr",
     "output_type": "stream",
     "text": [
      "From https://github.com/MonlamAI/SW00049\n",
      " * branch            master     -> FETCH_HEAD\n",
      " * [new branch]      master     -> origin/master\n",
      "Everything up-to-date\n"
     ]
    },
    {
     "name": "stdout",
     "output_type": "stream",
     "text": [
      "Repository SW00852 already exists.\n",
      "Already up to date.\n",
      "On branch master\n",
      "nothing to commit, working tree clean\n"
     ]
    },
    {
     "name": "stderr",
     "output_type": "stream",
     "text": [
      "From https://github.com/MonlamAI/SW00852\n",
      " * branch            master     -> FETCH_HEAD\n",
      " * [new branch]      master     -> origin/master\n",
      "Everything up-to-date\n"
     ]
    },
    {
     "name": "stdout",
     "output_type": "stream",
     "text": [
      "Successfully created repository: SW00710\n",
      "Initialized empty Git repository in /home/ec2-user/SageMaker/stt-combine-datasets/output/SW00710/.git/\n"
     ]
    },
    {
     "name": "stderr",
     "output_type": "stream",
     "text": [
      "hint: Using 'master' as the name for the initial branch. This default branch name\n",
      "hint: is subject to change. To configure the initial branch name to use in all\n",
      "hint: of your new repositories, which will suppress this warning, call:\n",
      "hint: \n",
      "hint: \tgit config --global init.defaultBranch <name>\n",
      "hint: \n",
      "hint: Names commonly chosen instead of 'master' are 'main', 'trunk' and\n",
      "hint: 'development'. The just-created branch can be renamed via this command:\n",
      "hint: \n",
      "hint: \tgit branch -m <name>\n",
      "error: No such remote: 'origin'\n",
      "fatal: couldn't find remote ref master\n"
     ]
    },
    {
     "name": "stdout",
     "output_type": "stream",
     "text": [
      "[master (root-commit) ba5bfe7] Initial commit\n",
      " 1 file changed, 1001 insertions(+)\n",
      " create mode 100644 SW00710.csv\n"
     ]
    },
    {
     "name": "stderr",
     "output_type": "stream",
     "text": [
      "To https://github.com/MonlamAI/SW00710.git\n",
      " * [new branch]      master -> master\n"
     ]
    },
    {
     "name": "stdout",
     "output_type": "stream",
     "text": [
      "Successfully created repository: SW00257\n",
      "Initialized empty Git repository in /home/ec2-user/SageMaker/stt-combine-datasets/output/SW00257/.git/\n"
     ]
    },
    {
     "name": "stderr",
     "output_type": "stream",
     "text": [
      "hint: Using 'master' as the name for the initial branch. This default branch name\n",
      "hint: is subject to change. To configure the initial branch name to use in all\n",
      "hint: of your new repositories, which will suppress this warning, call:\n",
      "hint: \n",
      "hint: \tgit config --global init.defaultBranch <name>\n",
      "hint: \n",
      "hint: Names commonly chosen instead of 'master' are 'main', 'trunk' and\n",
      "hint: 'development'. The just-created branch can be renamed via this command:\n",
      "hint: \n",
      "hint: \tgit branch -m <name>\n",
      "error: No such remote: 'origin'\n",
      "fatal: couldn't find remote ref master\n"
     ]
    },
    {
     "name": "stdout",
     "output_type": "stream",
     "text": [
      "[master (root-commit) bcfba7e] Initial commit\n",
      " 1 file changed, 1001 insertions(+)\n",
      " create mode 100644 SW00257.csv\n"
     ]
    },
    {
     "name": "stderr",
     "output_type": "stream",
     "text": [
      "To https://github.com/MonlamAI/SW00257.git\n",
      " * [new branch]      master -> master\n"
     ]
    },
    {
     "name": "stdout",
     "output_type": "stream",
     "text": [
      "Successfully created repository: SW00900\n",
      "Initialized empty Git repository in /home/ec2-user/SageMaker/stt-combine-datasets/output/SW00900/.git/\n"
     ]
    },
    {
     "name": "stderr",
     "output_type": "stream",
     "text": [
      "hint: Using 'master' as the name for the initial branch. This default branch name\n",
      "hint: is subject to change. To configure the initial branch name to use in all\n",
      "hint: of your new repositories, which will suppress this warning, call:\n",
      "hint: \n",
      "hint: \tgit config --global init.defaultBranch <name>\n",
      "hint: \n",
      "hint: Names commonly chosen instead of 'master' are 'main', 'trunk' and\n",
      "hint: 'development'. The just-created branch can be renamed via this command:\n",
      "hint: \n",
      "hint: \tgit branch -m <name>\n",
      "error: No such remote: 'origin'\n",
      "fatal: couldn't find remote ref master\n"
     ]
    },
    {
     "name": "stdout",
     "output_type": "stream",
     "text": [
      "[master (root-commit) 584f80c] Initial commit\n",
      " 1 file changed, 1001 insertions(+)\n",
      " create mode 100644 SW00900.csv\n"
     ]
    },
    {
     "name": "stderr",
     "output_type": "stream",
     "text": [
      "To https://github.com/MonlamAI/SW00900.git\n",
      " * [new branch]      master -> master\n"
     ]
    },
    {
     "name": "stdout",
     "output_type": "stream",
     "text": [
      "Successfully created repository: SW00465\n",
      "Initialized empty Git repository in /home/ec2-user/SageMaker/stt-combine-datasets/output/SW00465/.git/\n"
     ]
    },
    {
     "name": "stderr",
     "output_type": "stream",
     "text": [
      "hint: Using 'master' as the name for the initial branch. This default branch name\n",
      "hint: is subject to change. To configure the initial branch name to use in all\n",
      "hint: of your new repositories, which will suppress this warning, call:\n",
      "hint: \n",
      "hint: \tgit config --global init.defaultBranch <name>\n",
      "hint: \n",
      "hint: Names commonly chosen instead of 'master' are 'main', 'trunk' and\n",
      "hint: 'development'. The just-created branch can be renamed via this command:\n",
      "hint: \n",
      "hint: \tgit branch -m <name>\n",
      "error: No such remote: 'origin'\n",
      "fatal: couldn't find remote ref master\n"
     ]
    },
    {
     "name": "stdout",
     "output_type": "stream",
     "text": [
      "[master (root-commit) 74dbc35] Initial commit\n",
      " 1 file changed, 1001 insertions(+)\n",
      " create mode 100644 SW00465.csv\n"
     ]
    },
    {
     "name": "stderr",
     "output_type": "stream",
     "text": [
      "To https://github.com/MonlamAI/SW00465.git\n",
      " * [new branch]      master -> master\n"
     ]
    },
    {
     "name": "stdout",
     "output_type": "stream",
     "text": [
      "Successfully created repository: SW00283\n",
      "Initialized empty Git repository in /home/ec2-user/SageMaker/stt-combine-datasets/output/SW00283/.git/\n"
     ]
    },
    {
     "name": "stderr",
     "output_type": "stream",
     "text": [
      "hint: Using 'master' as the name for the initial branch. This default branch name\n",
      "hint: is subject to change. To configure the initial branch name to use in all\n",
      "hint: of your new repositories, which will suppress this warning, call:\n",
      "hint: \n",
      "hint: \tgit config --global init.defaultBranch <name>\n",
      "hint: \n",
      "hint: Names commonly chosen instead of 'master' are 'main', 'trunk' and\n",
      "hint: 'development'. The just-created branch can be renamed via this command:\n",
      "hint: \n",
      "hint: \tgit branch -m <name>\n",
      "error: No such remote: 'origin'\n",
      "fatal: couldn't find remote ref master\n"
     ]
    },
    {
     "name": "stdout",
     "output_type": "stream",
     "text": [
      "[master (root-commit) 8716ae9] Initial commit\n",
      " 1 file changed, 1001 insertions(+)\n",
      " create mode 100644 SW00283.csv\n"
     ]
    },
    {
     "name": "stderr",
     "output_type": "stream",
     "text": [
      "To https://github.com/MonlamAI/SW00283.git\n",
      " * [new branch]      master -> master\n"
     ]
    },
    {
     "name": "stdout",
     "output_type": "stream",
     "text": [
      "Successfully created repository: SW00125\n",
      "Initialized empty Git repository in /home/ec2-user/SageMaker/stt-combine-datasets/output/SW00125/.git/\n"
     ]
    },
    {
     "name": "stderr",
     "output_type": "stream",
     "text": [
      "hint: Using 'master' as the name for the initial branch. This default branch name\n",
      "hint: is subject to change. To configure the initial branch name to use in all\n",
      "hint: of your new repositories, which will suppress this warning, call:\n",
      "hint: \n",
      "hint: \tgit config --global init.defaultBranch <name>\n",
      "hint: \n",
      "hint: Names commonly chosen instead of 'master' are 'main', 'trunk' and\n",
      "hint: 'development'. The just-created branch can be renamed via this command:\n",
      "hint: \n",
      "hint: \tgit branch -m <name>\n",
      "error: No such remote: 'origin'\n",
      "fatal: couldn't find remote ref master\n"
     ]
    },
    {
     "name": "stdout",
     "output_type": "stream",
     "text": [
      "[master (root-commit) 28ae030] Initial commit\n",
      " 1 file changed, 1001 insertions(+)\n",
      " create mode 100644 SW00125.csv\n"
     ]
    },
    {
     "name": "stderr",
     "output_type": "stream",
     "text": [
      "To https://github.com/MonlamAI/SW00125.git\n",
      " * [new branch]      master -> master\n"
     ]
    },
    {
     "name": "stdout",
     "output_type": "stream",
     "text": [
      "Successfully created repository: SW00689\n",
      "Initialized empty Git repository in /home/ec2-user/SageMaker/stt-combine-datasets/output/SW00689/.git/\n"
     ]
    },
    {
     "name": "stderr",
     "output_type": "stream",
     "text": [
      "hint: Using 'master' as the name for the initial branch. This default branch name\n",
      "hint: is subject to change. To configure the initial branch name to use in all\n",
      "hint: of your new repositories, which will suppress this warning, call:\n",
      "hint: \n",
      "hint: \tgit config --global init.defaultBranch <name>\n",
      "hint: \n",
      "hint: Names commonly chosen instead of 'master' are 'main', 'trunk' and\n",
      "hint: 'development'. The just-created branch can be renamed via this command:\n",
      "hint: \n",
      "hint: \tgit branch -m <name>\n",
      "error: No such remote: 'origin'\n",
      "fatal: couldn't find remote ref master\n"
     ]
    },
    {
     "name": "stdout",
     "output_type": "stream",
     "text": [
      "[master (root-commit) 8704dea] Initial commit\n",
      " 1 file changed, 1001 insertions(+)\n",
      " create mode 100644 SW00689.csv\n"
     ]
    },
    {
     "name": "stderr",
     "output_type": "stream",
     "text": [
      "To https://github.com/MonlamAI/SW00689.git\n",
      " * [new branch]      master -> master\n"
     ]
    },
    {
     "name": "stdout",
     "output_type": "stream",
     "text": [
      "Successfully created repository: SW00593\n",
      "Initialized empty Git repository in /home/ec2-user/SageMaker/stt-combine-datasets/output/SW00593/.git/\n"
     ]
    },
    {
     "name": "stderr",
     "output_type": "stream",
     "text": [
      "hint: Using 'master' as the name for the initial branch. This default branch name\n",
      "hint: is subject to change. To configure the initial branch name to use in all\n",
      "hint: of your new repositories, which will suppress this warning, call:\n",
      "hint: \n",
      "hint: \tgit config --global init.defaultBranch <name>\n",
      "hint: \n",
      "hint: Names commonly chosen instead of 'master' are 'main', 'trunk' and\n",
      "hint: 'development'. The just-created branch can be renamed via this command:\n",
      "hint: \n",
      "hint: \tgit branch -m <name>\n",
      "error: No such remote: 'origin'\n",
      "fatal: couldn't find remote ref master\n"
     ]
    },
    {
     "name": "stdout",
     "output_type": "stream",
     "text": [
      "[master (root-commit) 0b079e8] Initial commit\n",
      " 1 file changed, 1001 insertions(+)\n",
      " create mode 100644 SW00593.csv\n"
     ]
    },
    {
     "name": "stderr",
     "output_type": "stream",
     "text": [
      "To https://github.com/MonlamAI/SW00593.git\n",
      " * [new branch]      master -> master\n"
     ]
    },
    {
     "name": "stdout",
     "output_type": "stream",
     "text": [
      "Successfully created repository: SW00797\n",
      "Initialized empty Git repository in /home/ec2-user/SageMaker/stt-combine-datasets/output/SW00797/.git/\n"
     ]
    },
    {
     "name": "stderr",
     "output_type": "stream",
     "text": [
      "hint: Using 'master' as the name for the initial branch. This default branch name\n",
      "hint: is subject to change. To configure the initial branch name to use in all\n",
      "hint: of your new repositories, which will suppress this warning, call:\n",
      "hint: \n",
      "hint: \tgit config --global init.defaultBranch <name>\n",
      "hint: \n",
      "hint: Names commonly chosen instead of 'master' are 'main', 'trunk' and\n",
      "hint: 'development'. The just-created branch can be renamed via this command:\n",
      "hint: \n",
      "hint: \tgit branch -m <name>\n",
      "error: No such remote: 'origin'\n",
      "fatal: couldn't find remote ref master\n"
     ]
    },
    {
     "name": "stdout",
     "output_type": "stream",
     "text": [
      "[master (root-commit) 8c0b244] Initial commit\n",
      " 1 file changed, 1001 insertions(+)\n",
      " create mode 100644 SW00797.csv\n"
     ]
    },
    {
     "name": "stderr",
     "output_type": "stream",
     "text": [
      "To https://github.com/MonlamAI/SW00797.git\n",
      " * [new branch]      master -> master\n"
     ]
    },
    {
     "name": "stdout",
     "output_type": "stream",
     "text": [
      "Successfully created repository: SW00737\n",
      "Initialized empty Git repository in /home/ec2-user/SageMaker/stt-combine-datasets/output/SW00737/.git/\n"
     ]
    },
    {
     "name": "stderr",
     "output_type": "stream",
     "text": [
      "hint: Using 'master' as the name for the initial branch. This default branch name\n",
      "hint: is subject to change. To configure the initial branch name to use in all\n",
      "hint: of your new repositories, which will suppress this warning, call:\n",
      "hint: \n",
      "hint: \tgit config --global init.defaultBranch <name>\n",
      "hint: \n",
      "hint: Names commonly chosen instead of 'master' are 'main', 'trunk' and\n",
      "hint: 'development'. The just-created branch can be renamed via this command:\n",
      "hint: \n",
      "hint: \tgit branch -m <name>\n",
      "error: No such remote: 'origin'\n",
      "fatal: couldn't find remote ref master\n"
     ]
    },
    {
     "name": "stdout",
     "output_type": "stream",
     "text": [
      "[master (root-commit) 22ff71a] Initial commit\n",
      " 1 file changed, 1001 insertions(+)\n",
      " create mode 100644 SW00737.csv\n"
     ]
    },
    {
     "name": "stderr",
     "output_type": "stream",
     "text": [
      "To https://github.com/MonlamAI/SW00737.git\n",
      " * [new branch]      master -> master\n"
     ]
    },
    {
     "name": "stdout",
     "output_type": "stream",
     "text": [
      "Successfully created repository: SW00604\n",
      "Initialized empty Git repository in /home/ec2-user/SageMaker/stt-combine-datasets/output/SW00604/.git/\n"
     ]
    },
    {
     "name": "stderr",
     "output_type": "stream",
     "text": [
      "hint: Using 'master' as the name for the initial branch. This default branch name\n",
      "hint: is subject to change. To configure the initial branch name to use in all\n",
      "hint: of your new repositories, which will suppress this warning, call:\n",
      "hint: \n",
      "hint: \tgit config --global init.defaultBranch <name>\n",
      "hint: \n",
      "hint: Names commonly chosen instead of 'master' are 'main', 'trunk' and\n",
      "hint: 'development'. The just-created branch can be renamed via this command:\n",
      "hint: \n",
      "hint: \tgit branch -m <name>\n",
      "error: No such remote: 'origin'\n",
      "fatal: couldn't find remote ref master\n"
     ]
    },
    {
     "name": "stdout",
     "output_type": "stream",
     "text": [
      "[master (root-commit) 340a165] Initial commit\n",
      " 1 file changed, 1001 insertions(+)\n",
      " create mode 100644 SW00604.csv\n"
     ]
    },
    {
     "name": "stderr",
     "output_type": "stream",
     "text": [
      "To https://github.com/MonlamAI/SW00604.git\n",
      " * [new branch]      master -> master\n"
     ]
    },
    {
     "name": "stdout",
     "output_type": "stream",
     "text": [
      "Successfully created repository: SW00352\n",
      "Initialized empty Git repository in /home/ec2-user/SageMaker/stt-combine-datasets/output/SW00352/.git/\n"
     ]
    },
    {
     "name": "stderr",
     "output_type": "stream",
     "text": [
      "hint: Using 'master' as the name for the initial branch. This default branch name\n",
      "hint: is subject to change. To configure the initial branch name to use in all\n",
      "hint: of your new repositories, which will suppress this warning, call:\n",
      "hint: \n",
      "hint: \tgit config --global init.defaultBranch <name>\n",
      "hint: \n",
      "hint: Names commonly chosen instead of 'master' are 'main', 'trunk' and\n",
      "hint: 'development'. The just-created branch can be renamed via this command:\n",
      "hint: \n",
      "hint: \tgit branch -m <name>\n",
      "error: No such remote: 'origin'\n",
      "fatal: couldn't find remote ref master\n"
     ]
    },
    {
     "name": "stdout",
     "output_type": "stream",
     "text": [
      "[master (root-commit) 0a21d7c] Initial commit\n",
      " 1 file changed, 1001 insertions(+)\n",
      " create mode 100644 SW00352.csv\n"
     ]
    },
    {
     "name": "stderr",
     "output_type": "stream",
     "text": [
      "To https://github.com/MonlamAI/SW00352.git\n",
      " * [new branch]      master -> master\n"
     ]
    },
    {
     "name": "stdout",
     "output_type": "stream",
     "text": [
      "Successfully created repository: SW00336\n",
      "Initialized empty Git repository in /home/ec2-user/SageMaker/stt-combine-datasets/output/SW00336/.git/\n"
     ]
    },
    {
     "name": "stderr",
     "output_type": "stream",
     "text": [
      "hint: Using 'master' as the name for the initial branch. This default branch name\n",
      "hint: is subject to change. To configure the initial branch name to use in all\n",
      "hint: of your new repositories, which will suppress this warning, call:\n",
      "hint: \n",
      "hint: \tgit config --global init.defaultBranch <name>\n",
      "hint: \n",
      "hint: Names commonly chosen instead of 'master' are 'main', 'trunk' and\n",
      "hint: 'development'. The just-created branch can be renamed via this command:\n",
      "hint: \n",
      "hint: \tgit branch -m <name>\n",
      "error: No such remote: 'origin'\n",
      "fatal: couldn't find remote ref master\n"
     ]
    },
    {
     "name": "stdout",
     "output_type": "stream",
     "text": [
      "[master (root-commit) bf3ff04] Initial commit\n",
      " 1 file changed, 1001 insertions(+)\n",
      " create mode 100644 SW00336.csv\n"
     ]
    },
    {
     "name": "stderr",
     "output_type": "stream",
     "text": [
      "To https://github.com/MonlamAI/SW00336.git\n",
      " * [new branch]      master -> master\n"
     ]
    },
    {
     "name": "stdout",
     "output_type": "stream",
     "text": [
      "Successfully created repository: SW00728\n",
      "Initialized empty Git repository in /home/ec2-user/SageMaker/stt-combine-datasets/output/SW00728/.git/\n"
     ]
    },
    {
     "name": "stderr",
     "output_type": "stream",
     "text": [
      "hint: Using 'master' as the name for the initial branch. This default branch name\n",
      "hint: is subject to change. To configure the initial branch name to use in all\n",
      "hint: of your new repositories, which will suppress this warning, call:\n",
      "hint: \n",
      "hint: \tgit config --global init.defaultBranch <name>\n",
      "hint: \n",
      "hint: Names commonly chosen instead of 'master' are 'main', 'trunk' and\n",
      "hint: 'development'. The just-created branch can be renamed via this command:\n",
      "hint: \n",
      "hint: \tgit branch -m <name>\n",
      "error: No such remote: 'origin'\n",
      "fatal: couldn't find remote ref master\n"
     ]
    },
    {
     "name": "stdout",
     "output_type": "stream",
     "text": [
      "[master (root-commit) 089698c] Initial commit\n",
      " 1 file changed, 1001 insertions(+)\n",
      " create mode 100644 SW00728.csv\n"
     ]
    },
    {
     "name": "stderr",
     "output_type": "stream",
     "text": [
      "To https://github.com/MonlamAI/SW00728.git\n",
      " * [new branch]      master -> master\n"
     ]
    },
    {
     "name": "stdout",
     "output_type": "stream",
     "text": [
      "Successfully created repository: SW00680\n",
      "Initialized empty Git repository in /home/ec2-user/SageMaker/stt-combine-datasets/output/SW00680/.git/\n"
     ]
    },
    {
     "name": "stderr",
     "output_type": "stream",
     "text": [
      "hint: Using 'master' as the name for the initial branch. This default branch name\n",
      "hint: is subject to change. To configure the initial branch name to use in all\n",
      "hint: of your new repositories, which will suppress this warning, call:\n",
      "hint: \n",
      "hint: \tgit config --global init.defaultBranch <name>\n",
      "hint: \n",
      "hint: Names commonly chosen instead of 'master' are 'main', 'trunk' and\n",
      "hint: 'development'. The just-created branch can be renamed via this command:\n",
      "hint: \n",
      "hint: \tgit branch -m <name>\n",
      "error: No such remote: 'origin'\n",
      "fatal: couldn't find remote ref master\n"
     ]
    },
    {
     "name": "stdout",
     "output_type": "stream",
     "text": [
      "[master (root-commit) c7af882] Initial commit\n",
      " 1 file changed, 1001 insertions(+)\n",
      " create mode 100644 SW00680.csv\n"
     ]
    },
    {
     "name": "stderr",
     "output_type": "stream",
     "text": [
      "To https://github.com/MonlamAI/SW00680.git\n",
      " * [new branch]      master -> master\n"
     ]
    },
    {
     "name": "stdout",
     "output_type": "stream",
     "text": [
      "Successfully created repository: SW00251\n",
      "Initialized empty Git repository in /home/ec2-user/SageMaker/stt-combine-datasets/output/SW00251/.git/\n"
     ]
    },
    {
     "name": "stderr",
     "output_type": "stream",
     "text": [
      "hint: Using 'master' as the name for the initial branch. This default branch name\n",
      "hint: is subject to change. To configure the initial branch name to use in all\n",
      "hint: of your new repositories, which will suppress this warning, call:\n",
      "hint: \n",
      "hint: \tgit config --global init.defaultBranch <name>\n",
      "hint: \n",
      "hint: Names commonly chosen instead of 'master' are 'main', 'trunk' and\n",
      "hint: 'development'. The just-created branch can be renamed via this command:\n",
      "hint: \n",
      "hint: \tgit branch -m <name>\n",
      "error: No such remote: 'origin'\n",
      "fatal: couldn't find remote ref master\n"
     ]
    },
    {
     "name": "stdout",
     "output_type": "stream",
     "text": [
      "[master (root-commit) 68a8ad5] Initial commit\n",
      " 1 file changed, 1001 insertions(+)\n",
      " create mode 100644 SW00251.csv\n"
     ]
    },
    {
     "name": "stderr",
     "output_type": "stream",
     "text": [
      "To https://github.com/MonlamAI/SW00251.git\n",
      " * [new branch]      master -> master\n"
     ]
    },
    {
     "name": "stdout",
     "output_type": "stream",
     "text": [
      "Successfully created repository: SW00073\n",
      "Initialized empty Git repository in /home/ec2-user/SageMaker/stt-combine-datasets/output/SW00073/.git/\n"
     ]
    },
    {
     "name": "stderr",
     "output_type": "stream",
     "text": [
      "hint: Using 'master' as the name for the initial branch. This default branch name\n",
      "hint: is subject to change. To configure the initial branch name to use in all\n",
      "hint: of your new repositories, which will suppress this warning, call:\n",
      "hint: \n",
      "hint: \tgit config --global init.defaultBranch <name>\n",
      "hint: \n",
      "hint: Names commonly chosen instead of 'master' are 'main', 'trunk' and\n",
      "hint: 'development'. The just-created branch can be renamed via this command:\n",
      "hint: \n",
      "hint: \tgit branch -m <name>\n",
      "error: No such remote: 'origin'\n",
      "fatal: couldn't find remote ref master\n"
     ]
    },
    {
     "name": "stdout",
     "output_type": "stream",
     "text": [
      "[master (root-commit) 2e2ced7] Initial commit\n",
      " 1 file changed, 1001 insertions(+)\n",
      " create mode 100644 SW00073.csv\n"
     ]
    },
    {
     "name": "stderr",
     "output_type": "stream",
     "text": [
      "To https://github.com/MonlamAI/SW00073.git\n",
      " * [new branch]      master -> master\n"
     ]
    },
    {
     "name": "stdout",
     "output_type": "stream",
     "text": [
      "Successfully created repository: SW00661\n",
      "Initialized empty Git repository in /home/ec2-user/SageMaker/stt-combine-datasets/output/SW00661/.git/\n"
     ]
    },
    {
     "name": "stderr",
     "output_type": "stream",
     "text": [
      "hint: Using 'master' as the name for the initial branch. This default branch name\n",
      "hint: is subject to change. To configure the initial branch name to use in all\n",
      "hint: of your new repositories, which will suppress this warning, call:\n",
      "hint: \n",
      "hint: \tgit config --global init.defaultBranch <name>\n",
      "hint: \n",
      "hint: Names commonly chosen instead of 'master' are 'main', 'trunk' and\n",
      "hint: 'development'. The just-created branch can be renamed via this command:\n",
      "hint: \n",
      "hint: \tgit branch -m <name>\n",
      "error: No such remote: 'origin'\n",
      "fatal: couldn't find remote ref master\n"
     ]
    },
    {
     "name": "stdout",
     "output_type": "stream",
     "text": [
      "[master (root-commit) af1710c] Initial commit\n",
      " 1 file changed, 1001 insertions(+)\n",
      " create mode 100644 SW00661.csv\n"
     ]
    },
    {
     "name": "stderr",
     "output_type": "stream",
     "text": [
      "To https://github.com/MonlamAI/SW00661.git\n",
      " * [new branch]      master -> master\n"
     ]
    },
    {
     "name": "stdout",
     "output_type": "stream",
     "text": [
      "Successfully created repository: SW00587\n",
      "Initialized empty Git repository in /home/ec2-user/SageMaker/stt-combine-datasets/output/SW00587/.git/\n"
     ]
    },
    {
     "name": "stderr",
     "output_type": "stream",
     "text": [
      "hint: Using 'master' as the name for the initial branch. This default branch name\n",
      "hint: is subject to change. To configure the initial branch name to use in all\n",
      "hint: of your new repositories, which will suppress this warning, call:\n",
      "hint: \n",
      "hint: \tgit config --global init.defaultBranch <name>\n",
      "hint: \n",
      "hint: Names commonly chosen instead of 'master' are 'main', 'trunk' and\n",
      "hint: 'development'. The just-created branch can be renamed via this command:\n",
      "hint: \n",
      "hint: \tgit branch -m <name>\n",
      "error: No such remote: 'origin'\n",
      "fatal: couldn't find remote ref master\n"
     ]
    },
    {
     "name": "stdout",
     "output_type": "stream",
     "text": [
      "[master (root-commit) ff8a3c6] Initial commit\n",
      " 1 file changed, 1001 insertions(+)\n",
      " create mode 100644 SW00587.csv\n"
     ]
    },
    {
     "name": "stderr",
     "output_type": "stream",
     "text": [
      "To https://github.com/MonlamAI/SW00587.git\n",
      " * [new branch]      master -> master\n"
     ]
    },
    {
     "name": "stdout",
     "output_type": "stream",
     "text": [
      "Successfully created repository: SW00333\n",
      "Initialized empty Git repository in /home/ec2-user/SageMaker/stt-combine-datasets/output/SW00333/.git/\n"
     ]
    },
    {
     "name": "stderr",
     "output_type": "stream",
     "text": [
      "hint: Using 'master' as the name for the initial branch. This default branch name\n",
      "hint: is subject to change. To configure the initial branch name to use in all\n",
      "hint: of your new repositories, which will suppress this warning, call:\n",
      "hint: \n",
      "hint: \tgit config --global init.defaultBranch <name>\n",
      "hint: \n",
      "hint: Names commonly chosen instead of 'master' are 'main', 'trunk' and\n",
      "hint: 'development'. The just-created branch can be renamed via this command:\n",
      "hint: \n",
      "hint: \tgit branch -m <name>\n",
      "error: No such remote: 'origin'\n",
      "fatal: couldn't find remote ref master\n"
     ]
    },
    {
     "name": "stdout",
     "output_type": "stream",
     "text": [
      "[master (root-commit) b99df77] Initial commit\n",
      " 1 file changed, 1001 insertions(+)\n",
      " create mode 100644 SW00333.csv\n"
     ]
    },
    {
     "name": "stderr",
     "output_type": "stream",
     "text": [
      "To https://github.com/MonlamAI/SW00333.git\n",
      " * [new branch]      master -> master\n"
     ]
    },
    {
     "name": "stdout",
     "output_type": "stream",
     "text": [
      "Successfully created repository: SW00800\n",
      "Initialized empty Git repository in /home/ec2-user/SageMaker/stt-combine-datasets/output/SW00800/.git/\n"
     ]
    },
    {
     "name": "stderr",
     "output_type": "stream",
     "text": [
      "hint: Using 'master' as the name for the initial branch. This default branch name\n",
      "hint: is subject to change. To configure the initial branch name to use in all\n",
      "hint: of your new repositories, which will suppress this warning, call:\n",
      "hint: \n",
      "hint: \tgit config --global init.defaultBranch <name>\n",
      "hint: \n",
      "hint: Names commonly chosen instead of 'master' are 'main', 'trunk' and\n",
      "hint: 'development'. The just-created branch can be renamed via this command:\n",
      "hint: \n",
      "hint: \tgit branch -m <name>\n",
      "error: No such remote: 'origin'\n",
      "fatal: couldn't find remote ref master\n"
     ]
    },
    {
     "name": "stdout",
     "output_type": "stream",
     "text": [
      "[master (root-commit) 80a2ece] Initial commit\n",
      " 1 file changed, 1001 insertions(+)\n",
      " create mode 100644 SW00800.csv\n"
     ]
    },
    {
     "name": "stderr",
     "output_type": "stream",
     "text": [
      "To https://github.com/MonlamAI/SW00800.git\n",
      " * [new branch]      master -> master\n"
     ]
    },
    {
     "name": "stdout",
     "output_type": "stream",
     "text": [
      "Successfully created repository: SW00785\n",
      "Initialized empty Git repository in /home/ec2-user/SageMaker/stt-combine-datasets/output/SW00785/.git/\n"
     ]
    },
    {
     "name": "stderr",
     "output_type": "stream",
     "text": [
      "hint: Using 'master' as the name for the initial branch. This default branch name\n",
      "hint: is subject to change. To configure the initial branch name to use in all\n",
      "hint: of your new repositories, which will suppress this warning, call:\n",
      "hint: \n",
      "hint: \tgit config --global init.defaultBranch <name>\n",
      "hint: \n",
      "hint: Names commonly chosen instead of 'master' are 'main', 'trunk' and\n",
      "hint: 'development'. The just-created branch can be renamed via this command:\n",
      "hint: \n",
      "hint: \tgit branch -m <name>\n",
      "error: No such remote: 'origin'\n",
      "fatal: couldn't find remote ref master\n"
     ]
    },
    {
     "name": "stdout",
     "output_type": "stream",
     "text": [
      "[master (root-commit) 2431cd2] Initial commit\n",
      " 1 file changed, 1001 insertions(+)\n",
      " create mode 100644 SW00785.csv\n"
     ]
    },
    {
     "name": "stderr",
     "output_type": "stream",
     "text": [
      "To https://github.com/MonlamAI/SW00785.git\n",
      " * [new branch]      master -> master\n"
     ]
    },
    {
     "name": "stdout",
     "output_type": "stream",
     "text": [
      "Successfully created repository: SW00530\n",
      "Initialized empty Git repository in /home/ec2-user/SageMaker/stt-combine-datasets/output/SW00530/.git/\n"
     ]
    },
    {
     "name": "stderr",
     "output_type": "stream",
     "text": [
      "hint: Using 'master' as the name for the initial branch. This default branch name\n",
      "hint: is subject to change. To configure the initial branch name to use in all\n",
      "hint: of your new repositories, which will suppress this warning, call:\n",
      "hint: \n",
      "hint: \tgit config --global init.defaultBranch <name>\n",
      "hint: \n",
      "hint: Names commonly chosen instead of 'master' are 'main', 'trunk' and\n",
      "hint: 'development'. The just-created branch can be renamed via this command:\n",
      "hint: \n",
      "hint: \tgit branch -m <name>\n",
      "error: No such remote: 'origin'\n",
      "fatal: couldn't find remote ref master\n"
     ]
    },
    {
     "name": "stdout",
     "output_type": "stream",
     "text": [
      "[master (root-commit) ff790e2] Initial commit\n",
      " 1 file changed, 1001 insertions(+)\n",
      " create mode 100644 SW00530.csv\n"
     ]
    },
    {
     "name": "stderr",
     "output_type": "stream",
     "text": [
      "To https://github.com/MonlamAI/SW00530.git\n",
      " * [new branch]      master -> master\n"
     ]
    },
    {
     "name": "stdout",
     "output_type": "stream",
     "text": [
      "Successfully created repository: SW00906\n",
      "Initialized empty Git repository in /home/ec2-user/SageMaker/stt-combine-datasets/output/SW00906/.git/\n",
      "[master (root-commit) 9036bd8] Initial commit\n",
      " 1 file changed, 1001 insertions(+)\n",
      " create mode 100644 SW00906.csv\n"
     ]
    },
    {
     "name": "stderr",
     "output_type": "stream",
     "text": [
      "hint: Using 'master' as the name for the initial branch. This default branch name\n",
      "hint: is subject to change. To configure the initial branch name to use in all\n",
      "hint: of your new repositories, which will suppress this warning, call:\n",
      "hint: \n",
      "hint: \tgit config --global init.defaultBranch <name>\n",
      "hint: \n",
      "hint: Names commonly chosen instead of 'master' are 'main', 'trunk' and\n",
      "hint: 'development'. The just-created branch can be renamed via this command:\n",
      "hint: \n",
      "hint: \tgit branch -m <name>\n",
      "error: No such remote: 'origin'\n",
      "fatal: couldn't find remote ref master\n",
      "To https://github.com/MonlamAI/SW00906.git\n",
      " * [new branch]      master -> master\n"
     ]
    },
    {
     "name": "stdout",
     "output_type": "stream",
     "text": [
      "Successfully created repository: SW00212\n",
      "Initialized empty Git repository in /home/ec2-user/SageMaker/stt-combine-datasets/output/SW00212/.git/\n"
     ]
    },
    {
     "name": "stderr",
     "output_type": "stream",
     "text": [
      "hint: Using 'master' as the name for the initial branch. This default branch name\n",
      "hint: is subject to change. To configure the initial branch name to use in all\n",
      "hint: of your new repositories, which will suppress this warning, call:\n",
      "hint: \n",
      "hint: \tgit config --global init.defaultBranch <name>\n",
      "hint: \n",
      "hint: Names commonly chosen instead of 'master' are 'main', 'trunk' and\n",
      "hint: 'development'. The just-created branch can be renamed via this command:\n",
      "hint: \n",
      "hint: \tgit branch -m <name>\n",
      "error: No such remote: 'origin'\n",
      "fatal: couldn't find remote ref master\n"
     ]
    },
    {
     "name": "stdout",
     "output_type": "stream",
     "text": [
      "[master (root-commit) 8566031] Initial commit\n",
      " 1 file changed, 1001 insertions(+)\n",
      " create mode 100644 SW00212.csv\n"
     ]
    },
    {
     "name": "stderr",
     "output_type": "stream",
     "text": [
      "To https://github.com/MonlamAI/SW00212.git\n",
      " * [new branch]      master -> master\n"
     ]
    },
    {
     "name": "stdout",
     "output_type": "stream",
     "text": [
      "Successfully created repository: SW00224\n",
      "Initialized empty Git repository in /home/ec2-user/SageMaker/stt-combine-datasets/output/SW00224/.git/\n"
     ]
    },
    {
     "name": "stderr",
     "output_type": "stream",
     "text": [
      "hint: Using 'master' as the name for the initial branch. This default branch name\n",
      "hint: is subject to change. To configure the initial branch name to use in all\n",
      "hint: of your new repositories, which will suppress this warning, call:\n",
      "hint: \n",
      "hint: \tgit config --global init.defaultBranch <name>\n",
      "hint: \n",
      "hint: Names commonly chosen instead of 'master' are 'main', 'trunk' and\n",
      "hint: 'development'. The just-created branch can be renamed via this command:\n",
      "hint: \n",
      "hint: \tgit branch -m <name>\n",
      "error: No such remote: 'origin'\n",
      "fatal: couldn't find remote ref master\n"
     ]
    },
    {
     "name": "stdout",
     "output_type": "stream",
     "text": [
      "[master (root-commit) 659b053] Initial commit\n",
      " 1 file changed, 1001 insertions(+)\n",
      " create mode 100644 SW00224.csv\n"
     ]
    },
    {
     "name": "stderr",
     "output_type": "stream",
     "text": [
      "To https://github.com/MonlamAI/SW00224.git\n",
      " * [new branch]      master -> master\n"
     ]
    },
    {
     "name": "stdout",
     "output_type": "stream",
     "text": [
      "Successfully created repository: SW00507\n",
      "Initialized empty Git repository in /home/ec2-user/SageMaker/stt-combine-datasets/output/SW00507/.git/\n"
     ]
    },
    {
     "name": "stderr",
     "output_type": "stream",
     "text": [
      "hint: Using 'master' as the name for the initial branch. This default branch name\n",
      "hint: is subject to change. To configure the initial branch name to use in all\n",
      "hint: of your new repositories, which will suppress this warning, call:\n",
      "hint: \n",
      "hint: \tgit config --global init.defaultBranch <name>\n",
      "hint: \n",
      "hint: Names commonly chosen instead of 'master' are 'main', 'trunk' and\n",
      "hint: 'development'. The just-created branch can be renamed via this command:\n",
      "hint: \n",
      "hint: \tgit branch -m <name>\n",
      "error: No such remote: 'origin'\n",
      "fatal: couldn't find remote ref master\n"
     ]
    },
    {
     "name": "stdout",
     "output_type": "stream",
     "text": [
      "[master (root-commit) efdb576] Initial commit\n",
      " 1 file changed, 1001 insertions(+)\n",
      " create mode 100644 SW00507.csv\n"
     ]
    },
    {
     "name": "stderr",
     "output_type": "stream",
     "text": [
      "To https://github.com/MonlamAI/SW00507.git\n",
      " * [new branch]      master -> master\n"
     ]
    },
    {
     "name": "stdout",
     "output_type": "stream",
     "text": [
      "Successfully created repository: SW00026\n",
      "Initialized empty Git repository in /home/ec2-user/SageMaker/stt-combine-datasets/output/SW00026/.git/\n"
     ]
    },
    {
     "name": "stderr",
     "output_type": "stream",
     "text": [
      "hint: Using 'master' as the name for the initial branch. This default branch name\n",
      "hint: is subject to change. To configure the initial branch name to use in all\n",
      "hint: of your new repositories, which will suppress this warning, call:\n",
      "hint: \n",
      "hint: \tgit config --global init.defaultBranch <name>\n",
      "hint: \n",
      "hint: Names commonly chosen instead of 'master' are 'main', 'trunk' and\n",
      "hint: 'development'. The just-created branch can be renamed via this command:\n",
      "hint: \n",
      "hint: \tgit branch -m <name>\n",
      "error: No such remote: 'origin'\n",
      "fatal: couldn't find remote ref master\n"
     ]
    },
    {
     "name": "stdout",
     "output_type": "stream",
     "text": [
      "[master (root-commit) 86b67d3] Initial commit\n",
      " 1 file changed, 1001 insertions(+)\n",
      " create mode 100644 SW00026.csv\n"
     ]
    },
    {
     "name": "stderr",
     "output_type": "stream",
     "text": [
      "To https://github.com/MonlamAI/SW00026.git\n",
      " * [new branch]      master -> master\n"
     ]
    },
    {
     "name": "stdout",
     "output_type": "stream",
     "text": [
      "Successfully created repository: SW00144\n",
      "Initialized empty Git repository in /home/ec2-user/SageMaker/stt-combine-datasets/output/SW00144/.git/\n"
     ]
    },
    {
     "name": "stderr",
     "output_type": "stream",
     "text": [
      "hint: Using 'master' as the name for the initial branch. This default branch name\n",
      "hint: is subject to change. To configure the initial branch name to use in all\n",
      "hint: of your new repositories, which will suppress this warning, call:\n",
      "hint: \n",
      "hint: \tgit config --global init.defaultBranch <name>\n",
      "hint: \n",
      "hint: Names commonly chosen instead of 'master' are 'main', 'trunk' and\n",
      "hint: 'development'. The just-created branch can be renamed via this command:\n",
      "hint: \n",
      "hint: \tgit branch -m <name>\n",
      "error: No such remote: 'origin'\n",
      "fatal: couldn't find remote ref master\n"
     ]
    },
    {
     "name": "stdout",
     "output_type": "stream",
     "text": [
      "[master (root-commit) d6f8b0c] Initial commit\n",
      " 1 file changed, 1001 insertions(+)\n",
      " create mode 100644 SW00144.csv\n"
     ]
    },
    {
     "name": "stderr",
     "output_type": "stream",
     "text": [
      "To https://github.com/MonlamAI/SW00144.git\n",
      " * [new branch]      master -> master\n"
     ]
    },
    {
     "name": "stdout",
     "output_type": "stream",
     "text": [
      "Successfully created repository: SW00762\n",
      "Initialized empty Git repository in /home/ec2-user/SageMaker/stt-combine-datasets/output/SW00762/.git/\n"
     ]
    },
    {
     "name": "stderr",
     "output_type": "stream",
     "text": [
      "hint: Using 'master' as the name for the initial branch. This default branch name\n",
      "hint: is subject to change. To configure the initial branch name to use in all\n",
      "hint: of your new repositories, which will suppress this warning, call:\n",
      "hint: \n",
      "hint: \tgit config --global init.defaultBranch <name>\n",
      "hint: \n",
      "hint: Names commonly chosen instead of 'master' are 'main', 'trunk' and\n",
      "hint: 'development'. The just-created branch can be renamed via this command:\n",
      "hint: \n",
      "hint: \tgit branch -m <name>\n",
      "error: No such remote: 'origin'\n",
      "fatal: couldn't find remote ref master\n"
     ]
    },
    {
     "name": "stdout",
     "output_type": "stream",
     "text": [
      "[master (root-commit) 9e11ba1] Initial commit\n",
      " 1 file changed, 1001 insertions(+)\n",
      " create mode 100644 SW00762.csv\n"
     ]
    },
    {
     "name": "stderr",
     "output_type": "stream",
     "text": [
      "To https://github.com/MonlamAI/SW00762.git\n",
      " * [new branch]      master -> master\n"
     ]
    },
    {
     "name": "stdout",
     "output_type": "stream",
     "text": [
      "Successfully created repository: SW00105\n",
      "Initialized empty Git repository in /home/ec2-user/SageMaker/stt-combine-datasets/output/SW00105/.git/\n"
     ]
    },
    {
     "name": "stderr",
     "output_type": "stream",
     "text": [
      "hint: Using 'master' as the name for the initial branch. This default branch name\n",
      "hint: is subject to change. To configure the initial branch name to use in all\n",
      "hint: of your new repositories, which will suppress this warning, call:\n",
      "hint: \n",
      "hint: \tgit config --global init.defaultBranch <name>\n",
      "hint: \n",
      "hint: Names commonly chosen instead of 'master' are 'main', 'trunk' and\n",
      "hint: 'development'. The just-created branch can be renamed via this command:\n",
      "hint: \n",
      "hint: \tgit branch -m <name>\n",
      "error: No such remote: 'origin'\n",
      "fatal: couldn't find remote ref master\n"
     ]
    },
    {
     "name": "stdout",
     "output_type": "stream",
     "text": [
      "[master (root-commit) 38e18f2] Initial commit\n",
      " 1 file changed, 1001 insertions(+)\n",
      " create mode 100644 SW00105.csv\n"
     ]
    },
    {
     "name": "stderr",
     "output_type": "stream",
     "text": [
      "To https://github.com/MonlamAI/SW00105.git\n",
      " * [new branch]      master -> master\n"
     ]
    },
    {
     "name": "stdout",
     "output_type": "stream",
     "text": [
      "Successfully created repository: SW00855\n",
      "Initialized empty Git repository in /home/ec2-user/SageMaker/stt-combine-datasets/output/SW00855/.git/\n"
     ]
    },
    {
     "name": "stderr",
     "output_type": "stream",
     "text": [
      "hint: Using 'master' as the name for the initial branch. This default branch name\n",
      "hint: is subject to change. To configure the initial branch name to use in all\n",
      "hint: of your new repositories, which will suppress this warning, call:\n",
      "hint: \n",
      "hint: \tgit config --global init.defaultBranch <name>\n",
      "hint: \n",
      "hint: Names commonly chosen instead of 'master' are 'main', 'trunk' and\n",
      "hint: 'development'. The just-created branch can be renamed via this command:\n",
      "hint: \n",
      "hint: \tgit branch -m <name>\n",
      "error: No such remote: 'origin'\n",
      "fatal: couldn't find remote ref master\n"
     ]
    },
    {
     "name": "stdout",
     "output_type": "stream",
     "text": [
      "[master (root-commit) e037f22] Initial commit\n",
      " 1 file changed, 1001 insertions(+)\n",
      " create mode 100644 SW00855.csv\n"
     ]
    },
    {
     "name": "stderr",
     "output_type": "stream",
     "text": [
      "To https://github.com/MonlamAI/SW00855.git\n",
      " * [new branch]      master -> master\n"
     ]
    },
    {
     "name": "stdout",
     "output_type": "stream",
     "text": [
      "Successfully created repository: SW00608\n",
      "Initialized empty Git repository in /home/ec2-user/SageMaker/stt-combine-datasets/output/SW00608/.git/\n"
     ]
    },
    {
     "name": "stderr",
     "output_type": "stream",
     "text": [
      "hint: Using 'master' as the name for the initial branch. This default branch name\n",
      "hint: is subject to change. To configure the initial branch name to use in all\n",
      "hint: of your new repositories, which will suppress this warning, call:\n",
      "hint: \n",
      "hint: \tgit config --global init.defaultBranch <name>\n",
      "hint: \n",
      "hint: Names commonly chosen instead of 'master' are 'main', 'trunk' and\n",
      "hint: 'development'. The just-created branch can be renamed via this command:\n",
      "hint: \n",
      "hint: \tgit branch -m <name>\n",
      "error: No such remote: 'origin'\n",
      "fatal: couldn't find remote ref master\n"
     ]
    },
    {
     "name": "stdout",
     "output_type": "stream",
     "text": [
      "[master (root-commit) 1805daf] Initial commit\n",
      " 1 file changed, 1001 insertions(+)\n",
      " create mode 100644 SW00608.csv\n"
     ]
    },
    {
     "name": "stderr",
     "output_type": "stream",
     "text": [
      "To https://github.com/MonlamAI/SW00608.git\n",
      " * [new branch]      master -> master\n"
     ]
    },
    {
     "name": "stdout",
     "output_type": "stream",
     "text": [
      "Successfully created repository: SW00244\n",
      "Initialized empty Git repository in /home/ec2-user/SageMaker/stt-combine-datasets/output/SW00244/.git/\n"
     ]
    },
    {
     "name": "stderr",
     "output_type": "stream",
     "text": [
      "hint: Using 'master' as the name for the initial branch. This default branch name\n",
      "hint: is subject to change. To configure the initial branch name to use in all\n",
      "hint: of your new repositories, which will suppress this warning, call:\n",
      "hint: \n",
      "hint: \tgit config --global init.defaultBranch <name>\n",
      "hint: \n",
      "hint: Names commonly chosen instead of 'master' are 'main', 'trunk' and\n",
      "hint: 'development'. The just-created branch can be renamed via this command:\n",
      "hint: \n",
      "hint: \tgit branch -m <name>\n",
      "error: No such remote: 'origin'\n",
      "fatal: couldn't find remote ref master\n"
     ]
    },
    {
     "name": "stdout",
     "output_type": "stream",
     "text": [
      "[master (root-commit) acbac8f] Initial commit\n",
      " 1 file changed, 1001 insertions(+)\n",
      " create mode 100644 SW00244.csv\n"
     ]
    },
    {
     "name": "stderr",
     "output_type": "stream",
     "text": [
      "To https://github.com/MonlamAI/SW00244.git\n",
      " * [new branch]      master -> master\n"
     ]
    },
    {
     "name": "stdout",
     "output_type": "stream",
     "text": [
      "Successfully created repository: SW00018\n",
      "Initialized empty Git repository in /home/ec2-user/SageMaker/stt-combine-datasets/output/SW00018/.git/\n"
     ]
    },
    {
     "name": "stderr",
     "output_type": "stream",
     "text": [
      "hint: Using 'master' as the name for the initial branch. This default branch name\n",
      "hint: is subject to change. To configure the initial branch name to use in all\n",
      "hint: of your new repositories, which will suppress this warning, call:\n",
      "hint: \n",
      "hint: \tgit config --global init.defaultBranch <name>\n",
      "hint: \n",
      "hint: Names commonly chosen instead of 'master' are 'main', 'trunk' and\n",
      "hint: 'development'. The just-created branch can be renamed via this command:\n",
      "hint: \n",
      "hint: \tgit branch -m <name>\n",
      "error: No such remote: 'origin'\n",
      "fatal: couldn't find remote ref master\n"
     ]
    },
    {
     "name": "stdout",
     "output_type": "stream",
     "text": [
      "[master (root-commit) 81a4455] Initial commit\n",
      " 1 file changed, 1001 insertions(+)\n",
      " create mode 100644 SW00018.csv\n"
     ]
    },
    {
     "name": "stderr",
     "output_type": "stream",
     "text": [
      "To https://github.com/MonlamAI/SW00018.git\n",
      " * [new branch]      master -> master\n"
     ]
    },
    {
     "name": "stdout",
     "output_type": "stream",
     "text": [
      "Successfully created repository: SW00120\n",
      "Initialized empty Git repository in /home/ec2-user/SageMaker/stt-combine-datasets/output/SW00120/.git/\n"
     ]
    },
    {
     "name": "stderr",
     "output_type": "stream",
     "text": [
      "hint: Using 'master' as the name for the initial branch. This default branch name\n",
      "hint: is subject to change. To configure the initial branch name to use in all\n",
      "hint: of your new repositories, which will suppress this warning, call:\n",
      "hint: \n",
      "hint: \tgit config --global init.defaultBranch <name>\n",
      "hint: \n",
      "hint: Names commonly chosen instead of 'master' are 'main', 'trunk' and\n",
      "hint: 'development'. The just-created branch can be renamed via this command:\n",
      "hint: \n",
      "hint: \tgit branch -m <name>\n",
      "error: No such remote: 'origin'\n",
      "fatal: couldn't find remote ref master\n"
     ]
    },
    {
     "name": "stdout",
     "output_type": "stream",
     "text": [
      "[master (root-commit) e0ba636] Initial commit\n",
      " 1 file changed, 1001 insertions(+)\n",
      " create mode 100644 SW00120.csv\n"
     ]
    },
    {
     "name": "stderr",
     "output_type": "stream",
     "text": [
      "To https://github.com/MonlamAI/SW00120.git\n",
      " * [new branch]      master -> master\n"
     ]
    },
    {
     "name": "stdout",
     "output_type": "stream",
     "text": [
      "Successfully created repository: SW00137\n",
      "Initialized empty Git repository in /home/ec2-user/SageMaker/stt-combine-datasets/output/SW00137/.git/\n"
     ]
    },
    {
     "name": "stderr",
     "output_type": "stream",
     "text": [
      "hint: Using 'master' as the name for the initial branch. This default branch name\n",
      "hint: is subject to change. To configure the initial branch name to use in all\n",
      "hint: of your new repositories, which will suppress this warning, call:\n",
      "hint: \n",
      "hint: \tgit config --global init.defaultBranch <name>\n",
      "hint: \n",
      "hint: Names commonly chosen instead of 'master' are 'main', 'trunk' and\n",
      "hint: 'development'. The just-created branch can be renamed via this command:\n",
      "hint: \n",
      "hint: \tgit branch -m <name>\n",
      "error: No such remote: 'origin'\n",
      "fatal: couldn't find remote ref master\n"
     ]
    },
    {
     "name": "stdout",
     "output_type": "stream",
     "text": [
      "[master (root-commit) 35436df] Initial commit\n",
      " 1 file changed, 1001 insertions(+)\n",
      " create mode 100644 SW00137.csv\n"
     ]
    },
    {
     "name": "stderr",
     "output_type": "stream",
     "text": [
      "To https://github.com/MonlamAI/SW00137.git\n",
      " * [new branch]      master -> master\n"
     ]
    },
    {
     "name": "stdout",
     "output_type": "stream",
     "text": [
      "Successfully created repository: SW00775\n",
      "Initialized empty Git repository in /home/ec2-user/SageMaker/stt-combine-datasets/output/SW00775/.git/\n"
     ]
    },
    {
     "name": "stderr",
     "output_type": "stream",
     "text": [
      "hint: Using 'master' as the name for the initial branch. This default branch name\n",
      "hint: is subject to change. To configure the initial branch name to use in all\n",
      "hint: of your new repositories, which will suppress this warning, call:\n",
      "hint: \n",
      "hint: \tgit config --global init.defaultBranch <name>\n",
      "hint: \n",
      "hint: Names commonly chosen instead of 'master' are 'main', 'trunk' and\n",
      "hint: 'development'. The just-created branch can be renamed via this command:\n",
      "hint: \n",
      "hint: \tgit branch -m <name>\n",
      "error: No such remote: 'origin'\n",
      "fatal: couldn't find remote ref master\n"
     ]
    },
    {
     "name": "stdout",
     "output_type": "stream",
     "text": [
      "[master (root-commit) bf8baff] Initial commit\n",
      " 1 file changed, 1001 insertions(+)\n",
      " create mode 100644 SW00775.csv\n"
     ]
    },
    {
     "name": "stderr",
     "output_type": "stream",
     "text": [
      "To https://github.com/MonlamAI/SW00775.git\n",
      " * [new branch]      master -> master\n"
     ]
    },
    {
     "name": "stdout",
     "output_type": "stream",
     "text": [
      "Successfully created repository: SW00765\n",
      "Initialized empty Git repository in /home/ec2-user/SageMaker/stt-combine-datasets/output/SW00765/.git/\n"
     ]
    },
    {
     "name": "stderr",
     "output_type": "stream",
     "text": [
      "hint: Using 'master' as the name for the initial branch. This default branch name\n",
      "hint: is subject to change. To configure the initial branch name to use in all\n",
      "hint: of your new repositories, which will suppress this warning, call:\n",
      "hint: \n",
      "hint: \tgit config --global init.defaultBranch <name>\n",
      "hint: \n",
      "hint: Names commonly chosen instead of 'master' are 'main', 'trunk' and\n",
      "hint: 'development'. The just-created branch can be renamed via this command:\n",
      "hint: \n",
      "hint: \tgit branch -m <name>\n",
      "error: No such remote: 'origin'\n",
      "fatal: couldn't find remote ref master\n"
     ]
    },
    {
     "name": "stdout",
     "output_type": "stream",
     "text": [
      "[master (root-commit) 1f0dade] Initial commit\n",
      " 1 file changed, 1001 insertions(+)\n",
      " create mode 100644 SW00765.csv\n"
     ]
    },
    {
     "name": "stderr",
     "output_type": "stream",
     "text": [
      "To https://github.com/MonlamAI/SW00765.git\n",
      " * [new branch]      master -> master\n"
     ]
    },
    {
     "name": "stdout",
     "output_type": "stream",
     "text": [
      "Successfully created repository: SW00502\n",
      "Initialized empty Git repository in /home/ec2-user/SageMaker/stt-combine-datasets/output/SW00502/.git/\n"
     ]
    },
    {
     "name": "stderr",
     "output_type": "stream",
     "text": [
      "hint: Using 'master' as the name for the initial branch. This default branch name\n",
      "hint: is subject to change. To configure the initial branch name to use in all\n",
      "hint: of your new repositories, which will suppress this warning, call:\n",
      "hint: \n",
      "hint: \tgit config --global init.defaultBranch <name>\n",
      "hint: \n",
      "hint: Names commonly chosen instead of 'master' are 'main', 'trunk' and\n",
      "hint: 'development'. The just-created branch can be renamed via this command:\n",
      "hint: \n",
      "hint: \tgit branch -m <name>\n",
      "error: No such remote: 'origin'\n",
      "fatal: couldn't find remote ref master\n"
     ]
    },
    {
     "name": "stdout",
     "output_type": "stream",
     "text": [
      "[master (root-commit) 45ed644] Initial commit\n",
      " 1 file changed, 1001 insertions(+)\n",
      " create mode 100644 SW00502.csv\n"
     ]
    },
    {
     "name": "stderr",
     "output_type": "stream",
     "text": [
      "To https://github.com/MonlamAI/SW00502.git\n",
      " * [new branch]      master -> master\n"
     ]
    },
    {
     "name": "stdout",
     "output_type": "stream",
     "text": [
      "Successfully created repository: SW00050\n",
      "Initialized empty Git repository in /home/ec2-user/SageMaker/stt-combine-datasets/output/SW00050/.git/\n"
     ]
    },
    {
     "name": "stderr",
     "output_type": "stream",
     "text": [
      "hint: Using 'master' as the name for the initial branch. This default branch name\n",
      "hint: is subject to change. To configure the initial branch name to use in all\n",
      "hint: of your new repositories, which will suppress this warning, call:\n",
      "hint: \n",
      "hint: \tgit config --global init.defaultBranch <name>\n",
      "hint: \n",
      "hint: Names commonly chosen instead of 'master' are 'main', 'trunk' and\n",
      "hint: 'development'. The just-created branch can be renamed via this command:\n",
      "hint: \n",
      "hint: \tgit branch -m <name>\n",
      "error: No such remote: 'origin'\n",
      "fatal: couldn't find remote ref master\n"
     ]
    },
    {
     "name": "stdout",
     "output_type": "stream",
     "text": [
      "[master (root-commit) 3718eec] Initial commit\n",
      " 1 file changed, 1001 insertions(+)\n",
      " create mode 100644 SW00050.csv\n"
     ]
    },
    {
     "name": "stderr",
     "output_type": "stream",
     "text": [
      "To https://github.com/MonlamAI/SW00050.git\n",
      " * [new branch]      master -> master\n"
     ]
    },
    {
     "name": "stdout",
     "output_type": "stream",
     "text": [
      "Successfully created repository: SW00917\n",
      "Initialized empty Git repository in /home/ec2-user/SageMaker/stt-combine-datasets/output/SW00917/.git/\n"
     ]
    },
    {
     "name": "stderr",
     "output_type": "stream",
     "text": [
      "hint: Using 'master' as the name for the initial branch. This default branch name\n",
      "hint: is subject to change. To configure the initial branch name to use in all\n",
      "hint: of your new repositories, which will suppress this warning, call:\n",
      "hint: \n",
      "hint: \tgit config --global init.defaultBranch <name>\n",
      "hint: \n",
      "hint: Names commonly chosen instead of 'master' are 'main', 'trunk' and\n",
      "hint: 'development'. The just-created branch can be renamed via this command:\n",
      "hint: \n",
      "hint: \tgit branch -m <name>\n",
      "error: No such remote: 'origin'\n",
      "fatal: couldn't find remote ref master\n"
     ]
    },
    {
     "name": "stdout",
     "output_type": "stream",
     "text": [
      "[master (root-commit) 10d7b31] Initial commit\n",
      " 1 file changed, 1001 insertions(+)\n",
      " create mode 100644 SW00917.csv\n"
     ]
    },
    {
     "name": "stderr",
     "output_type": "stream",
     "text": [
      "To https://github.com/MonlamAI/SW00917.git\n",
      " * [new branch]      master -> master\n"
     ]
    },
    {
     "name": "stdout",
     "output_type": "stream",
     "text": [
      "Successfully created repository: SW00636\n",
      "Initialized empty Git repository in /home/ec2-user/SageMaker/stt-combine-datasets/output/SW00636/.git/\n"
     ]
    },
    {
     "name": "stderr",
     "output_type": "stream",
     "text": [
      "hint: Using 'master' as the name for the initial branch. This default branch name\n",
      "hint: is subject to change. To configure the initial branch name to use in all\n",
      "hint: of your new repositories, which will suppress this warning, call:\n",
      "hint: \n",
      "hint: \tgit config --global init.defaultBranch <name>\n",
      "hint: \n",
      "hint: Names commonly chosen instead of 'master' are 'main', 'trunk' and\n",
      "hint: 'development'. The just-created branch can be renamed via this command:\n",
      "hint: \n",
      "hint: \tgit branch -m <name>\n",
      "error: No such remote: 'origin'\n",
      "fatal: couldn't find remote ref master\n"
     ]
    },
    {
     "name": "stdout",
     "output_type": "stream",
     "text": [
      "[master (root-commit) 3feac93] Initial commit\n",
      " 1 file changed, 1001 insertions(+)\n",
      " create mode 100644 SW00636.csv\n"
     ]
    },
    {
     "name": "stderr",
     "output_type": "stream",
     "text": [
      "To https://github.com/MonlamAI/SW00636.git\n",
      " * [new branch]      master -> master\n"
     ]
    },
    {
     "name": "stdout",
     "output_type": "stream",
     "text": [
      "Successfully created repository: SW00649\n",
      "Initialized empty Git repository in /home/ec2-user/SageMaker/stt-combine-datasets/output/SW00649/.git/\n"
     ]
    },
    {
     "name": "stderr",
     "output_type": "stream",
     "text": [
      "hint: Using 'master' as the name for the initial branch. This default branch name\n",
      "hint: is subject to change. To configure the initial branch name to use in all\n",
      "hint: of your new repositories, which will suppress this warning, call:\n",
      "hint: \n",
      "hint: \tgit config --global init.defaultBranch <name>\n",
      "hint: \n",
      "hint: Names commonly chosen instead of 'master' are 'main', 'trunk' and\n",
      "hint: 'development'. The just-created branch can be renamed via this command:\n",
      "hint: \n",
      "hint: \tgit branch -m <name>\n",
      "error: No such remote: 'origin'\n",
      "fatal: couldn't find remote ref master\n"
     ]
    },
    {
     "name": "stdout",
     "output_type": "stream",
     "text": [
      "[master (root-commit) 0f46c72] Initial commit\n",
      " 1 file changed, 1001 insertions(+)\n",
      " create mode 100644 SW00649.csv\n"
     ]
    },
    {
     "name": "stderr",
     "output_type": "stream",
     "text": [
      "To https://github.com/MonlamAI/SW00649.git\n",
      " * [new branch]      master -> master\n"
     ]
    },
    {
     "name": "stdout",
     "output_type": "stream",
     "text": [
      "Successfully created repository: SW00522\n",
      "Initialized empty Git repository in /home/ec2-user/SageMaker/stt-combine-datasets/output/SW00522/.git/\n"
     ]
    },
    {
     "name": "stderr",
     "output_type": "stream",
     "text": [
      "hint: Using 'master' as the name for the initial branch. This default branch name\n",
      "hint: is subject to change. To configure the initial branch name to use in all\n",
      "hint: of your new repositories, which will suppress this warning, call:\n",
      "hint: \n",
      "hint: \tgit config --global init.defaultBranch <name>\n",
      "hint: \n",
      "hint: Names commonly chosen instead of 'master' are 'main', 'trunk' and\n",
      "hint: 'development'. The just-created branch can be renamed via this command:\n",
      "hint: \n",
      "hint: \tgit branch -m <name>\n",
      "error: No such remote: 'origin'\n",
      "fatal: couldn't find remote ref master\n"
     ]
    },
    {
     "name": "stdout",
     "output_type": "stream",
     "text": [
      "[master (root-commit) 4f42bb7] Initial commit\n",
      " 1 file changed, 1001 insertions(+)\n",
      " create mode 100644 SW00522.csv\n"
     ]
    },
    {
     "name": "stderr",
     "output_type": "stream",
     "text": [
      "To https://github.com/MonlamAI/SW00522.git\n",
      " * [new branch]      master -> master\n"
     ]
    },
    {
     "name": "stdout",
     "output_type": "stream",
     "text": [
      "Successfully created repository: SW00346\n",
      "Initialized empty Git repository in /home/ec2-user/SageMaker/stt-combine-datasets/output/SW00346/.git/\n"
     ]
    },
    {
     "name": "stderr",
     "output_type": "stream",
     "text": [
      "hint: Using 'master' as the name for the initial branch. This default branch name\n",
      "hint: is subject to change. To configure the initial branch name to use in all\n",
      "hint: of your new repositories, which will suppress this warning, call:\n",
      "hint: \n",
      "hint: \tgit config --global init.defaultBranch <name>\n",
      "hint: \n",
      "hint: Names commonly chosen instead of 'master' are 'main', 'trunk' and\n",
      "hint: 'development'. The just-created branch can be renamed via this command:\n",
      "hint: \n",
      "hint: \tgit branch -m <name>\n",
      "error: No such remote: 'origin'\n",
      "fatal: couldn't find remote ref master\n"
     ]
    },
    {
     "name": "stdout",
     "output_type": "stream",
     "text": [
      "[master (root-commit) 43695fe] Initial commit\n",
      " 1 file changed, 1001 insertions(+)\n",
      " create mode 100644 SW00346.csv\n"
     ]
    },
    {
     "name": "stderr",
     "output_type": "stream",
     "text": [
      "To https://github.com/MonlamAI/SW00346.git\n",
      " * [new branch]      master -> master\n"
     ]
    },
    {
     "name": "stdout",
     "output_type": "stream",
     "text": [
      "Successfully created repository: SW00510\n",
      "Initialized empty Git repository in /home/ec2-user/SageMaker/stt-combine-datasets/output/SW00510/.git/\n"
     ]
    },
    {
     "name": "stderr",
     "output_type": "stream",
     "text": [
      "hint: Using 'master' as the name for the initial branch. This default branch name\n",
      "hint: is subject to change. To configure the initial branch name to use in all\n",
      "hint: of your new repositories, which will suppress this warning, call:\n",
      "hint: \n",
      "hint: \tgit config --global init.defaultBranch <name>\n",
      "hint: \n",
      "hint: Names commonly chosen instead of 'master' are 'main', 'trunk' and\n",
      "hint: 'development'. The just-created branch can be renamed via this command:\n",
      "hint: \n",
      "hint: \tgit branch -m <name>\n",
      "error: No such remote: 'origin'\n",
      "fatal: couldn't find remote ref master\n"
     ]
    },
    {
     "name": "stdout",
     "output_type": "stream",
     "text": [
      "[master (root-commit) eec30af] Initial commit\n",
      " 1 file changed, 1001 insertions(+)\n",
      " create mode 100644 SW00510.csv\n"
     ]
    },
    {
     "name": "stderr",
     "output_type": "stream",
     "text": [
      "To https://github.com/MonlamAI/SW00510.git\n",
      " * [new branch]      master -> master\n"
     ]
    },
    {
     "name": "stdout",
     "output_type": "stream",
     "text": [
      "Successfully created repository: SW00455\n",
      "Initialized empty Git repository in /home/ec2-user/SageMaker/stt-combine-datasets/output/SW00455/.git/\n"
     ]
    },
    {
     "name": "stderr",
     "output_type": "stream",
     "text": [
      "hint: Using 'master' as the name for the initial branch. This default branch name\n",
      "hint: is subject to change. To configure the initial branch name to use in all\n",
      "hint: of your new repositories, which will suppress this warning, call:\n",
      "hint: \n",
      "hint: \tgit config --global init.defaultBranch <name>\n",
      "hint: \n",
      "hint: Names commonly chosen instead of 'master' are 'main', 'trunk' and\n",
      "hint: 'development'. The just-created branch can be renamed via this command:\n",
      "hint: \n",
      "hint: \tgit branch -m <name>\n",
      "error: No such remote: 'origin'\n",
      "fatal: couldn't find remote ref master\n"
     ]
    },
    {
     "name": "stdout",
     "output_type": "stream",
     "text": [
      "[master (root-commit) b0fb9c5] Initial commit\n",
      " 1 file changed, 1001 insertions(+)\n",
      " create mode 100644 SW00455.csv\n"
     ]
    },
    {
     "name": "stderr",
     "output_type": "stream",
     "text": [
      "To https://github.com/MonlamAI/SW00455.git\n",
      " * [new branch]      master -> master\n"
     ]
    },
    {
     "name": "stdout",
     "output_type": "stream",
     "text": [
      "Successfully created repository: SW00602\n",
      "Initialized empty Git repository in /home/ec2-user/SageMaker/stt-combine-datasets/output/SW00602/.git/\n"
     ]
    },
    {
     "name": "stderr",
     "output_type": "stream",
     "text": [
      "hint: Using 'master' as the name for the initial branch. This default branch name\n",
      "hint: is subject to change. To configure the initial branch name to use in all\n",
      "hint: of your new repositories, which will suppress this warning, call:\n",
      "hint: \n",
      "hint: \tgit config --global init.defaultBranch <name>\n",
      "hint: \n",
      "hint: Names commonly chosen instead of 'master' are 'main', 'trunk' and\n",
      "hint: 'development'. The just-created branch can be renamed via this command:\n",
      "hint: \n",
      "hint: \tgit branch -m <name>\n",
      "error: No such remote: 'origin'\n",
      "fatal: couldn't find remote ref master\n"
     ]
    },
    {
     "name": "stdout",
     "output_type": "stream",
     "text": [
      "[master (root-commit) 9024472] Initial commit\n",
      " 1 file changed, 1001 insertions(+)\n",
      " create mode 100644 SW00602.csv\n"
     ]
    },
    {
     "name": "stderr",
     "output_type": "stream",
     "text": [
      "To https://github.com/MonlamAI/SW00602.git\n",
      " * [new branch]      master -> master\n"
     ]
    },
    {
     "name": "stdout",
     "output_type": "stream",
     "text": [
      "Successfully created repository: SW00841\n",
      "Initialized empty Git repository in /home/ec2-user/SageMaker/stt-combine-datasets/output/SW00841/.git/\n"
     ]
    },
    {
     "name": "stderr",
     "output_type": "stream",
     "text": [
      "hint: Using 'master' as the name for the initial branch. This default branch name\n",
      "hint: is subject to change. To configure the initial branch name to use in all\n",
      "hint: of your new repositories, which will suppress this warning, call:\n",
      "hint: \n",
      "hint: \tgit config --global init.defaultBranch <name>\n",
      "hint: \n",
      "hint: Names commonly chosen instead of 'master' are 'main', 'trunk' and\n",
      "hint: 'development'. The just-created branch can be renamed via this command:\n",
      "hint: \n",
      "hint: \tgit branch -m <name>\n",
      "error: No such remote: 'origin'\n",
      "fatal: couldn't find remote ref master\n"
     ]
    },
    {
     "name": "stdout",
     "output_type": "stream",
     "text": [
      "[master (root-commit) 1fff6c8] Initial commit\n",
      " 1 file changed, 1001 insertions(+)\n",
      " create mode 100644 SW00841.csv\n"
     ]
    },
    {
     "name": "stderr",
     "output_type": "stream",
     "text": [
      "To https://github.com/MonlamAI/SW00841.git\n",
      " * [new branch]      master -> master\n"
     ]
    },
    {
     "name": "stdout",
     "output_type": "stream",
     "text": [
      "Successfully created repository: SW00285\n",
      "Initialized empty Git repository in /home/ec2-user/SageMaker/stt-combine-datasets/output/SW00285/.git/\n"
     ]
    },
    {
     "name": "stderr",
     "output_type": "stream",
     "text": [
      "hint: Using 'master' as the name for the initial branch. This default branch name\n",
      "hint: is subject to change. To configure the initial branch name to use in all\n",
      "hint: of your new repositories, which will suppress this warning, call:\n",
      "hint: \n",
      "hint: \tgit config --global init.defaultBranch <name>\n",
      "hint: \n",
      "hint: Names commonly chosen instead of 'master' are 'main', 'trunk' and\n",
      "hint: 'development'. The just-created branch can be renamed via this command:\n",
      "hint: \n",
      "hint: \tgit branch -m <name>\n",
      "error: No such remote: 'origin'\n",
      "fatal: couldn't find remote ref master\n"
     ]
    },
    {
     "name": "stdout",
     "output_type": "stream",
     "text": [
      "[master (root-commit) 55e4079] Initial commit\n",
      " 1 file changed, 1001 insertions(+)\n",
      " create mode 100644 SW00285.csv\n"
     ]
    },
    {
     "name": "stderr",
     "output_type": "stream",
     "text": [
      "To https://github.com/MonlamAI/SW00285.git\n",
      " * [new branch]      master -> master\n"
     ]
    },
    {
     "name": "stdout",
     "output_type": "stream",
     "text": [
      "Successfully created repository: SW00291\n",
      "Initialized empty Git repository in /home/ec2-user/SageMaker/stt-combine-datasets/output/SW00291/.git/\n"
     ]
    },
    {
     "name": "stderr",
     "output_type": "stream",
     "text": [
      "hint: Using 'master' as the name for the initial branch. This default branch name\n",
      "hint: is subject to change. To configure the initial branch name to use in all\n",
      "hint: of your new repositories, which will suppress this warning, call:\n",
      "hint: \n",
      "hint: \tgit config --global init.defaultBranch <name>\n",
      "hint: \n",
      "hint: Names commonly chosen instead of 'master' are 'main', 'trunk' and\n",
      "hint: 'development'. The just-created branch can be renamed via this command:\n",
      "hint: \n",
      "hint: \tgit branch -m <name>\n",
      "error: No such remote: 'origin'\n",
      "fatal: couldn't find remote ref master\n"
     ]
    },
    {
     "name": "stdout",
     "output_type": "stream",
     "text": [
      "[master (root-commit) 073ebab] Initial commit\n",
      " 1 file changed, 1001 insertions(+)\n",
      " create mode 100644 SW00291.csv\n"
     ]
    },
    {
     "name": "stderr",
     "output_type": "stream",
     "text": [
      "To https://github.com/MonlamAI/SW00291.git\n",
      " * [new branch]      master -> master\n"
     ]
    },
    {
     "name": "stdout",
     "output_type": "stream",
     "text": [
      "Successfully created repository: SW00445\n",
      "Initialized empty Git repository in /home/ec2-user/SageMaker/stt-combine-datasets/output/SW00445/.git/\n"
     ]
    },
    {
     "name": "stderr",
     "output_type": "stream",
     "text": [
      "hint: Using 'master' as the name for the initial branch. This default branch name\n",
      "hint: is subject to change. To configure the initial branch name to use in all\n",
      "hint: of your new repositories, which will suppress this warning, call:\n",
      "hint: \n",
      "hint: \tgit config --global init.defaultBranch <name>\n",
      "hint: \n",
      "hint: Names commonly chosen instead of 'master' are 'main', 'trunk' and\n",
      "hint: 'development'. The just-created branch can be renamed via this command:\n",
      "hint: \n",
      "hint: \tgit branch -m <name>\n",
      "error: No such remote: 'origin'\n",
      "fatal: couldn't find remote ref master\n"
     ]
    },
    {
     "name": "stdout",
     "output_type": "stream",
     "text": [
      "[master (root-commit) ff6241a] Initial commit\n",
      " 1 file changed, 1001 insertions(+)\n",
      " create mode 100644 SW00445.csv\n"
     ]
    },
    {
     "name": "stderr",
     "output_type": "stream",
     "text": [
      "To https://github.com/MonlamAI/SW00445.git\n",
      " * [new branch]      master -> master\n"
     ]
    },
    {
     "name": "stdout",
     "output_type": "stream",
     "text": [
      "Successfully created repository: SW00684\n"
     ]
    },
    {
     "name": "stderr",
     "output_type": "stream",
     "text": [
      "hint: Using 'master' as the name for the initial branch. This default branch name\n",
      "hint: is subject to change. To configure the initial branch name to use in all\n",
      "hint: of your new repositories, which will suppress this warning, call:\n",
      "hint: \n",
      "hint: \tgit config --global init.defaultBranch <name>\n",
      "hint: \n",
      "hint: Names commonly chosen instead of 'master' are 'main', 'trunk' and\n",
      "hint: 'development'. The just-created branch can be renamed via this command:\n",
      "hint: \n",
      "hint: \tgit branch -m <name>\n"
     ]
    },
    {
     "name": "stdout",
     "output_type": "stream",
     "text": [
      "Initialized empty Git repository in /home/ec2-user/SageMaker/stt-combine-datasets/output/SW00684/.git/\n"
     ]
    },
    {
     "name": "stderr",
     "output_type": "stream",
     "text": [
      "error: No such remote: 'origin'\n",
      "fatal: couldn't find remote ref master\n"
     ]
    },
    {
     "name": "stdout",
     "output_type": "stream",
     "text": [
      "[master (root-commit) 71898ac] Initial commit\n",
      " 1 file changed, 1001 insertions(+)\n",
      " create mode 100644 SW00684.csv\n"
     ]
    },
    {
     "name": "stderr",
     "output_type": "stream",
     "text": [
      "To https://github.com/MonlamAI/SW00684.git\n",
      " * [new branch]      master -> master\n"
     ]
    },
    {
     "name": "stdout",
     "output_type": "stream",
     "text": [
      "Successfully created repository: SW00886\n",
      "Initialized empty Git repository in /home/ec2-user/SageMaker/stt-combine-datasets/output/SW00886/.git/\n"
     ]
    },
    {
     "name": "stderr",
     "output_type": "stream",
     "text": [
      "hint: Using 'master' as the name for the initial branch. This default branch name\n",
      "hint: is subject to change. To configure the initial branch name to use in all\n",
      "hint: of your new repositories, which will suppress this warning, call:\n",
      "hint: \n",
      "hint: \tgit config --global init.defaultBranch <name>\n",
      "hint: \n",
      "hint: Names commonly chosen instead of 'master' are 'main', 'trunk' and\n",
      "hint: 'development'. The just-created branch can be renamed via this command:\n",
      "hint: \n",
      "hint: \tgit branch -m <name>\n",
      "error: No such remote: 'origin'\n",
      "fatal: couldn't find remote ref master\n"
     ]
    },
    {
     "name": "stdout",
     "output_type": "stream",
     "text": [
      "[master (root-commit) cf1d8c3] Initial commit\n",
      " 1 file changed, 1001 insertions(+)\n",
      " create mode 100644 SW00886.csv\n"
     ]
    },
    {
     "name": "stderr",
     "output_type": "stream",
     "text": [
      "To https://github.com/MonlamAI/SW00886.git\n",
      " * [new branch]      master -> master\n"
     ]
    },
    {
     "name": "stdout",
     "output_type": "stream",
     "text": [
      "Successfully created repository: SW00548\n",
      "Initialized empty Git repository in /home/ec2-user/SageMaker/stt-combine-datasets/output/SW00548/.git/\n"
     ]
    },
    {
     "name": "stderr",
     "output_type": "stream",
     "text": [
      "hint: Using 'master' as the name for the initial branch. This default branch name\n",
      "hint: is subject to change. To configure the initial branch name to use in all\n",
      "hint: of your new repositories, which will suppress this warning, call:\n",
      "hint: \n",
      "hint: \tgit config --global init.defaultBranch <name>\n",
      "hint: \n",
      "hint: Names commonly chosen instead of 'master' are 'main', 'trunk' and\n",
      "hint: 'development'. The just-created branch can be renamed via this command:\n",
      "hint: \n",
      "hint: \tgit branch -m <name>\n",
      "error: No such remote: 'origin'\n",
      "fatal: couldn't find remote ref master\n"
     ]
    },
    {
     "name": "stdout",
     "output_type": "stream",
     "text": [
      "[master (root-commit) 7d12c22] Initial commit\n",
      " 1 file changed, 1001 insertions(+)\n",
      " create mode 100644 SW00548.csv\n"
     ]
    },
    {
     "name": "stderr",
     "output_type": "stream",
     "text": [
      "To https://github.com/MonlamAI/SW00548.git\n",
      " * [new branch]      master -> master\n"
     ]
    },
    {
     "name": "stdout",
     "output_type": "stream",
     "text": [
      "Successfully created repository: SW00778\n",
      "Initialized empty Git repository in /home/ec2-user/SageMaker/stt-combine-datasets/output/SW00778/.git/\n"
     ]
    },
    {
     "name": "stderr",
     "output_type": "stream",
     "text": [
      "hint: Using 'master' as the name for the initial branch. This default branch name\n",
      "hint: is subject to change. To configure the initial branch name to use in all\n",
      "hint: of your new repositories, which will suppress this warning, call:\n",
      "hint: \n",
      "hint: \tgit config --global init.defaultBranch <name>\n",
      "hint: \n",
      "hint: Names commonly chosen instead of 'master' are 'main', 'trunk' and\n",
      "hint: 'development'. The just-created branch can be renamed via this command:\n",
      "hint: \n",
      "hint: \tgit branch -m <name>\n",
      "error: No such remote: 'origin'\n",
      "fatal: couldn't find remote ref master\n"
     ]
    },
    {
     "name": "stdout",
     "output_type": "stream",
     "text": [
      "[master (root-commit) cdb5c4b] Initial commit\n",
      " 1 file changed, 1001 insertions(+)\n",
      " create mode 100644 SW00778.csv\n"
     ]
    },
    {
     "name": "stderr",
     "output_type": "stream",
     "text": [
      "To https://github.com/MonlamAI/SW00778.git\n",
      " * [new branch]      master -> master\n"
     ]
    },
    {
     "name": "stdout",
     "output_type": "stream",
     "text": [
      "Successfully created repository: SW00910\n",
      "Initialized empty Git repository in /home/ec2-user/SageMaker/stt-combine-datasets/output/SW00910/.git/\n"
     ]
    },
    {
     "name": "stderr",
     "output_type": "stream",
     "text": [
      "hint: Using 'master' as the name for the initial branch. This default branch name\n",
      "hint: is subject to change. To configure the initial branch name to use in all\n",
      "hint: of your new repositories, which will suppress this warning, call:\n",
      "hint: \n",
      "hint: \tgit config --global init.defaultBranch <name>\n",
      "hint: \n",
      "hint: Names commonly chosen instead of 'master' are 'main', 'trunk' and\n",
      "hint: 'development'. The just-created branch can be renamed via this command:\n",
      "hint: \n",
      "hint: \tgit branch -m <name>\n",
      "error: No such remote: 'origin'\n",
      "fatal: couldn't find remote ref master\n"
     ]
    },
    {
     "name": "stdout",
     "output_type": "stream",
     "text": [
      "[master (root-commit) d8c8107] Initial commit\n",
      " 1 file changed, 1001 insertions(+)\n",
      " create mode 100644 SW00910.csv\n"
     ]
    },
    {
     "name": "stderr",
     "output_type": "stream",
     "text": [
      "To https://github.com/MonlamAI/SW00910.git\n",
      " * [new branch]      master -> master\n"
     ]
    },
    {
     "name": "stdout",
     "output_type": "stream",
     "text": [
      "Successfully created repository: SW00562\n",
      "Initialized empty Git repository in /home/ec2-user/SageMaker/stt-combine-datasets/output/SW00562/.git/\n"
     ]
    },
    {
     "name": "stderr",
     "output_type": "stream",
     "text": [
      "hint: Using 'master' as the name for the initial branch. This default branch name\n",
      "hint: is subject to change. To configure the initial branch name to use in all\n",
      "hint: of your new repositories, which will suppress this warning, call:\n",
      "hint: \n",
      "hint: \tgit config --global init.defaultBranch <name>\n",
      "hint: \n",
      "hint: Names commonly chosen instead of 'master' are 'main', 'trunk' and\n",
      "hint: 'development'. The just-created branch can be renamed via this command:\n",
      "hint: \n",
      "hint: \tgit branch -m <name>\n",
      "error: No such remote: 'origin'\n",
      "fatal: couldn't find remote ref master\n"
     ]
    },
    {
     "name": "stdout",
     "output_type": "stream",
     "text": [
      "[master (root-commit) d293471] Initial commit\n",
      " 1 file changed, 1001 insertions(+)\n",
      " create mode 100644 SW00562.csv\n"
     ]
    },
    {
     "name": "stderr",
     "output_type": "stream",
     "text": [
      "To https://github.com/MonlamAI/SW00562.git\n",
      " * [new branch]      master -> master\n"
     ]
    },
    {
     "name": "stdout",
     "output_type": "stream",
     "text": [
      "Successfully created repository: SW00468\n",
      "Initialized empty Git repository in /home/ec2-user/SageMaker/stt-combine-datasets/output/SW00468/.git/\n"
     ]
    },
    {
     "name": "stderr",
     "output_type": "stream",
     "text": [
      "hint: Using 'master' as the name for the initial branch. This default branch name\n",
      "hint: is subject to change. To configure the initial branch name to use in all\n",
      "hint: of your new repositories, which will suppress this warning, call:\n",
      "hint: \n",
      "hint: \tgit config --global init.defaultBranch <name>\n",
      "hint: \n",
      "hint: Names commonly chosen instead of 'master' are 'main', 'trunk' and\n",
      "hint: 'development'. The just-created branch can be renamed via this command:\n",
      "hint: \n",
      "hint: \tgit branch -m <name>\n",
      "error: No such remote: 'origin'\n",
      "fatal: couldn't find remote ref master\n"
     ]
    },
    {
     "name": "stdout",
     "output_type": "stream",
     "text": [
      "[master (root-commit) b2dc179] Initial commit\n",
      " 1 file changed, 1001 insertions(+)\n",
      " create mode 100644 SW00468.csv\n"
     ]
    },
    {
     "name": "stderr",
     "output_type": "stream",
     "text": [
      "To https://github.com/MonlamAI/SW00468.git\n",
      " * [new branch]      master -> master\n"
     ]
    },
    {
     "name": "stdout",
     "output_type": "stream",
     "text": [
      "Successfully created repository: SW00379\n",
      "Initialized empty Git repository in /home/ec2-user/SageMaker/stt-combine-datasets/output/SW00379/.git/\n"
     ]
    },
    {
     "name": "stderr",
     "output_type": "stream",
     "text": [
      "hint: Using 'master' as the name for the initial branch. This default branch name\n",
      "hint: is subject to change. To configure the initial branch name to use in all\n",
      "hint: of your new repositories, which will suppress this warning, call:\n",
      "hint: \n",
      "hint: \tgit config --global init.defaultBranch <name>\n",
      "hint: \n",
      "hint: Names commonly chosen instead of 'master' are 'main', 'trunk' and\n",
      "hint: 'development'. The just-created branch can be renamed via this command:\n",
      "hint: \n",
      "hint: \tgit branch -m <name>\n",
      "error: No such remote: 'origin'\n",
      "fatal: couldn't find remote ref master\n"
     ]
    },
    {
     "name": "stdout",
     "output_type": "stream",
     "text": [
      "[master (root-commit) 9e97173] Initial commit\n",
      " 1 file changed, 1001 insertions(+)\n",
      " create mode 100644 SW00379.csv\n"
     ]
    },
    {
     "name": "stderr",
     "output_type": "stream",
     "text": [
      "To https://github.com/MonlamAI/SW00379.git\n",
      " * [new branch]      master -> master\n"
     ]
    },
    {
     "name": "stdout",
     "output_type": "stream",
     "text": [
      "Successfully created repository: SW00704\n",
      "Initialized empty Git repository in /home/ec2-user/SageMaker/stt-combine-datasets/output/SW00704/.git/\n",
      "[master (root-commit) 786524c] Initial commit\n",
      " 1 file changed, 1001 insertions(+)\n",
      " create mode 100644 SW00704.csv\n"
     ]
    },
    {
     "name": "stderr",
     "output_type": "stream",
     "text": [
      "hint: Using 'master' as the name for the initial branch. This default branch name\n",
      "hint: is subject to change. To configure the initial branch name to use in all\n",
      "hint: of your new repositories, which will suppress this warning, call:\n",
      "hint: \n",
      "hint: \tgit config --global init.defaultBranch <name>\n",
      "hint: \n",
      "hint: Names commonly chosen instead of 'master' are 'main', 'trunk' and\n",
      "hint: 'development'. The just-created branch can be renamed via this command:\n",
      "hint: \n",
      "hint: \tgit branch -m <name>\n",
      "error: No such remote: 'origin'\n",
      "fatal: couldn't find remote ref master\n",
      "To https://github.com/MonlamAI/SW00704.git\n",
      " * [new branch]      master -> master\n"
     ]
    },
    {
     "name": "stdout",
     "output_type": "stream",
     "text": [
      "Successfully created repository: SW00607\n",
      "Initialized empty Git repository in /home/ec2-user/SageMaker/stt-combine-datasets/output/SW00607/.git/\n"
     ]
    },
    {
     "name": "stderr",
     "output_type": "stream",
     "text": [
      "hint: Using 'master' as the name for the initial branch. This default branch name\n",
      "hint: is subject to change. To configure the initial branch name to use in all\n",
      "hint: of your new repositories, which will suppress this warning, call:\n",
      "hint: \n",
      "hint: \tgit config --global init.defaultBranch <name>\n",
      "hint: \n",
      "hint: Names commonly chosen instead of 'master' are 'main', 'trunk' and\n",
      "hint: 'development'. The just-created branch can be renamed via this command:\n",
      "hint: \n",
      "hint: \tgit branch -m <name>\n",
      "error: No such remote: 'origin'\n",
      "fatal: couldn't find remote ref master\n"
     ]
    },
    {
     "name": "stdout",
     "output_type": "stream",
     "text": [
      "[master (root-commit) 4f4f70d] Initial commit\n",
      " 1 file changed, 1001 insertions(+)\n",
      " create mode 100644 SW00607.csv\n"
     ]
    },
    {
     "name": "stderr",
     "output_type": "stream",
     "text": [
      "To https://github.com/MonlamAI/SW00607.git\n",
      " * [new branch]      master -> master\n"
     ]
    },
    {
     "name": "stdout",
     "output_type": "stream",
     "text": [
      "Successfully created repository: SW00462\n",
      "Initialized empty Git repository in /home/ec2-user/SageMaker/stt-combine-datasets/output/SW00462/.git/\n"
     ]
    },
    {
     "name": "stderr",
     "output_type": "stream",
     "text": [
      "hint: Using 'master' as the name for the initial branch. This default branch name\n",
      "hint: is subject to change. To configure the initial branch name to use in all\n",
      "hint: of your new repositories, which will suppress this warning, call:\n",
      "hint: \n",
      "hint: \tgit config --global init.defaultBranch <name>\n",
      "hint: \n",
      "hint: Names commonly chosen instead of 'master' are 'main', 'trunk' and\n",
      "hint: 'development'. The just-created branch can be renamed via this command:\n",
      "hint: \n",
      "hint: \tgit branch -m <name>\n",
      "error: No such remote: 'origin'\n",
      "fatal: couldn't find remote ref master\n"
     ]
    },
    {
     "name": "stdout",
     "output_type": "stream",
     "text": [
      "[master (root-commit) ea9745a] Initial commit\n",
      " 1 file changed, 1001 insertions(+)\n",
      " create mode 100644 SW00462.csv\n"
     ]
    },
    {
     "name": "stderr",
     "output_type": "stream",
     "text": [
      "To https://github.com/MonlamAI/SW00462.git\n",
      " * [new branch]      master -> master\n"
     ]
    },
    {
     "name": "stdout",
     "output_type": "stream",
     "text": [
      "Successfully created repository: SW00789\n",
      "Initialized empty Git repository in /home/ec2-user/SageMaker/stt-combine-datasets/output/SW00789/.git/\n"
     ]
    },
    {
     "name": "stderr",
     "output_type": "stream",
     "text": [
      "hint: Using 'master' as the name for the initial branch. This default branch name\n",
      "hint: is subject to change. To configure the initial branch name to use in all\n",
      "hint: of your new repositories, which will suppress this warning, call:\n",
      "hint: \n",
      "hint: \tgit config --global init.defaultBranch <name>\n",
      "hint: \n",
      "hint: Names commonly chosen instead of 'master' are 'main', 'trunk' and\n",
      "hint: 'development'. The just-created branch can be renamed via this command:\n",
      "hint: \n",
      "hint: \tgit branch -m <name>\n",
      "error: No such remote: 'origin'\n",
      "fatal: couldn't find remote ref master\n"
     ]
    },
    {
     "name": "stdout",
     "output_type": "stream",
     "text": [
      "[master (root-commit) d4af441] Initial commit\n",
      " 1 file changed, 1001 insertions(+)\n",
      " create mode 100644 SW00789.csv\n"
     ]
    },
    {
     "name": "stderr",
     "output_type": "stream",
     "text": [
      "To https://github.com/MonlamAI/SW00789.git\n",
      " * [new branch]      master -> master\n"
     ]
    },
    {
     "name": "stdout",
     "output_type": "stream",
     "text": [
      "Successfully created repository: SW00060\n",
      "Initialized empty Git repository in /home/ec2-user/SageMaker/stt-combine-datasets/output/SW00060/.git/\n"
     ]
    },
    {
     "name": "stderr",
     "output_type": "stream",
     "text": [
      "hint: Using 'master' as the name for the initial branch. This default branch name\n",
      "hint: is subject to change. To configure the initial branch name to use in all\n",
      "hint: of your new repositories, which will suppress this warning, call:\n",
      "hint: \n",
      "hint: \tgit config --global init.defaultBranch <name>\n",
      "hint: \n",
      "hint: Names commonly chosen instead of 'master' are 'main', 'trunk' and\n",
      "hint: 'development'. The just-created branch can be renamed via this command:\n",
      "hint: \n",
      "hint: \tgit branch -m <name>\n",
      "error: No such remote: 'origin'\n",
      "fatal: couldn't find remote ref master\n"
     ]
    },
    {
     "name": "stdout",
     "output_type": "stream",
     "text": [
      "[master (root-commit) 3cda27f] Initial commit\n",
      " 1 file changed, 1001 insertions(+)\n",
      " create mode 100644 SW00060.csv\n"
     ]
    },
    {
     "name": "stderr",
     "output_type": "stream",
     "text": [
      "To https://github.com/MonlamAI/SW00060.git\n",
      " * [new branch]      master -> master\n"
     ]
    },
    {
     "name": "stdout",
     "output_type": "stream",
     "text": [
      "Successfully created repository: SW00688\n",
      "Initialized empty Git repository in /home/ec2-user/SageMaker/stt-combine-datasets/output/SW00688/.git/\n",
      "[master (root-commit) 8fff504] Initial commit\n",
      " 1 file changed, 1001 insertions(+)\n",
      " create mode 100644 SW00688.csv\n"
     ]
    },
    {
     "name": "stderr",
     "output_type": "stream",
     "text": [
      "hint: Using 'master' as the name for the initial branch. This default branch name\n",
      "hint: is subject to change. To configure the initial branch name to use in all\n",
      "hint: of your new repositories, which will suppress this warning, call:\n",
      "hint: \n",
      "hint: \tgit config --global init.defaultBranch <name>\n",
      "hint: \n",
      "hint: Names commonly chosen instead of 'master' are 'main', 'trunk' and\n",
      "hint: 'development'. The just-created branch can be renamed via this command:\n",
      "hint: \n",
      "hint: \tgit branch -m <name>\n",
      "error: No such remote: 'origin'\n",
      "fatal: couldn't find remote ref master\n",
      "To https://github.com/MonlamAI/SW00688.git\n",
      " * [new branch]      master -> master\n"
     ]
    },
    {
     "name": "stdout",
     "output_type": "stream",
     "text": [
      "Successfully created repository: SW00861\n",
      "Initialized empty Git repository in /home/ec2-user/SageMaker/stt-combine-datasets/output/SW00861/.git/\n"
     ]
    },
    {
     "name": "stderr",
     "output_type": "stream",
     "text": [
      "hint: Using 'master' as the name for the initial branch. This default branch name\n",
      "hint: is subject to change. To configure the initial branch name to use in all\n",
      "hint: of your new repositories, which will suppress this warning, call:\n",
      "hint: \n",
      "hint: \tgit config --global init.defaultBranch <name>\n",
      "hint: \n",
      "hint: Names commonly chosen instead of 'master' are 'main', 'trunk' and\n",
      "hint: 'development'. The just-created branch can be renamed via this command:\n",
      "hint: \n",
      "hint: \tgit branch -m <name>\n",
      "error: No such remote: 'origin'\n",
      "fatal: couldn't find remote ref master\n"
     ]
    },
    {
     "name": "stdout",
     "output_type": "stream",
     "text": [
      "[master (root-commit) 9cb5b06] Initial commit\n",
      " 1 file changed, 1001 insertions(+)\n",
      " create mode 100644 SW00861.csv\n"
     ]
    },
    {
     "name": "stderr",
     "output_type": "stream",
     "text": [
      "To https://github.com/MonlamAI/SW00861.git\n",
      " * [new branch]      master -> master\n"
     ]
    },
    {
     "name": "stdout",
     "output_type": "stream",
     "text": [
      "Successfully created repository: SW00654\n",
      "Initialized empty Git repository in /home/ec2-user/SageMaker/stt-combine-datasets/output/SW00654/.git/\n"
     ]
    },
    {
     "name": "stderr",
     "output_type": "stream",
     "text": [
      "hint: Using 'master' as the name for the initial branch. This default branch name\n",
      "hint: is subject to change. To configure the initial branch name to use in all\n",
      "hint: of your new repositories, which will suppress this warning, call:\n",
      "hint: \n",
      "hint: \tgit config --global init.defaultBranch <name>\n",
      "hint: \n",
      "hint: Names commonly chosen instead of 'master' are 'main', 'trunk' and\n",
      "hint: 'development'. The just-created branch can be renamed via this command:\n",
      "hint: \n",
      "hint: \tgit branch -m <name>\n",
      "error: No such remote: 'origin'\n",
      "fatal: couldn't find remote ref master\n"
     ]
    },
    {
     "name": "stdout",
     "output_type": "stream",
     "text": [
      "[master (root-commit) 2afa37f] Initial commit\n",
      " 1 file changed, 1001 insertions(+)\n",
      " create mode 100644 SW00654.csv\n"
     ]
    },
    {
     "name": "stderr",
     "output_type": "stream",
     "text": [
      "To https://github.com/MonlamAI/SW00654.git\n",
      " * [new branch]      master -> master\n"
     ]
    },
    {
     "name": "stdout",
     "output_type": "stream",
     "text": [
      "Successfully created repository: SW00937\n",
      "Initialized empty Git repository in /home/ec2-user/SageMaker/stt-combine-datasets/output/SW00937/.git/\n"
     ]
    },
    {
     "name": "stderr",
     "output_type": "stream",
     "text": [
      "hint: Using 'master' as the name for the initial branch. This default branch name\n",
      "hint: is subject to change. To configure the initial branch name to use in all\n",
      "hint: of your new repositories, which will suppress this warning, call:\n",
      "hint: \n",
      "hint: \tgit config --global init.defaultBranch <name>\n",
      "hint: \n",
      "hint: Names commonly chosen instead of 'master' are 'main', 'trunk' and\n",
      "hint: 'development'. The just-created branch can be renamed via this command:\n",
      "hint: \n",
      "hint: \tgit branch -m <name>\n",
      "error: No such remote: 'origin'\n",
      "fatal: couldn't find remote ref master\n"
     ]
    },
    {
     "name": "stdout",
     "output_type": "stream",
     "text": [
      "[master (root-commit) bddb092] Initial commit\n",
      " 1 file changed, 1001 insertions(+)\n",
      " create mode 100644 SW00937.csv\n"
     ]
    },
    {
     "name": "stderr",
     "output_type": "stream",
     "text": [
      "To https://github.com/MonlamAI/SW00937.git\n",
      " * [new branch]      master -> master\n"
     ]
    },
    {
     "name": "stdout",
     "output_type": "stream",
     "text": [
      "Successfully created repository: SW00033\n",
      "Initialized empty Git repository in /home/ec2-user/SageMaker/stt-combine-datasets/output/SW00033/.git/\n"
     ]
    },
    {
     "name": "stderr",
     "output_type": "stream",
     "text": [
      "hint: Using 'master' as the name for the initial branch. This default branch name\n",
      "hint: is subject to change. To configure the initial branch name to use in all\n",
      "hint: of your new repositories, which will suppress this warning, call:\n",
      "hint: \n",
      "hint: \tgit config --global init.defaultBranch <name>\n",
      "hint: \n",
      "hint: Names commonly chosen instead of 'master' are 'main', 'trunk' and\n",
      "hint: 'development'. The just-created branch can be renamed via this command:\n",
      "hint: \n",
      "hint: \tgit branch -m <name>\n",
      "error: No such remote: 'origin'\n",
      "fatal: couldn't find remote ref master\n"
     ]
    },
    {
     "name": "stdout",
     "output_type": "stream",
     "text": [
      "[master (root-commit) 833281f] Initial commit\n",
      " 1 file changed, 1001 insertions(+)\n",
      " create mode 100644 SW00033.csv\n"
     ]
    },
    {
     "name": "stderr",
     "output_type": "stream",
     "text": [
      "To https://github.com/MonlamAI/SW00033.git\n",
      " * [new branch]      master -> master\n"
     ]
    },
    {
     "name": "stdout",
     "output_type": "stream",
     "text": [
      "Successfully created repository: SW00928\n",
      "Initialized empty Git repository in /home/ec2-user/SageMaker/stt-combine-datasets/output/SW00928/.git/\n"
     ]
    },
    {
     "name": "stderr",
     "output_type": "stream",
     "text": [
      "hint: Using 'master' as the name for the initial branch. This default branch name\n",
      "hint: is subject to change. To configure the initial branch name to use in all\n",
      "hint: of your new repositories, which will suppress this warning, call:\n",
      "hint: \n",
      "hint: \tgit config --global init.defaultBranch <name>\n",
      "hint: \n",
      "hint: Names commonly chosen instead of 'master' are 'main', 'trunk' and\n",
      "hint: 'development'. The just-created branch can be renamed via this command:\n",
      "hint: \n",
      "hint: \tgit branch -m <name>\n",
      "error: No such remote: 'origin'\n",
      "fatal: couldn't find remote ref master\n"
     ]
    },
    {
     "name": "stdout",
     "output_type": "stream",
     "text": [
      "[master (root-commit) a300b7e] Initial commit\n",
      " 1 file changed, 1001 insertions(+)\n",
      " create mode 100644 SW00928.csv\n"
     ]
    },
    {
     "name": "stderr",
     "output_type": "stream",
     "text": [
      "To https://github.com/MonlamAI/SW00928.git\n",
      " * [new branch]      master -> master\n"
     ]
    },
    {
     "name": "stdout",
     "output_type": "stream",
     "text": [
      "Successfully created repository: SW00779\n",
      "Initialized empty Git repository in /home/ec2-user/SageMaker/stt-combine-datasets/output/SW00779/.git/\n"
     ]
    },
    {
     "name": "stderr",
     "output_type": "stream",
     "text": [
      "hint: Using 'master' as the name for the initial branch. This default branch name\n",
      "hint: is subject to change. To configure the initial branch name to use in all\n",
      "hint: of your new repositories, which will suppress this warning, call:\n",
      "hint: \n",
      "hint: \tgit config --global init.defaultBranch <name>\n",
      "hint: \n",
      "hint: Names commonly chosen instead of 'master' are 'main', 'trunk' and\n",
      "hint: 'development'. The just-created branch can be renamed via this command:\n",
      "hint: \n",
      "hint: \tgit branch -m <name>\n",
      "error: No such remote: 'origin'\n",
      "fatal: couldn't find remote ref master\n"
     ]
    },
    {
     "name": "stdout",
     "output_type": "stream",
     "text": [
      "[master (root-commit) 7463b67] Initial commit\n",
      " 1 file changed, 1001 insertions(+)\n",
      " create mode 100644 SW00779.csv\n"
     ]
    },
    {
     "name": "stderr",
     "output_type": "stream",
     "text": [
      "To https://github.com/MonlamAI/SW00779.git\n",
      " * [new branch]      master -> master\n"
     ]
    },
    {
     "name": "stdout",
     "output_type": "stream",
     "text": [
      "Successfully created repository: SW00220\n",
      "Initialized empty Git repository in /home/ec2-user/SageMaker/stt-combine-datasets/output/SW00220/.git/\n"
     ]
    },
    {
     "name": "stderr",
     "output_type": "stream",
     "text": [
      "hint: Using 'master' as the name for the initial branch. This default branch name\n",
      "hint: is subject to change. To configure the initial branch name to use in all\n",
      "hint: of your new repositories, which will suppress this warning, call:\n",
      "hint: \n",
      "hint: \tgit config --global init.defaultBranch <name>\n",
      "hint: \n",
      "hint: Names commonly chosen instead of 'master' are 'main', 'trunk' and\n",
      "hint: 'development'. The just-created branch can be renamed via this command:\n",
      "hint: \n",
      "hint: \tgit branch -m <name>\n",
      "error: No such remote: 'origin'\n",
      "fatal: couldn't find remote ref master\n"
     ]
    },
    {
     "name": "stdout",
     "output_type": "stream",
     "text": [
      "[master (root-commit) f9a1bae] Initial commit\n",
      " 1 file changed, 1001 insertions(+)\n",
      " create mode 100644 SW00220.csv\n"
     ]
    },
    {
     "name": "stderr",
     "output_type": "stream",
     "text": [
      "To https://github.com/MonlamAI/SW00220.git\n",
      " * [new branch]      master -> master\n"
     ]
    },
    {
     "name": "stdout",
     "output_type": "stream",
     "text": [
      "Successfully created repository: SW00786\n",
      "Initialized empty Git repository in /home/ec2-user/SageMaker/stt-combine-datasets/output/SW00786/.git/\n",
      "[master (root-commit) 10a9677] Initial commit\n",
      " 1 file changed, 1001 insertions(+)\n",
      " create mode 100644 SW00786.csv\n"
     ]
    },
    {
     "name": "stderr",
     "output_type": "stream",
     "text": [
      "hint: Using 'master' as the name for the initial branch. This default branch name\n",
      "hint: is subject to change. To configure the initial branch name to use in all\n",
      "hint: of your new repositories, which will suppress this warning, call:\n",
      "hint: \n",
      "hint: \tgit config --global init.defaultBranch <name>\n",
      "hint: \n",
      "hint: Names commonly chosen instead of 'master' are 'main', 'trunk' and\n",
      "hint: 'development'. The just-created branch can be renamed via this command:\n",
      "hint: \n",
      "hint: \tgit branch -m <name>\n",
      "error: No such remote: 'origin'\n",
      "fatal: couldn't find remote ref master\n",
      "To https://github.com/MonlamAI/SW00786.git\n",
      " * [new branch]      master -> master\n"
     ]
    },
    {
     "name": "stdout",
     "output_type": "stream",
     "text": [
      "Successfully created repository: SW00626\n",
      "Initialized empty Git repository in /home/ec2-user/SageMaker/stt-combine-datasets/output/SW00626/.git/\n"
     ]
    },
    {
     "name": "stderr",
     "output_type": "stream",
     "text": [
      "hint: Using 'master' as the name for the initial branch. This default branch name\n",
      "hint: is subject to change. To configure the initial branch name to use in all\n",
      "hint: of your new repositories, which will suppress this warning, call:\n",
      "hint: \n",
      "hint: \tgit config --global init.defaultBranch <name>\n",
      "hint: \n",
      "hint: Names commonly chosen instead of 'master' are 'main', 'trunk' and\n",
      "hint: 'development'. The just-created branch can be renamed via this command:\n",
      "hint: \n",
      "hint: \tgit branch -m <name>\n",
      "error: No such remote: 'origin'\n",
      "fatal: couldn't find remote ref master\n"
     ]
    },
    {
     "name": "stdout",
     "output_type": "stream",
     "text": [
      "[master (root-commit) 7212952] Initial commit\n",
      " 1 file changed, 1001 insertions(+)\n",
      " create mode 100644 SW00626.csv\n"
     ]
    },
    {
     "name": "stderr",
     "output_type": "stream",
     "text": [
      "To https://github.com/MonlamAI/SW00626.git\n",
      " * [new branch]      master -> master\n"
     ]
    },
    {
     "name": "stdout",
     "output_type": "stream",
     "text": [
      "Successfully created repository: SW00643\n",
      "Initialized empty Git repository in /home/ec2-user/SageMaker/stt-combine-datasets/output/SW00643/.git/\n"
     ]
    },
    {
     "name": "stderr",
     "output_type": "stream",
     "text": [
      "hint: Using 'master' as the name for the initial branch. This default branch name\n",
      "hint: is subject to change. To configure the initial branch name to use in all\n",
      "hint: of your new repositories, which will suppress this warning, call:\n",
      "hint: \n",
      "hint: \tgit config --global init.defaultBranch <name>\n",
      "hint: \n",
      "hint: Names commonly chosen instead of 'master' are 'main', 'trunk' and\n",
      "hint: 'development'. The just-created branch can be renamed via this command:\n",
      "hint: \n",
      "hint: \tgit branch -m <name>\n",
      "error: No such remote: 'origin'\n",
      "fatal: couldn't find remote ref master\n"
     ]
    },
    {
     "name": "stdout",
     "output_type": "stream",
     "text": [
      "[master (root-commit) d45f309] Initial commit\n",
      " 1 file changed, 1001 insertions(+)\n",
      " create mode 100644 SW00643.csv\n"
     ]
    },
    {
     "name": "stderr",
     "output_type": "stream",
     "text": [
      "To https://github.com/MonlamAI/SW00643.git\n",
      " * [new branch]      master -> master\n"
     ]
    },
    {
     "name": "stdout",
     "output_type": "stream",
     "text": [
      "Successfully created repository: SW00180\n",
      "Initialized empty Git repository in /home/ec2-user/SageMaker/stt-combine-datasets/output/SW00180/.git/\n"
     ]
    },
    {
     "name": "stderr",
     "output_type": "stream",
     "text": [
      "hint: Using 'master' as the name for the initial branch. This default branch name\n",
      "hint: is subject to change. To configure the initial branch name to use in all\n",
      "hint: of your new repositories, which will suppress this warning, call:\n",
      "hint: \n",
      "hint: \tgit config --global init.defaultBranch <name>\n",
      "hint: \n",
      "hint: Names commonly chosen instead of 'master' are 'main', 'trunk' and\n",
      "hint: 'development'. The just-created branch can be renamed via this command:\n",
      "hint: \n",
      "hint: \tgit branch -m <name>\n",
      "error: No such remote: 'origin'\n",
      "fatal: couldn't find remote ref master\n"
     ]
    },
    {
     "name": "stdout",
     "output_type": "stream",
     "text": [
      "[master (root-commit) 39a606e] Initial commit\n",
      " 1 file changed, 1001 insertions(+)\n",
      " create mode 100644 SW00180.csv\n"
     ]
    },
    {
     "name": "stderr",
     "output_type": "stream",
     "text": [
      "To https://github.com/MonlamAI/SW00180.git\n",
      " * [new branch]      master -> master\n"
     ]
    },
    {
     "name": "stdout",
     "output_type": "stream",
     "text": [
      "Successfully created repository: SW00718\n",
      "Initialized empty Git repository in /home/ec2-user/SageMaker/stt-combine-datasets/output/SW00718/.git/\n"
     ]
    },
    {
     "name": "stderr",
     "output_type": "stream",
     "text": [
      "hint: Using 'master' as the name for the initial branch. This default branch name\n",
      "hint: is subject to change. To configure the initial branch name to use in all\n",
      "hint: of your new repositories, which will suppress this warning, call:\n",
      "hint: \n",
      "hint: \tgit config --global init.defaultBranch <name>\n",
      "hint: \n",
      "hint: Names commonly chosen instead of 'master' are 'main', 'trunk' and\n",
      "hint: 'development'. The just-created branch can be renamed via this command:\n",
      "hint: \n",
      "hint: \tgit branch -m <name>\n",
      "error: No such remote: 'origin'\n",
      "fatal: couldn't find remote ref master\n"
     ]
    },
    {
     "name": "stdout",
     "output_type": "stream",
     "text": [
      "[master (root-commit) bf17cce] Initial commit\n",
      " 1 file changed, 1001 insertions(+)\n",
      " create mode 100644 SW00718.csv\n"
     ]
    },
    {
     "name": "stderr",
     "output_type": "stream",
     "text": [
      "To https://github.com/MonlamAI/SW00718.git\n",
      " * [new branch]      master -> master\n"
     ]
    },
    {
     "name": "stdout",
     "output_type": "stream",
     "text": [
      "Successfully created repository: SW00731\n",
      "Initialized empty Git repository in /home/ec2-user/SageMaker/stt-combine-datasets/output/SW00731/.git/\n"
     ]
    },
    {
     "name": "stderr",
     "output_type": "stream",
     "text": [
      "hint: Using 'master' as the name for the initial branch. This default branch name\n",
      "hint: is subject to change. To configure the initial branch name to use in all\n",
      "hint: of your new repositories, which will suppress this warning, call:\n",
      "hint: \n",
      "hint: \tgit config --global init.defaultBranch <name>\n",
      "hint: \n",
      "hint: Names commonly chosen instead of 'master' are 'main', 'trunk' and\n",
      "hint: 'development'. The just-created branch can be renamed via this command:\n",
      "hint: \n",
      "hint: \tgit branch -m <name>\n",
      "error: No such remote: 'origin'\n",
      "fatal: couldn't find remote ref master\n"
     ]
    },
    {
     "name": "stdout",
     "output_type": "stream",
     "text": [
      "[master (root-commit) 3d955e6] Initial commit\n",
      " 1 file changed, 1001 insertions(+)\n",
      " create mode 100644 SW00731.csv\n"
     ]
    },
    {
     "name": "stderr",
     "output_type": "stream",
     "text": [
      "To https://github.com/MonlamAI/SW00731.git\n",
      " * [new branch]      master -> master\n"
     ]
    },
    {
     "name": "stdout",
     "output_type": "stream",
     "text": [
      "Successfully created repository: SW00167\n",
      "Initialized empty Git repository in /home/ec2-user/SageMaker/stt-combine-datasets/output/SW00167/.git/\n"
     ]
    },
    {
     "name": "stderr",
     "output_type": "stream",
     "text": [
      "hint: Using 'master' as the name for the initial branch. This default branch name\n",
      "hint: is subject to change. To configure the initial branch name to use in all\n",
      "hint: of your new repositories, which will suppress this warning, call:\n",
      "hint: \n",
      "hint: \tgit config --global init.defaultBranch <name>\n",
      "hint: \n",
      "hint: Names commonly chosen instead of 'master' are 'main', 'trunk' and\n",
      "hint: 'development'. The just-created branch can be renamed via this command:\n",
      "hint: \n",
      "hint: \tgit branch -m <name>\n",
      "error: No such remote: 'origin'\n",
      "fatal: couldn't find remote ref master\n"
     ]
    },
    {
     "name": "stdout",
     "output_type": "stream",
     "text": [
      "[master (root-commit) 7d31d71] Initial commit\n",
      " 1 file changed, 1001 insertions(+)\n",
      " create mode 100644 SW00167.csv\n"
     ]
    },
    {
     "name": "stderr",
     "output_type": "stream",
     "text": [
      "To https://github.com/MonlamAI/SW00167.git\n",
      " * [new branch]      master -> master\n"
     ]
    },
    {
     "name": "stdout",
     "output_type": "stream",
     "text": [
      "Successfully created repository: SW00006\n",
      "Initialized empty Git repository in /home/ec2-user/SageMaker/stt-combine-datasets/output/SW00006/.git/\n"
     ]
    },
    {
     "name": "stderr",
     "output_type": "stream",
     "text": [
      "hint: Using 'master' as the name for the initial branch. This default branch name\n",
      "hint: is subject to change. To configure the initial branch name to use in all\n",
      "hint: of your new repositories, which will suppress this warning, call:\n",
      "hint: \n",
      "hint: \tgit config --global init.defaultBranch <name>\n",
      "hint: \n",
      "hint: Names commonly chosen instead of 'master' are 'main', 'trunk' and\n",
      "hint: 'development'. The just-created branch can be renamed via this command:\n",
      "hint: \n",
      "hint: \tgit branch -m <name>\n",
      "error: No such remote: 'origin'\n",
      "fatal: couldn't find remote ref master\n"
     ]
    },
    {
     "name": "stdout",
     "output_type": "stream",
     "text": [
      "[master (root-commit) a93026c] Initial commit\n",
      " 1 file changed, 1001 insertions(+)\n",
      " create mode 100644 SW00006.csv\n"
     ]
    },
    {
     "name": "stderr",
     "output_type": "stream",
     "text": [
      "To https://github.com/MonlamAI/SW00006.git\n",
      " * [new branch]      master -> master\n"
     ]
    },
    {
     "name": "stdout",
     "output_type": "stream",
     "text": [
      "Successfully created repository: SW00370\n",
      "Initialized empty Git repository in /home/ec2-user/SageMaker/stt-combine-datasets/output/SW00370/.git/\n"
     ]
    },
    {
     "name": "stderr",
     "output_type": "stream",
     "text": [
      "hint: Using 'master' as the name for the initial branch. This default branch name\n",
      "hint: is subject to change. To configure the initial branch name to use in all\n",
      "hint: of your new repositories, which will suppress this warning, call:\n",
      "hint: \n",
      "hint: \tgit config --global init.defaultBranch <name>\n",
      "hint: \n",
      "hint: Names commonly chosen instead of 'master' are 'main', 'trunk' and\n",
      "hint: 'development'. The just-created branch can be renamed via this command:\n",
      "hint: \n",
      "hint: \tgit branch -m <name>\n",
      "error: No such remote: 'origin'\n",
      "fatal: couldn't find remote ref master\n"
     ]
    },
    {
     "name": "stdout",
     "output_type": "stream",
     "text": [
      "[master (root-commit) 212fdcf] Initial commit\n",
      " 1 file changed, 1001 insertions(+)\n",
      " create mode 100644 SW00370.csv\n"
     ]
    },
    {
     "name": "stderr",
     "output_type": "stream",
     "text": [
      "To https://github.com/MonlamAI/SW00370.git\n",
      " * [new branch]      master -> master\n"
     ]
    },
    {
     "name": "stdout",
     "output_type": "stream",
     "text": [
      "Successfully created repository: SW00145\n",
      "Initialized empty Git repository in /home/ec2-user/SageMaker/stt-combine-datasets/output/SW00145/.git/\n"
     ]
    },
    {
     "name": "stderr",
     "output_type": "stream",
     "text": [
      "hint: Using 'master' as the name for the initial branch. This default branch name\n",
      "hint: is subject to change. To configure the initial branch name to use in all\n",
      "hint: of your new repositories, which will suppress this warning, call:\n",
      "hint: \n",
      "hint: \tgit config --global init.defaultBranch <name>\n",
      "hint: \n",
      "hint: Names commonly chosen instead of 'master' are 'main', 'trunk' and\n",
      "hint: 'development'. The just-created branch can be renamed via this command:\n",
      "hint: \n",
      "hint: \tgit branch -m <name>\n",
      "error: No such remote: 'origin'\n",
      "fatal: couldn't find remote ref master\n"
     ]
    },
    {
     "name": "stdout",
     "output_type": "stream",
     "text": [
      "[master (root-commit) 50fcc5f] Initial commit\n",
      " 1 file changed, 1001 insertions(+)\n",
      " create mode 100644 SW00145.csv\n"
     ]
    },
    {
     "name": "stderr",
     "output_type": "stream",
     "text": [
      "To https://github.com/MonlamAI/SW00145.git\n",
      " * [new branch]      master -> master\n"
     ]
    },
    {
     "name": "stdout",
     "output_type": "stream",
     "text": [
      "Successfully created repository: SW00760\n"
     ]
    },
    {
     "name": "stderr",
     "output_type": "stream",
     "text": [
      "hint: Using 'master' as the name for the initial branch. This default branch name\n",
      "hint: is subject to change. To configure the initial branch name to use in all\n",
      "hint: of your new repositories, which will suppress this warning, call:\n",
      "hint: \n",
      "hint: \tgit config --global init.defaultBranch <name>\n",
      "hint: \n",
      "hint: Names commonly chosen instead of 'master' are 'main', 'trunk' and\n",
      "hint: 'development'. The just-created branch can be renamed via this command:\n",
      "hint: \n",
      "hint: \tgit branch -m <name>\n"
     ]
    },
    {
     "name": "stdout",
     "output_type": "stream",
     "text": [
      "Initialized empty Git repository in /home/ec2-user/SageMaker/stt-combine-datasets/output/SW00760/.git/\n"
     ]
    },
    {
     "name": "stderr",
     "output_type": "stream",
     "text": [
      "error: No such remote: 'origin'\n",
      "fatal: couldn't find remote ref master\n"
     ]
    },
    {
     "name": "stdout",
     "output_type": "stream",
     "text": [
      "[master (root-commit) d4d55bf] Initial commit\n",
      " 1 file changed, 1001 insertions(+)\n",
      " create mode 100644 SW00760.csv\n"
     ]
    },
    {
     "name": "stderr",
     "output_type": "stream",
     "text": [
      "To https://github.com/MonlamAI/SW00760.git\n",
      " * [new branch]      master -> master\n"
     ]
    },
    {
     "name": "stdout",
     "output_type": "stream",
     "text": [
      "Successfully created repository: SW00833\n",
      "Initialized empty Git repository in /home/ec2-user/SageMaker/stt-combine-datasets/output/SW00833/.git/\n"
     ]
    },
    {
     "name": "stderr",
     "output_type": "stream",
     "text": [
      "hint: Using 'master' as the name for the initial branch. This default branch name\n",
      "hint: is subject to change. To configure the initial branch name to use in all\n",
      "hint: of your new repositories, which will suppress this warning, call:\n",
      "hint: \n",
      "hint: \tgit config --global init.defaultBranch <name>\n",
      "hint: \n",
      "hint: Names commonly chosen instead of 'master' are 'main', 'trunk' and\n",
      "hint: 'development'. The just-created branch can be renamed via this command:\n",
      "hint: \n",
      "hint: \tgit branch -m <name>\n",
      "error: No such remote: 'origin'\n",
      "fatal: couldn't find remote ref master\n"
     ]
    },
    {
     "name": "stdout",
     "output_type": "stream",
     "text": [
      "[master (root-commit) d10d19e] Initial commit\n",
      " 1 file changed, 1001 insertions(+)\n",
      " create mode 100644 SW00833.csv\n"
     ]
    },
    {
     "name": "stderr",
     "output_type": "stream",
     "text": [
      "To https://github.com/MonlamAI/SW00833.git\n",
      " * [new branch]      master -> master\n"
     ]
    },
    {
     "name": "stdout",
     "output_type": "stream",
     "text": [
      "Successfully created repository: SW00426\n",
      "Initialized empty Git repository in /home/ec2-user/SageMaker/stt-combine-datasets/output/SW00426/.git/\n"
     ]
    },
    {
     "name": "stderr",
     "output_type": "stream",
     "text": [
      "hint: Using 'master' as the name for the initial branch. This default branch name\n",
      "hint: is subject to change. To configure the initial branch name to use in all\n",
      "hint: of your new repositories, which will suppress this warning, call:\n",
      "hint: \n",
      "hint: \tgit config --global init.defaultBranch <name>\n",
      "hint: \n",
      "hint: Names commonly chosen instead of 'master' are 'main', 'trunk' and\n",
      "hint: 'development'. The just-created branch can be renamed via this command:\n",
      "hint: \n",
      "hint: \tgit branch -m <name>\n",
      "error: No such remote: 'origin'\n",
      "fatal: couldn't find remote ref master\n"
     ]
    },
    {
     "name": "stdout",
     "output_type": "stream",
     "text": [
      "[master (root-commit) b391db3] Initial commit\n",
      " 1 file changed, 1001 insertions(+)\n",
      " create mode 100644 SW00426.csv\n"
     ]
    },
    {
     "name": "stderr",
     "output_type": "stream",
     "text": [
      "To https://github.com/MonlamAI/SW00426.git\n",
      " * [new branch]      master -> master\n"
     ]
    },
    {
     "name": "stdout",
     "output_type": "stream",
     "text": [
      "Successfully created repository: SW00499\n",
      "Initialized empty Git repository in /home/ec2-user/SageMaker/stt-combine-datasets/output/SW00499/.git/\n"
     ]
    },
    {
     "name": "stderr",
     "output_type": "stream",
     "text": [
      "hint: Using 'master' as the name for the initial branch. This default branch name\n",
      "hint: is subject to change. To configure the initial branch name to use in all\n",
      "hint: of your new repositories, which will suppress this warning, call:\n",
      "hint: \n",
      "hint: \tgit config --global init.defaultBranch <name>\n",
      "hint: \n",
      "hint: Names commonly chosen instead of 'master' are 'main', 'trunk' and\n",
      "hint: 'development'. The just-created branch can be renamed via this command:\n",
      "hint: \n",
      "hint: \tgit branch -m <name>\n",
      "error: No such remote: 'origin'\n",
      "fatal: couldn't find remote ref master\n"
     ]
    },
    {
     "name": "stdout",
     "output_type": "stream",
     "text": [
      "[master (root-commit) 58a2620] Initial commit\n",
      " 1 file changed, 1001 insertions(+)\n",
      " create mode 100644 SW00499.csv\n"
     ]
    },
    {
     "name": "stderr",
     "output_type": "stream",
     "text": [
      "To https://github.com/MonlamAI/SW00499.git\n",
      " * [new branch]      master -> master\n"
     ]
    },
    {
     "name": "stdout",
     "output_type": "stream",
     "text": [
      "Successfully created repository: SW00811\n",
      "Initialized empty Git repository in /home/ec2-user/SageMaker/stt-combine-datasets/output/SW00811/.git/\n"
     ]
    },
    {
     "name": "stderr",
     "output_type": "stream",
     "text": [
      "hint: Using 'master' as the name for the initial branch. This default branch name\n",
      "hint: is subject to change. To configure the initial branch name to use in all\n",
      "hint: of your new repositories, which will suppress this warning, call:\n",
      "hint: \n",
      "hint: \tgit config --global init.defaultBranch <name>\n",
      "hint: \n",
      "hint: Names commonly chosen instead of 'master' are 'main', 'trunk' and\n",
      "hint: 'development'. The just-created branch can be renamed via this command:\n",
      "hint: \n",
      "hint: \tgit branch -m <name>\n",
      "error: No such remote: 'origin'\n",
      "fatal: couldn't find remote ref master\n"
     ]
    },
    {
     "name": "stdout",
     "output_type": "stream",
     "text": [
      "[master (root-commit) 74dcbf2] Initial commit\n",
      " 1 file changed, 1001 insertions(+)\n",
      " create mode 100644 SW00811.csv\n"
     ]
    },
    {
     "name": "stderr",
     "output_type": "stream",
     "text": [
      "To https://github.com/MonlamAI/SW00811.git\n",
      " * [new branch]      master -> master\n"
     ]
    },
    {
     "name": "stdout",
     "output_type": "stream",
     "text": [
      "Successfully created repository: SW00280\n",
      "Initialized empty Git repository in /home/ec2-user/SageMaker/stt-combine-datasets/output/SW00280/.git/\n"
     ]
    },
    {
     "name": "stderr",
     "output_type": "stream",
     "text": [
      "hint: Using 'master' as the name for the initial branch. This default branch name\n",
      "hint: is subject to change. To configure the initial branch name to use in all\n",
      "hint: of your new repositories, which will suppress this warning, call:\n",
      "hint: \n",
      "hint: \tgit config --global init.defaultBranch <name>\n",
      "hint: \n",
      "hint: Names commonly chosen instead of 'master' are 'main', 'trunk' and\n",
      "hint: 'development'. The just-created branch can be renamed via this command:\n",
      "hint: \n",
      "hint: \tgit branch -m <name>\n",
      "error: No such remote: 'origin'\n",
      "fatal: couldn't find remote ref master\n"
     ]
    },
    {
     "name": "stdout",
     "output_type": "stream",
     "text": [
      "[master (root-commit) 60391b6] Initial commit\n",
      " 1 file changed, 1001 insertions(+)\n",
      " create mode 100644 SW00280.csv\n"
     ]
    },
    {
     "name": "stderr",
     "output_type": "stream",
     "text": [
      "To https://github.com/MonlamAI/SW00280.git\n",
      " * [new branch]      master -> master\n"
     ]
    },
    {
     "name": "stdout",
     "output_type": "stream",
     "text": [
      "Successfully created repository: SW00554\n",
      "Initialized empty Git repository in /home/ec2-user/SageMaker/stt-combine-datasets/output/SW00554/.git/\n"
     ]
    },
    {
     "name": "stderr",
     "output_type": "stream",
     "text": [
      "hint: Using 'master' as the name for the initial branch. This default branch name\n",
      "hint: is subject to change. To configure the initial branch name to use in all\n",
      "hint: of your new repositories, which will suppress this warning, call:\n",
      "hint: \n",
      "hint: \tgit config --global init.defaultBranch <name>\n",
      "hint: \n",
      "hint: Names commonly chosen instead of 'master' are 'main', 'trunk' and\n",
      "hint: 'development'. The just-created branch can be renamed via this command:\n",
      "hint: \n",
      "hint: \tgit branch -m <name>\n",
      "error: No such remote: 'origin'\n",
      "fatal: couldn't find remote ref master\n"
     ]
    },
    {
     "name": "stdout",
     "output_type": "stream",
     "text": [
      "[master (root-commit) af920c6] Initial commit\n",
      " 1 file changed, 1001 insertions(+)\n",
      " create mode 100644 SW00554.csv\n"
     ]
    },
    {
     "name": "stderr",
     "output_type": "stream",
     "text": [
      "To https://github.com/MonlamAI/SW00554.git\n",
      " * [new branch]      master -> master\n"
     ]
    },
    {
     "name": "stdout",
     "output_type": "stream",
     "text": [
      "Successfully created repository: SW00895\n",
      "Initialized empty Git repository in /home/ec2-user/SageMaker/stt-combine-datasets/output/SW00895/.git/\n"
     ]
    },
    {
     "name": "stderr",
     "output_type": "stream",
     "text": [
      "hint: Using 'master' as the name for the initial branch. This default branch name\n",
      "hint: is subject to change. To configure the initial branch name to use in all\n",
      "hint: of your new repositories, which will suppress this warning, call:\n",
      "hint: \n",
      "hint: \tgit config --global init.defaultBranch <name>\n",
      "hint: \n",
      "hint: Names commonly chosen instead of 'master' are 'main', 'trunk' and\n",
      "hint: 'development'. The just-created branch can be renamed via this command:\n",
      "hint: \n",
      "hint: \tgit branch -m <name>\n",
      "error: No such remote: 'origin'\n",
      "fatal: couldn't find remote ref master\n"
     ]
    },
    {
     "name": "stdout",
     "output_type": "stream",
     "text": [
      "[master (root-commit) d0b9d05] Initial commit\n",
      " 1 file changed, 1001 insertions(+)\n",
      " create mode 100644 SW00895.csv\n"
     ]
    },
    {
     "name": "stderr",
     "output_type": "stream",
     "text": [
      "To https://github.com/MonlamAI/SW00895.git\n",
      " * [new branch]      master -> master\n"
     ]
    },
    {
     "name": "stdout",
     "output_type": "stream",
     "text": [
      "Successfully created repository: SW00503\n",
      "Initialized empty Git repository in /home/ec2-user/SageMaker/stt-combine-datasets/output/SW00503/.git/\n"
     ]
    },
    {
     "name": "stderr",
     "output_type": "stream",
     "text": [
      "hint: Using 'master' as the name for the initial branch. This default branch name\n",
      "hint: is subject to change. To configure the initial branch name to use in all\n",
      "hint: of your new repositories, which will suppress this warning, call:\n",
      "hint: \n",
      "hint: \tgit config --global init.defaultBranch <name>\n",
      "hint: \n",
      "hint: Names commonly chosen instead of 'master' are 'main', 'trunk' and\n",
      "hint: 'development'. The just-created branch can be renamed via this command:\n",
      "hint: \n",
      "hint: \tgit branch -m <name>\n",
      "error: No such remote: 'origin'\n",
      "fatal: couldn't find remote ref master\n"
     ]
    },
    {
     "name": "stdout",
     "output_type": "stream",
     "text": [
      "[master (root-commit) ef0dc71] Initial commit\n",
      " 1 file changed, 1001 insertions(+)\n",
      " create mode 100644 SW00503.csv\n"
     ]
    },
    {
     "name": "stderr",
     "output_type": "stream",
     "text": [
      "To https://github.com/MonlamAI/SW00503.git\n",
      " * [new branch]      master -> master\n"
     ]
    },
    {
     "name": "stdout",
     "output_type": "stream",
     "text": [
      "Successfully created repository: SW00801\n",
      "Initialized empty Git repository in /home/ec2-user/SageMaker/stt-combine-datasets/output/SW00801/.git/\n"
     ]
    },
    {
     "name": "stderr",
     "output_type": "stream",
     "text": [
      "hint: Using 'master' as the name for the initial branch. This default branch name\n",
      "hint: is subject to change. To configure the initial branch name to use in all\n",
      "hint: of your new repositories, which will suppress this warning, call:\n",
      "hint: \n",
      "hint: \tgit config --global init.defaultBranch <name>\n",
      "hint: \n",
      "hint: Names commonly chosen instead of 'master' are 'main', 'trunk' and\n",
      "hint: 'development'. The just-created branch can be renamed via this command:\n",
      "hint: \n",
      "hint: \tgit branch -m <name>\n",
      "error: No such remote: 'origin'\n",
      "fatal: couldn't find remote ref master\n"
     ]
    },
    {
     "name": "stdout",
     "output_type": "stream",
     "text": [
      "[master (root-commit) 4b53456] Initial commit\n",
      " 1 file changed, 1001 insertions(+)\n",
      " create mode 100644 SW00801.csv\n"
     ]
    },
    {
     "name": "stderr",
     "output_type": "stream",
     "text": [
      "To https://github.com/MonlamAI/SW00801.git\n",
      " * [new branch]      master -> master\n"
     ]
    },
    {
     "name": "stdout",
     "output_type": "stream",
     "text": [
      "Successfully created repository: SW00094\n",
      "Initialized empty Git repository in /home/ec2-user/SageMaker/stt-combine-datasets/output/SW00094/.git/\n"
     ]
    },
    {
     "name": "stderr",
     "output_type": "stream",
     "text": [
      "hint: Using 'master' as the name for the initial branch. This default branch name\n",
      "hint: is subject to change. To configure the initial branch name to use in all\n",
      "hint: of your new repositories, which will suppress this warning, call:\n",
      "hint: \n",
      "hint: \tgit config --global init.defaultBranch <name>\n",
      "hint: \n",
      "hint: Names commonly chosen instead of 'master' are 'main', 'trunk' and\n",
      "hint: 'development'. The just-created branch can be renamed via this command:\n",
      "hint: \n",
      "hint: \tgit branch -m <name>\n",
      "error: No such remote: 'origin'\n",
      "fatal: couldn't find remote ref master\n"
     ]
    },
    {
     "name": "stdout",
     "output_type": "stream",
     "text": [
      "[master (root-commit) 49f951f] Initial commit\n",
      " 1 file changed, 1001 insertions(+)\n",
      " create mode 100644 SW00094.csv\n"
     ]
    },
    {
     "name": "stderr",
     "output_type": "stream",
     "text": [
      "To https://github.com/MonlamAI/SW00094.git\n",
      " * [new branch]      master -> master\n"
     ]
    },
    {
     "name": "stdout",
     "output_type": "stream",
     "text": [
      "Successfully created repository: SW00540\n",
      "Initialized empty Git repository in /home/ec2-user/SageMaker/stt-combine-datasets/output/SW00540/.git/\n"
     ]
    },
    {
     "name": "stderr",
     "output_type": "stream",
     "text": [
      "hint: Using 'master' as the name for the initial branch. This default branch name\n",
      "hint: is subject to change. To configure the initial branch name to use in all\n",
      "hint: of your new repositories, which will suppress this warning, call:\n",
      "hint: \n",
      "hint: \tgit config --global init.defaultBranch <name>\n",
      "hint: \n",
      "hint: Names commonly chosen instead of 'master' are 'main', 'trunk' and\n",
      "hint: 'development'. The just-created branch can be renamed via this command:\n",
      "hint: \n",
      "hint: \tgit branch -m <name>\n",
      "error: No such remote: 'origin'\n",
      "fatal: couldn't find remote ref master\n"
     ]
    },
    {
     "name": "stdout",
     "output_type": "stream",
     "text": [
      "[master (root-commit) 414dd5e] Initial commit\n",
      " 1 file changed, 1001 insertions(+)\n",
      " create mode 100644 SW00540.csv\n"
     ]
    },
    {
     "name": "stderr",
     "output_type": "stream",
     "text": [
      "To https://github.com/MonlamAI/SW00540.git\n",
      " * [new branch]      master -> master\n"
     ]
    },
    {
     "name": "stdout",
     "output_type": "stream",
     "text": [
      "Successfully created repository: SW00458\n",
      "Initialized empty Git repository in /home/ec2-user/SageMaker/stt-combine-datasets/output/SW00458/.git/\n"
     ]
    },
    {
     "name": "stderr",
     "output_type": "stream",
     "text": [
      "hint: Using 'master' as the name for the initial branch. This default branch name\n",
      "hint: is subject to change. To configure the initial branch name to use in all\n",
      "hint: of your new repositories, which will suppress this warning, call:\n",
      "hint: \n",
      "hint: \tgit config --global init.defaultBranch <name>\n",
      "hint: \n",
      "hint: Names commonly chosen instead of 'master' are 'main', 'trunk' and\n",
      "hint: 'development'. The just-created branch can be renamed via this command:\n",
      "hint: \n",
      "hint: \tgit branch -m <name>\n",
      "error: No such remote: 'origin'\n",
      "fatal: couldn't find remote ref master\n"
     ]
    },
    {
     "name": "stdout",
     "output_type": "stream",
     "text": [
      "[master (root-commit) a59f4f8] Initial commit\n",
      " 1 file changed, 1001 insertions(+)\n",
      " create mode 100644 SW00458.csv\n"
     ]
    },
    {
     "name": "stderr",
     "output_type": "stream",
     "text": [
      "To https://github.com/MonlamAI/SW00458.git\n",
      " * [new branch]      master -> master\n"
     ]
    },
    {
     "name": "stdout",
     "output_type": "stream",
     "text": [
      "Successfully created repository: SW00312\n",
      "Initialized empty Git repository in /home/ec2-user/SageMaker/stt-combine-datasets/output/SW00312/.git/\n"
     ]
    },
    {
     "name": "stderr",
     "output_type": "stream",
     "text": [
      "hint: Using 'master' as the name for the initial branch. This default branch name\n",
      "hint: is subject to change. To configure the initial branch name to use in all\n",
      "hint: of your new repositories, which will suppress this warning, call:\n",
      "hint: \n",
      "hint: \tgit config --global init.defaultBranch <name>\n",
      "hint: \n",
      "hint: Names commonly chosen instead of 'master' are 'main', 'trunk' and\n",
      "hint: 'development'. The just-created branch can be renamed via this command:\n",
      "hint: \n",
      "hint: \tgit branch -m <name>\n",
      "error: No such remote: 'origin'\n",
      "fatal: couldn't find remote ref master\n"
     ]
    },
    {
     "name": "stdout",
     "output_type": "stream",
     "text": [
      "[master (root-commit) 772dd1f] Initial commit\n",
      " 1 file changed, 1001 insertions(+)\n",
      " create mode 100644 SW00312.csv\n"
     ]
    },
    {
     "name": "stderr",
     "output_type": "stream",
     "text": [
      "To https://github.com/MonlamAI/SW00312.git\n",
      " * [new branch]      master -> master\n"
     ]
    },
    {
     "name": "stdout",
     "output_type": "stream",
     "text": [
      "Successfully created repository: SW00644\n",
      "Initialized empty Git repository in /home/ec2-user/SageMaker/stt-combine-datasets/output/SW00644/.git/\n"
     ]
    },
    {
     "name": "stderr",
     "output_type": "stream",
     "text": [
      "hint: Using 'master' as the name for the initial branch. This default branch name\n",
      "hint: is subject to change. To configure the initial branch name to use in all\n",
      "hint: of your new repositories, which will suppress this warning, call:\n",
      "hint: \n",
      "hint: \tgit config --global init.defaultBranch <name>\n",
      "hint: \n",
      "hint: Names commonly chosen instead of 'master' are 'main', 'trunk' and\n",
      "hint: 'development'. The just-created branch can be renamed via this command:\n",
      "hint: \n",
      "hint: \tgit branch -m <name>\n",
      "error: No such remote: 'origin'\n",
      "fatal: couldn't find remote ref master\n"
     ]
    },
    {
     "name": "stdout",
     "output_type": "stream",
     "text": [
      "[master (root-commit) 3740155] Initial commit\n",
      " 1 file changed, 1001 insertions(+)\n",
      " create mode 100644 SW00644.csv\n"
     ]
    },
    {
     "name": "stderr",
     "output_type": "stream",
     "text": [
      "To https://github.com/MonlamAI/SW00644.git\n",
      " * [new branch]      master -> master\n"
     ]
    },
    {
     "name": "stdout",
     "output_type": "stream",
     "text": [
      "Successfully created repository: SW00286\n",
      "Initialized empty Git repository in /home/ec2-user/SageMaker/stt-combine-datasets/output/SW00286/.git/\n"
     ]
    },
    {
     "name": "stderr",
     "output_type": "stream",
     "text": [
      "hint: Using 'master' as the name for the initial branch. This default branch name\n",
      "hint: is subject to change. To configure the initial branch name to use in all\n",
      "hint: of your new repositories, which will suppress this warning, call:\n",
      "hint: \n",
      "hint: \tgit config --global init.defaultBranch <name>\n",
      "hint: \n",
      "hint: Names commonly chosen instead of 'master' are 'main', 'trunk' and\n",
      "hint: 'development'. The just-created branch can be renamed via this command:\n",
      "hint: \n",
      "hint: \tgit branch -m <name>\n",
      "error: No such remote: 'origin'\n",
      "fatal: couldn't find remote ref master\n"
     ]
    },
    {
     "name": "stdout",
     "output_type": "stream",
     "text": [
      "[master (root-commit) 455fc87] Initial commit\n",
      " 1 file changed, 1001 insertions(+)\n",
      " create mode 100644 SW00286.csv\n"
     ]
    },
    {
     "name": "stderr",
     "output_type": "stream",
     "text": [
      "To https://github.com/MonlamAI/SW00286.git\n",
      " * [new branch]      master -> master\n"
     ]
    },
    {
     "name": "stdout",
     "output_type": "stream",
     "text": [
      "Successfully created repository: SW00961\n",
      "Initialized empty Git repository in /home/ec2-user/SageMaker/stt-combine-datasets/output/SW00961/.git/\n"
     ]
    },
    {
     "name": "stderr",
     "output_type": "stream",
     "text": [
      "hint: Using 'master' as the name for the initial branch. This default branch name\n",
      "hint: is subject to change. To configure the initial branch name to use in all\n",
      "hint: of your new repositories, which will suppress this warning, call:\n",
      "hint: \n",
      "hint: \tgit config --global init.defaultBranch <name>\n",
      "hint: \n",
      "hint: Names commonly chosen instead of 'master' are 'main', 'trunk' and\n",
      "hint: 'development'. The just-created branch can be renamed via this command:\n",
      "hint: \n",
      "hint: \tgit branch -m <name>\n",
      "error: No such remote: 'origin'\n",
      "fatal: couldn't find remote ref master\n"
     ]
    },
    {
     "name": "stdout",
     "output_type": "stream",
     "text": [
      "[master (root-commit) 0bffa04] Initial commit\n",
      " 1 file changed, 1001 insertions(+)\n",
      " create mode 100644 SW00961.csv\n"
     ]
    },
    {
     "name": "stderr",
     "output_type": "stream",
     "text": [
      "To https://github.com/MonlamAI/SW00961.git\n",
      " * [new branch]      master -> master\n"
     ]
    },
    {
     "name": "stdout",
     "output_type": "stream",
     "text": [
      "Successfully created repository: SW00582\n",
      "Initialized empty Git repository in /home/ec2-user/SageMaker/stt-combine-datasets/output/SW00582/.git/\n"
     ]
    },
    {
     "name": "stderr",
     "output_type": "stream",
     "text": [
      "hint: Using 'master' as the name for the initial branch. This default branch name\n",
      "hint: is subject to change. To configure the initial branch name to use in all\n",
      "hint: of your new repositories, which will suppress this warning, call:\n",
      "hint: \n",
      "hint: \tgit config --global init.defaultBranch <name>\n",
      "hint: \n",
      "hint: Names commonly chosen instead of 'master' are 'main', 'trunk' and\n",
      "hint: 'development'. The just-created branch can be renamed via this command:\n",
      "hint: \n",
      "hint: \tgit branch -m <name>\n",
      "error: No such remote: 'origin'\n",
      "fatal: couldn't find remote ref master\n"
     ]
    },
    {
     "name": "stdout",
     "output_type": "stream",
     "text": [
      "[master (root-commit) 8954829] Initial commit\n",
      " 1 file changed, 1001 insertions(+)\n",
      " create mode 100644 SW00582.csv\n"
     ]
    },
    {
     "name": "stderr",
     "output_type": "stream",
     "text": [
      "To https://github.com/MonlamAI/SW00582.git\n",
      " * [new branch]      master -> master\n"
     ]
    },
    {
     "name": "stdout",
     "output_type": "stream",
     "text": [
      "Successfully created repository: SW00064\n",
      "Initialized empty Git repository in /home/ec2-user/SageMaker/stt-combine-datasets/output/SW00064/.git/\n"
     ]
    },
    {
     "name": "stderr",
     "output_type": "stream",
     "text": [
      "hint: Using 'master' as the name for the initial branch. This default branch name\n",
      "hint: is subject to change. To configure the initial branch name to use in all\n",
      "hint: of your new repositories, which will suppress this warning, call:\n",
      "hint: \n",
      "hint: \tgit config --global init.defaultBranch <name>\n",
      "hint: \n",
      "hint: Names commonly chosen instead of 'master' are 'main', 'trunk' and\n",
      "hint: 'development'. The just-created branch can be renamed via this command:\n",
      "hint: \n",
      "hint: \tgit branch -m <name>\n",
      "error: No such remote: 'origin'\n",
      "fatal: couldn't find remote ref master\n"
     ]
    },
    {
     "name": "stdout",
     "output_type": "stream",
     "text": [
      "[master (root-commit) a82c942] Initial commit\n",
      " 1 file changed, 1001 insertions(+)\n",
      " create mode 100644 SW00064.csv\n"
     ]
    },
    {
     "name": "stderr",
     "output_type": "stream",
     "text": [
      "To https://github.com/MonlamAI/SW00064.git\n",
      " * [new branch]      master -> master\n"
     ]
    },
    {
     "name": "stdout",
     "output_type": "stream",
     "text": [
      "Successfully created repository: SW00962\n",
      "Initialized empty Git repository in /home/ec2-user/SageMaker/stt-combine-datasets/output/SW00962/.git/\n"
     ]
    },
    {
     "name": "stderr",
     "output_type": "stream",
     "text": [
      "hint: Using 'master' as the name for the initial branch. This default branch name\n",
      "hint: is subject to change. To configure the initial branch name to use in all\n",
      "hint: of your new repositories, which will suppress this warning, call:\n",
      "hint: \n",
      "hint: \tgit config --global init.defaultBranch <name>\n",
      "hint: \n",
      "hint: Names commonly chosen instead of 'master' are 'main', 'trunk' and\n",
      "hint: 'development'. The just-created branch can be renamed via this command:\n",
      "hint: \n",
      "hint: \tgit branch -m <name>\n",
      "error: No such remote: 'origin'\n",
      "fatal: couldn't find remote ref master\n"
     ]
    },
    {
     "name": "stdout",
     "output_type": "stream",
     "text": [
      "[master (root-commit) a6d5f6f] Initial commit\n",
      " 1 file changed, 1001 insertions(+)\n",
      " create mode 100644 SW00962.csv\n"
     ]
    },
    {
     "name": "stderr",
     "output_type": "stream",
     "text": [
      "To https://github.com/MonlamAI/SW00962.git\n",
      " * [new branch]      master -> master\n"
     ]
    },
    {
     "name": "stdout",
     "output_type": "stream",
     "text": [
      "Successfully created repository: SW00951\n",
      "Initialized empty Git repository in /home/ec2-user/SageMaker/stt-combine-datasets/output/SW00951/.git/\n"
     ]
    },
    {
     "name": "stderr",
     "output_type": "stream",
     "text": [
      "hint: Using 'master' as the name for the initial branch. This default branch name\n",
      "hint: is subject to change. To configure the initial branch name to use in all\n",
      "hint: of your new repositories, which will suppress this warning, call:\n",
      "hint: \n",
      "hint: \tgit config --global init.defaultBranch <name>\n",
      "hint: \n",
      "hint: Names commonly chosen instead of 'master' are 'main', 'trunk' and\n",
      "hint: 'development'. The just-created branch can be renamed via this command:\n",
      "hint: \n",
      "hint: \tgit branch -m <name>\n",
      "error: No such remote: 'origin'\n",
      "fatal: couldn't find remote ref master\n"
     ]
    },
    {
     "name": "stdout",
     "output_type": "stream",
     "text": [
      "[master (root-commit) 36a0e87] Initial commit\n",
      " 1 file changed, 1001 insertions(+)\n",
      " create mode 100644 SW00951.csv\n"
     ]
    },
    {
     "name": "stderr",
     "output_type": "stream",
     "text": [
      "To https://github.com/MonlamAI/SW00951.git\n",
      " * [new branch]      master -> master\n"
     ]
    },
    {
     "name": "stdout",
     "output_type": "stream",
     "text": [
      "Successfully created repository: SW00135\n",
      "Initialized empty Git repository in /home/ec2-user/SageMaker/stt-combine-datasets/output/SW00135/.git/\n"
     ]
    },
    {
     "name": "stderr",
     "output_type": "stream",
     "text": [
      "hint: Using 'master' as the name for the initial branch. This default branch name\n",
      "hint: is subject to change. To configure the initial branch name to use in all\n",
      "hint: of your new repositories, which will suppress this warning, call:\n",
      "hint: \n",
      "hint: \tgit config --global init.defaultBranch <name>\n",
      "hint: \n",
      "hint: Names commonly chosen instead of 'master' are 'main', 'trunk' and\n",
      "hint: 'development'. The just-created branch can be renamed via this command:\n",
      "hint: \n",
      "hint: \tgit branch -m <name>\n",
      "error: No such remote: 'origin'\n",
      "fatal: couldn't find remote ref master\n"
     ]
    },
    {
     "name": "stdout",
     "output_type": "stream",
     "text": [
      "[master (root-commit) 35b11fc] Initial commit\n",
      " 1 file changed, 1001 insertions(+)\n",
      " create mode 100644 SW00135.csv\n"
     ]
    },
    {
     "name": "stderr",
     "output_type": "stream",
     "text": [
      "To https://github.com/MonlamAI/SW00135.git\n",
      " * [new branch]      master -> master\n"
     ]
    },
    {
     "name": "stdout",
     "output_type": "stream",
     "text": [
      "Successfully created repository: SW00727\n",
      "Initialized empty Git repository in /home/ec2-user/SageMaker/stt-combine-datasets/output/SW00727/.git/\n"
     ]
    },
    {
     "name": "stderr",
     "output_type": "stream",
     "text": [
      "hint: Using 'master' as the name for the initial branch. This default branch name\n",
      "hint: is subject to change. To configure the initial branch name to use in all\n",
      "hint: of your new repositories, which will suppress this warning, call:\n",
      "hint: \n",
      "hint: \tgit config --global init.defaultBranch <name>\n",
      "hint: \n",
      "hint: Names commonly chosen instead of 'master' are 'main', 'trunk' and\n",
      "hint: 'development'. The just-created branch can be renamed via this command:\n",
      "hint: \n",
      "hint: \tgit branch -m <name>\n",
      "error: No such remote: 'origin'\n",
      "fatal: couldn't find remote ref master\n"
     ]
    },
    {
     "name": "stdout",
     "output_type": "stream",
     "text": [
      "[master (root-commit) 35b6ffa] Initial commit\n",
      " 1 file changed, 1001 insertions(+)\n",
      " create mode 100644 SW00727.csv\n"
     ]
    },
    {
     "name": "stderr",
     "output_type": "stream",
     "text": [
      "To https://github.com/MonlamAI/SW00727.git\n",
      " * [new branch]      master -> master\n"
     ]
    },
    {
     "name": "stdout",
     "output_type": "stream",
     "text": [
      "Successfully created repository: SW00222\n",
      "Initialized empty Git repository in /home/ec2-user/SageMaker/stt-combine-datasets/output/SW00222/.git/\n"
     ]
    },
    {
     "name": "stderr",
     "output_type": "stream",
     "text": [
      "hint: Using 'master' as the name for the initial branch. This default branch name\n",
      "hint: is subject to change. To configure the initial branch name to use in all\n",
      "hint: of your new repositories, which will suppress this warning, call:\n",
      "hint: \n",
      "hint: \tgit config --global init.defaultBranch <name>\n",
      "hint: \n",
      "hint: Names commonly chosen instead of 'master' are 'main', 'trunk' and\n",
      "hint: 'development'. The just-created branch can be renamed via this command:\n",
      "hint: \n",
      "hint: \tgit branch -m <name>\n",
      "error: No such remote: 'origin'\n",
      "fatal: couldn't find remote ref master\n"
     ]
    },
    {
     "name": "stdout",
     "output_type": "stream",
     "text": [
      "[master (root-commit) 87e0616] Initial commit\n",
      " 1 file changed, 1001 insertions(+)\n",
      " create mode 100644 SW00222.csv\n"
     ]
    },
    {
     "name": "stderr",
     "output_type": "stream",
     "text": [
      "To https://github.com/MonlamAI/SW00222.git\n",
      " * [new branch]      master -> master\n"
     ]
    },
    {
     "name": "stdout",
     "output_type": "stream",
     "text": [
      "Successfully created repository: SW00940\n",
      "Initialized empty Git repository in /home/ec2-user/SageMaker/stt-combine-datasets/output/SW00940/.git/\n"
     ]
    },
    {
     "name": "stderr",
     "output_type": "stream",
     "text": [
      "hint: Using 'master' as the name for the initial branch. This default branch name\n",
      "hint: is subject to change. To configure the initial branch name to use in all\n",
      "hint: of your new repositories, which will suppress this warning, call:\n",
      "hint: \n",
      "hint: \tgit config --global init.defaultBranch <name>\n",
      "hint: \n",
      "hint: Names commonly chosen instead of 'master' are 'main', 'trunk' and\n",
      "hint: 'development'. The just-created branch can be renamed via this command:\n",
      "hint: \n",
      "hint: \tgit branch -m <name>\n",
      "error: No such remote: 'origin'\n",
      "fatal: couldn't find remote ref master\n"
     ]
    },
    {
     "name": "stdout",
     "output_type": "stream",
     "text": [
      "[master (root-commit) 212cf98] Initial commit\n",
      " 1 file changed, 1001 insertions(+)\n",
      " create mode 100644 SW00940.csv\n"
     ]
    },
    {
     "name": "stderr",
     "output_type": "stream",
     "text": [
      "To https://github.com/MonlamAI/SW00940.git\n",
      " * [new branch]      master -> master\n"
     ]
    },
    {
     "name": "stdout",
     "output_type": "stream",
     "text": [
      "Successfully created repository: SW00813\n",
      "Initialized empty Git repository in /home/ec2-user/SageMaker/stt-combine-datasets/output/SW00813/.git/\n"
     ]
    },
    {
     "name": "stderr",
     "output_type": "stream",
     "text": [
      "hint: Using 'master' as the name for the initial branch. This default branch name\n",
      "hint: is subject to change. To configure the initial branch name to use in all\n",
      "hint: of your new repositories, which will suppress this warning, call:\n",
      "hint: \n",
      "hint: \tgit config --global init.defaultBranch <name>\n",
      "hint: \n",
      "hint: Names commonly chosen instead of 'master' are 'main', 'trunk' and\n",
      "hint: 'development'. The just-created branch can be renamed via this command:\n",
      "hint: \n",
      "hint: \tgit branch -m <name>\n",
      "error: No such remote: 'origin'\n",
      "fatal: couldn't find remote ref master\n"
     ]
    },
    {
     "name": "stdout",
     "output_type": "stream",
     "text": [
      "[master (root-commit) 037a5a2] Initial commit\n",
      " 1 file changed, 1001 insertions(+)\n",
      " create mode 100644 SW00813.csv\n"
     ]
    },
    {
     "name": "stderr",
     "output_type": "stream",
     "text": [
      "To https://github.com/MonlamAI/SW00813.git\n",
      " * [new branch]      master -> master\n"
     ]
    },
    {
     "name": "stdout",
     "output_type": "stream",
     "text": [
      "Successfully created repository: SW00696\n",
      "Initialized empty Git repository in /home/ec2-user/SageMaker/stt-combine-datasets/output/SW00696/.git/\n"
     ]
    },
    {
     "name": "stderr",
     "output_type": "stream",
     "text": [
      "hint: Using 'master' as the name for the initial branch. This default branch name\n",
      "hint: is subject to change. To configure the initial branch name to use in all\n",
      "hint: of your new repositories, which will suppress this warning, call:\n",
      "hint: \n",
      "hint: \tgit config --global init.defaultBranch <name>\n",
      "hint: \n",
      "hint: Names commonly chosen instead of 'master' are 'main', 'trunk' and\n",
      "hint: 'development'. The just-created branch can be renamed via this command:\n",
      "hint: \n",
      "hint: \tgit branch -m <name>\n",
      "error: No such remote: 'origin'\n",
      "fatal: couldn't find remote ref master\n"
     ]
    },
    {
     "name": "stdout",
     "output_type": "stream",
     "text": [
      "[master (root-commit) 3b54b72] Initial commit\n",
      " 1 file changed, 1001 insertions(+)\n",
      " create mode 100644 SW00696.csv\n"
     ]
    },
    {
     "name": "stderr",
     "output_type": "stream",
     "text": [
      "To https://github.com/MonlamAI/SW00696.git\n",
      " * [new branch]      master -> master\n"
     ]
    },
    {
     "name": "stdout",
     "output_type": "stream",
     "text": [
      "Successfully created repository: SW00777\n",
      "Initialized empty Git repository in /home/ec2-user/SageMaker/stt-combine-datasets/output/SW00777/.git/\n"
     ]
    },
    {
     "name": "stderr",
     "output_type": "stream",
     "text": [
      "hint: Using 'master' as the name for the initial branch. This default branch name\n",
      "hint: is subject to change. To configure the initial branch name to use in all\n",
      "hint: of your new repositories, which will suppress this warning, call:\n",
      "hint: \n",
      "hint: \tgit config --global init.defaultBranch <name>\n",
      "hint: \n",
      "hint: Names commonly chosen instead of 'master' are 'main', 'trunk' and\n",
      "hint: 'development'. The just-created branch can be renamed via this command:\n",
      "hint: \n",
      "hint: \tgit branch -m <name>\n",
      "error: No such remote: 'origin'\n",
      "fatal: couldn't find remote ref master\n"
     ]
    },
    {
     "name": "stdout",
     "output_type": "stream",
     "text": [
      "[master (root-commit) f95a6e6] Initial commit\n",
      " 1 file changed, 1001 insertions(+)\n",
      " create mode 100644 SW00777.csv\n"
     ]
    },
    {
     "name": "stderr",
     "output_type": "stream",
     "text": [
      "To https://github.com/MonlamAI/SW00777.git\n",
      " * [new branch]      master -> master\n"
     ]
    },
    {
     "name": "stdout",
     "output_type": "stream",
     "text": [
      "Successfully created repository: SW00185\n",
      "Initialized empty Git repository in /home/ec2-user/SageMaker/stt-combine-datasets/output/SW00185/.git/\n"
     ]
    },
    {
     "name": "stderr",
     "output_type": "stream",
     "text": [
      "hint: Using 'master' as the name for the initial branch. This default branch name\n",
      "hint: is subject to change. To configure the initial branch name to use in all\n",
      "hint: of your new repositories, which will suppress this warning, call:\n",
      "hint: \n",
      "hint: \tgit config --global init.defaultBranch <name>\n",
      "hint: \n",
      "hint: Names commonly chosen instead of 'master' are 'main', 'trunk' and\n",
      "hint: 'development'. The just-created branch can be renamed via this command:\n",
      "hint: \n",
      "hint: \tgit branch -m <name>\n",
      "error: No such remote: 'origin'\n",
      "fatal: couldn't find remote ref master\n"
     ]
    },
    {
     "name": "stdout",
     "output_type": "stream",
     "text": [
      "[master (root-commit) d823956] Initial commit\n",
      " 1 file changed, 1001 insertions(+)\n",
      " create mode 100644 SW00185.csv\n"
     ]
    },
    {
     "name": "stderr",
     "output_type": "stream",
     "text": [
      "To https://github.com/MonlamAI/SW00185.git\n",
      " * [new branch]      master -> master\n"
     ]
    },
    {
     "name": "stdout",
     "output_type": "stream",
     "text": [
      "Successfully created repository: SW00826\n",
      "Initialized empty Git repository in /home/ec2-user/SageMaker/stt-combine-datasets/output/SW00826/.git/\n"
     ]
    },
    {
     "name": "stderr",
     "output_type": "stream",
     "text": [
      "hint: Using 'master' as the name for the initial branch. This default branch name\n",
      "hint: is subject to change. To configure the initial branch name to use in all\n",
      "hint: of your new repositories, which will suppress this warning, call:\n",
      "hint: \n",
      "hint: \tgit config --global init.defaultBranch <name>\n",
      "hint: \n",
      "hint: Names commonly chosen instead of 'master' are 'main', 'trunk' and\n",
      "hint: 'development'. The just-created branch can be renamed via this command:\n",
      "hint: \n",
      "hint: \tgit branch -m <name>\n",
      "error: No such remote: 'origin'\n",
      "fatal: couldn't find remote ref master\n"
     ]
    },
    {
     "name": "stdout",
     "output_type": "stream",
     "text": [
      "[master (root-commit) f31fee0] Initial commit\n",
      " 1 file changed, 1001 insertions(+)\n",
      " create mode 100644 SW00826.csv\n"
     ]
    },
    {
     "name": "stderr",
     "output_type": "stream",
     "text": [
      "To https://github.com/MonlamAI/SW00826.git\n",
      " * [new branch]      master -> master\n"
     ]
    },
    {
     "name": "stdout",
     "output_type": "stream",
     "text": [
      "Successfully created repository: SW00532\n",
      "Initialized empty Git repository in /home/ec2-user/SageMaker/stt-combine-datasets/output/SW00532/.git/\n"
     ]
    },
    {
     "name": "stderr",
     "output_type": "stream",
     "text": [
      "hint: Using 'master' as the name for the initial branch. This default branch name\n",
      "hint: is subject to change. To configure the initial branch name to use in all\n",
      "hint: of your new repositories, which will suppress this warning, call:\n",
      "hint: \n",
      "hint: \tgit config --global init.defaultBranch <name>\n",
      "hint: \n",
      "hint: Names commonly chosen instead of 'master' are 'main', 'trunk' and\n",
      "hint: 'development'. The just-created branch can be renamed via this command:\n",
      "hint: \n",
      "hint: \tgit branch -m <name>\n",
      "error: No such remote: 'origin'\n",
      "fatal: couldn't find remote ref master\n"
     ]
    },
    {
     "name": "stdout",
     "output_type": "stream",
     "text": [
      "[master (root-commit) 3e94661] Initial commit\n",
      " 1 file changed, 1001 insertions(+)\n",
      " create mode 100644 SW00532.csv\n"
     ]
    },
    {
     "name": "stderr",
     "output_type": "stream",
     "text": [
      "To https://github.com/MonlamAI/SW00532.git\n",
      " * [new branch]      master -> master\n"
     ]
    },
    {
     "name": "stdout",
     "output_type": "stream",
     "text": [
      "Successfully created repository: SW00357\n",
      "Initialized empty Git repository in /home/ec2-user/SageMaker/stt-combine-datasets/output/SW00357/.git/\n"
     ]
    },
    {
     "name": "stderr",
     "output_type": "stream",
     "text": [
      "hint: Using 'master' as the name for the initial branch. This default branch name\n",
      "hint: is subject to change. To configure the initial branch name to use in all\n",
      "hint: of your new repositories, which will suppress this warning, call:\n",
      "hint: \n",
      "hint: \tgit config --global init.defaultBranch <name>\n",
      "hint: \n",
      "hint: Names commonly chosen instead of 'master' are 'main', 'trunk' and\n",
      "hint: 'development'. The just-created branch can be renamed via this command:\n",
      "hint: \n",
      "hint: \tgit branch -m <name>\n",
      "error: No such remote: 'origin'\n",
      "fatal: couldn't find remote ref master\n"
     ]
    },
    {
     "name": "stdout",
     "output_type": "stream",
     "text": [
      "[master (root-commit) 8eb4151] Initial commit\n",
      " 1 file changed, 1001 insertions(+)\n",
      " create mode 100644 SW00357.csv\n"
     ]
    },
    {
     "name": "stderr",
     "output_type": "stream",
     "text": [
      "To https://github.com/MonlamAI/SW00357.git\n",
      " * [new branch]      master -> master\n"
     ]
    },
    {
     "name": "stdout",
     "output_type": "stream",
     "text": [
      "Successfully created repository: SW00119\n",
      "Initialized empty Git repository in /home/ec2-user/SageMaker/stt-combine-datasets/output/SW00119/.git/\n"
     ]
    },
    {
     "name": "stderr",
     "output_type": "stream",
     "text": [
      "hint: Using 'master' as the name for the initial branch. This default branch name\n",
      "hint: is subject to change. To configure the initial branch name to use in all\n",
      "hint: of your new repositories, which will suppress this warning, call:\n",
      "hint: \n",
      "hint: \tgit config --global init.defaultBranch <name>\n",
      "hint: \n",
      "hint: Names commonly chosen instead of 'master' are 'main', 'trunk' and\n",
      "hint: 'development'. The just-created branch can be renamed via this command:\n",
      "hint: \n",
      "hint: \tgit branch -m <name>\n",
      "error: No such remote: 'origin'\n",
      "fatal: couldn't find remote ref master\n"
     ]
    },
    {
     "name": "stdout",
     "output_type": "stream",
     "text": [
      "[master (root-commit) 20bcb11] Initial commit\n",
      " 1 file changed, 1001 insertions(+)\n",
      " create mode 100644 SW00119.csv\n"
     ]
    },
    {
     "name": "stderr",
     "output_type": "stream",
     "text": [
      "To https://github.com/MonlamAI/SW00119.git\n",
      " * [new branch]      master -> master\n"
     ]
    },
    {
     "name": "stdout",
     "output_type": "stream",
     "text": [
      "Successfully created repository: SW00463\n",
      "Initialized empty Git repository in /home/ec2-user/SageMaker/stt-combine-datasets/output/SW00463/.git/\n"
     ]
    },
    {
     "name": "stderr",
     "output_type": "stream",
     "text": [
      "hint: Using 'master' as the name for the initial branch. This default branch name\n",
      "hint: is subject to change. To configure the initial branch name to use in all\n",
      "hint: of your new repositories, which will suppress this warning, call:\n",
      "hint: \n",
      "hint: \tgit config --global init.defaultBranch <name>\n",
      "hint: \n",
      "hint: Names commonly chosen instead of 'master' are 'main', 'trunk' and\n",
      "hint: 'development'. The just-created branch can be renamed via this command:\n",
      "hint: \n",
      "hint: \tgit branch -m <name>\n",
      "error: No such remote: 'origin'\n",
      "fatal: couldn't find remote ref master\n"
     ]
    },
    {
     "name": "stdout",
     "output_type": "stream",
     "text": [
      "[master (root-commit) dacce2a] Initial commit\n",
      " 1 file changed, 1001 insertions(+)\n",
      " create mode 100644 SW00463.csv\n"
     ]
    },
    {
     "name": "stderr",
     "output_type": "stream",
     "text": [
      "To https://github.com/MonlamAI/SW00463.git\n",
      " * [new branch]      master -> master\n"
     ]
    },
    {
     "name": "stdout",
     "output_type": "stream",
     "text": [
      "Successfully created repository: SW00944\n",
      "Initialized empty Git repository in /home/ec2-user/SageMaker/stt-combine-datasets/output/SW00944/.git/\n"
     ]
    },
    {
     "name": "stderr",
     "output_type": "stream",
     "text": [
      "hint: Using 'master' as the name for the initial branch. This default branch name\n",
      "hint: is subject to change. To configure the initial branch name to use in all\n",
      "hint: of your new repositories, which will suppress this warning, call:\n",
      "hint: \n",
      "hint: \tgit config --global init.defaultBranch <name>\n",
      "hint: \n",
      "hint: Names commonly chosen instead of 'master' are 'main', 'trunk' and\n",
      "hint: 'development'. The just-created branch can be renamed via this command:\n",
      "hint: \n",
      "hint: \tgit branch -m <name>\n",
      "error: No such remote: 'origin'\n",
      "fatal: couldn't find remote ref master\n"
     ]
    },
    {
     "name": "stdout",
     "output_type": "stream",
     "text": [
      "[master (root-commit) db7bc27] Initial commit\n",
      " 1 file changed, 1001 insertions(+)\n",
      " create mode 100644 SW00944.csv\n"
     ]
    },
    {
     "name": "stderr",
     "output_type": "stream",
     "text": [
      "To https://github.com/MonlamAI/SW00944.git\n",
      " * [new branch]      master -> master\n"
     ]
    },
    {
     "name": "stdout",
     "output_type": "stream",
     "text": [
      "Successfully created repository: SW00279\n",
      "Initialized empty Git repository in /home/ec2-user/SageMaker/stt-combine-datasets/output/SW00279/.git/\n"
     ]
    },
    {
     "name": "stderr",
     "output_type": "stream",
     "text": [
      "hint: Using 'master' as the name for the initial branch. This default branch name\n",
      "hint: is subject to change. To configure the initial branch name to use in all\n",
      "hint: of your new repositories, which will suppress this warning, call:\n",
      "hint: \n",
      "hint: \tgit config --global init.defaultBranch <name>\n",
      "hint: \n",
      "hint: Names commonly chosen instead of 'master' are 'main', 'trunk' and\n",
      "hint: 'development'. The just-created branch can be renamed via this command:\n",
      "hint: \n",
      "hint: \tgit branch -m <name>\n",
      "error: No such remote: 'origin'\n",
      "fatal: couldn't find remote ref master\n"
     ]
    },
    {
     "name": "stdout",
     "output_type": "stream",
     "text": [
      "[master (root-commit) c869d0c] Initial commit\n",
      " 1 file changed, 1001 insertions(+)\n",
      " create mode 100644 SW00279.csv\n"
     ]
    },
    {
     "name": "stderr",
     "output_type": "stream",
     "text": [
      "To https://github.com/MonlamAI/SW00279.git\n",
      " * [new branch]      master -> master\n"
     ]
    },
    {
     "name": "stdout",
     "output_type": "stream",
     "text": [
      "Successfully created repository: SW00837\n",
      "Initialized empty Git repository in /home/ec2-user/SageMaker/stt-combine-datasets/output/SW00837/.git/\n"
     ]
    },
    {
     "name": "stderr",
     "output_type": "stream",
     "text": [
      "hint: Using 'master' as the name for the initial branch. This default branch name\n",
      "hint: is subject to change. To configure the initial branch name to use in all\n",
      "hint: of your new repositories, which will suppress this warning, call:\n",
      "hint: \n",
      "hint: \tgit config --global init.defaultBranch <name>\n",
      "hint: \n",
      "hint: Names commonly chosen instead of 'master' are 'main', 'trunk' and\n",
      "hint: 'development'. The just-created branch can be renamed via this command:\n",
      "hint: \n",
      "hint: \tgit branch -m <name>\n",
      "error: No such remote: 'origin'\n",
      "fatal: couldn't find remote ref master\n"
     ]
    },
    {
     "name": "stdout",
     "output_type": "stream",
     "text": [
      "[master (root-commit) a4b358b] Initial commit\n",
      " 1 file changed, 1001 insertions(+)\n",
      " create mode 100644 SW00837.csv\n"
     ]
    },
    {
     "name": "stderr",
     "output_type": "stream",
     "text": [
      "To https://github.com/MonlamAI/SW00837.git\n",
      " * [new branch]      master -> master\n"
     ]
    },
    {
     "name": "stdout",
     "output_type": "stream",
     "text": [
      "Successfully created repository: SW00498\n",
      "Initialized empty Git repository in /home/ec2-user/SageMaker/stt-combine-datasets/output/SW00498/.git/\n"
     ]
    },
    {
     "name": "stderr",
     "output_type": "stream",
     "text": [
      "hint: Using 'master' as the name for the initial branch. This default branch name\n",
      "hint: is subject to change. To configure the initial branch name to use in all\n",
      "hint: of your new repositories, which will suppress this warning, call:\n",
      "hint: \n",
      "hint: \tgit config --global init.defaultBranch <name>\n",
      "hint: \n",
      "hint: Names commonly chosen instead of 'master' are 'main', 'trunk' and\n",
      "hint: 'development'. The just-created branch can be renamed via this command:\n",
      "hint: \n",
      "hint: \tgit branch -m <name>\n",
      "error: No such remote: 'origin'\n",
      "fatal: couldn't find remote ref master\n"
     ]
    },
    {
     "name": "stdout",
     "output_type": "stream",
     "text": [
      "[master (root-commit) 68fba60] Initial commit\n",
      " 1 file changed, 1001 insertions(+)\n",
      " create mode 100644 SW00498.csv\n"
     ]
    },
    {
     "name": "stderr",
     "output_type": "stream",
     "text": [
      "To https://github.com/MonlamAI/SW00498.git\n",
      " * [new branch]      master -> master\n"
     ]
    },
    {
     "name": "stdout",
     "output_type": "stream",
     "text": [
      "Successfully created repository: SW00054\n",
      "Initialized empty Git repository in /home/ec2-user/SageMaker/stt-combine-datasets/output/SW00054/.git/\n"
     ]
    },
    {
     "name": "stderr",
     "output_type": "stream",
     "text": [
      "hint: Using 'master' as the name for the initial branch. This default branch name\n",
      "hint: is subject to change. To configure the initial branch name to use in all\n",
      "hint: of your new repositories, which will suppress this warning, call:\n",
      "hint: \n",
      "hint: \tgit config --global init.defaultBranch <name>\n",
      "hint: \n",
      "hint: Names commonly chosen instead of 'master' are 'main', 'trunk' and\n",
      "hint: 'development'. The just-created branch can be renamed via this command:\n",
      "hint: \n",
      "hint: \tgit branch -m <name>\n",
      "error: No such remote: 'origin'\n",
      "fatal: couldn't find remote ref master\n"
     ]
    },
    {
     "name": "stdout",
     "output_type": "stream",
     "text": [
      "[master (root-commit) acc3d88] Initial commit\n",
      " 1 file changed, 1001 insertions(+)\n",
      " create mode 100644 SW00054.csv\n"
     ]
    },
    {
     "name": "stderr",
     "output_type": "stream",
     "text": [
      "To https://github.com/MonlamAI/SW00054.git\n",
      " * [new branch]      master -> master\n"
     ]
    },
    {
     "name": "stdout",
     "output_type": "stream",
     "text": [
      "Successfully created repository: SW00616\n",
      "Initialized empty Git repository in /home/ec2-user/SageMaker/stt-combine-datasets/output/SW00616/.git/\n"
     ]
    },
    {
     "name": "stderr",
     "output_type": "stream",
     "text": [
      "hint: Using 'master' as the name for the initial branch. This default branch name\n",
      "hint: is subject to change. To configure the initial branch name to use in all\n",
      "hint: of your new repositories, which will suppress this warning, call:\n",
      "hint: \n",
      "hint: \tgit config --global init.defaultBranch <name>\n",
      "hint: \n",
      "hint: Names commonly chosen instead of 'master' are 'main', 'trunk' and\n",
      "hint: 'development'. The just-created branch can be renamed via this command:\n",
      "hint: \n",
      "hint: \tgit branch -m <name>\n",
      "error: No such remote: 'origin'\n",
      "fatal: couldn't find remote ref master\n"
     ]
    },
    {
     "name": "stdout",
     "output_type": "stream",
     "text": [
      "[master (root-commit) 0d52600] Initial commit\n",
      " 1 file changed, 1001 insertions(+)\n",
      " create mode 100644 SW00616.csv\n"
     ]
    },
    {
     "name": "stderr",
     "output_type": "stream",
     "text": [
      "To https://github.com/MonlamAI/SW00616.git\n",
      " * [new branch]      master -> master\n"
     ]
    },
    {
     "name": "stdout",
     "output_type": "stream",
     "text": [
      "Successfully created repository: SW00609\n",
      "Initialized empty Git repository in /home/ec2-user/SageMaker/stt-combine-datasets/output/SW00609/.git/\n",
      "[master (root-commit) 94a1c97] Initial commit\n",
      " 1 file changed, 1001 insertions(+)\n",
      " create mode 100644 SW00609.csv\n"
     ]
    },
    {
     "name": "stderr",
     "output_type": "stream",
     "text": [
      "hint: Using 'master' as the name for the initial branch. This default branch name\n",
      "hint: is subject to change. To configure the initial branch name to use in all\n",
      "hint: of your new repositories, which will suppress this warning, call:\n",
      "hint: \n",
      "hint: \tgit config --global init.defaultBranch <name>\n",
      "hint: \n",
      "hint: Names commonly chosen instead of 'master' are 'main', 'trunk' and\n",
      "hint: 'development'. The just-created branch can be renamed via this command:\n",
      "hint: \n",
      "hint: \tgit branch -m <name>\n",
      "error: No such remote: 'origin'\n",
      "fatal: couldn't find remote ref master\n",
      "To https://github.com/MonlamAI/SW00609.git\n",
      " * [new branch]      master -> master\n"
     ]
    },
    {
     "name": "stdout",
     "output_type": "stream",
     "text": [
      "Successfully created repository: SW00332\n",
      "Initialized empty Git repository in /home/ec2-user/SageMaker/stt-combine-datasets/output/SW00332/.git/\n"
     ]
    },
    {
     "name": "stderr",
     "output_type": "stream",
     "text": [
      "hint: Using 'master' as the name for the initial branch. This default branch name\n",
      "hint: is subject to change. To configure the initial branch name to use in all\n",
      "hint: of your new repositories, which will suppress this warning, call:\n",
      "hint: \n",
      "hint: \tgit config --global init.defaultBranch <name>\n",
      "hint: \n",
      "hint: Names commonly chosen instead of 'master' are 'main', 'trunk' and\n",
      "hint: 'development'. The just-created branch can be renamed via this command:\n",
      "hint: \n",
      "hint: \tgit branch -m <name>\n",
      "error: No such remote: 'origin'\n",
      "fatal: couldn't find remote ref master\n"
     ]
    },
    {
     "name": "stdout",
     "output_type": "stream",
     "text": [
      "[master (root-commit) 1cb23b1] Initial commit\n",
      " 1 file changed, 1001 insertions(+)\n",
      " create mode 100644 SW00332.csv\n"
     ]
    },
    {
     "name": "stderr",
     "output_type": "stream",
     "text": [
      "To https://github.com/MonlamAI/SW00332.git\n",
      " * [new branch]      master -> master\n"
     ]
    },
    {
     "name": "stdout",
     "output_type": "stream",
     "text": [
      "Successfully created repository: SW00238\n",
      "Initialized empty Git repository in /home/ec2-user/SageMaker/stt-combine-datasets/output/SW00238/.git/\n"
     ]
    },
    {
     "name": "stderr",
     "output_type": "stream",
     "text": [
      "hint: Using 'master' as the name for the initial branch. This default branch name\n",
      "hint: is subject to change. To configure the initial branch name to use in all\n",
      "hint: of your new repositories, which will suppress this warning, call:\n",
      "hint: \n",
      "hint: \tgit config --global init.defaultBranch <name>\n",
      "hint: \n",
      "hint: Names commonly chosen instead of 'master' are 'main', 'trunk' and\n",
      "hint: 'development'. The just-created branch can be renamed via this command:\n",
      "hint: \n",
      "hint: \tgit branch -m <name>\n",
      "error: No such remote: 'origin'\n",
      "fatal: couldn't find remote ref master\n"
     ]
    },
    {
     "name": "stdout",
     "output_type": "stream",
     "text": [
      "[master (root-commit) 38617c1] Initial commit\n",
      " 1 file changed, 1001 insertions(+)\n",
      " create mode 100644 SW00238.csv\n"
     ]
    },
    {
     "name": "stderr",
     "output_type": "stream",
     "text": [
      "To https://github.com/MonlamAI/SW00238.git\n",
      " * [new branch]      master -> master\n"
     ]
    },
    {
     "name": "stdout",
     "output_type": "stream",
     "text": [
      "Successfully created repository: SW00907\n",
      "Initialized empty Git repository in /home/ec2-user/SageMaker/stt-combine-datasets/output/SW00907/.git/\n"
     ]
    },
    {
     "name": "stderr",
     "output_type": "stream",
     "text": [
      "hint: Using 'master' as the name for the initial branch. This default branch name\n",
      "hint: is subject to change. To configure the initial branch name to use in all\n",
      "hint: of your new repositories, which will suppress this warning, call:\n",
      "hint: \n",
      "hint: \tgit config --global init.defaultBranch <name>\n",
      "hint: \n",
      "hint: Names commonly chosen instead of 'master' are 'main', 'trunk' and\n",
      "hint: 'development'. The just-created branch can be renamed via this command:\n",
      "hint: \n",
      "hint: \tgit branch -m <name>\n",
      "error: No such remote: 'origin'\n",
      "fatal: couldn't find remote ref master\n"
     ]
    },
    {
     "name": "stdout",
     "output_type": "stream",
     "text": [
      "[master (root-commit) 526e814] Initial commit\n",
      " 1 file changed, 1001 insertions(+)\n",
      " create mode 100644 SW00907.csv\n"
     ]
    },
    {
     "name": "stderr",
     "output_type": "stream",
     "text": [
      "To https://github.com/MonlamAI/SW00907.git\n",
      " * [new branch]      master -> master\n"
     ]
    },
    {
     "name": "stdout",
     "output_type": "stream",
     "text": [
      "Successfully created repository: SW00773\n",
      "Initialized empty Git repository in /home/ec2-user/SageMaker/stt-combine-datasets/output/SW00773/.git/\n"
     ]
    },
    {
     "name": "stderr",
     "output_type": "stream",
     "text": [
      "hint: Using 'master' as the name for the initial branch. This default branch name\n",
      "hint: is subject to change. To configure the initial branch name to use in all\n",
      "hint: of your new repositories, which will suppress this warning, call:\n",
      "hint: \n",
      "hint: \tgit config --global init.defaultBranch <name>\n",
      "hint: \n",
      "hint: Names commonly chosen instead of 'master' are 'main', 'trunk' and\n",
      "hint: 'development'. The just-created branch can be renamed via this command:\n",
      "hint: \n",
      "hint: \tgit branch -m <name>\n",
      "error: No such remote: 'origin'\n",
      "fatal: couldn't find remote ref master\n"
     ]
    },
    {
     "name": "stdout",
     "output_type": "stream",
     "text": [
      "[master (root-commit) f1ec945] Initial commit\n",
      " 1 file changed, 1001 insertions(+)\n",
      " create mode 100644 SW00773.csv\n"
     ]
    },
    {
     "name": "stderr",
     "output_type": "stream",
     "text": [
      "To https://github.com/MonlamAI/SW00773.git\n",
      " * [new branch]      master -> master\n"
     ]
    },
    {
     "name": "stdout",
     "output_type": "stream",
     "text": [
      "Successfully created repository: SW00708\n",
      "Initialized empty Git repository in /home/ec2-user/SageMaker/stt-combine-datasets/output/SW00708/.git/\n"
     ]
    },
    {
     "name": "stderr",
     "output_type": "stream",
     "text": [
      "hint: Using 'master' as the name for the initial branch. This default branch name\n",
      "hint: is subject to change. To configure the initial branch name to use in all\n",
      "hint: of your new repositories, which will suppress this warning, call:\n",
      "hint: \n",
      "hint: \tgit config --global init.defaultBranch <name>\n",
      "hint: \n",
      "hint: Names commonly chosen instead of 'master' are 'main', 'trunk' and\n",
      "hint: 'development'. The just-created branch can be renamed via this command:\n",
      "hint: \n",
      "hint: \tgit branch -m <name>\n",
      "error: No such remote: 'origin'\n",
      "fatal: couldn't find remote ref master\n"
     ]
    },
    {
     "name": "stdout",
     "output_type": "stream",
     "text": [
      "[master (root-commit) 0244d53] Initial commit\n",
      " 1 file changed, 1001 insertions(+)\n",
      " create mode 100644 SW00708.csv\n"
     ]
    },
    {
     "name": "stderr",
     "output_type": "stream",
     "text": [
      "To https://github.com/MonlamAI/SW00708.git\n",
      " * [new branch]      master -> master\n"
     ]
    },
    {
     "name": "stdout",
     "output_type": "stream",
     "text": [
      "Successfully created repository: SW00342\n",
      "Initialized empty Git repository in /home/ec2-user/SageMaker/stt-combine-datasets/output/SW00342/.git/\n"
     ]
    },
    {
     "name": "stderr",
     "output_type": "stream",
     "text": [
      "hint: Using 'master' as the name for the initial branch. This default branch name\n",
      "hint: is subject to change. To configure the initial branch name to use in all\n",
      "hint: of your new repositories, which will suppress this warning, call:\n",
      "hint: \n",
      "hint: \tgit config --global init.defaultBranch <name>\n",
      "hint: \n",
      "hint: Names commonly chosen instead of 'master' are 'main', 'trunk' and\n",
      "hint: 'development'. The just-created branch can be renamed via this command:\n",
      "hint: \n",
      "hint: \tgit branch -m <name>\n",
      "error: No such remote: 'origin'\n",
      "fatal: couldn't find remote ref master\n"
     ]
    },
    {
     "name": "stdout",
     "output_type": "stream",
     "text": [
      "[master (root-commit) 0925488] Initial commit\n",
      " 1 file changed, 1001 insertions(+)\n",
      " create mode 100644 SW00342.csv\n"
     ]
    },
    {
     "name": "stderr",
     "output_type": "stream",
     "text": [
      "To https://github.com/MonlamAI/SW00342.git\n",
      " * [new branch]      master -> master\n"
     ]
    },
    {
     "name": "stdout",
     "output_type": "stream",
     "text": [
      "Successfully created repository: SW00825\n",
      "Initialized empty Git repository in /home/ec2-user/SageMaker/stt-combine-datasets/output/SW00825/.git/\n"
     ]
    },
    {
     "name": "stderr",
     "output_type": "stream",
     "text": [
      "hint: Using 'master' as the name for the initial branch. This default branch name\n",
      "hint: is subject to change. To configure the initial branch name to use in all\n",
      "hint: of your new repositories, which will suppress this warning, call:\n",
      "hint: \n",
      "hint: \tgit config --global init.defaultBranch <name>\n",
      "hint: \n",
      "hint: Names commonly chosen instead of 'master' are 'main', 'trunk' and\n",
      "hint: 'development'. The just-created branch can be renamed via this command:\n",
      "hint: \n",
      "hint: \tgit branch -m <name>\n",
      "error: No such remote: 'origin'\n",
      "fatal: couldn't find remote ref master\n"
     ]
    },
    {
     "name": "stdout",
     "output_type": "stream",
     "text": [
      "[master (root-commit) faa9a32] Initial commit\n",
      " 1 file changed, 1001 insertions(+)\n",
      " create mode 100644 SW00825.csv\n"
     ]
    },
    {
     "name": "stderr",
     "output_type": "stream",
     "text": [
      "To https://github.com/MonlamAI/SW00825.git\n",
      " * [new branch]      master -> master\n"
     ]
    },
    {
     "name": "stdout",
     "output_type": "stream",
     "text": [
      "Successfully created repository: SW00509\n",
      "Initialized empty Git repository in /home/ec2-user/SageMaker/stt-combine-datasets/output/SW00509/.git/\n"
     ]
    },
    {
     "name": "stderr",
     "output_type": "stream",
     "text": [
      "hint: Using 'master' as the name for the initial branch. This default branch name\n",
      "hint: is subject to change. To configure the initial branch name to use in all\n",
      "hint: of your new repositories, which will suppress this warning, call:\n",
      "hint: \n",
      "hint: \tgit config --global init.defaultBranch <name>\n",
      "hint: \n",
      "hint: Names commonly chosen instead of 'master' are 'main', 'trunk' and\n",
      "hint: 'development'. The just-created branch can be renamed via this command:\n",
      "hint: \n",
      "hint: \tgit branch -m <name>\n",
      "error: No such remote: 'origin'\n",
      "fatal: couldn't find remote ref master\n"
     ]
    },
    {
     "name": "stdout",
     "output_type": "stream",
     "text": [
      "[master (root-commit) 74e3380] Initial commit\n",
      " 1 file changed, 1001 insertions(+)\n",
      " create mode 100644 SW00509.csv\n"
     ]
    },
    {
     "name": "stderr",
     "output_type": "stream",
     "text": [
      "To https://github.com/MonlamAI/SW00509.git\n",
      " * [new branch]      master -> master\n"
     ]
    },
    {
     "name": "stdout",
     "output_type": "stream",
     "text": [
      "Successfully created repository: SW00031\n",
      "Initialized empty Git repository in /home/ec2-user/SageMaker/stt-combine-datasets/output/SW00031/.git/\n"
     ]
    },
    {
     "name": "stderr",
     "output_type": "stream",
     "text": [
      "hint: Using 'master' as the name for the initial branch. This default branch name\n",
      "hint: is subject to change. To configure the initial branch name to use in all\n",
      "hint: of your new repositories, which will suppress this warning, call:\n",
      "hint: \n",
      "hint: \tgit config --global init.defaultBranch <name>\n",
      "hint: \n",
      "hint: Names commonly chosen instead of 'master' are 'main', 'trunk' and\n",
      "hint: 'development'. The just-created branch can be renamed via this command:\n",
      "hint: \n",
      "hint: \tgit branch -m <name>\n",
      "error: No such remote: 'origin'\n",
      "fatal: couldn't find remote ref master\n"
     ]
    },
    {
     "name": "stdout",
     "output_type": "stream",
     "text": [
      "[master (root-commit) 422c189] Initial commit\n",
      " 1 file changed, 1001 insertions(+)\n",
      " create mode 100644 SW00031.csv\n"
     ]
    },
    {
     "name": "stderr",
     "output_type": "stream",
     "text": [
      "To https://github.com/MonlamAI/SW00031.git\n",
      " * [new branch]      master -> master\n"
     ]
    },
    {
     "name": "stdout",
     "output_type": "stream",
     "text": [
      "Successfully created repository: SW00730\n",
      "Initialized empty Git repository in /home/ec2-user/SageMaker/stt-combine-datasets/output/SW00730/.git/\n"
     ]
    },
    {
     "name": "stderr",
     "output_type": "stream",
     "text": [
      "hint: Using 'master' as the name for the initial branch. This default branch name\n",
      "hint: is subject to change. To configure the initial branch name to use in all\n",
      "hint: of your new repositories, which will suppress this warning, call:\n",
      "hint: \n",
      "hint: \tgit config --global init.defaultBranch <name>\n",
      "hint: \n",
      "hint: Names commonly chosen instead of 'master' are 'main', 'trunk' and\n",
      "hint: 'development'. The just-created branch can be renamed via this command:\n",
      "hint: \n",
      "hint: \tgit branch -m <name>\n",
      "error: No such remote: 'origin'\n",
      "fatal: couldn't find remote ref master\n"
     ]
    },
    {
     "name": "stdout",
     "output_type": "stream",
     "text": [
      "[master (root-commit) ff8e805] Initial commit\n",
      " 1 file changed, 1001 insertions(+)\n",
      " create mode 100644 SW00730.csv\n"
     ]
    },
    {
     "name": "stderr",
     "output_type": "stream",
     "text": [
      "To https://github.com/MonlamAI/SW00730.git\n",
      " * [new branch]      master -> master\n"
     ]
    },
    {
     "name": "stdout",
     "output_type": "stream",
     "text": [
      "Successfully created repository: SW00899\n",
      "Initialized empty Git repository in /home/ec2-user/SageMaker/stt-combine-datasets/output/SW00899/.git/\n"
     ]
    },
    {
     "name": "stderr",
     "output_type": "stream",
     "text": [
      "hint: Using 'master' as the name for the initial branch. This default branch name\n",
      "hint: is subject to change. To configure the initial branch name to use in all\n",
      "hint: of your new repositories, which will suppress this warning, call:\n",
      "hint: \n",
      "hint: \tgit config --global init.defaultBranch <name>\n",
      "hint: \n",
      "hint: Names commonly chosen instead of 'master' are 'main', 'trunk' and\n",
      "hint: 'development'. The just-created branch can be renamed via this command:\n",
      "hint: \n",
      "hint: \tgit branch -m <name>\n",
      "error: No such remote: 'origin'\n",
      "fatal: couldn't find remote ref master\n"
     ]
    },
    {
     "name": "stdout",
     "output_type": "stream",
     "text": [
      "[master (root-commit) 4ce32ac] Initial commit\n",
      " 1 file changed, 1001 insertions(+)\n",
      " create mode 100644 SW00899.csv\n"
     ]
    },
    {
     "name": "stderr",
     "output_type": "stream",
     "text": [
      "To https://github.com/MonlamAI/SW00899.git\n",
      " * [new branch]      master -> master\n"
     ]
    },
    {
     "name": "stdout",
     "output_type": "stream",
     "text": [
      "Successfully created repository: SW00448\n",
      "Initialized empty Git repository in /home/ec2-user/SageMaker/stt-combine-datasets/output/SW00448/.git/\n"
     ]
    },
    {
     "name": "stderr",
     "output_type": "stream",
     "text": [
      "hint: Using 'master' as the name for the initial branch. This default branch name\n",
      "hint: is subject to change. To configure the initial branch name to use in all\n",
      "hint: of your new repositories, which will suppress this warning, call:\n",
      "hint: \n",
      "hint: \tgit config --global init.defaultBranch <name>\n",
      "hint: \n",
      "hint: Names commonly chosen instead of 'master' are 'main', 'trunk' and\n",
      "hint: 'development'. The just-created branch can be renamed via this command:\n",
      "hint: \n",
      "hint: \tgit branch -m <name>\n",
      "error: No such remote: 'origin'\n",
      "fatal: couldn't find remote ref master\n"
     ]
    },
    {
     "name": "stdout",
     "output_type": "stream",
     "text": [
      "[master (root-commit) 5a80dbc] Initial commit\n",
      " 1 file changed, 1001 insertions(+)\n",
      " create mode 100644 SW00448.csv\n"
     ]
    },
    {
     "name": "stderr",
     "output_type": "stream",
     "text": [
      "To https://github.com/MonlamAI/SW00448.git\n",
      " * [new branch]      master -> master\n"
     ]
    },
    {
     "name": "stdout",
     "output_type": "stream",
     "text": [
      "Successfully created repository: SW00793\n",
      "Initialized empty Git repository in /home/ec2-user/SageMaker/stt-combine-datasets/output/SW00793/.git/\n"
     ]
    },
    {
     "name": "stderr",
     "output_type": "stream",
     "text": [
      "hint: Using 'master' as the name for the initial branch. This default branch name\n",
      "hint: is subject to change. To configure the initial branch name to use in all\n",
      "hint: of your new repositories, which will suppress this warning, call:\n",
      "hint: \n",
      "hint: \tgit config --global init.defaultBranch <name>\n",
      "hint: \n",
      "hint: Names commonly chosen instead of 'master' are 'main', 'trunk' and\n",
      "hint: 'development'. The just-created branch can be renamed via this command:\n",
      "hint: \n",
      "hint: \tgit branch -m <name>\n",
      "error: No such remote: 'origin'\n",
      "fatal: couldn't find remote ref master\n"
     ]
    },
    {
     "name": "stdout",
     "output_type": "stream",
     "text": [
      "[master (root-commit) 701eab0] Initial commit\n",
      " 1 file changed, 1001 insertions(+)\n",
      " create mode 100644 SW00793.csv\n"
     ]
    },
    {
     "name": "stderr",
     "output_type": "stream",
     "text": [
      "To https://github.com/MonlamAI/SW00793.git\n",
      " * [new branch]      master -> master\n"
     ]
    },
    {
     "name": "stdout",
     "output_type": "stream",
     "text": [
      "Successfully created repository: SW00721\n",
      "Initialized empty Git repository in /home/ec2-user/SageMaker/stt-combine-datasets/output/SW00721/.git/\n"
     ]
    },
    {
     "name": "stderr",
     "output_type": "stream",
     "text": [
      "hint: Using 'master' as the name for the initial branch. This default branch name\n",
      "hint: is subject to change. To configure the initial branch name to use in all\n",
      "hint: of your new repositories, which will suppress this warning, call:\n",
      "hint: \n",
      "hint: \tgit config --global init.defaultBranch <name>\n",
      "hint: \n",
      "hint: Names commonly chosen instead of 'master' are 'main', 'trunk' and\n",
      "hint: 'development'. The just-created branch can be renamed via this command:\n",
      "hint: \n",
      "hint: \tgit branch -m <name>\n",
      "error: No such remote: 'origin'\n",
      "fatal: couldn't find remote ref master\n"
     ]
    },
    {
     "name": "stdout",
     "output_type": "stream",
     "text": [
      "[master (root-commit) b13d159] Initial commit\n",
      " 1 file changed, 1001 insertions(+)\n",
      " create mode 100644 SW00721.csv\n"
     ]
    },
    {
     "name": "stderr",
     "output_type": "stream",
     "text": [
      "To https://github.com/MonlamAI/SW00721.git\n",
      " * [new branch]      master -> master\n"
     ]
    },
    {
     "name": "stdout",
     "output_type": "stream",
     "text": [
      "Successfully created repository: SW00898\n",
      "Initialized empty Git repository in /home/ec2-user/SageMaker/stt-combine-datasets/output/SW00898/.git/\n"
     ]
    },
    {
     "name": "stderr",
     "output_type": "stream",
     "text": [
      "hint: Using 'master' as the name for the initial branch. This default branch name\n",
      "hint: is subject to change. To configure the initial branch name to use in all\n",
      "hint: of your new repositories, which will suppress this warning, call:\n",
      "hint: \n",
      "hint: \tgit config --global init.defaultBranch <name>\n",
      "hint: \n",
      "hint: Names commonly chosen instead of 'master' are 'main', 'trunk' and\n",
      "hint: 'development'. The just-created branch can be renamed via this command:\n",
      "hint: \n",
      "hint: \tgit branch -m <name>\n",
      "error: No such remote: 'origin'\n",
      "fatal: couldn't find remote ref master\n"
     ]
    },
    {
     "name": "stdout",
     "output_type": "stream",
     "text": [
      "[master (root-commit) 777d373] Initial commit\n",
      " 1 file changed, 1001 insertions(+)\n",
      " create mode 100644 SW00898.csv\n"
     ]
    },
    {
     "name": "stderr",
     "output_type": "stream",
     "text": [
      "To https://github.com/MonlamAI/SW00898.git\n",
      " * [new branch]      master -> master\n"
     ]
    },
    {
     "name": "stdout",
     "output_type": "stream",
     "text": [
      "Successfully created repository: SW00190\n",
      "Initialized empty Git repository in /home/ec2-user/SageMaker/stt-combine-datasets/output/SW00190/.git/\n"
     ]
    },
    {
     "name": "stderr",
     "output_type": "stream",
     "text": [
      "hint: Using 'master' as the name for the initial branch. This default branch name\n",
      "hint: is subject to change. To configure the initial branch name to use in all\n",
      "hint: of your new repositories, which will suppress this warning, call:\n",
      "hint: \n",
      "hint: \tgit config --global init.defaultBranch <name>\n",
      "hint: \n",
      "hint: Names commonly chosen instead of 'master' are 'main', 'trunk' and\n",
      "hint: 'development'. The just-created branch can be renamed via this command:\n",
      "hint: \n",
      "hint: \tgit branch -m <name>\n",
      "error: No such remote: 'origin'\n",
      "fatal: couldn't find remote ref master\n"
     ]
    },
    {
     "name": "stdout",
     "output_type": "stream",
     "text": [
      "[master (root-commit) e1bb3bc] Initial commit\n",
      " 1 file changed, 1001 insertions(+)\n",
      " create mode 100644 SW00190.csv\n"
     ]
    },
    {
     "name": "stderr",
     "output_type": "stream",
     "text": [
      "To https://github.com/MonlamAI/SW00190.git\n",
      " * [new branch]      master -> master\n"
     ]
    },
    {
     "name": "stdout",
     "output_type": "stream",
     "text": [
      "Successfully created repository: SW00410\n",
      "Initialized empty Git repository in /home/ec2-user/SageMaker/stt-combine-datasets/output/SW00410/.git/\n"
     ]
    },
    {
     "name": "stderr",
     "output_type": "stream",
     "text": [
      "hint: Using 'master' as the name for the initial branch. This default branch name\n",
      "hint: is subject to change. To configure the initial branch name to use in all\n",
      "hint: of your new repositories, which will suppress this warning, call:\n",
      "hint: \n",
      "hint: \tgit config --global init.defaultBranch <name>\n",
      "hint: \n",
      "hint: Names commonly chosen instead of 'master' are 'main', 'trunk' and\n",
      "hint: 'development'. The just-created branch can be renamed via this command:\n",
      "hint: \n",
      "hint: \tgit branch -m <name>\n",
      "error: No such remote: 'origin'\n",
      "fatal: couldn't find remote ref master\n"
     ]
    },
    {
     "name": "stdout",
     "output_type": "stream",
     "text": [
      "[master (root-commit) 309915c] Initial commit\n",
      " 1 file changed, 1001 insertions(+)\n",
      " create mode 100644 SW00410.csv\n"
     ]
    },
    {
     "name": "stderr",
     "output_type": "stream",
     "text": [
      "To https://github.com/MonlamAI/SW00410.git\n",
      " * [new branch]      master -> master\n"
     ]
    },
    {
     "name": "stdout",
     "output_type": "stream",
     "text": [
      "Successfully created repository: SW00402\n",
      "Initialized empty Git repository in /home/ec2-user/SageMaker/stt-combine-datasets/output/SW00402/.git/\n"
     ]
    },
    {
     "name": "stderr",
     "output_type": "stream",
     "text": [
      "hint: Using 'master' as the name for the initial branch. This default branch name\n",
      "hint: is subject to change. To configure the initial branch name to use in all\n",
      "hint: of your new repositories, which will suppress this warning, call:\n",
      "hint: \n",
      "hint: \tgit config --global init.defaultBranch <name>\n",
      "hint: \n",
      "hint: Names commonly chosen instead of 'master' are 'main', 'trunk' and\n",
      "hint: 'development'. The just-created branch can be renamed via this command:\n",
      "hint: \n",
      "hint: \tgit branch -m <name>\n",
      "error: No such remote: 'origin'\n",
      "fatal: couldn't find remote ref master\n"
     ]
    },
    {
     "name": "stdout",
     "output_type": "stream",
     "text": [
      "[master (root-commit) e9715c3] Initial commit\n",
      " 1 file changed, 1001 insertions(+)\n",
      " create mode 100644 SW00402.csv\n"
     ]
    },
    {
     "name": "stderr",
     "output_type": "stream",
     "text": [
      "To https://github.com/MonlamAI/SW00402.git\n",
      " * [new branch]      master -> master\n"
     ]
    },
    {
     "name": "stdout",
     "output_type": "stream",
     "text": [
      "Successfully created repository: SW00698\n",
      "Initialized empty Git repository in /home/ec2-user/SageMaker/stt-combine-datasets/output/SW00698/.git/\n"
     ]
    },
    {
     "name": "stderr",
     "output_type": "stream",
     "text": [
      "hint: Using 'master' as the name for the initial branch. This default branch name\n",
      "hint: is subject to change. To configure the initial branch name to use in all\n",
      "hint: of your new repositories, which will suppress this warning, call:\n",
      "hint: \n",
      "hint: \tgit config --global init.defaultBranch <name>\n",
      "hint: \n",
      "hint: Names commonly chosen instead of 'master' are 'main', 'trunk' and\n",
      "hint: 'development'. The just-created branch can be renamed via this command:\n",
      "hint: \n",
      "hint: \tgit branch -m <name>\n",
      "error: No such remote: 'origin'\n",
      "fatal: couldn't find remote ref master\n"
     ]
    },
    {
     "name": "stdout",
     "output_type": "stream",
     "text": [
      "[master (root-commit) d74a3e2] Initial commit\n",
      " 1 file changed, 1001 insertions(+)\n",
      " create mode 100644 SW00698.csv\n"
     ]
    },
    {
     "name": "stderr",
     "output_type": "stream",
     "text": [
      "To https://github.com/MonlamAI/SW00698.git\n",
      " * [new branch]      master -> master\n"
     ]
    },
    {
     "name": "stdout",
     "output_type": "stream",
     "text": [
      "Successfully created repository: SW00267\n",
      "Initialized empty Git repository in /home/ec2-user/SageMaker/stt-combine-datasets/output/SW00267/.git/\n"
     ]
    },
    {
     "name": "stderr",
     "output_type": "stream",
     "text": [
      "hint: Using 'master' as the name for the initial branch. This default branch name\n",
      "hint: is subject to change. To configure the initial branch name to use in all\n",
      "hint: of your new repositories, which will suppress this warning, call:\n",
      "hint: \n",
      "hint: \tgit config --global init.defaultBranch <name>\n",
      "hint: \n",
      "hint: Names commonly chosen instead of 'master' are 'main', 'trunk' and\n",
      "hint: 'development'. The just-created branch can be renamed via this command:\n",
      "hint: \n",
      "hint: \tgit branch -m <name>\n",
      "error: No such remote: 'origin'\n",
      "fatal: couldn't find remote ref master\n"
     ]
    },
    {
     "name": "stdout",
     "output_type": "stream",
     "text": [
      "[master (root-commit) aea5bf4] Initial commit\n",
      " 1 file changed, 1001 insertions(+)\n",
      " create mode 100644 SW00267.csv\n"
     ]
    },
    {
     "name": "stderr",
     "output_type": "stream",
     "text": [
      "To https://github.com/MonlamAI/SW00267.git\n",
      " * [new branch]      master -> master\n"
     ]
    },
    {
     "name": "stdout",
     "output_type": "stream",
     "text": [
      "Successfully created repository: SW00585\n",
      "Initialized empty Git repository in /home/ec2-user/SageMaker/stt-combine-datasets/output/SW00585/.git/\n"
     ]
    },
    {
     "name": "stderr",
     "output_type": "stream",
     "text": [
      "hint: Using 'master' as the name for the initial branch. This default branch name\n",
      "hint: is subject to change. To configure the initial branch name to use in all\n",
      "hint: of your new repositories, which will suppress this warning, call:\n",
      "hint: \n",
      "hint: \tgit config --global init.defaultBranch <name>\n",
      "hint: \n",
      "hint: Names commonly chosen instead of 'master' are 'main', 'trunk' and\n",
      "hint: 'development'. The just-created branch can be renamed via this command:\n",
      "hint: \n",
      "hint: \tgit branch -m <name>\n",
      "error: No such remote: 'origin'\n",
      "fatal: couldn't find remote ref master\n"
     ]
    },
    {
     "name": "stdout",
     "output_type": "stream",
     "text": [
      "[master (root-commit) ad07807] Initial commit\n",
      " 1 file changed, 1001 insertions(+)\n",
      " create mode 100644 SW00585.csv\n"
     ]
    },
    {
     "name": "stderr",
     "output_type": "stream",
     "text": [
      "To https://github.com/MonlamAI/SW00585.git\n",
      " * [new branch]      master -> master\n"
     ]
    },
    {
     "name": "stdout",
     "output_type": "stream",
     "text": [
      "Successfully created repository: SW00153\n",
      "Initialized empty Git repository in /home/ec2-user/SageMaker/stt-combine-datasets/output/SW00153/.git/\n"
     ]
    },
    {
     "name": "stderr",
     "output_type": "stream",
     "text": [
      "hint: Using 'master' as the name for the initial branch. This default branch name\n",
      "hint: is subject to change. To configure the initial branch name to use in all\n",
      "hint: of your new repositories, which will suppress this warning, call:\n",
      "hint: \n",
      "hint: \tgit config --global init.defaultBranch <name>\n",
      "hint: \n",
      "hint: Names commonly chosen instead of 'master' are 'main', 'trunk' and\n",
      "hint: 'development'. The just-created branch can be renamed via this command:\n",
      "hint: \n",
      "hint: \tgit branch -m <name>\n",
      "error: No such remote: 'origin'\n",
      "fatal: couldn't find remote ref master\n"
     ]
    },
    {
     "name": "stdout",
     "output_type": "stream",
     "text": [
      "[master (root-commit) b210cfc] Initial commit\n",
      " 1 file changed, 1001 insertions(+)\n",
      " create mode 100644 SW00153.csv\n"
     ]
    },
    {
     "name": "stderr",
     "output_type": "stream",
     "text": [
      "To https://github.com/MonlamAI/SW00153.git\n",
      " * [new branch]      master -> master\n"
     ]
    },
    {
     "name": "stdout",
     "output_type": "stream",
     "text": [
      "Successfully created repository: SW00584\n",
      "Initialized empty Git repository in /home/ec2-user/SageMaker/stt-combine-datasets/output/SW00584/.git/\n"
     ]
    },
    {
     "name": "stderr",
     "output_type": "stream",
     "text": [
      "hint: Using 'master' as the name for the initial branch. This default branch name\n",
      "hint: is subject to change. To configure the initial branch name to use in all\n",
      "hint: of your new repositories, which will suppress this warning, call:\n",
      "hint: \n",
      "hint: \tgit config --global init.defaultBranch <name>\n",
      "hint: \n",
      "hint: Names commonly chosen instead of 'master' are 'main', 'trunk' and\n",
      "hint: 'development'. The just-created branch can be renamed via this command:\n",
      "hint: \n",
      "hint: \tgit branch -m <name>\n",
      "error: No such remote: 'origin'\n",
      "fatal: couldn't find remote ref master\n"
     ]
    },
    {
     "name": "stdout",
     "output_type": "stream",
     "text": [
      "[master (root-commit) 6f8d0e5] Initial commit\n",
      " 1 file changed, 1001 insertions(+)\n",
      " create mode 100644 SW00584.csv\n"
     ]
    },
    {
     "name": "stderr",
     "output_type": "stream",
     "text": [
      "To https://github.com/MonlamAI/SW00584.git\n",
      " * [new branch]      master -> master\n"
     ]
    },
    {
     "name": "stdout",
     "output_type": "stream",
     "text": [
      "Successfully created repository: SW00960\n",
      "Initialized empty Git repository in /home/ec2-user/SageMaker/stt-combine-datasets/output/SW00960/.git/\n"
     ]
    },
    {
     "name": "stderr",
     "output_type": "stream",
     "text": [
      "hint: Using 'master' as the name for the initial branch. This default branch name\n",
      "hint: is subject to change. To configure the initial branch name to use in all\n",
      "hint: of your new repositories, which will suppress this warning, call:\n",
      "hint: \n",
      "hint: \tgit config --global init.defaultBranch <name>\n",
      "hint: \n",
      "hint: Names commonly chosen instead of 'master' are 'main', 'trunk' and\n",
      "hint: 'development'. The just-created branch can be renamed via this command:\n",
      "hint: \n",
      "hint: \tgit branch -m <name>\n",
      "error: No such remote: 'origin'\n",
      "fatal: couldn't find remote ref master\n"
     ]
    },
    {
     "name": "stdout",
     "output_type": "stream",
     "text": [
      "[master (root-commit) f90fa8f] Initial commit\n",
      " 1 file changed, 1001 insertions(+)\n",
      " create mode 100644 SW00960.csv\n"
     ]
    },
    {
     "name": "stderr",
     "output_type": "stream",
     "text": [
      "To https://github.com/MonlamAI/SW00960.git\n",
      " * [new branch]      master -> master\n"
     ]
    },
    {
     "name": "stdout",
     "output_type": "stream",
     "text": [
      "Successfully created repository: SW00504\n",
      "Initialized empty Git repository in /home/ec2-user/SageMaker/stt-combine-datasets/output/SW00504/.git/\n"
     ]
    },
    {
     "name": "stderr",
     "output_type": "stream",
     "text": [
      "hint: Using 'master' as the name for the initial branch. This default branch name\n",
      "hint: is subject to change. To configure the initial branch name to use in all\n",
      "hint: of your new repositories, which will suppress this warning, call:\n",
      "hint: \n",
      "hint: \tgit config --global init.defaultBranch <name>\n",
      "hint: \n",
      "hint: Names commonly chosen instead of 'master' are 'main', 'trunk' and\n",
      "hint: 'development'. The just-created branch can be renamed via this command:\n",
      "hint: \n",
      "hint: \tgit branch -m <name>\n",
      "error: No such remote: 'origin'\n",
      "fatal: couldn't find remote ref master\n"
     ]
    },
    {
     "name": "stdout",
     "output_type": "stream",
     "text": [
      "[master (root-commit) 0aad396] Initial commit\n",
      " 1 file changed, 1001 insertions(+)\n",
      " create mode 100644 SW00504.csv\n"
     ]
    },
    {
     "name": "stderr",
     "output_type": "stream",
     "text": [
      "To https://github.com/MonlamAI/SW00504.git\n",
      " * [new branch]      master -> master\n",
      "Request POST /orgs/MonlamAI/repos failed with 403: Forbidden\n",
      "Setting next backoff to 60s\n",
      "Request POST /orgs/MonlamAI/repos failed with 403: Forbidden\n",
      "Setting next backoff to 60s\n",
      "Request POST /orgs/MonlamAI/repos failed with 403: Forbidden\n",
      "Setting next backoff to 60s\n",
      "Request POST /orgs/MonlamAI/repos failed with 403: Forbidden\n",
      "Setting next backoff to 60s\n",
      "Request POST /orgs/MonlamAI/repos failed with 403: Forbidden\n",
      "Setting next backoff to 60s\n",
      "Request POST /orgs/MonlamAI/repos failed with 403: Forbidden\n",
      "Setting next backoff to 60s\n",
      "Request POST /orgs/MonlamAI/repos failed with 403: Forbidden\n",
      "Setting next backoff to 60s\n",
      "Request POST /orgs/MonlamAI/repos failed with 403: Forbidden\n",
      "Setting next backoff to 60s\n",
      "Request POST /orgs/MonlamAI/repos failed with 403: Forbidden\n",
      "Setting next backoff to 60s\n",
      "Request POST /orgs/MonlamAI/repos failed with 403: Forbidden\n",
      "Setting next backoff to 60s\n",
      "Request POST /orgs/MonlamAI/repos failed with 403: Forbidden\n"
     ]
    },
    {
     "name": "stdout",
     "output_type": "stream",
     "text": [
      "Failed to create repository: SW00381\n",
      "Error: HTTPSConnectionPool(host='api.github.com', port=443): Max retries exceeded with url: /orgs/MonlamAI/repos (Caused by ResponseError('too many 403 error responses'))\n"
     ]
    },
    {
     "name": "stderr",
     "output_type": "stream",
     "text": [
      "Request POST /orgs/MonlamAI/repos failed with 403: Forbidden\n",
      "Setting next backoff to 60s\n",
      "Request POST /orgs/MonlamAI/repos failed with 403: Forbidden\n",
      "Setting next backoff to 60s\n",
      "Request POST /orgs/MonlamAI/repos failed with 403: Forbidden\n",
      "Setting next backoff to 60s\n",
      "Request POST /orgs/MonlamAI/repos failed with 403: Forbidden\n",
      "Setting next backoff to 60s\n",
      "Request POST /orgs/MonlamAI/repos failed with 403: Forbidden\n",
      "Setting next backoff to 60s\n",
      "Request POST /orgs/MonlamAI/repos failed with 403: Forbidden\n",
      "Setting next backoff to 60s\n",
      "Request POST /orgs/MonlamAI/repos failed with 403: Forbidden\n",
      "Setting next backoff to 60s\n",
      "Request POST /orgs/MonlamAI/repos failed with 403: Forbidden\n",
      "Setting next backoff to 60s\n",
      "Request POST /orgs/MonlamAI/repos failed with 403: Forbidden\n",
      "Setting next backoff to 60s\n",
      "Request POST /orgs/MonlamAI/repos failed with 403: Forbidden\n",
      "Setting next backoff to 60s\n",
      "Request POST /orgs/MonlamAI/repos failed with 403: Forbidden\n"
     ]
    },
    {
     "name": "stdout",
     "output_type": "stream",
     "text": [
      "Failed to create repository: SW00057\n",
      "Error: HTTPSConnectionPool(host='api.github.com', port=443): Max retries exceeded with url: /orgs/MonlamAI/repos (Caused by ResponseError('too many 403 error responses'))\n"
     ]
    },
    {
     "name": "stderr",
     "output_type": "stream",
     "text": [
      "Request POST /orgs/MonlamAI/repos failed with 403: Forbidden\n",
      "Setting next backoff to 60s\n",
      "Request POST /orgs/MonlamAI/repos failed with 403: Forbidden\n",
      "Setting next backoff to 60s\n",
      "Request POST /orgs/MonlamAI/repos failed with 403: Forbidden\n",
      "Setting next backoff to 60s\n",
      "Request POST /orgs/MonlamAI/repos failed with 403: Forbidden\n",
      "Setting next backoff to 60s\n",
      "Request POST /orgs/MonlamAI/repos failed with 403: Forbidden\n",
      "Setting next backoff to 60s\n",
      "Request POST /orgs/MonlamAI/repos failed with 403: Forbidden\n",
      "Setting next backoff to 60s\n",
      "Request POST /orgs/MonlamAI/repos failed with 403: Forbidden\n",
      "Setting next backoff to 60s\n",
      "Request POST /orgs/MonlamAI/repos failed with 403: Forbidden\n",
      "Setting next backoff to 60s\n",
      "Request POST /orgs/MonlamAI/repos failed with 403: Forbidden\n",
      "Setting next backoff to 60s\n",
      "Request POST /orgs/MonlamAI/repos failed with 403: Forbidden\n",
      "Setting next backoff to 60s\n"
     ]
    }
   ],
   "source": [
    "# Specify your GitHub organization name and personal access token\n",
    "org_name = 'MonlamAI'\n",
    "token = 'your_token'  # Replace with your actual token\n",
    "\n",
    "# Output directory containing the folders\n",
    "output_dir = 'output'\n",
    "\n",
    "# Create repositories for each folder in the output directory\n",
    "create_repos_for_folders(output_dir, org_name, token)\n"
   ]
  },
  {
   "cell_type": "code",
   "execution_count": null,
   "metadata": {},
   "outputs": [],
   "source": []
  }
 ],
 "metadata": {
  "kernelspec": {
   "display_name": "conda_python3",
   "language": "python",
   "name": "conda_python3"
  },
  "language_info": {
   "codemirror_mode": {
    "name": "ipython",
    "version": 3
   },
   "file_extension": ".py",
   "mimetype": "text/x-python",
   "name": "python",
   "nbconvert_exporter": "python",
   "pygments_lexer": "ipython3",
   "version": "3.10.14"
  }
 },
 "nbformat": 4,
 "nbformat_minor": 4
}
