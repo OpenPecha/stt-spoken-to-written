{
 "cells": [
  {
   "cell_type": "code",
   "execution_count": 1,
   "id": "c18d6b17-a01e-4467-b6b5-5355ea4edfc8",
   "metadata": {
    "tags": []
   },
   "outputs": [
    {
     "name": "stdout",
     "output_type": "stream",
     "text": [
      "                           PRE OpenSLR/\n",
      "                           PRE TP_audio/\n",
      "                           PRE backup/\n",
      "                           PRE dataset/\n",
      "                           PRE munsel/\n",
      "                           PRE mv_chunks/\n",
      "                           PRE stt-split-audio/\n",
      "                           PRE stt_hs/\n",
      "                           PRE tsv/\n",
      "                           PRE wav16k/\n"
     ]
    }
   ],
   "source": [
    "!aws s3 ls s3://monlam.ai.stt/"
   ]
  },
  {
   "cell_type": "code",
   "execution_count": 1,
   "id": "dcdc9785-3ea6-41e0-b705-595ec8dc1559",
   "metadata": {
    "tags": []
   },
   "outputs": [
    {
     "name": "stdout",
     "output_type": "stream",
     "text": [
      "2024-07-15 15:30:18  312345523 01_stt_pecha_tools.csv\n",
      "2024-07-15 09:44:48  306826362 01_stt_pecha_tools.tsv\n",
      "2024-03-21 14:02:22   81870452 02_prodigy_finalised.csv\n",
      "2024-08-27 22:57:33       4375 04_bad_apples.csv\n",
      "2024-06-04 14:16:43       4375 04_bad_apples_04_june_2024.csv\n",
      "2024-08-27 22:57:22  553903935 04_combine_all.csv\n",
      "2024-06-12 11:24:27  661521907 04_combine_all_04_jun_2024.csv\n",
      "2024-06-04 14:16:20  416357036 04_combine_all_04_june_2024.csv\n",
      "2024-07-15 17:14:01    2964580 05_benchmark.csv\n",
      "2024-07-15 17:14:06    2964580 05_benchmarkings.csv\n",
      "2024-07-15 11:08:49    2979774 05_benchmarks.tsv\n",
      "2024-07-15 09:24:01  394183820 06_train.csv\n",
      "2024-07-15 11:11:25  321683467 06_train.tsv\n",
      "2024-07-15 16:22:27  456777429 06_training.csv\n",
      "2024-05-24 17:04:34    5996626 06_val.csv\n",
      "2024-07-15 11:11:34    6558728 06_val.tsv\n",
      "2024-07-15 16:22:41    6972642 06_validation.csv\n",
      "2024-06-12 16:39:28  661521907 combine_all_12_06_2024.csv\n",
      "2024-06-12 16:37:56  661521907 latest.csv\n",
      "2024-08-09 14:39:37  342200981 stt_all.tsv\n",
      "2024-05-24 17:17:53       1558 vocab.json\n"
     ]
    }
   ],
   "source": [
    "!aws s3 ls s3://monlam.ai.stt/tsv/"
   ]
  },
  {
   "cell_type": "code",
   "execution_count": null,
   "id": "35970006-7ee1-41aa-b138-f278053283c4",
   "metadata": {},
   "outputs": [],
   "source": [
    "!aws s3 cp s3://monlam.ai.stt/tsv/04_combine_all.csv combine_all.csv #july 15 "
   ]
  },
  {
   "cell_type": "code",
   "execution_count": 25,
   "id": "dbe9d3ec-dcf9-4b95-88a0-249f4da89929",
   "metadata": {
    "tags": []
   },
   "outputs": [],
   "source": [
    "import pandas as pd \n",
    "\n",
    "df = pd.read_csv('combine_all.csv')"
   ]
  },
  {
   "cell_type": "code",
   "execution_count": 26,
   "id": "410ccf55-d63b-4c03-b35d-b17ba3f210ec",
   "metadata": {
    "tags": []
   },
   "outputs": [
    {
     "data": {
      "text/html": [
       "<div>\n",
       "<style scoped>\n",
       "    .dataframe tbody tr th:only-of-type {\n",
       "        vertical-align: middle;\n",
       "    }\n",
       "\n",
       "    .dataframe tbody tr th {\n",
       "        vertical-align: top;\n",
       "    }\n",
       "\n",
       "    .dataframe thead th {\n",
       "        text-align: right;\n",
       "    }\n",
       "</style>\n",
       "<table border=\"1\" class=\"dataframe\">\n",
       "  <thead>\n",
       "    <tr style=\"text-align: right;\">\n",
       "      <th></th>\n",
       "      <th>file_name</th>\n",
       "      <th>uni</th>\n",
       "      <th>wylie</th>\n",
       "      <th>url</th>\n",
       "      <th>dept</th>\n",
       "      <th>grade</th>\n",
       "      <th>char_len</th>\n",
       "      <th>audio_len</th>\n",
       "    </tr>\n",
       "  </thead>\n",
       "  <tbody>\n",
       "    <tr>\n",
       "      <th>0</th>\n",
       "      <td>STT_AB00321_1250_4873882_to_4876083</td>\n",
       "      <td>གཉིས་པ་མཚོ་བཤད་པ་ནི། རྩ་བ་ལས།</td>\n",
       "      <td>gnyis pa mtsho bshad pa ni/_rtsa ba las/__</td>\n",
       "      <td>https://d38pmlk0v88drf.cloudfront.net/wav16k/S...</td>\n",
       "      <td>STT_AB</td>\n",
       "      <td>2</td>\n",
       "      <td>31</td>\n",
       "      <td>2.201</td>\n",
       "    </tr>\n",
       "    <tr>\n",
       "      <th>1</th>\n",
       "      <td>STT_AB00487_0422_1449769_to_1450759</td>\n",
       "      <td>འོན་ཀྱང་</td>\n",
       "      <td>'on kyang _</td>\n",
       "      <td>https://d38pmlk0v88drf.cloudfront.net/wav16k/S...</td>\n",
       "      <td>STT_AB</td>\n",
       "      <td>2</td>\n",
       "      <td>9</td>\n",
       "      <td>0.990</td>\n",
       "    </tr>\n",
       "    <tr>\n",
       "      <th>2</th>\n",
       "      <td>STT_AB00321_1503_5948029_to_5952397</td>\n",
       "      <td>འོ་ན་དབྱར་དགུན་གྱི་ཉི་མ་ལྡོག་དུས་གང་ཞེ་ན། རྩ་བ...</td>\n",
       "      <td>'o na dbyar dgun gyi nyi ma ldog dus gang zhe ...</td>\n",
       "      <td>https://d38pmlk0v88drf.cloudfront.net/wav16k/S...</td>\n",
       "      <td>STT_AB</td>\n",
       "      <td>2</td>\n",
       "      <td>52</td>\n",
       "      <td>4.368</td>\n",
       "    </tr>\n",
       "    <tr>\n",
       "      <th>3</th>\n",
       "      <td>STT_AB00321_1280_4983216_to_4985213</td>\n",
       "      <td>འཛམ་བུ་གླིང་སྟེ་ངོས་གསུམ་ལ།</td>\n",
       "      <td>'dzam bu gling ste ngos gsum la/__</td>\n",
       "      <td>https://d38pmlk0v88drf.cloudfront.net/wav16k/S...</td>\n",
       "      <td>STT_AB</td>\n",
       "      <td>2</td>\n",
       "      <td>29</td>\n",
       "      <td>1.997</td>\n",
       "    </tr>\n",
       "    <tr>\n",
       "      <th>4</th>\n",
       "      <td>STT_AB00321_1278_4974650_to_4981083</td>\n",
       "      <td>དེ་ནས་ནི། གླིང་རྣམས་ཡིན་ནོ། ཞེས་བཤད་ན། གླིང་རྣ...</td>\n",
       "      <td>de nas ni/_gling rnams yin no/_zhes bshad na/_...</td>\n",
       "      <td>https://d38pmlk0v88drf.cloudfront.net/wav16k/S...</td>\n",
       "      <td>STT_AB</td>\n",
       "      <td>2</td>\n",
       "      <td>68</td>\n",
       "      <td>6.433</td>\n",
       "    </tr>\n",
       "  </tbody>\n",
       "</table>\n",
       "</div>"
      ],
      "text/plain": [
       "                             file_name  \\\n",
       "0  STT_AB00321_1250_4873882_to_4876083   \n",
       "1  STT_AB00487_0422_1449769_to_1450759   \n",
       "2  STT_AB00321_1503_5948029_to_5952397   \n",
       "3  STT_AB00321_1280_4983216_to_4985213   \n",
       "4  STT_AB00321_1278_4974650_to_4981083   \n",
       "\n",
       "                                                 uni  \\\n",
       "0                    གཉིས་པ་མཚོ་བཤད་པ་ནི། རྩ་བ་ལས།     \n",
       "1                                          འོན་ཀྱང་    \n",
       "2  འོ་ན་དབྱར་དགུན་གྱི་ཉི་མ་ལྡོག་དུས་གང་ཞེ་ན། རྩ་བ...   \n",
       "3                      འཛམ་བུ་གླིང་སྟེ་ངོས་གསུམ་ལ།     \n",
       "4  དེ་ནས་ནི། གླིང་རྣམས་ཡིན་ནོ། ཞེས་བཤད་ན། གླིང་རྣ...   \n",
       "\n",
       "                                               wylie  \\\n",
       "0         gnyis pa mtsho bshad pa ni/_rtsa ba las/__   \n",
       "1                                        'on kyang _   \n",
       "2  'o na dbyar dgun gyi nyi ma ldog dus gang zhe ...   \n",
       "3                 'dzam bu gling ste ngos gsum la/__   \n",
       "4  de nas ni/_gling rnams yin no/_zhes bshad na/_...   \n",
       "\n",
       "                                                 url    dept  grade  char_len  \\\n",
       "0  https://d38pmlk0v88drf.cloudfront.net/wav16k/S...  STT_AB      2        31   \n",
       "1  https://d38pmlk0v88drf.cloudfront.net/wav16k/S...  STT_AB      2         9   \n",
       "2  https://d38pmlk0v88drf.cloudfront.net/wav16k/S...  STT_AB      2        52   \n",
       "3  https://d38pmlk0v88drf.cloudfront.net/wav16k/S...  STT_AB      2        29   \n",
       "4  https://d38pmlk0v88drf.cloudfront.net/wav16k/S...  STT_AB      2        68   \n",
       "\n",
       "   audio_len  \n",
       "0      2.201  \n",
       "1      0.990  \n",
       "2      4.368  \n",
       "3      1.997  \n",
       "4      6.433  "
      ]
     },
     "execution_count": 26,
     "metadata": {},
     "output_type": "execute_result"
    }
   ],
   "source": [
    "df.head()"
   ]
  },
  {
   "cell_type": "code",
   "execution_count": 27,
   "id": "bf669aa7-3633-4adc-8231-6ae8524795e9",
   "metadata": {
    "tags": []
   },
   "outputs": [
    {
     "data": {
      "text/plain": [
       "1071157"
      ]
     },
     "execution_count": 27,
     "metadata": {},
     "output_type": "execute_result"
    }
   ],
   "source": [
    "df.__len__()"
   ]
  },
  {
   "cell_type": "code",
   "execution_count": 28,
   "id": "3804847d-d7af-4c7f-bbea-3d3c2b229a50",
   "metadata": {
    "tags": []
   },
   "outputs": [],
   "source": [
    "df = df[df['grade'] == 3]\n"
   ]
  },
  {
   "cell_type": "code",
   "execution_count": 29,
   "id": "c9cb6d7f-e525-46a0-b585-d0d283e9cef3",
   "metadata": {
    "tags": []
   },
   "outputs": [
    {
     "data": {
      "text/plain": [
       "911145"
      ]
     },
     "execution_count": 29,
     "metadata": {},
     "output_type": "execute_result"
    }
   ],
   "source": [
    "len(df)"
   ]
  },
  {
   "cell_type": "code",
   "execution_count": 30,
   "id": "acfa9e2b-3649-4155-be3b-8bf4f03f2c2d",
   "metadata": {
    "tags": []
   },
   "outputs": [
    {
     "data": {
      "text/html": [
       "<div>\n",
       "<style scoped>\n",
       "    .dataframe tbody tr th:only-of-type {\n",
       "        vertical-align: middle;\n",
       "    }\n",
       "\n",
       "    .dataframe tbody tr th {\n",
       "        vertical-align: top;\n",
       "    }\n",
       "\n",
       "    .dataframe thead th {\n",
       "        text-align: right;\n",
       "    }\n",
       "</style>\n",
       "<table border=\"1\" class=\"dataframe\">\n",
       "  <thead>\n",
       "    <tr style=\"text-align: right;\">\n",
       "      <th></th>\n",
       "      <th>file_name</th>\n",
       "      <th>uni</th>\n",
       "      <th>wylie</th>\n",
       "      <th>url</th>\n",
       "      <th>dept</th>\n",
       "      <th>grade</th>\n",
       "      <th>char_len</th>\n",
       "      <th>audio_len</th>\n",
       "    </tr>\n",
       "  </thead>\n",
       "  <tbody>\n",
       "    <tr>\n",
       "      <th>194</th>\n",
       "      <td>STT_AB00284_0019_112790_to_115520</td>\n",
       "      <td>འདི་ཕྱིའི་བློ་གཏད་དཀོན་མཆོག་གསུམ་ལ་གྱིས།</td>\n",
       "      <td>'di phyi'i blo gtad dkon mchog gsum la gyis/__</td>\n",
       "      <td>https://d38pmlk0v88drf.cloudfront.net/wav16k/S...</td>\n",
       "      <td>STT_AB</td>\n",
       "      <td>3</td>\n",
       "      <td>42</td>\n",
       "      <td>2.730</td>\n",
       "    </tr>\n",
       "    <tr>\n",
       "      <th>1362</th>\n",
       "      <td>STT_AB00177_0164_850571_to_852534</td>\n",
       "      <td>སྔ་མའི་གནས་ཚུལ་བརྗོད་པ་སོགས།</td>\n",
       "      <td>snga ma'i gnas tshul brjod pa sogs/__</td>\n",
       "      <td>https://d38pmlk0v88drf.cloudfront.net/wav16k/S...</td>\n",
       "      <td>STT_AB</td>\n",
       "      <td>3</td>\n",
       "      <td>30</td>\n",
       "      <td>1.963</td>\n",
       "    </tr>\n",
       "    <tr>\n",
       "      <th>1889</th>\n",
       "      <td>STT_AB00291_0035_251851_to_254052</td>\n",
       "      <td>རྒྱལ་བུའི་བསོད་ནམས་དང་མཐུ་སྟོབས་ཀྱིས་</td>\n",
       "      <td>rgyal bu'i bsod nams dang mthu stobs kyis _</td>\n",
       "      <td>https://d38pmlk0v88drf.cloudfront.net/wav16k/S...</td>\n",
       "      <td>STT_AB</td>\n",
       "      <td>3</td>\n",
       "      <td>38</td>\n",
       "      <td>2.201</td>\n",
       "    </tr>\n",
       "    <tr>\n",
       "      <th>2768</th>\n",
       "      <td>STT_AB00283_0022_153472_to_155878</td>\n",
       "      <td>སློང་མི་བྱུང་ན་བུ་དང་ཆུང་མ་སྟེར།</td>\n",
       "      <td>slong mi byung na bu dang chung ma ster/__</td>\n",
       "      <td>https://d38pmlk0v88drf.cloudfront.net/wav16k/S...</td>\n",
       "      <td>STT_AB</td>\n",
       "      <td>3</td>\n",
       "      <td>34</td>\n",
       "      <td>2.406</td>\n",
       "    </tr>\n",
       "    <tr>\n",
       "      <th>2775</th>\n",
       "      <td>STT_AB00299_0108_470639_to_472022</td>\n",
       "      <td>ཁྭ་ཏས་འུག་པ་རྨ་ཕབ་</td>\n",
       "      <td>khwa tas 'ug pa rma phab _</td>\n",
       "      <td>https://d38pmlk0v88drf.cloudfront.net/wav16k/S...</td>\n",
       "      <td>STT_AB</td>\n",
       "      <td>3</td>\n",
       "      <td>19</td>\n",
       "      <td>1.383</td>\n",
       "    </tr>\n",
       "  </tbody>\n",
       "</table>\n",
       "</div>"
      ],
      "text/plain": [
       "                              file_name  \\\n",
       "194   STT_AB00284_0019_112790_to_115520   \n",
       "1362  STT_AB00177_0164_850571_to_852534   \n",
       "1889  STT_AB00291_0035_251851_to_254052   \n",
       "2768  STT_AB00283_0022_153472_to_155878   \n",
       "2775  STT_AB00299_0108_470639_to_472022   \n",
       "\n",
       "                                             uni  \\\n",
       "194   འདི་ཕྱིའི་བློ་གཏད་དཀོན་མཆོག་གསུམ་ལ་གྱིས།     \n",
       "1362              སྔ་མའི་གནས་ཚུལ་བརྗོད་པ་སོགས།     \n",
       "1889      རྒྱལ་བུའི་བསོད་ནམས་དང་མཐུ་སྟོབས་ཀྱིས་    \n",
       "2768          སློང་མི་བྱུང་ན་བུ་དང་ཆུང་མ་སྟེར།     \n",
       "2775                         ཁྭ་ཏས་འུག་པ་རྨ་ཕབ་    \n",
       "\n",
       "                                               wylie  \\\n",
       "194   'di phyi'i blo gtad dkon mchog gsum la gyis/__   \n",
       "1362           snga ma'i gnas tshul brjod pa sogs/__   \n",
       "1889     rgyal bu'i bsod nams dang mthu stobs kyis _   \n",
       "2768      slong mi byung na bu dang chung ma ster/__   \n",
       "2775                      khwa tas 'ug pa rma phab _   \n",
       "\n",
       "                                                    url    dept  grade  \\\n",
       "194   https://d38pmlk0v88drf.cloudfront.net/wav16k/S...  STT_AB      3   \n",
       "1362  https://d38pmlk0v88drf.cloudfront.net/wav16k/S...  STT_AB      3   \n",
       "1889  https://d38pmlk0v88drf.cloudfront.net/wav16k/S...  STT_AB      3   \n",
       "2768  https://d38pmlk0v88drf.cloudfront.net/wav16k/S...  STT_AB      3   \n",
       "2775  https://d38pmlk0v88drf.cloudfront.net/wav16k/S...  STT_AB      3   \n",
       "\n",
       "      char_len  audio_len  \n",
       "194         42      2.730  \n",
       "1362        30      1.963  \n",
       "1889        38      2.201  \n",
       "2768        34      2.406  \n",
       "2775        19      1.383  "
      ]
     },
     "execution_count": 30,
     "metadata": {},
     "output_type": "execute_result"
    }
   ],
   "source": [
    "df.head()"
   ]
  },
  {
   "cell_type": "code",
   "execution_count": 31,
   "id": "590463e6-df73-48f8-b995-19883409c364",
   "metadata": {
    "tags": []
   },
   "outputs": [],
   "source": [
    "df.to_csv('combine_all_grade_3.csv')"
   ]
  },
  {
   "cell_type": "code",
   "execution_count": 32,
   "id": "ac3409e0-acd4-4ce1-88e5-94ff44967553",
   "metadata": {
    "tags": []
   },
   "outputs": [
    {
     "name": "stdout",
     "output_type": "stream",
     "text": [
      "CSV files created for each department.\n"
     ]
    }
   ],
   "source": [
    "grouped = df.groupby('dept')\n",
    "\n",
    "# Iterate through each group and save to a CSV file\n",
    "for department, group in grouped:\n",
    "    # Create a CSV file name based on the department name\n",
    "    file_name = f\"output/{department}.csv\"\n",
    "    # Save the group data to the CSV file\n",
    "    group.to_csv(file_name, index=False)\n",
    "\n",
    "print(\"CSV files created for each department.\")"
   ]
  },
  {
   "cell_type": "code",
   "execution_count": 33,
   "id": "851d53de-b216-4198-a8b3-809be0849878",
   "metadata": {
    "tags": []
   },
   "outputs": [
    {
     "name": "stdout",
     "output_type": "stream",
     "text": [
      "CSV files created for each 5000-row chunk.\n"
     ]
    }
   ],
   "source": [
    "import pandas as pd \n",
    "\n",
    "# Load the DataFrame\n",
    "df = pd.read_csv('output/STT_NS.csv')\n",
    "\n",
    "# Determine the number of chunks\n",
    "chunk_size = 5000\n",
    "num_chunks = len(df) // chunk_size + (1 if len(df) % chunk_size > 0 else 0)\n",
    "\n",
    "# Iterate through each chunk and save to a CSV file\n",
    "for i in range(num_chunks):\n",
    "    # Define the start and end index for the chunk\n",
    "    start_index = i * chunk_size\n",
    "    end_index = start_index + chunk_size\n",
    "    # Slice the DataFrame to get the chunk\n",
    "    chunk = df[start_index:end_index]\n",
    "    # Save the chunk to a CSV file\n",
    "    chunk.to_csv(f'csv_output/NS/STT_NS_{i+1}.csv', index=False)\n",
    "\n",
    "print(\"CSV files created for each 5000-row chunk.\")"
   ]
  },
  {
   "cell_type": "code",
   "execution_count": 34,
   "id": "f4eecefb-78ad-48aa-8701-a66aabd99ba0",
   "metadata": {
    "collapsed": true,
    "jupyter": {
     "outputs_hidden": true
    },
    "tags": []
   },
   "outputs": [
    {
     "name": "stdout",
     "output_type": "stream",
     "text": [
      "JSON file created.\n",
      "JSON file created.\n",
      "JSON file created.\n",
      "JSON file created.\n",
      "JSON file created.\n",
      "JSON file created.\n",
      "JSON file created.\n",
      "JSON file created.\n",
      "JSON file created.\n",
      "JSON file created.\n",
      "JSON file created.\n",
      "JSON file created.\n",
      "JSON file created.\n",
      "JSON file created.\n",
      "JSON file created.\n",
      "JSON file created.\n",
      "JSON file created.\n",
      "JSON file created.\n",
      "JSON file created.\n",
      "JSON file created.\n",
      "JSON file created.\n",
      "JSON file created.\n",
      "JSON file created.\n",
      "JSON file created.\n",
      "JSON file created.\n",
      "JSON file created.\n",
      "JSON file created.\n",
      "JSON file created.\n",
      "JSON file created.\n",
      "JSON file created.\n",
      "JSON file created.\n"
     ]
    }
   ],
   "source": [
    "for i in range(num_chunks):\n",
    "    df = pd.read_csv(f'csv_output/NS/STT_NS_{i+1}.csv')\n",
    "    \n",
    "    selected_columns = df[['url', 'uni']].rename(columns={'url': 'audioURL', 'uni': 'original_text'})\n",
    "\n",
    "    # Convert the selected columns to JSON\n",
    "    json_data = selected_columns.to_json(orient='records', force_ascii=False)\n",
    "    \n",
    "    json_data_cleaned = json_data.replace('\\\\/', '/')\n",
    "\n",
    "    \n",
    "    # Save the JSON data to a file\n",
    "    with open(f'json_output/NS/STT_NS_{i+1}.json', 'w') as f:\n",
    "        f.write(json_data_cleaned)\n",
    "\n",
    "    print(\"JSON file created.\")\n",
    "\n"
   ]
  },
  {
   "cell_type": "code",
   "execution_count": 15,
   "id": "0286243e-845a-496e-882d-75f784fc32e6",
   "metadata": {
    "tags": []
   },
   "outputs": [],
   "source": [
    "import pandas as pd \n",
    "\n",
    "df = pd.read_csv('csv_output/NS/STT_NS_1.csv')"
   ]
  },
  {
   "cell_type": "code",
   "execution_count": 16,
   "id": "2814b350-463a-4e4e-a5f9-5143e07e74bf",
   "metadata": {
    "tags": []
   },
   "outputs": [
    {
     "data": {
      "text/html": [
       "<div>\n",
       "<style scoped>\n",
       "    .dataframe tbody tr th:only-of-type {\n",
       "        vertical-align: middle;\n",
       "    }\n",
       "\n",
       "    .dataframe tbody tr th {\n",
       "        vertical-align: top;\n",
       "    }\n",
       "\n",
       "    .dataframe thead th {\n",
       "        text-align: right;\n",
       "    }\n",
       "</style>\n",
       "<table border=\"1\" class=\"dataframe\">\n",
       "  <thead>\n",
       "    <tr style=\"text-align: right;\">\n",
       "      <th></th>\n",
       "      <th>file_name</th>\n",
       "      <th>uni</th>\n",
       "      <th>wylie</th>\n",
       "      <th>url</th>\n",
       "      <th>dept</th>\n",
       "      <th>grade</th>\n",
       "      <th>char_len</th>\n",
       "      <th>audio_len</th>\n",
       "    </tr>\n",
       "  </thead>\n",
       "  <tbody>\n",
       "    <tr>\n",
       "      <th>0</th>\n",
       "      <td>STT_NS0153_0055_779837_to_786373</td>\n",
       "      <td>གཅིག་ཡེ་ཞུ་ཡི་མ་རེད། གཉིས་ཆ་སློབ་སྦྱོང་ཡོད་རྒྱ...</td>\n",
       "      <td>gcig ye zhu yi ma red/_gnyis cha slob sbyong y...</td>\n",
       "      <td>https://d38pmlk0v88drf.cloudfront.net/wav16k/S...</td>\n",
       "      <td>STT_NS</td>\n",
       "      <td>2</td>\n",
       "      <td>114</td>\n",
       "      <td>6.536</td>\n",
       "    </tr>\n",
       "    <tr>\n",
       "      <th>1</th>\n",
       "      <td>STT_NS0131_0116_867552_to_874994</td>\n",
       "      <td>ཡི་ན་སློབ་གྲྭ་ལ་དཀའ་ངལ་ཆུང་ཆུང་ཅིག་གིས་ཆེད་དུ་...</td>\n",
       "      <td>yi na slob grwa la dka' ngal chung chung cig g...</td>\n",
       "      <td>https://d38pmlk0v88drf.cloudfront.net/wav16k/S...</td>\n",
       "      <td>STT_NS</td>\n",
       "      <td>2</td>\n",
       "      <td>159</td>\n",
       "      <td>7.442</td>\n",
       "    </tr>\n",
       "    <tr>\n",
       "      <th>2</th>\n",
       "      <td>STT_NS_M0347_0194_1276462_to_1280166</td>\n",
       "      <td>ག་རེ་ལབ་ན། ཚོགས་ཐེངས་གཉིས་པ་སྟོང་པ་ད་ཡོད་རཱ། ཨ...</td>\n",
       "      <td>ga re lab na/_tshogs thengs gnyis pa stong pa ...</td>\n",
       "      <td>https://d38pmlk0v88drf.cloudfront.net/wav16k/S...</td>\n",
       "      <td>STT_NS</td>\n",
       "      <td>3</td>\n",
       "      <td>74</td>\n",
       "      <td>3.704</td>\n",
       "    </tr>\n",
       "    <tr>\n",
       "      <th>3</th>\n",
       "      <td>STT_NS_M0348_0048_366493_to_369172</td>\n",
       "      <td>དཔེ་ཁུག་ཡོད་བ་ཨེ་འདྲའི་རང་བཞག་ཡ་གི་ཡོད་བ་ལུགས་...</td>\n",
       "      <td>dpe khug yod ba e 'dra'i rang bzhag ya gi yod ...</td>\n",
       "      <td>https://d38pmlk0v88drf.cloudfront.net/wav16k/S...</td>\n",
       "      <td>STT_NS</td>\n",
       "      <td>3</td>\n",
       "      <td>62</td>\n",
       "      <td>2.679</td>\n",
       "    </tr>\n",
       "    <tr>\n",
       "      <th>4</th>\n",
       "      <td>STT_NS_M0348_0077_572265_to_575966</td>\n",
       "      <td>རྩེད་མོ་བརྩེས་ནས་བསྡད་ཡ་འདྲ་བོ་དང་ཡོད་རཱ། ཨེ་ན...</td>\n",
       "      <td>rtsed mo brtses nas bsdad ya 'dra bo dang yod ...</td>\n",
       "      <td>https://d38pmlk0v88drf.cloudfront.net/wav16k/S...</td>\n",
       "      <td>STT_NS</td>\n",
       "      <td>3</td>\n",
       "      <td>86</td>\n",
       "      <td>3.701</td>\n",
       "    </tr>\n",
       "  </tbody>\n",
       "</table>\n",
       "</div>"
      ],
      "text/plain": [
       "                              file_name  \\\n",
       "0      STT_NS0153_0055_779837_to_786373   \n",
       "1      STT_NS0131_0116_867552_to_874994   \n",
       "2  STT_NS_M0347_0194_1276462_to_1280166   \n",
       "3    STT_NS_M0348_0048_366493_to_369172   \n",
       "4    STT_NS_M0348_0077_572265_to_575966   \n",
       "\n",
       "                                                 uni  \\\n",
       "0  གཅིག་ཡེ་ཞུ་ཡི་མ་རེད། གཉིས་ཆ་སློབ་སྦྱོང་ཡོད་རྒྱ...   \n",
       "1  ཡི་ན་སློབ་གྲྭ་ལ་དཀའ་ངལ་ཆུང་ཆུང་ཅིག་གིས་ཆེད་དུ་...   \n",
       "2  ག་རེ་ལབ་ན། ཚོགས་ཐེངས་གཉིས་པ་སྟོང་པ་ད་ཡོད་རཱ། ཨ...   \n",
       "3  དཔེ་ཁུག་ཡོད་བ་ཨེ་འདྲའི་རང་བཞག་ཡ་གི་ཡོད་བ་ལུགས་...   \n",
       "4  རྩེད་མོ་བརྩེས་ནས་བསྡད་ཡ་འདྲ་བོ་དང་ཡོད་རཱ། ཨེ་ན...   \n",
       "\n",
       "                                               wylie  \\\n",
       "0  gcig ye zhu yi ma red/_gnyis cha slob sbyong y...   \n",
       "1  yi na slob grwa la dka' ngal chung chung cig g...   \n",
       "2  ga re lab na/_tshogs thengs gnyis pa stong pa ...   \n",
       "3  dpe khug yod ba e 'dra'i rang bzhag ya gi yod ...   \n",
       "4  rtsed mo brtses nas bsdad ya 'dra bo dang yod ...   \n",
       "\n",
       "                                                 url    dept  grade  char_len  \\\n",
       "0  https://d38pmlk0v88drf.cloudfront.net/wav16k/S...  STT_NS      2       114   \n",
       "1  https://d38pmlk0v88drf.cloudfront.net/wav16k/S...  STT_NS      2       159   \n",
       "2  https://d38pmlk0v88drf.cloudfront.net/wav16k/S...  STT_NS      3        74   \n",
       "3  https://d38pmlk0v88drf.cloudfront.net/wav16k/S...  STT_NS      3        62   \n",
       "4  https://d38pmlk0v88drf.cloudfront.net/wav16k/S...  STT_NS      3        86   \n",
       "\n",
       "   audio_len  \n",
       "0      6.536  \n",
       "1      7.442  \n",
       "2      3.704  \n",
       "3      2.679  \n",
       "4      3.701  "
      ]
     },
     "execution_count": 16,
     "metadata": {},
     "output_type": "execute_result"
    }
   ],
   "source": [
    "df.head()"
   ]
  },
  {
   "cell_type": "code",
   "execution_count": 10,
   "id": "1c2b2da8-96df-4c1d-804c-c63cc936eba3",
   "metadata": {
    "tags": []
   },
   "outputs": [],
   "source": [
    "# Assuming your DataFrame is `df`\n",
    "# Select the two columns you want\n",
    "selected_columns = df[['url', 'uni']].rename(columns={'url': 'audioURL', 'uni': 'original_text'})\n",
    "\n",
    "# Convert the selected columns to JSON\n",
    "\n",
    "json_data = selected_columns.to_json(orient='records', force_ascii=False)\n",
    "\n",
    "json_data_cleaned = json_data.replace('\\\\/', '/')\n"
   ]
  },
  {
   "cell_type": "code",
   "execution_count": 11,
   "id": "bc2c15e3-c5ea-4871-9697-0bc39e9f732a",
   "metadata": {
    "tags": []
   },
   "outputs": [
    {
     "name": "stdout",
     "output_type": "stream",
     "text": [
      "JSON file created.\n"
     ]
    }
   ],
   "source": [
    "# Save the JSON data to a file\n",
    "with open('json_output/NS/STT_NS_1.json', 'w') as f:\n",
    "    f.write(json_data_cleaned)\n",
    "\n",
    "print(\"JSON file created.\")\n"
   ]
  },
  {
   "cell_type": "code",
   "execution_count": null,
   "id": "ccb065ad-d588-4940-b078-06c6b1715759",
   "metadata": {},
   "outputs": [],
   "source": []
  }
 ],
 "metadata": {
  "kernelspec": {
   "display_name": "Python 3",
   "language": "python",
   "name": "python3"
  },
  "language_info": {
   "codemirror_mode": {
    "name": "ipython",
    "version": 3
   },
   "file_extension": ".py",
   "mimetype": "text/x-python",
   "name": "python",
   "nbconvert_exporter": "python",
   "pygments_lexer": "ipython3",
   "version": "3.10.12"
  }
 },
 "nbformat": 4,
 "nbformat_minor": 5
}
